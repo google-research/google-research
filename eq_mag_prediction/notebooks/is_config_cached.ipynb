{
  "cells": [
    {
      "cell_type": "markdown",
      "metadata": {
        "id": "2Pe8rUDv13WU"
      },
      "source": [
        "Copyright 2024 Google LLC.\n",
        "\n",
        "Licensed under the Apache License, Version 2.0 (the \"License\");"
      ]
    },
    {
      "cell_type": "code",
      "execution_count": 10,
      "metadata": {
        "id": "oJURSVoJ1uTL"
      },
      "outputs": [],
      "source": [
        "#@title License\n",
        "# Licensed under the Apache License, Version 2.0 (the \"License\");\n",
        "# you may not use this file except in compliance with the License.\n",
        "# You may obtain a copy of the License at\n",
        "#\n",
        "# https://www.apache.org/licenses/LICENSE-2.0\n",
        "#\n",
        "# Unless required by applicable law or agreed to in writing, software\n",
        "# distributed under the License is distributed on an \"AS IS\" BASIS,\n",
        "# WITHOUT WARRANTIES OR CONDITIONS OF ANY KIND, either express or implied.\n",
        "# See the License for the specific language governing permissions and\n",
        "# limitations under the License."
      ]
    },
    {
      "cell_type": "markdown",
      "metadata": {
        "id": "9cH4pdmFVh9B"
      },
      "source": [
        "# Is Config Cached\n",
        "An experiment is defined by a config.gin file.\n",
        "The gin file specifies which catalog is used, what training parameters, how the\n",
        "data is devided into train/validation/test sets, etc.\n",
        "\n",
        "This notebook reads a gin file and presents which features (encoders) are\n",
        "already calculated and cached for the specified config (experiment)."
      ]
    },
    {
      "cell_type": "markdown",
      "metadata": {
        "id": "72NzUUtNVFrs"
      },
      "source": [
        "# Imports"
      ]
    },
    {
      "cell_type": "code",
      "execution_count": 15,
      "metadata": {
        "id": "4IuOAcd2y1Zu"
      },
      "outputs": [],
      "source": [
        "import gin\n",
        "import numpy as np\n",
        "import pandas as pd\n",
        "import os\n",
        "\n",
        "from IPython.core.interactiveshell import InteractiveShell\n",
        "InteractiveShell.ast_node_interactivity = \"all\"\n",
        "\n",
        "from eq_mag_prediction.forecasting import training_examples\n",
        "from eq_mag_prediction.scripts import magnitude_predictor_trainer   # import unused for gin config\n",
        "from eq_mag_prediction.forecasting import one_region_model\n",
        "from eq_mag_prediction.forecasting import encoders\n",
        "from eq_mag_prediction.utilities import simulate_catalog"
      ]
    },
    {
      "cell_type": "markdown",
      "metadata": {
        "id": "4jDK3EQXWPf8"
      },
      "source": [
        "# Read configs\n",
        "Find and read the ```config.gin``` file, by specifying the model name.\n",
        "\n",
        "***If model does not exists, or catalog is not ingested, an error may be raised.***"
      ]
    },
    {
      "cell_type": "code",
      "execution_count": 25,
      "metadata": {},
      "outputs": [],
      "source": [
        "MODEL_NAME = 'Mock'\n",
        "# MODEL_NAME = 'Hauksson'\n",
        "# MODEL_NAME = 'JMA'"
      ]
    },
    {
      "cell_type": "code",
      "execution_count": 26,
      "metadata": {},
      "outputs": [],
      "source": [
        "if MODEL_NAME.lower() == 'mock':\n",
        "  simulate_catalog.mock_catalog_and_config_ingestion()"
      ]
    },
    {
      "cell_type": "code",
      "execution_count": 27,
      "metadata": {
        "id": "eE2LYNRuIuGP"
      },
      "outputs": [],
      "source": [
        "DEFAULT_FEATURE_CACHE_DIR = os.path.join(os.getcwd(), '..', 'results/cached_features')"
      ]
    },
    {
      "cell_type": "code",
      "execution_count": 28,
      "metadata": {
        "id": "4urzkI8dIuGP"
      },
      "outputs": [],
      "source": [
        "experiment_dir = os.path.join(os.getcwd(), '..', 'results/trained_models/', MODEL_NAME)\n",
        "custom_objects={\n",
        "    '_repeat': encoders._repeat,\n",
        "    }\n"
      ]
    },
    {
      "cell_type": "code",
      "execution_count": 29,
      "metadata": {
        "id": "TBuPRnqEViSH"
      },
      "outputs": [
        {
          "data": {
            "text/plain": [
              "([], [])"
            ]
          },
          "execution_count": 29,
          "metadata": {},
          "output_type": "execute_result"
        }
      ],
      "source": [
        "# set gin configs\n",
        "with open(os.path.join(experiment_dir, 'config.gin')) as f:\n",
        "    with gin.unlock_config():\n",
        "        gin.parse_config(f.read(), skip_unknown=False)"
      ]
    },
    {
      "cell_type": "code",
      "execution_count": 30,
      "metadata": {
        "id": "EvPFixvyvPIS"
      },
      "outputs": [
        {
          "name": "stderr",
          "output_type": "stream",
          "text": [
            "/mnt/g/My Drive/Projects/eq_mag_prediction/eq_mag_prediction/utilities/data_utils.py:214: FutureWarning: Setting an item of incompatible dtype is deprecated and will raise an error in a future version of pandas. Value '[3.68411665e+08 3.68411665e+08]' has dtype incompatible with int64, please explicitly cast to a compatible dtype first.\n",
            "  catalog_cp.loc[indexes_2_replace, 'time'] = new_time_values\n"
          ]
        }
      ],
      "source": [
        "domain = training_examples.CatalogDomain()\n",
        "all_encoders = one_region_model.build_encoders(domain)"
      ]
    },
    {
      "cell_type": "code",
      "execution_count": 31,
      "metadata": {
        "id": "yKDgAELlvb9c"
      },
      "outputs": [],
      "source": [
        "existing_files_dict = {}\n",
        "for encoder in all_encoders.values():\n",
        "  relevant_id = one_region_model.encoder_domain_id(domain, encoder)\n",
        "  relevant_suffixes, files_exist = one_region_model.id_files_exist_in_dir(\n",
        "      relevant_id, DEFAULT_FEATURE_CACHE_DIR\n",
        "  )\n",
        "  files_exist = np.array(files_exist)\n",
        "  suffix_logical = one_region_model._create_suffix_logical(\n",
        "      encoder, relevant_suffixes, files_exist\n",
        "  )\n",
        "  existing_files_dict[encoder.name] = list(\n",
        "      zip(\n",
        "          np.array(relevant_suffixes)[suffix_logical],\n",
        "          files_exist[suffix_logical],\n",
        "      )\n",
        "  )"
      ]
    },
    {
      "cell_type": "code",
      "execution_count": 32,
      "metadata": {
        "id": "sEUTIcWi4z2P"
      },
      "outputs": [],
      "source": [
        "def existing_files_dict_to_df(existing_files_dict):\n",
        "  existing_files_summary = pd.DataFrame(columns=['encoder', 'suffix', 'file_exists'])\n",
        "  for k, v in existing_files_dict.items():\n",
        "    for suf in v:\n",
        "      existing_files_summary = pd.concat([\n",
        "          existing_files_summary,\n",
        "          pd.DataFrame({'encoder': k, 'suffix': suf[0], 'file_exists': suf[1], 'cache id': suf[2]}, index=(0,))\n",
        "      ])\n",
        "  return existing_files_summary\n",
        "\n",
        "def existing_files_for_gin_config():\n",
        "  existing_files_dict = {}\n",
        "  for encoder in all_encoders.values():\n",
        "    relevant_id = one_region_model.encoder_domain_id(domain, encoder)\n",
        "    relevant_suffixes, files_exist = one_region_model.id_files_exist_in_dir(\n",
        "        relevant_id, DEFAULT_FEATURE_CACHE_DIR\n",
        "    )\n",
        "    files_exist = np.array(files_exist)\n",
        "    suffix_logical = one_region_model._create_suffix_logical(\n",
        "        encoder, relevant_suffixes, files_exist\n",
        "    )\n",
        "    existing_files_dict[encoder.name] = list(\n",
        "        zip(\n",
        "            np.array(relevant_suffixes)[suffix_logical],\n",
        "            files_exist[suffix_logical],\n",
        "            [relevant_id]*int(suffix_logical.sum()),\n",
        "        )\n",
        "    )\n",
        "  return existing_files_dict_to_df(existing_files_dict).reset_index()\n",
        "\n",
        "def boolean_color(v):\n",
        "    return \"color: green;\" if v else \"color: red;\""
      ]
    },
    {
      "cell_type": "markdown",
      "metadata": {
        "id": "V7oVAZidWaUN"
      },
      "source": [
        "# Present existing files\n",
        "A table presenting which encoder (AKA feature) has already been calculated and\n",
        "chached, together with its hash code."
      ]
    },
    {
      "cell_type": "code",
      "execution_count": 33,
      "metadata": {
        "id": "zAUxkZCzCtv_"
      },
      "outputs": [
        {
          "name": "stderr",
          "output_type": "stream",
          "text": [
            "/tmp/ipykernel_6852/2002957428.py:1: FutureWarning: Styler.applymap has been deprecated. Use Styler.map instead.\n",
            "  existing_files_for_gin_config().style.applymap(boolean_color, subset=['file_exists'])\n"
          ]
        },
        {
          "data": {
            "text/html": [
              "<style type=\"text/css\">\n",
              "#T_14115_row0_col3, #T_14115_row1_col3, #T_14115_row2_col3, #T_14115_row3_col3, #T_14115_row4_col3, #T_14115_row5_col3, #T_14115_row6_col3, #T_14115_row7_col3, #T_14115_row8_col3, #T_14115_row9_col3, #T_14115_row10_col3, #T_14115_row11_col3, #T_14115_row12_col3, #T_14115_row13_col3, #T_14115_row14_col3, #T_14115_row15_col3, #T_14115_row16_col3, #T_14115_row17_col3, #T_14115_row18_col3 {\n",
              "  color: green;\n",
              "}\n",
              "</style>\n",
              "<table id=\"T_14115\">\n",
              "  <thead>\n",
              "    <tr>\n",
              "      <th class=\"blank level0\" >&nbsp;</th>\n",
              "      <th id=\"T_14115_level0_col0\" class=\"col_heading level0 col0\" >index</th>\n",
              "      <th id=\"T_14115_level0_col1\" class=\"col_heading level0 col1\" >encoder</th>\n",
              "      <th id=\"T_14115_level0_col2\" class=\"col_heading level0 col2\" >suffix</th>\n",
              "      <th id=\"T_14115_level0_col3\" class=\"col_heading level0 col3\" >file_exists</th>\n",
              "      <th id=\"T_14115_level0_col4\" class=\"col_heading level0 col4\" >cache id</th>\n",
              "    </tr>\n",
              "  </thead>\n",
              "  <tbody>\n",
              "    <tr>\n",
              "      <th id=\"T_14115_level0_row0\" class=\"row_heading level0 row0\" >0</th>\n",
              "      <td id=\"T_14115_row0_col0\" class=\"data row0 col0\" >0</td>\n",
              "      <td id=\"T_14115_row0_col1\" class=\"data row0 col1\" >catalog_earthquakes</td>\n",
              "      <td id=\"T_14115_row0_col2\" class=\"data row0 col2\" >_train</td>\n",
              "      <td id=\"T_14115_row0_col3\" class=\"data row0 col3\" >True</td>\n",
              "      <td id=\"T_14115_row0_col4\" class=\"data row0 col4\" >encoder_13f4c94a5ca65c5b77b02e9d276a618a663718c1_build_features_bf21a9e8fbc5a3846fb05b4fa0859e0917b2202f_domain_0eea005eafeeb5894f51e655d29f4d38b79622cf</td>\n",
              "    </tr>\n",
              "    <tr>\n",
              "      <th id=\"T_14115_level0_row1\" class=\"row_heading level0 row1\" >1</th>\n",
              "      <td id=\"T_14115_row1_col0\" class=\"data row1 col0\" >0</td>\n",
              "      <td id=\"T_14115_row1_col1\" class=\"data row1 col1\" >catalog_earthquakes</td>\n",
              "      <td id=\"T_14115_row1_col2\" class=\"data row1 col2\" >_validation</td>\n",
              "      <td id=\"T_14115_row1_col3\" class=\"data row1 col3\" >True</td>\n",
              "      <td id=\"T_14115_row1_col4\" class=\"data row1 col4\" >encoder_13f4c94a5ca65c5b77b02e9d276a618a663718c1_build_features_bf21a9e8fbc5a3846fb05b4fa0859e0917b2202f_domain_0eea005eafeeb5894f51e655d29f4d38b79622cf</td>\n",
              "    </tr>\n",
              "    <tr>\n",
              "      <th id=\"T_14115_level0_row2\" class=\"row_heading level0 row2\" >2</th>\n",
              "      <td id=\"T_14115_row2_col0\" class=\"data row2 col0\" >0</td>\n",
              "      <td id=\"T_14115_row2_col1\" class=\"data row2 col1\" >catalog_earthquakes</td>\n",
              "      <td id=\"T_14115_row2_col2\" class=\"data row2 col2\" >_test</td>\n",
              "      <td id=\"T_14115_row2_col3\" class=\"data row2 col3\" >True</td>\n",
              "      <td id=\"T_14115_row2_col4\" class=\"data row2 col4\" >encoder_13f4c94a5ca65c5b77b02e9d276a618a663718c1_build_features_bf21a9e8fbc5a3846fb05b4fa0859e0917b2202f_domain_0eea005eafeeb5894f51e655d29f4d38b79622cf</td>\n",
              "    </tr>\n",
              "    <tr>\n",
              "      <th id=\"T_14115_level0_row3\" class=\"row_heading level0 row3\" >3</th>\n",
              "      <td id=\"T_14115_row3_col0\" class=\"data row3 col0\" >0</td>\n",
              "      <td id=\"T_14115_row3_col1\" class=\"data row3 col1\" >catalog_earthquakes</td>\n",
              "      <td id=\"T_14115_row3_col2\" class=\"data row3 col2\" >_scalers</td>\n",
              "      <td id=\"T_14115_row3_col3\" class=\"data row3 col3\" >True</td>\n",
              "      <td id=\"T_14115_row3_col4\" class=\"data row3 col4\" >encoder_13f4c94a5ca65c5b77b02e9d276a618a663718c1_build_features_bf21a9e8fbc5a3846fb05b4fa0859e0917b2202f_domain_0eea005eafeeb5894f51e655d29f4d38b79622cf</td>\n",
              "    </tr>\n",
              "    <tr>\n",
              "      <th id=\"T_14115_level0_row4\" class=\"row_heading level0 row4\" >4</th>\n",
              "      <td id=\"T_14115_row4_col0\" class=\"data row4 col0\" >0</td>\n",
              "      <td id=\"T_14115_row4_col1\" class=\"data row4 col1\" >catalog_earthquakes</td>\n",
              "      <td id=\"T_14115_row4_col2\" class=\"data row4 col2\" >.enc</td>\n",
              "      <td id=\"T_14115_row4_col3\" class=\"data row4 col3\" >True</td>\n",
              "      <td id=\"T_14115_row4_col4\" class=\"data row4 col4\" >encoder_13f4c94a5ca65c5b77b02e9d276a618a663718c1_build_features_bf21a9e8fbc5a3846fb05b4fa0859e0917b2202f_domain_0eea005eafeeb5894f51e655d29f4d38b79622cf</td>\n",
              "    </tr>\n",
              "    <tr>\n",
              "      <th id=\"T_14115_level0_row5\" class=\"row_heading level0 row5\" >5</th>\n",
              "      <td id=\"T_14115_row5_col0\" class=\"data row5 col0\" >0</td>\n",
              "      <td id=\"T_14115_row5_col1\" class=\"data row5 col1\" >recent_earthquakes</td>\n",
              "      <td id=\"T_14115_row5_col2\" class=\"data row5 col2\" >_train</td>\n",
              "      <td id=\"T_14115_row5_col3\" class=\"data row5 col3\" >True</td>\n",
              "      <td id=\"T_14115_row5_col4\" class=\"data row5 col4\" >encoder_4df3432ecee8adcf4acd6ab1616edb80fbcf836f_build_features_682afa5d6b3bc783332f46f785f4041cd23be814_domain_0eea005eafeeb5894f51e655d29f4d38b79622cf</td>\n",
              "    </tr>\n",
              "    <tr>\n",
              "      <th id=\"T_14115_level0_row6\" class=\"row_heading level0 row6\" >6</th>\n",
              "      <td id=\"T_14115_row6_col0\" class=\"data row6 col0\" >0</td>\n",
              "      <td id=\"T_14115_row6_col1\" class=\"data row6 col1\" >recent_earthquakes</td>\n",
              "      <td id=\"T_14115_row6_col2\" class=\"data row6 col2\" >_validation</td>\n",
              "      <td id=\"T_14115_row6_col3\" class=\"data row6 col3\" >True</td>\n",
              "      <td id=\"T_14115_row6_col4\" class=\"data row6 col4\" >encoder_4df3432ecee8adcf4acd6ab1616edb80fbcf836f_build_features_682afa5d6b3bc783332f46f785f4041cd23be814_domain_0eea005eafeeb5894f51e655d29f4d38b79622cf</td>\n",
              "    </tr>\n",
              "    <tr>\n",
              "      <th id=\"T_14115_level0_row7\" class=\"row_heading level0 row7\" >7</th>\n",
              "      <td id=\"T_14115_row7_col0\" class=\"data row7 col0\" >0</td>\n",
              "      <td id=\"T_14115_row7_col1\" class=\"data row7 col1\" >recent_earthquakes</td>\n",
              "      <td id=\"T_14115_row7_col2\" class=\"data row7 col2\" >_test</td>\n",
              "      <td id=\"T_14115_row7_col3\" class=\"data row7 col3\" >True</td>\n",
              "      <td id=\"T_14115_row7_col4\" class=\"data row7 col4\" >encoder_4df3432ecee8adcf4acd6ab1616edb80fbcf836f_build_features_682afa5d6b3bc783332f46f785f4041cd23be814_domain_0eea005eafeeb5894f51e655d29f4d38b79622cf</td>\n",
              "    </tr>\n",
              "    <tr>\n",
              "      <th id=\"T_14115_level0_row8\" class=\"row_heading level0 row8\" >8</th>\n",
              "      <td id=\"T_14115_row8_col0\" class=\"data row8 col0\" >0</td>\n",
              "      <td id=\"T_14115_row8_col1\" class=\"data row8 col1\" >recent_earthquakes</td>\n",
              "      <td id=\"T_14115_row8_col2\" class=\"data row8 col2\" >_scalers</td>\n",
              "      <td id=\"T_14115_row8_col3\" class=\"data row8 col3\" >True</td>\n",
              "      <td id=\"T_14115_row8_col4\" class=\"data row8 col4\" >encoder_4df3432ecee8adcf4acd6ab1616edb80fbcf836f_build_features_682afa5d6b3bc783332f46f785f4041cd23be814_domain_0eea005eafeeb5894f51e655d29f4d38b79622cf</td>\n",
              "    </tr>\n",
              "    <tr>\n",
              "      <th id=\"T_14115_level0_row9\" class=\"row_heading level0 row9\" >9</th>\n",
              "      <td id=\"T_14115_row9_col0\" class=\"data row9 col0\" >0</td>\n",
              "      <td id=\"T_14115_row9_col1\" class=\"data row9 col1\" >recent_earthquakes</td>\n",
              "      <td id=\"T_14115_row9_col2\" class=\"data row9 col2\" >_location_train</td>\n",
              "      <td id=\"T_14115_row9_col3\" class=\"data row9 col3\" >True</td>\n",
              "      <td id=\"T_14115_row9_col4\" class=\"data row9 col4\" >encoder_4df3432ecee8adcf4acd6ab1616edb80fbcf836f_build_features_682afa5d6b3bc783332f46f785f4041cd23be814_domain_0eea005eafeeb5894f51e655d29f4d38b79622cf</td>\n",
              "    </tr>\n",
              "    <tr>\n",
              "      <th id=\"T_14115_level0_row10\" class=\"row_heading level0 row10\" >10</th>\n",
              "      <td id=\"T_14115_row10_col0\" class=\"data row10 col0\" >0</td>\n",
              "      <td id=\"T_14115_row10_col1\" class=\"data row10 col1\" >recent_earthquakes</td>\n",
              "      <td id=\"T_14115_row10_col2\" class=\"data row10 col2\" >_location_validation</td>\n",
              "      <td id=\"T_14115_row10_col3\" class=\"data row10 col3\" >True</td>\n",
              "      <td id=\"T_14115_row10_col4\" class=\"data row10 col4\" >encoder_4df3432ecee8adcf4acd6ab1616edb80fbcf836f_build_features_682afa5d6b3bc783332f46f785f4041cd23be814_domain_0eea005eafeeb5894f51e655d29f4d38b79622cf</td>\n",
              "    </tr>\n",
              "    <tr>\n",
              "      <th id=\"T_14115_level0_row11\" class=\"row_heading level0 row11\" >11</th>\n",
              "      <td id=\"T_14115_row11_col0\" class=\"data row11 col0\" >0</td>\n",
              "      <td id=\"T_14115_row11_col1\" class=\"data row11 col1\" >recent_earthquakes</td>\n",
              "      <td id=\"T_14115_row11_col2\" class=\"data row11 col2\" >_location_test</td>\n",
              "      <td id=\"T_14115_row11_col3\" class=\"data row11 col3\" >True</td>\n",
              "      <td id=\"T_14115_row11_col4\" class=\"data row11 col4\" >encoder_4df3432ecee8adcf4acd6ab1616edb80fbcf836f_build_features_682afa5d6b3bc783332f46f785f4041cd23be814_domain_0eea005eafeeb5894f51e655d29f4d38b79622cf</td>\n",
              "    </tr>\n",
              "    <tr>\n",
              "      <th id=\"T_14115_level0_row12\" class=\"row_heading level0 row12\" >12</th>\n",
              "      <td id=\"T_14115_row12_col0\" class=\"data row12 col0\" >0</td>\n",
              "      <td id=\"T_14115_row12_col1\" class=\"data row12 col1\" >recent_earthquakes</td>\n",
              "      <td id=\"T_14115_row12_col2\" class=\"data row12 col2\" >_location_scalers</td>\n",
              "      <td id=\"T_14115_row12_col3\" class=\"data row12 col3\" >True</td>\n",
              "      <td id=\"T_14115_row12_col4\" class=\"data row12 col4\" >encoder_4df3432ecee8adcf4acd6ab1616edb80fbcf836f_build_features_682afa5d6b3bc783332f46f785f4041cd23be814_domain_0eea005eafeeb5894f51e655d29f4d38b79622cf</td>\n",
              "    </tr>\n",
              "    <tr>\n",
              "      <th id=\"T_14115_level0_row13\" class=\"row_heading level0 row13\" >13</th>\n",
              "      <td id=\"T_14115_row13_col0\" class=\"data row13 col0\" >0</td>\n",
              "      <td id=\"T_14115_row13_col1\" class=\"data row13 col1\" >recent_earthquakes</td>\n",
              "      <td id=\"T_14115_row13_col2\" class=\"data row13 col2\" >.enc</td>\n",
              "      <td id=\"T_14115_row13_col3\" class=\"data row13 col3\" >True</td>\n",
              "      <td id=\"T_14115_row13_col4\" class=\"data row13 col4\" >encoder_4df3432ecee8adcf4acd6ab1616edb80fbcf836f_build_features_682afa5d6b3bc783332f46f785f4041cd23be814_domain_0eea005eafeeb5894f51e655d29f4d38b79622cf</td>\n",
              "    </tr>\n",
              "    <tr>\n",
              "      <th id=\"T_14115_level0_row14\" class=\"row_heading level0 row14\" >14</th>\n",
              "      <td id=\"T_14115_row14_col0\" class=\"data row14 col0\" >0</td>\n",
              "      <td id=\"T_14115_row14_col1\" class=\"data row14 col1\" >seismicity_rate</td>\n",
              "      <td id=\"T_14115_row14_col2\" class=\"data row14 col2\" >_train</td>\n",
              "      <td id=\"T_14115_row14_col3\" class=\"data row14 col3\" >True</td>\n",
              "      <td id=\"T_14115_row14_col4\" class=\"data row14 col4\" >encoder_f428bf063830667d4aa89cea69887e783c1918f4_build_features_d5f7cc5f74eaba1e865947d8d0427f1ce1344fbc_domain_0eea005eafeeb5894f51e655d29f4d38b79622cf</td>\n",
              "    </tr>\n",
              "    <tr>\n",
              "      <th id=\"T_14115_level0_row15\" class=\"row_heading level0 row15\" >15</th>\n",
              "      <td id=\"T_14115_row15_col0\" class=\"data row15 col0\" >0</td>\n",
              "      <td id=\"T_14115_row15_col1\" class=\"data row15 col1\" >seismicity_rate</td>\n",
              "      <td id=\"T_14115_row15_col2\" class=\"data row15 col2\" >_validation</td>\n",
              "      <td id=\"T_14115_row15_col3\" class=\"data row15 col3\" >True</td>\n",
              "      <td id=\"T_14115_row15_col4\" class=\"data row15 col4\" >encoder_f428bf063830667d4aa89cea69887e783c1918f4_build_features_d5f7cc5f74eaba1e865947d8d0427f1ce1344fbc_domain_0eea005eafeeb5894f51e655d29f4d38b79622cf</td>\n",
              "    </tr>\n",
              "    <tr>\n",
              "      <th id=\"T_14115_level0_row16\" class=\"row_heading level0 row16\" >16</th>\n",
              "      <td id=\"T_14115_row16_col0\" class=\"data row16 col0\" >0</td>\n",
              "      <td id=\"T_14115_row16_col1\" class=\"data row16 col1\" >seismicity_rate</td>\n",
              "      <td id=\"T_14115_row16_col2\" class=\"data row16 col2\" >_test</td>\n",
              "      <td id=\"T_14115_row16_col3\" class=\"data row16 col3\" >True</td>\n",
              "      <td id=\"T_14115_row16_col4\" class=\"data row16 col4\" >encoder_f428bf063830667d4aa89cea69887e783c1918f4_build_features_d5f7cc5f74eaba1e865947d8d0427f1ce1344fbc_domain_0eea005eafeeb5894f51e655d29f4d38b79622cf</td>\n",
              "    </tr>\n",
              "    <tr>\n",
              "      <th id=\"T_14115_level0_row17\" class=\"row_heading level0 row17\" >17</th>\n",
              "      <td id=\"T_14115_row17_col0\" class=\"data row17 col0\" >0</td>\n",
              "      <td id=\"T_14115_row17_col1\" class=\"data row17 col1\" >seismicity_rate</td>\n",
              "      <td id=\"T_14115_row17_col2\" class=\"data row17 col2\" >_scalers</td>\n",
              "      <td id=\"T_14115_row17_col3\" class=\"data row17 col3\" >True</td>\n",
              "      <td id=\"T_14115_row17_col4\" class=\"data row17 col4\" >encoder_f428bf063830667d4aa89cea69887e783c1918f4_build_features_d5f7cc5f74eaba1e865947d8d0427f1ce1344fbc_domain_0eea005eafeeb5894f51e655d29f4d38b79622cf</td>\n",
              "    </tr>\n",
              "    <tr>\n",
              "      <th id=\"T_14115_level0_row18\" class=\"row_heading level0 row18\" >18</th>\n",
              "      <td id=\"T_14115_row18_col0\" class=\"data row18 col0\" >0</td>\n",
              "      <td id=\"T_14115_row18_col1\" class=\"data row18 col1\" >seismicity_rate</td>\n",
              "      <td id=\"T_14115_row18_col2\" class=\"data row18 col2\" >.enc</td>\n",
              "      <td id=\"T_14115_row18_col3\" class=\"data row18 col3\" >True</td>\n",
              "      <td id=\"T_14115_row18_col4\" class=\"data row18 col4\" >encoder_f428bf063830667d4aa89cea69887e783c1918f4_build_features_d5f7cc5f74eaba1e865947d8d0427f1ce1344fbc_domain_0eea005eafeeb5894f51e655d29f4d38b79622cf</td>\n",
              "    </tr>\n",
              "  </tbody>\n",
              "</table>\n"
            ],
            "text/plain": [
              "<pandas.io.formats.style.Styler at 0x7f4059433850>"
            ]
          },
          "execution_count": 33,
          "metadata": {},
          "output_type": "execute_result"
        }
      ],
      "source": [
        "existing_files_for_gin_config().style.applymap(boolean_color, subset=['file_exists'])"
      ]
    }
  ],
  "metadata": {
    "colab": {
      "last_runtime": {
        "build_target": "//intelligence/earthquakes/colab:notebook",
        "kind": "private"
      },
      "private_outputs": true,
      "provenance": [
        {
          "file_id": "1x53xF-f9t1YnIIxX-c5f97ogmO_DDl4n",
          "timestamp": 1720022349527
        }
      ]
    },
    "kernelspec": {
      "display_name": "Python 3",
      "name": "python3"
    },
    "language_info": {
      "codemirror_mode": {
        "name": "ipython",
        "version": 3
      },
      "file_extension": ".py",
      "mimetype": "text/x-python",
      "name": "python",
      "nbconvert_exporter": "python",
      "pygments_lexer": "ipython3",
      "version": "3.11.10"
    }
  },
  "nbformat": 4,
  "nbformat_minor": 0
}
