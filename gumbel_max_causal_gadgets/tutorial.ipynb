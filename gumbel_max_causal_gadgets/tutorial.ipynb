{
  "nbformat": 4,
  "nbformat_minor": 0,
  "metadata": {
    "colab": {
      "name": "tutorial.ipynb",
      "provenance": [],
      "collapsed_sections": [],
      "toc_visible": true
    },
    "kernelspec": {
      "display_name": "Python 3",
      "name": "python3"
    },
    "language_info": {
      "name": "python"
    },
    "accelerator": "GPU"
  },
  "cells": [
    {
      "cell_type": "markdown",
      "metadata": {
        "id": "JndnmDMp66FL"
      },
      "source": [
        "##### Copyright 2021 Google LLC.\n",
        "\n",
        "Licensed under the Apache License, Version 2.0 (the \"License\");"
      ]
    },
    {
      "cell_type": "code",
      "metadata": {
        "id": "hMqWDc_m6rUC"
      },
      "source": [
        "# Licensed under the Apache License, Version 2.0 (the \"License\");\n",
        "# you may not use this file except in compliance with the License.\n",
        "# You may obtain a copy of the License at\n",
        "#\n",
        "# https://www.apache.org/licenses/LICENSE-2.0\n",
        "#\n",
        "# Unless required by applicable law or agreed to in writing, software\n",
        "# distributed under the License is distributed on an \"AS IS\" BASIS,\n",
        "# WITHOUT WARRANTIES OR CONDITIONS OF ANY KIND, either express or implied.\n",
        "# See the License for the specific language governing permissions and\n",
        "# limitations under the License."
      ],
      "execution_count": 1,
      "outputs": []
    },
    {
      "cell_type": "markdown",
      "metadata": {
        "id": "n8uMAcMvCrmN"
      },
      "source": [
        "# Generalized Gumbel-max causal mechanisms tutorial"
      ]
    },
    {
      "cell_type": "markdown",
      "metadata": {
        "id": "FDV72jCXCxr0"
      },
      "source": [
        "This notebook explains the APIs of the Gumbel-max causal mechanism implementation, along with those of our two gadgets."
      ]
    },
    {
      "cell_type": "markdown",
      "metadata": {
        "id": "UNnd2YesSAFr"
      },
      "source": [
        "[![Open In Colab](https://colab.research.google.com/assets/colab-badge.svg)](https://colab.research.google.com/github/google-research/google-research/blob/master/gumbel_max_causal_gadgets/tutorial.ipynb)"
      ]
    },
    {
      "cell_type": "markdown",
      "metadata": {
        "id": "Tr2Z0N-qSNz6"
      },
      "source": [
        "## Setting up the environment"
      ]
    },
    {
      "cell_type": "markdown",
      "metadata": {
        "id": "obGYeV4EUb61"
      },
      "source": [
        "These instructions are designed for running this tutorial using Google Colab; if you are using a different environment, the setup instructions may differ!\n",
        "\n",
        "The first step is to connect the Colab runtime to a GPU. You can use the \"Runtime > Change runtime type\" option in the toolbar above.\n",
        "Next, install necessary dependencies:"
      ]
    },
    {
      "cell_type": "code",
      "metadata": {
        "colab": {
          "base_uri": "https://localhost:8080/"
        },
        "id": "_j6tXnzFn-s6",
        "outputId": "45959936-cd47-4f92-cec7-53de7a9945da"
      },
      "source": [
        "# Download the codebase\n",
        "!git clone https://github.com/google-research/google-research.git --depth=1"
      ],
      "execution_count": 2,
      "outputs": [
        {
          "output_type": "stream",
          "name": "stdout",
          "text": [
            "fatal: destination path 'google-research' already exists and is not an empty directory.\n"
          ]
        }
      ]
    },
    {
      "cell_type": "code",
      "metadata": {
        "id": "NsacX7KEsp0D"
      },
      "source": [
        "import os\n",
        "os.chdir(\"google-research\")"
      ],
      "execution_count": 3,
      "outputs": []
    },
    {
      "cell_type": "code",
      "metadata": {
        "id": "AFH12ED4-5fU",
        "colab": {
          "base_uri": "https://localhost:8080/"
        },
        "outputId": "b842f2ae-8caa-4d38-e41a-ebb94a940f4a"
      },
      "source": [
        "# Install Python packages\n",
        "!pip install flax optax"
      ],
      "execution_count": 4,
      "outputs": [
        {
          "output_type": "stream",
          "name": "stdout",
          "text": [
            "Requirement already satisfied: flax in /usr/local/lib/python3.7/dist-packages (0.3.6)\n",
            "Requirement already satisfied: optax in /usr/local/lib/python3.7/dist-packages (0.0.9)\n",
            "Requirement already satisfied: jax>=0.2.21 in /usr/local/lib/python3.7/dist-packages (from flax) (0.2.21)\n",
            "Requirement already satisfied: matplotlib in /usr/local/lib/python3.7/dist-packages (from flax) (3.2.2)\n",
            "Requirement already satisfied: msgpack in /usr/local/lib/python3.7/dist-packages (from flax) (1.0.2)\n",
            "Requirement already satisfied: numpy>=1.12 in /usr/local/lib/python3.7/dist-packages (from flax) (1.19.5)\n",
            "Requirement already satisfied: scipy>=1.2.1 in /usr/local/lib/python3.7/dist-packages (from jax>=0.2.21->flax) (1.4.1)\n",
            "Requirement already satisfied: absl-py in /usr/local/lib/python3.7/dist-packages (from jax>=0.2.21->flax) (0.12.0)\n",
            "Requirement already satisfied: opt-einsum in /usr/local/lib/python3.7/dist-packages (from jax>=0.2.21->flax) (3.3.0)\n",
            "Requirement already satisfied: chex>=0.0.4 in /usr/local/lib/python3.7/dist-packages (from optax) (0.0.8)\n",
            "Requirement already satisfied: jaxlib>=0.1.37 in /usr/local/lib/python3.7/dist-packages (from optax) (0.1.71+cuda111)\n",
            "Requirement already satisfied: six in /usr/local/lib/python3.7/dist-packages (from absl-py->jax>=0.2.21->flax) (1.15.0)\n",
            "Requirement already satisfied: toolz>=0.9.0 in /usr/local/lib/python3.7/dist-packages (from chex>=0.0.4->optax) (0.11.2)\n",
            "Requirement already satisfied: dm-tree>=0.1.5 in /usr/local/lib/python3.7/dist-packages (from chex>=0.0.4->optax) (0.1.6)\n",
            "Requirement already satisfied: flatbuffers<3.0,>=1.12 in /usr/local/lib/python3.7/dist-packages (from jaxlib>=0.1.37->optax) (2.0)\n",
            "Requirement already satisfied: cycler>=0.10 in /usr/local/lib/python3.7/dist-packages (from matplotlib->flax) (0.11.0)\n",
            "Requirement already satisfied: pyparsing!=2.0.4,!=2.1.2,!=2.1.6,>=2.0.1 in /usr/local/lib/python3.7/dist-packages (from matplotlib->flax) (2.4.7)\n",
            "Requirement already satisfied: python-dateutil>=2.1 in /usr/local/lib/python3.7/dist-packages (from matplotlib->flax) (2.8.2)\n",
            "Requirement already satisfied: kiwisolver>=1.0.1 in /usr/local/lib/python3.7/dist-packages (from matplotlib->flax) (1.3.2)\n"
          ]
        }
      ]
    },
    {
      "cell_type": "code",
      "metadata": {
        "id": "l1pPA8JrKmh2"
      },
      "source": [
        "import os\n",
        "os.environ[\"XLA_PYTHON_CLIENT_ALLOCATOR\"] = \"platform\""
      ],
      "execution_count": 6,
      "outputs": []
    },
    {
      "cell_type": "code",
      "metadata": {
        "colab": {
          "base_uri": "https://localhost:8080/"
        },
        "id": "yBXGGg-9VxYT",
        "outputId": "a5955778-14ad-485f-a95c-f0e546102b32"
      },
      "source": [
        "import jax\n",
        "jax.devices()"
      ],
      "execution_count": 7,
      "outputs": [
        {
          "output_type": "execute_result",
          "data": {
            "text/plain": [
              "[GpuDevice(id=0, process_index=0)]"
            ]
          },
          "metadata": {},
          "execution_count": 7
        }
      ]
    },
    {
      "cell_type": "markdown",
      "metadata": {
        "id": "QWHbsCIrmclj"
      },
      "source": [
        "## Imports and configuration"
      ]
    },
    {
      "cell_type": "code",
      "metadata": {
        "id": "Q1D5b0C0Dlb4"
      },
      "source": [
        "import functools\n",
        "import time\n",
        "from typing import *\n",
        "\n",
        "import numpy as np\n",
        "import jax\n",
        "import jax.numpy as jnp\n",
        "import optax\n",
        "import flax\n",
        "import flax.linen as nn\n",
        "\n",
        "%matplotlib inline\n",
        "import matplotlib.pyplot as plt\n",
        "import matplotlib as mpl\n",
        "\n",
        "plt.ion()\n",
        "np.set_printoptions(linewidth=150)\n"
      ],
      "execution_count": 8,
      "outputs": []
    },
    {
      "cell_type": "code",
      "metadata": {
        "id": "97l0VhKaNoxO"
      },
      "source": [
        "from gumbel_max_causal_gadgets import coupling_util\n",
        "from gumbel_max_causal_gadgets import gadget_1\n",
        "from gumbel_max_causal_gadgets import gadget_2\n",
        "from gumbel_max_causal_gadgets import experiment_util"
      ],
      "execution_count": 9,
      "outputs": []
    },
    {
      "cell_type": "markdown",
      "metadata": {
        "id": "DwymhgwqDNcl"
      },
      "source": [
        "## The Gumbel-max causal mechanism and Gumbel-max coupling"
      ]
    },
    {
      "cell_type": "markdown",
      "metadata": {
        "id": "PV4IedSWDiMx"
      },
      "source": [
        "We start with the Gumbel-max causal mechanism, as introduced in \"Counterfactual off-policy evaluation with Gumbel-max structural causal models\" [(Oberst and Sontag, 2019)](http://proceedings.mlr.press/v97/oberst19a.html).\n",
        "\n",
        "Suppose we wish to sample an observation $x$ from an interventional distribution $p(x | do(y)) \\propto \\exp l_x$, defined by a vector of logits $l \\in \\mathbb{R}^k$. We can do this by first sampling a vector of Gumbel(0) exogenous noise $\\gamma$, then shifting it by $l$ and taking the argmax:"
      ]
    },
    {
      "cell_type": "code",
      "metadata": {
        "id": "25eBIpVX__I6"
      },
      "source": [
        "def sample_gumbel_max(rng, logits):\n",
        "  gumbels = jax.random.gumbel(rng, logits.shape)\n",
        "  x = jnp.argmax(gumbels + logits)\n",
        "  return x"
      ],
      "execution_count": 10,
      "outputs": []
    },
    {
      "cell_type": "markdown",
      "metadata": {
        "id": "8zVCRb-EH0XT"
      },
      "source": [
        "If we wish to jointly sample two outcomes under two interventions, we can do so by passing two different logit vectors while re-using the same `gumbels`. Because `rng` determines the samples of Gumbels, we can do this by passing the same `rng` value:"
      ]
    },
    {
      "cell_type": "code",
      "metadata": {
        "id": "NsO9nX1yHz0D",
        "colab": {
          "base_uri": "https://localhost:8080/"
        },
        "outputId": "0f26625c-3a15-45ba-b6ad-c898ee8cf7c7"
      },
      "source": [
        "# Two fairly arbitrary logit vectors\n",
        "p_logits = 0.1 * jnp.arange(10) - (10 - 1.0) / 2\n",
        "q_logits = -p_logits\n",
        "p_logits = p_logits - jax.scipy.special.logsumexp(p_logits)\n",
        "q_logits = q_logits - jax.scipy.special.logsumexp(q_logits)\n",
        "print(\"p_probs\", jnp.exp(p_logits))\n",
        "print(\"q_probs\", jnp.exp(q_logits))"
      ],
      "execution_count": 11,
      "outputs": [
        {
          "output_type": "stream",
          "name": "stdout",
          "text": [
            "p_probs [0.06120703 0.06764422 0.07475842 0.08262087 0.09131017 0.10091332 0.11152647 0.12325582 0.13621873 0.15054502]\n",
            "q_probs [0.15054502 0.13621877 0.12325585 0.11152647 0.10091332 0.09131017 0.08262087 0.07475844 0.06764424 0.06120703]\n"
          ]
        }
      ]
    },
    {
      "cell_type": "code",
      "metadata": {
        "id": "XqXur9ZlInGX",
        "colab": {
          "base_uri": "https://localhost:8080/"
        },
        "outputId": "c1e2e6a5-3fa5-4a91-8f30-8431943b33e7"
      },
      "source": [
        "keys = jax.random.split(jax.random.PRNGKey(42), 10)\n",
        "p_samples = []\n",
        "q_samples = []\n",
        "for prng_key in keys:\n",
        "  p_samples.append(int(sample_gumbel_max(prng_key, p_logits)))\n",
        "  q_samples.append(int(sample_gumbel_max(prng_key, q_logits)))\n",
        "\n",
        "print(\"p_samples\", p_samples)\n",
        "print(\"q_samples\", q_samples)"
      ],
      "execution_count": 12,
      "outputs": [
        {
          "output_type": "stream",
          "name": "stdout",
          "text": [
            "p_samples [9, 5, 2, 2, 2, 1, 4, 9, 7, 1]\n",
            "q_samples [0, 5, 2, 2, 2, 0, 0, 9, 7, 1]\n"
          ]
        }
      ]
    },
    {
      "cell_type": "markdown",
      "metadata": {
        "id": "QI92fupoJOgZ"
      },
      "source": [
        "Note that the samples from $p$ and $q$ are the same more often than they would be if we drew them independently. This is because they share the same exogenous noise, and only have different interventional distributions. We can repeat this for a larger number of samples to visualize the resulting *Gumbel-max coupling* between $p$ and $q$:"
      ]
    },
    {
      "cell_type": "code",
      "metadata": {
        "colab": {
          "base_uri": "https://localhost:8080/",
          "height": 282
        },
        "id": "O9ikmsZMJHKD",
        "outputId": "0c288a75-3e95-4577-f606-bdd2c2b754a2"
      },
      "source": [
        "gm_coupling_p_q = coupling_util.joint_from_samples(\n",
        "    coupling_util.gumbel_max_sampler,\n",
        "    logits_1=p_logits,\n",
        "    logits_2=q_logits,\n",
        "    rng=jax.random.PRNGKey(42),\n",
        "    num_samples=100_000)\n",
        "plt.imshow(gm_coupling_p_q, vmin=0)\n",
        "plt.colorbar()"
      ],
      "execution_count": 13,
      "outputs": [
        {
          "output_type": "execute_result",
          "data": {
            "text/plain": [
              "<matplotlib.colorbar.Colorbar at 0x7f5b87271b90>"
            ]
          },
          "metadata": {},
          "execution_count": 13
        },
        {
          "output_type": "display_data",
          "data": {
            "image/png": "[encoded data removed]",
            "text/plain": [
              "<Figure size 432x288 with 2 Axes>"
            ]
          },
          "metadata": {
            "needs_background": "light"
          }
        }
      ]
    },
    {
      "cell_type": "markdown",
      "metadata": {
        "id": "U-FGD1BdOQL4"
      },
      "source": [
        "### The Gumbel-max coupling v.s. a maximal coupling"
      ]
    },
    {
      "cell_type": "markdown",
      "metadata": {
        "id": "tCvj0yDzKTzE"
      },
      "source": [
        "Notice that a lot of mass is on the diagonal. We might wonder if the diagonal contains as much mass as possible, e.g. is this a maximal coupling? However, as we show in Section 4, the answer is no.\n",
        "\n",
        "For comparison, we can construct a maximal coupling (which does not correspond to a causal mechanism, but is instead defined directly with respect to `p_logits` and `q_logits`):"
      ]
    },
    {
      "cell_type": "code",
      "metadata": {
        "colab": {
          "base_uri": "https://localhost:8080/",
          "height": 282
        },
        "id": "f081v2USKDZS",
        "outputId": "38e7e6f9-bc89-417f-e5c0-82becf077d8c"
      },
      "source": [
        "maximal_coupling_p_q = coupling_util.joint_from_samples(\n",
        "    coupling_util.maximal_coupling_sampler,\n",
        "    logits_1=p_logits,\n",
        "    logits_2=q_logits,\n",
        "    rng=jax.random.PRNGKey(42),\n",
        "    num_samples=100_000)\n",
        "plt.imshow(maximal_coupling_p_q, vmin=0)\n",
        "plt.colorbar()"
      ],
      "execution_count": 14,
      "outputs": [
        {
          "output_type": "execute_result",
          "data": {
            "text/plain": [
              "<matplotlib.colorbar.Colorbar at 0x7f5b86cae550>"
            ]
          },
          "metadata": {},
          "execution_count": 14
        },
        {
          "output_type": "display_data",
          "data": {
            "image/png": "[encoded data removed]",
            "text/plain": [
              "<Figure size 432x288 with 2 Axes>"
            ]
          },
          "metadata": {
            "needs_background": "light"
          }
        }
      ]
    },
    {
      "cell_type": "markdown",
      "metadata": {
        "id": "biN_LgVmNrdM"
      },
      "source": [
        "We can plot the difference between the two, which reveals that the Gumbel-max sampler assigns less mass to the diagonal, and more mass to the off diagonal elements."
      ]
    },
    {
      "cell_type": "code",
      "metadata": {
        "colab": {
          "base_uri": "https://localhost:8080/",
          "height": 282
        },
        "id": "YK_JgAsUMxyo",
        "outputId": "40888e63-475f-4545-9888-fcab65e91f8d"
      },
      "source": [
        "difference = gm_coupling_p_q - maximal_coupling_p_q\n",
        "plt.imshow(difference, vmin=-0.016, vmax=0.016, cmap=\"RdBu\")\n",
        "plt.colorbar()"
      ],
      "execution_count": 15,
      "outputs": [
        {
          "output_type": "execute_result",
          "data": {
            "text/plain": [
              "<matplotlib.colorbar.Colorbar at 0x7f5b86be8450>"
            ]
          },
          "metadata": {},
          "execution_count": 15
        },
        {
          "output_type": "display_data",
          "data": {
            "image/png": "[encoded data removed]",
            "text/plain": [
              "<Figure size 432x288 with 2 Axes>"
            ]
          },
          "metadata": {
            "needs_background": "light"
          }
        }
      ]
    },
    {
      "cell_type": "markdown",
      "metadata": {
        "id": "acU5L0pDOUW9"
      },
      "source": [
        "### Using the Gumbel-max SCM to sample counterfactuals"
      ]
    },
    {
      "cell_type": "markdown",
      "metadata": {
        "id": "dR1AyEY8OlVz"
      },
      "source": [
        "We can use the top-down sampling algorithm [(Maddison et al. [2014])](https://arxiv.org/abs/1411.0030) to answer counterfactual queries: given that we observed $x^{(obs)}$ under `p_logits`, what would we have observed under `q_logits`?\n",
        "\n",
        "The key insight is that the maximum value and the argmax are independent for a set of independent shifted Gumbels (as explained [here](https://cmaddis.github.io/gumbel-machinery)). $x^{(obs)}$ is the argmax, so we can sample the exogenous noise by sampling the max, then filling in the rest."
      ]
    },
    {
      "cell_type": "code",
      "metadata": {
        "colab": {
          "base_uri": "https://localhost:8080/",
          "height": 102
        },
        "id": "OOAU-pcPNlvX",
        "outputId": "825f1ed4-7fa6-41bd-e6b6-17a65a22ec10"
      },
      "source": [
        "x_obs = 7  # for example\n",
        "rng = jax.random.PRNGKey(1234)\n",
        "\n",
        "# Use jax.vmap to draw many samples\n",
        "def sample_one(key):\n",
        "  gumbels = coupling_util.counterfactual_gumbels(p_logits, x_obs, key)\n",
        "  y_for_q = jnp.argmax(gumbels + q_logits)\n",
        "  return jnp.zeros([10]).at[y_for_q].set(1.)\n",
        "\n",
        "counterfactual_y = jnp.mean(jax.vmap(sample_one)(jax.random.split(rng, 1000)), axis=0)\n",
        "plt.imshow(counterfactual_y[None, :], vmin=0)"
      ],
      "execution_count": 16,
      "outputs": [
        {
          "output_type": "execute_result",
          "data": {
            "text/plain": [
              "<matplotlib.image.AxesImage at 0x7f5b86b84e90>"
            ]
          },
          "metadata": {},
          "execution_count": 16
        },
        {
          "output_type": "display_data",
          "data": {
            "image/png": "[encoded data removed]",
            "text/plain": [
              "<Figure size 432x288 with 1 Axes>"
            ]
          },
          "metadata": {
            "needs_background": "light"
          }
        }
      ]
    },
    {
      "cell_type": "markdown",
      "metadata": {
        "id": "FkB3rq37SlYM"
      },
      "source": [
        "This is equivalent to sampling only within a single row (row 7) of the coupling matrix in the previous section.\n",
        "\n",
        "The key property that makes this useful for counterfactual inference is that it works for any `x_obs`, even one that we did not sample using our mechanism, as long as the value of `x_obs` can be viewed as a sample from the distribution given by `p_logits`. Thus, it can be used to infer counterfactual distributions for data collected offline by interacting with the real world, as described by Oberst and Sontag (2017)."
      ]
    },
    {
      "cell_type": "markdown",
      "metadata": {
        "id": "mKkBEHX9dgCe"
      },
      "source": [
        "## Inverse-CDF couplings and monotonicity\n",
        "\n"
      ]
    },
    {
      "cell_type": "markdown",
      "metadata": {
        "id": "f4uujY72dpWu"
      },
      "source": [
        "Another interesting class of coupling is the \"inverse CDF\" causal mechanism and resulting coupling. If we define an order on the outcomes, we can use this to construct the cumulative distribution function, or CDF, for any particular logit vector $l$. It turns out that inverting the CDF and evaluating it at a sample of uniform random noise will produce a sample from the desired distribution."
      ]
    },
    {
      "cell_type": "code",
      "metadata": {
        "colab": {
          "base_uri": "https://localhost:8080/",
          "height": 282
        },
        "id": "mNB6vPWreMt3",
        "outputId": "4fb45657-d0e4-4dd0-b33c-e4ed0628960f"
      },
      "source": [
        "inverse_cdf_p_q = coupling_util.inverse_cdf_coupling(\n",
        "    logits_1=p_logits,\n",
        "    logits_2=q_logits)\n",
        "plt.imshow(inverse_cdf_p_q, vmin=0)\n",
        "plt.colorbar()"
      ],
      "execution_count": 17,
      "outputs": [
        {
          "output_type": "execute_result",
          "data": {
            "text/plain": [
              "<matplotlib.colorbar.Colorbar at 0x7f5b86abd310>"
            ]
          },
          "metadata": {},
          "execution_count": 17
        },
        {
          "output_type": "display_data",
          "data": {
            "image/png": "[encoded data removed]",
            "text/plain": [
              "<Figure size 432x288 with 2 Axes>"
            ]
          },
          "metadata": {
            "needs_background": "light"
          }
        }
      ]
    },
    {
      "cell_type": "markdown",
      "metadata": {
        "id": "IMBhKc0HeUkZ"
      },
      "source": [
        "As we discuss in Section 2, if we are interested in measuring a difference of costs with minimum variance, and each cost function is monotonic with respect to this ordering, it turns out that this coupling will always minimize the variance. However, this is only possible if we know the ordering in advance while building our causal mechanism. If we use a different order, we destroy this structure."
      ]
    },
    {
      "cell_type": "code",
      "metadata": {
        "colab": {
          "base_uri": "https://localhost:8080/",
          "height": 282
        },
        "id": "5OZFg4uJe34X",
        "outputId": "ead2f385-baba-428f-9ef8-f08cefff5916"
      },
      "source": [
        "perm_inverse_cdf_p_q = coupling_util.permuted_inverse_cdf_coupling(\n",
        "    logits_1=p_logits,\n",
        "    logits_2=q_logits,\n",
        "    permutation_seed=1)\n",
        "plt.imshow(perm_inverse_cdf_p_q, vmin=0)\n",
        "plt.colorbar()"
      ],
      "execution_count": 18,
      "outputs": [
        {
          "output_type": "execute_result",
          "data": {
            "text/plain": [
              "<matplotlib.colorbar.Colorbar at 0x7f5b869ea810>"
            ]
          },
          "metadata": {},
          "execution_count": 18
        },
        {
          "output_type": "display_data",
          "data": {
            "image/png": "[encoded data removed]",
            "text/plain": [
              "<Figure size 432x288 with 2 Axes>"
            ]
          },
          "metadata": {
            "needs_background": "light"
          }
        }
      ]
    },
    {
      "cell_type": "markdown",
      "metadata": {
        "id": "TlgABLbQfDSG"
      },
      "source": [
        "## Independent couplings"
      ]
    },
    {
      "cell_type": "markdown",
      "metadata": {
        "id": "nVlR1vSyfFeq"
      },
      "source": [
        "One other class of couplings that we compare against is the independent coupling, which implies that $p(x)$ and $q(y)$ have nothing in common. From a causal perspective, this corresponds to a situation where the outcome for an observation tells you nothing at all about what the outcome would have been for some other counterfactual intervention."
      ]
    },
    {
      "cell_type": "code",
      "metadata": {
        "colab": {
          "base_uri": "https://localhost:8080/",
          "height": 282
        },
        "id": "0FjGrh_XfEiW",
        "outputId": "29eba140-28d5-48cc-ef1a-9851a2a34977"
      },
      "source": [
        "independent_pq = coupling_util.independent_coupling(\n",
        "    logits_1=p_logits,\n",
        "    logits_2=q_logits)\n",
        "plt.imshow(independent_pq, vmin=0)\n",
        "plt.colorbar()"
      ],
      "execution_count": 19,
      "outputs": [
        {
          "output_type": "execute_result",
          "data": {
            "text/plain": [
              "<matplotlib.colorbar.Colorbar at 0x7f5b86d7f650>"
            ]
          },
          "metadata": {},
          "execution_count": 19
        },
        {
          "output_type": "display_data",
          "data": {
            "image/png": "[encoded data removed]",
            "text/plain": [
              "<Figure size 432x288 with 2 Axes>"
            ]
          },
          "metadata": {
            "needs_background": "light"
          }
        }
      ]
    },
    {
      "cell_type": "markdown",
      "metadata": {
        "id": "0aYYUWF2StmY"
      },
      "source": [
        "## Gadget 1 and Gadget 2"
      ]
    },
    {
      "cell_type": "markdown",
      "metadata": {
        "id": "lLpQIZ3XT3wj"
      },
      "source": [
        "We now show how to use our learnable \"gadgets\" to define couplings and to draw samples from a counterfactual.\n",
        "\n",
        "As discussed in Section 5.1, Gadget 1 deviates from a normal SCM in that the exogenous noise is not shared exactly between the \"observed\" and \"counterfactual\" samples. In particular, sampling from a counterfactual distribution requires transposing the matrix of Gumbels, and thus requires designating one of the interventions as the non-transposed original and the other as the transposed counterfactual.\n",
        "\n",
        "Gadget 2, on the other hand, satisfies the normal requirements of an SCM, and uses the same exogenous noise across all possible interventions. This means that it can be used in the same set of situations as the Gumbel-max SCM."
      ]
    },
    {
      "cell_type": "markdown",
      "metadata": {
        "id": "hX7dqgEIXAd8"
      },
      "source": [
        "Both gadgets are implemented as `flax` modules, which separate the definition of the model class $\\{f_\\theta\\}_{\\theta \\in \\Theta}$ from the specific value of the parameters $\\theta$. We can instantiate each model class by specifying all of the necessary hyperparameters. For instance:"
      ]
    },
    {
      "cell_type": "code",
      "metadata": {
        "id": "XHSIMRWoR_-E"
      },
      "source": [
        "# S_dim is the number of outcomes for our distribution of interest.\n",
        "gadget_1_def = gadget_1.GadgetOneMLPPredictor(\n",
        "    S_dim=10, hidden_features=[1024, 1024],\n",
        "    relaxation_temperature=1.0)\n",
        "\n",
        "# Gadget 2 also requires Z_dim, the space of the latent auxiliary variable.\n",
        "gadget_2_def = gadget_2.GadgetTwoMLPPredictor(\n",
        "    S_dim=10, Z_dim=100, hidden_features=[1024, 1024],\n",
        "    relaxation_temperature=1.0, learn_prior=False)"
      ],
      "execution_count": 20,
      "outputs": []
    },
    {
      "cell_type": "markdown",
      "metadata": {
        "id": "o9_LiFFPYKUE"
      },
      "source": [
        "To use them to draw samples, we must pick a particular value for $\\theta$. We can start by randomly initializing each:"
      ]
    },
    {
      "cell_type": "code",
      "metadata": {
        "id": "3X29TDQDYERV",
        "colab": {
          "base_uri": "https://localhost:8080/"
        },
        "outputId": "528a18a7-26b3-4225-9835-c44fb764955e"
      },
      "source": [
        "init_key = jax.random.PRNGKey(1001)\n",
        "gadget_1_theta = gadget_1_def.init(init_key, jnp.zeros([gadget_1_def.S_dim]))\n",
        "\n",
        "init_key = jax.random.PRNGKey(1002)\n",
        "gadget_2_theta = gadget_2_def.init(init_key, jnp.zeros([gadget_2_def.S_dim]))\n",
        "\n",
        "# Summarize the shape of each parameter tree:\n",
        "print(\"Gadget 1:\")\n",
        "print(jax.tree.map(lambda x: f\"dtype={x.dtype} shape={x.shape} values={x.reshape([-1])[:4]}...\", gadget_1_theta))\n",
        "print(\"Gadget 2:\")\n",
        "print(jax.tree.map(lambda x: f\"dtype={x.dtype} shape={x.shape} values={x.reshape([-1])[:4]}...\", gadget_2_theta))"
      ],
      "execution_count": 21,
      "outputs": [
        {
          "output_type": "stream",
          "name": "stdout",
          "text": [
            "Gadget 1:\n",
            "FrozenDict({\n",
            "    params: {\n",
            "        hidden_layers_0: {\n",
            "            bias: 'dtype=float32 shape=(1024,) values=[0. 0. 0. 0.]...',\n",
            "            kernel: 'dtype=float32 shape=(10, 1024) values=[-0.15586407  0.52728695  0.4646642  -0.02859419]...',\n",
            "        },\n",
            "        hidden_layers_1: {\n",
            "            bias: 'dtype=float32 shape=(1024,) values=[0. 0. 0. 0.]...',\n",
            "            kernel: 'dtype=float32 shape=(1024, 1024) values=[-0.0640266   0.04275422  0.02152636  0.04715558]...',\n",
            "        },\n",
            "        output_layer: {\n",
            "            bias: 'dtype=float32 shape=(10, 10) values=[0. 0. 0. 0.]...',\n",
            "            kernel: 'dtype=float32 shape=(1024, 10, 10) values=[-0.0507848  -0.00499428 -0.03920214  0.0249158 ]...',\n",
            "        },\n",
            "    },\n",
            "})\n",
            "Gadget 2:\n",
            "FrozenDict({\n",
            "    params: {\n",
            "        hidden_layers_0: {\n",
            "            bias: 'dtype=float32 shape=(1024,) values=[0. 0. 0. 0.]...',\n",
            "            kernel: 'dtype=float32 shape=(10, 1024) values=[-0.33588833  0.00931741  0.5640106  -0.33654755]...',\n",
            "        },\n",
            "        hidden_layers_1: {\n",
            "            bias: 'dtype=float32 shape=(1024,) values=[0. 0. 0. 0.]...',\n",
            "            kernel: 'dtype=float32 shape=(1024, 1024) values=[-0.00269697  0.03676963 -0.01132549 -0.03541469]...',\n",
            "        },\n",
            "        output_layer: {\n",
            "            bias: 'dtype=float32 shape=(100, 10) values=[0. 0. 0. 0.]...',\n",
            "            kernel: 'dtype=float32 shape=(1024, 100, 10) values=[ 0.01256981 -0.00283486 -0.01371078 -0.02073329]...',\n",
            "        },\n",
            "    },\n",
            "})\n"
          ]
        }
      ]
    },
    {
      "cell_type": "markdown",
      "metadata": {
        "id": "z7EkURiaZSdz"
      },
      "source": [
        "We can also bind a particular value of $\\theta$ to each model definition to obtain a concrete mechanism $f_\\theta$. (This is only recommended for interactive use cases, such as this notebook. If you want to learn $\\theta$, it's better to keep the two separate. See the [flax documentation](https://flax.readthedocs.io/en/latest/notebooks/flax_basics.html) for more details on using flax.)"
      ]
    },
    {
      "cell_type": "code",
      "metadata": {
        "id": "pzIYrUC_YFYb"
      },
      "source": [
        "gadget_1_at_init = gadget_1_def.bind(gadget_1_theta)\n",
        "gadget_2_at_init = gadget_2_def.bind(gadget_2_theta)"
      ],
      "execution_count": 22,
      "outputs": []
    },
    {
      "cell_type": "markdown",
      "metadata": {
        "id": "wnKpasOTklYg"
      },
      "source": [
        "### Sampling from the gadgets"
      ]
    },
    {
      "cell_type": "markdown",
      "metadata": {
        "id": "9QMn6ZmKZ-0X"
      },
      "source": [
        "Given a bound gadget, we can draw samples similarly to Gumbel-max. Each gadget defines a method `sample`, which can be used to draw samples according to their structural causal model. Just like for Gumbel-max, using the same random number generator for two different logit vectors produces coupled interventions. However, as noted before, Gadget 1 requires passing a special `transpose` argument when sampling the second logit vector."
      ]
    },
    {
      "cell_type": "code",
      "metadata": {
        "id": "8tmJCr0jZ95b",
        "colab": {
          "base_uri": "https://localhost:8080/"
        },
        "outputId": "e1c869a7-e41a-4307-e30a-cb84c34e1d5a"
      },
      "source": [
        "keys = jax.random.split(jax.random.PRNGKey(42), 20)\n",
        "g1_p_samples = []\n",
        "g1_q_samples = []\n",
        "g2_p_samples = []\n",
        "g2_q_samples = []\n",
        "for prng_key in keys:\n",
        "  # Gadget 1\n",
        "  g1_p_samples.append(int(gadget_1_at_init.sample(p_logits, prng_key)))\n",
        "  g1_q_samples.append(int(gadget_1_at_init.sample(q_logits, prng_key, transpose=True)))\n",
        "  # Gadget 2\n",
        "  g2_p_samples.append(int(gadget_2_at_init.sample(p_logits, prng_key)))\n",
        "  g2_q_samples.append(int(gadget_2_at_init.sample(q_logits, prng_key)))\n",
        "\n",
        "print(\"g1_p_samples\", g1_p_samples)\n",
        "print(\"g1_q_samples\", g1_q_samples)\n",
        "print()\n",
        "print(\"g2_p_samples\", g2_p_samples)\n",
        "print(\"g2_q_samples\", g2_q_samples)"
      ],
      "execution_count": 23,
      "outputs": [
        {
          "output_type": "stream",
          "name": "stdout",
          "text": [
            "g1_p_samples [2, 1, 2, 6, 1, 1, 3, 4, 9, 2, 7, 4, 8, 5, 0, 6, 2, 9, 5, 4]\n",
            "g1_q_samples [8, 5, 8, 6, 5, 4, 9, 1, 4, 0, 6, 1, 2, 1, 7, 2, 2, 2, 6, 5]\n",
            "\n",
            "g2_p_samples [4, 0, 8, 7, 6, 0, 7, 3, 6, 6, 2, 1, 7, 7, 2, 4, 6, 3, 2, 8]\n",
            "g2_q_samples [4, 0, 1, 7, 1, 0, 1, 3, 1, 6, 2, 1, 2, 2, 2, 4, 6, 3, 2, 1]\n"
          ]
        }
      ]
    },
    {
      "cell_type": "code",
      "metadata": {
        "colab": {
          "base_uri": "https://localhost:8080/",
          "height": 369
        },
        "id": "grMxLIavfsN6",
        "outputId": "a96db984-575a-48f5-90af-495319c85b53"
      },
      "source": [
        "g1_init_pq = coupling_util.joint_from_samples(\n",
        "    coupling_util.sampler_from_common_random_numbers(gadget_1_at_init.sample, second_kwargs={\"transpose\": True}),\n",
        "    logits_1=p_logits,\n",
        "    logits_2=q_logits,\n",
        "    rng=jax.random.PRNGKey(42),\n",
        "    num_samples=100_000)\n",
        "g2_init_pq = coupling_util.joint_from_samples(\n",
        "    coupling_util.sampler_from_common_random_numbers(gadget_2_at_init.sample),\n",
        "    logits_1=p_logits,\n",
        "    logits_2=q_logits,\n",
        "    rng=jax.random.PRNGKey(42),\n",
        "    num_samples=100_000)\n",
        "\n",
        "_, axs = plt.subplots(ncols=2, figsize=(12,6))\n",
        "axs[0].imshow(g1_init_pq, vmin=0)\n",
        "axs[1].imshow(g2_init_pq, vmin=0)"
      ],
      "execution_count": 24,
      "outputs": [
        {
          "output_type": "execute_result",
          "data": {
            "text/plain": [
              "<matplotlib.image.AxesImage at 0x7f5b864abe10>"
            ]
          },
          "metadata": {},
          "execution_count": 24
        },
        {
          "output_type": "display_data",
          "data": {
            "image/png": "[encoded data removed]",
            "text/plain": [
              "<Figure size 864x432 with 2 Axes>"
            ]
          },
          "metadata": {
            "needs_background": "light"
          }
        }
      ]
    },
    {
      "cell_type": "markdown",
      "metadata": {
        "id": "mHnralYtcaTW"
      },
      "source": [
        "(Note: Gadget 2, even at initialization, has similar behavior to Gumbel-max, in that it tends to produce samples that are the same across $p$ and $q$. Gadget 1, on the other hand, often draws distinct samples at initialization, because the exogenous noise is transposed.)"
      ]
    },
    {
      "cell_type": "markdown",
      "metadata": {
        "id": "4T06poU2ktUg"
      },
      "source": [
        "### Drawing counterfactual samples"
      ]
    },
    {
      "cell_type": "markdown",
      "metadata": {
        "id": "7KFb_eprku7Y"
      },
      "source": [
        "Each gadget also provides a method `gadget.counterfactual_sample(p_logits, q_logits, p_observed, rng)`. This method serves a similar role as the counterfactual sampling for Gumbel-max SCMs: it allows us to draw a sample from the counterfactual distribution `q_logits`, conditioned on a particular observation from `p_logits`."
      ]
    },
    {
      "cell_type": "code",
      "metadata": {
        "colab": {
          "base_uri": "https://localhost:8080/",
          "height": 221
        },
        "id": "aSKW3xTHlShl",
        "outputId": "945c0243-fc32-42a3-d608-0bd1a0858d6a"
      },
      "source": [
        "x_obs = 7  # for example\n",
        "rng = jax.random.PRNGKey(1234)\n",
        "\n",
        "def sample_ctf_gadgets(key):\n",
        "  y_from_gadget_1 = gadget_1_at_init.counterfactual_sample(p_logits, q_logits, x_obs, key)\n",
        "  y_from_gadget_2 = gadget_2_at_init.counterfactual_sample(p_logits, q_logits, x_obs, key)\n",
        "  return (\n",
        "      jnp.zeros([10]).at[y_from_gadget_1].set(1.),\n",
        "      jnp.zeros([10]).at[y_from_gadget_2].set(1.),\n",
        "  )\n",
        "\n",
        "from_p, from_q = jax.vmap(sample_ctf_gadgets)(jax.random.split(rng, 1000))\n",
        "from_p = jnp.mean(from_p, axis=0)\n",
        "from_q = jnp.mean(from_q, axis=0)\n",
        "_, axs = plt.subplots(nrows=2)\n",
        "axs[0].imshow(from_p[None, :], vmin=0)\n",
        "axs[1].imshow(from_q[None, :], vmin=0)"
      ],
      "execution_count": 25,
      "outputs": [
        {
          "output_type": "execute_result",
          "data": {
            "text/plain": [
              "<matplotlib.image.AxesImage at 0x7f5b8645df10>"
            ]
          },
          "metadata": {},
          "execution_count": 25
        },
        {
          "output_type": "display_data",
          "data": {
            "image/png": "[encoded data removed]",
            "text/plain": [
              "<Figure size 432x288 with 2 Axes>"
            ]
          },
          "metadata": {
            "needs_background": "light"
          }
        }
      ]
    },
    {
      "cell_type": "markdown",
      "metadata": {
        "id": "1vo9-V1al-mq"
      },
      "source": [
        "As before, these correspond to the 7th row of the full joint distribution shown in the previous section."
      ]
    },
    {
      "cell_type": "markdown",
      "metadata": {
        "id": "cSr_Jeuskoit"
      },
      "source": [
        "### Sampling differentiable continuous relaxations"
      ]
    },
    {
      "cell_type": "markdown",
      "metadata": {
        "id": "ESIlao02cy6s"
      },
      "source": [
        "To train the gadgets, we additionally provide a method `relaxed_sample`, which continuously relaxes the Gumbel-max operations inside each gadget to instead be Gumbel-softmax operations. The default temperature is specified when initializing the gadget, and determines the tradeoff between higher gradient variance and more gradient bias.\n",
        "\n",
        "Below, we compare the discrete samples with their continuously relaxed counterparts, where each row is a new sample. Note that the discrete sample is always the same as the position of the maximum in the continuous version."
      ]
    },
    {
      "cell_type": "code",
      "metadata": {
        "colab": {
          "base_uri": "https://localhost:8080/",
          "height": 247
        },
        "id": "WkzzWMELbz8z",
        "outputId": "7f97e624-f825-4b34-bc3e-04038071bbd5"
      },
      "source": [
        "def draw_relaxed_from_p(key):\n",
        "  k1, k2 = jax.random.split(key)\n",
        "  return (\n",
        "      jnp.zeros([10]).at[gadget_1_at_init.sample(p_logits, k1)].set(1),\n",
        "      gadget_1_at_init.sample_relaxed(p_logits, k1),\n",
        "      jnp.zeros([10]).at[gadget_2_at_init.sample(p_logits, k2)].set(1),\n",
        "      gadget_2_at_init.sample_relaxed(p_logits, k2),\n",
        "  )\n",
        "\n",
        "g1_samples, g1_relaxed_samples, g2_samples, g2_relaxed_samples = jax.vmap(draw_relaxed_from_p)(jax.random.split(jax.random.PRNGKey(3), 15))\n",
        "\n",
        "_, axs = plt.subplots(ncols=4, figsize=(10,4))\n",
        "axs[0].imshow(g1_samples, vmin=0)\n",
        "axs[1].imshow(g1_relaxed_samples, vmin=0)\n",
        "axs[2].imshow(g2_samples, vmin=0)\n",
        "axs[3].imshow(g2_relaxed_samples, vmin=0)"
      ],
      "execution_count": 26,
      "outputs": [
        {
          "output_type": "execute_result",
          "data": {
            "text/plain": [
              "<matplotlib.image.AxesImage at 0x7f5b862cab10>"
            ]
          },
          "metadata": {},
          "execution_count": 26
        },
        {
          "output_type": "display_data",
          "data": {
            "image/png": "[encoded data removed]",
            "text/plain": [
              "<Figure size 720x288 with 4 Axes>"
            ]
          },
          "metadata": {
            "needs_background": "light"
          }
        }
      ]
    },
    {
      "cell_type": "markdown",
      "metadata": {
        "id": "CAwhvZ1Wihls"
      },
      "source": [
        "If we simultaneously draw relaxed samples from $p$ and $q$, again using the same exogenous noise, we can obtain a differentiable estimate of the implicit coupling between them (shown only for gadget 2):"
      ]
    },
    {
      "cell_type": "code",
      "metadata": {
        "colab": {
          "base_uri": "https://localhost:8080/",
          "height": 483
        },
        "id": "1uLsfU7VhyTS",
        "outputId": "34032f18-1eea-4f76-9692-51aee26095d9"
      },
      "source": [
        "def gen_soft_pair(key):\n",
        "  soft_x = gadget_2_at_init.sample_relaxed(p_logits, key)\n",
        "  soft_y = gadget_2_at_init.sample_relaxed(q_logits, key)\n",
        "  return (soft_x[:, None] * soft_y[None, :])\n",
        "\n",
        "soft_pairs = jax.vmap(gen_soft_pair)(jax.random.split(jax.random.PRNGKey(1), 4*8))\n",
        "_, axs = plt.subplots(nrows=4, ncols=8, figsize=(16,8))\n",
        "for i in range(4):\n",
        "  for j in range(8):\n",
        "    axs[i, j].imshow(soft_pairs[np.ravel_multi_index((i,j), (4,8))])"
      ],
      "execution_count": 27,
      "outputs": [
        {
          "output_type": "display_data",
          "data": {
            "image/png": "[encoded data removed]",
            "text/plain": [
              "<Figure size 1152x576 with 32 Axes>"
            ]
          },
          "metadata": {
            "needs_background": "light"
          }
        }
      ]
    },
    {
      "cell_type": "markdown",
      "metadata": {
        "id": "yhg6POpQkCq1"
      },
      "source": [
        "Over a large number of samples, these soft pairs will tend to approximate a noisier version of the implicit coupling. We can thus use stochastic gradient descent to optimize this coupling to have a better score under our objective of interest."
      ]
    },
    {
      "cell_type": "code",
      "metadata": {
        "colab": {
          "base_uri": "https://localhost:8080/",
          "height": 369
        },
        "id": "4qkQugplixMf",
        "outputId": "7f18df71-8c30-477d-e120-abaa8b7d8291"
      },
      "source": [
        "_, axs = plt.subplots(ncols=2, figsize=(12,6))\n",
        "# True implicit coupling defined by gadget 2\n",
        "axs[0].imshow(g2_init_pq, vmin=0)\n",
        "# Relaxed approximation with gradients\n",
        "axs[1].imshow(jnp.mean(soft_pairs, axis=0), vmin=0)"
      ],
      "execution_count": 28,
      "outputs": [
        {
          "output_type": "execute_result",
          "data": {
            "text/plain": [
              "<matplotlib.image.AxesImage at 0x7f5b85819b90>"
            ]
          },
          "metadata": {},
          "execution_count": 28
        },
        {
          "output_type": "display_data",
          "data": {
            "image/png": "[encoded data removed]",
            "text/plain": [
              "<Figure size 864x432 with 2 Axes>"
            ]
          },
          "metadata": {
            "needs_background": "light"
          }
        }
      ]
    },
    {
      "cell_type": "markdown",
      "metadata": {
        "id": "r4yefr0hmsed"
      },
      "source": [
        "### Training the gadgets"
      ]
    },
    {
      "cell_type": "markdown",
      "metadata": {
        "id": "brnHS8TNmub2"
      },
      "source": [
        "So far, we have described how to use the gadgets once we know a particular value for $\\theta$. It remains to see how we can *learn* $\\theta$ to optimize an objective of interest.\n",
        "\n",
        "To this end, we provide a training helper class `CouplingExperimentConfig` which allows either of our gadgets to be trained to minimize a particular objective over a distribution of interest. In order to use this, you must provide\n",
        "- a model definition (either gadget 1 or gadget 2)\n",
        "- a function that generates random pairs of logits according to the distribution of interest (this is $\\mathcal{D}$ from Section 3)\n",
        "- a function that takes a pair of logits, and returns a matrix of scores for each pair of counterfactual samples  (this is $g_{l^{(1)}, l^{(2)}}$ from Section 3)\n",
        "- a flag specifying whether it should pass the `transpose` argument during training (True for gadget 1, False otherwise)\n",
        "- hyperparameters that control the training process, such as the batch size, number of samples per iteration, and optimizer.\n",
        "\n",
        "To show how this works, here is an example of training each of our gadgets based on two distance functions:\n",
        "- $g(x, y) = 0\\text{ if }x=y\\text{ else }1$, which encourages our coupling to be closer to a maximal coupling.\n",
        "- $g(x, y) = (x-y)^2$, which encourages our coupling to minimize the variance of the difference between the sampled indices.\n",
        "\n",
        "In both cases, we take the pair of $p$ and $q$ we have used for the rest of this notebook, and perturb it with a small amount of noise, so that it represents a distribution of intervention pairs."
      ]
    },
    {
      "cell_type": "code",
      "metadata": {
        "id": "BIggP9IwjXzb"
      },
      "source": [
        "def logit_pair_distribution_fn(rng, dim, base_scale=.1, noise_scale=.1):\n",
        "  p_rng, q_rng = jax.random.split(rng, 2)\n",
        "  p_base = jnp.arange(dim) - (dim - 1.0) / 2\n",
        "  q_base = -p_base\n",
        "  p_logits = base_scale * p_base + noise_scale * jax.random.normal(p_rng, (dim,))\n",
        "  q_logits = base_scale * q_base + noise_scale * jax.random.normal(q_rng, (dim,))\n",
        "  return p_logits, q_logits\n",
        "\n",
        "def maximal_coupling_loss_matrix_fn(logits1, logits2):\n",
        "  return 1.0 - jnp.eye(logits1.shape[0])\n",
        "\n",
        "def squared_loss_matrix_fn(logits1, logits2):\n",
        "  seq = jnp.arange(logits1.shape[0]).astype(jnp.float32)\n",
        "  return jnp.square(seq[None, :] - seq[:, None])\n",
        "\n",
        "experiments = []\n",
        "S_dim = 10\n",
        "Z_dim = 100\n",
        "for task_fn in [maximal_coupling_loss_matrix_fn, squared_loss_matrix_fn]:\n",
        "  for gadget in [1, 2]:\n",
        "    ex = experiment_util.CouplingExperimentConfig(\n",
        "      name=f\"Gadget {gadget} example training: {task_fn.__name__}\",\n",
        "      model=(\n",
        "          gadget_1.GadgetOneMLPPredictor(\n",
        "              S_dim=S_dim,\n",
        "              hidden_features=[1024, 1024],\n",
        "              relaxation_temperature=1.0)\n",
        "          if gadget == 1 else\n",
        "          gadget_2.GadgetTwoMLPPredictor(\n",
        "              S_dim=S_dim,\n",
        "              Z_dim=Z_dim,\n",
        "              hidden_features=[1024, 1024],\n",
        "              relaxation_temperature=1.0,\n",
        "              learn_prior=False)\n",
        "      ),\n",
        "      logit_pair_distribution_fn=functools.partial(\n",
        "          logit_pair_distribution_fn,\n",
        "          dim=S_dim,\n",
        "          base_scale=.1,\n",
        "          noise_scale=0.4),\n",
        "      coupling_loss_matrix_fn=task_fn,\n",
        "      inner_num_samples=16,\n",
        "      batch_size=64,\n",
        "      use_transpose=(gadget == 1),\n",
        "      tx=optax.adam(1e-5),\n",
        "      num_steps=2001,\n",
        "      print_every=1000,\n",
        "    )\n",
        "    experiments.append(ex)"
      ],
      "execution_count": 29,
      "outputs": []
    },
    {
      "cell_type": "code",
      "metadata": {
        "id": "P7daAX3BpSnq",
        "colab": {
          "base_uri": "https://localhost:8080/"
        },
        "outputId": "5d15d5ab-6350-48b4-cfa8-678148bf1587"
      },
      "source": [
        "results = []\n",
        "for ex in experiments:\n",
        "  print(\"=\" * 80)\n",
        "  print(ex.name)\n",
        "  print(\"=\" * 80)\n",
        "  results.append(ex.train(jax.random.PRNGKey(42)))\n",
        "  print()"
      ],
      "execution_count": 30,
      "outputs": [
        {
          "output_type": "stream",
          "name": "stdout",
          "text": [
            "================================================================================\n",
            "Gadget 1 example training: maximal_coupling_loss_matrix_fn\n",
            "================================================================================\n",
            "0 [0.2224611682501865/s]: {'loss': 0.9031217098236084}\n",
            "1 [33.60605089417345/s]: {'loss': 0.8943421840667725}\n",
            "2 [34.80692436640056/s]: {'loss': 0.8932392001152039}\n",
            "4 [55.54817733337748/s]: {'loss': 0.905632734298706}\n",
            "8 [80.39685643089898/s]: {'loss': 0.8966636657714844}\n",
            "16 [101.39067268584827/s]: {'loss': 0.8993918895721436}\n",
            "32 [117.50067234424026/s]: {'loss': 0.8806756138801575}\n",
            "64 [126.09115317769741/s]: {'loss': 0.8531259894371033}\n",
            "128 [132.23278171369572/s]: {'loss': 0.7658491134643555}\n",
            "256 [157.70978300143648/s]: {'loss': 0.7173314094543457}\n",
            "512 [172.29725116597388/s]: {'loss': 0.7053846120834351}\n",
            "1000 [177.70340617092123/s]: {'loss': 0.7030209302902222}\n",
            "1024 [154.22337910652647/s]: {'loss': 0.6978725790977478}\n",
            "2000 [175.1152071304068/s]: {'loss': 0.7032450437545776}\n",
            "\n",
            "================================================================================\n",
            "Gadget 2 example training: maximal_coupling_loss_matrix_fn\n",
            "================================================================================\n",
            "0 [0.06030789709325502/s]: {'loss': 0.687383770942688}\n",
            "1 [26.342655805452797/s]: {'loss': 0.6821712851524353}\n",
            "2 [26.86348905427389/s]: {'loss': 0.6825854182243347}\n",
            "4 [38.58534341594451/s]: {'loss': 0.6895071864128113}\n",
            "8 [48.491726424283414/s]: {'loss': 0.6796791553497314}\n",
            "16 [55.47700116560715/s]: {'loss': 0.6906272768974304}\n",
            "32 [58.346553617399756/s]: {'loss': 0.6834739446640015}\n",
            "64 [61.75529727889278/s]: {'loss': 0.6774040460586548}\n",
            "128 [64.12199724627143/s]: {'loss': 0.6704298853874207}\n",
            "256 [64.11760156365136/s]: {'loss': 0.5924275517463684}\n",
            "512 [64.55482885520316/s]: {'loss': 0.5199288129806519}\n",
            "1000 [64.76449748574937/s]: {'loss': 0.4943510591983795}\n",
            "1024 [61.70430714572062/s]: {'loss': 0.5035367012023926}\n",
            "2000 [64.97544841002123/s]: {'loss': 0.48919838666915894}\n",
            "\n",
            "================================================================================\n",
            "Gadget 1 example training: squared_loss_matrix_fn\n",
            "================================================================================\n",
            "0 [0.2376855749763451/s]: {'loss': 18.331106185913086}\n",
            "1 [35.70684033541906/s]: {'loss': 17.67399024963379}\n",
            "2 [36.40699269135288/s]: {'loss': 17.708940505981445}\n",
            "4 [59.55999233188728/s]: {'loss': 17.746984481811523}\n",
            "8 [87.59896200456342/s]: {'loss': 17.80404281616211}\n",
            "16 [115.37036387579468/s]: {'loss': 17.33456802368164}\n",
            "32 [135.10591428047988/s]: {'loss': 17.130428314208984}\n",
            "64 [138.614153093672/s]: {'loss': 16.159027099609375}\n",
            "128 [158.05987464045245/s]: {'loss': 15.20871353149414}\n",
            "256 [160.23610572634107/s]: {'loss': 14.156964302062988}\n",
            "512 [168.3065596247084/s]: {'loss': 14.413787841796875}\n",
            "1000 [169.20956753695305/s]: {'loss': 14.06224250793457}\n",
            "1024 [154.17637346648084/s]: {'loss': 13.972649574279785}\n",
            "2000 [170.6096715333867/s]: {'loss': 13.880552291870117}\n",
            "\n",
            "================================================================================\n",
            "Gadget 2 example training: squared_loss_matrix_fn\n",
            "================================================================================\n",
            "0 [0.0610760644918242/s]: {'loss': 14.064082145690918}\n",
            "1 [27.096037314107782/s]: {'loss': 13.813591957092285}\n",
            "2 [26.942002453767046/s]: {'loss': 13.833362579345703}\n",
            "4 [38.255060857985875/s]: {'loss': 13.818146705627441}\n",
            "8 [48.211914744431574/s]: {'loss': 13.65810775756836}\n",
            "16 [54.067031040528/s]: {'loss': 14.097822189331055}\n",
            "32 [58.902714521068326/s]: {'loss': 13.91343879699707}\n",
            "64 [59.846011848123574/s]: {'loss': 13.534945487976074}\n",
            "128 [62.714754711162406/s]: {'loss': 12.761678695678711}\n",
            "256 [64.02110986589062/s]: {'loss': 10.482722282409668}\n",
            "512 [64.72457645994288/s]: {'loss': 9.658382415771484}\n",
            "1000 [65.03163833364088/s]: {'loss': 8.652952194213867}\n",
            "1024 [61.739540777367736/s]: {'loss': 8.443416595458984}\n",
            "2000 [65.2453540083098/s]: {'loss': 7.784237861633301}\n",
            "\n"
          ]
        }
      ]
    },
    {
      "cell_type": "code",
      "metadata": {
        "id": "cjUYS_-opZF3"
      },
      "source": [
        "gadget_1_maximal_theta = results[0].params\n",
        "gadget_1_maximal = experiments[0].model.bind(gadget_1_maximal_theta)\n",
        "\n",
        "gadget_2_maximal_theta = results[1].params\n",
        "gadget_2_maximal = experiments[1].model.bind(gadget_2_maximal_theta)\n",
        "\n",
        "gadget_1_variance_theta = results[2].params\n",
        "gadget_1_variance = experiments[2].model.bind(gadget_1_variance_theta)\n",
        "\n",
        "gadget_2_variance_theta = results[3].params\n",
        "gadget_2_variance = experiments[3].model.bind(gadget_2_variance_theta)"
      ],
      "execution_count": 31,
      "outputs": []
    },
    {
      "cell_type": "code",
      "metadata": {
        "colab": {
          "base_uri": "https://localhost:8080/",
          "height": 369
        },
        "id": "ClztjoGhp85y",
        "outputId": "17264a7e-8816-4c36-9d70-ce5debeb78e8"
      },
      "source": [
        "g1_maximal_pq = coupling_util.joint_from_samples(\n",
        "    coupling_util.sampler_from_common_random_numbers(gadget_1_maximal.sample, second_kwargs={\"transpose\": True}),\n",
        "    logits_1=p_logits,\n",
        "    logits_2=q_logits,\n",
        "    rng=jax.random.PRNGKey(42),\n",
        "    num_samples=100_000)\n",
        "g2_maximal_pq = coupling_util.joint_from_samples(\n",
        "    coupling_util.sampler_from_common_random_numbers(gadget_2_maximal.sample),\n",
        "    logits_1=p_logits,\n",
        "    logits_2=q_logits,\n",
        "    rng=jax.random.PRNGKey(42),\n",
        "    num_samples=100_000)\n",
        "\n",
        "_, axs = plt.subplots(ncols=2, figsize=(12,6))\n",
        "axs[0].imshow(g1_maximal_pq, vmin=0)\n",
        "axs[1].imshow(g2_maximal_pq, vmin=0)"
      ],
      "execution_count": 32,
      "outputs": [
        {
          "output_type": "execute_result",
          "data": {
            "text/plain": [
              "<matplotlib.image.AxesImage at 0x7f5b854b8450>"
            ]
          },
          "metadata": {},
          "execution_count": 32
        },
        {
          "output_type": "display_data",
          "data": {
            "image/png": "[encoded data removed]",
            "text/plain": [
              "<Figure size 864x432 with 2 Axes>"
            ]
          },
          "metadata": {
            "needs_background": "light"
          }
        }
      ]
    },
    {
      "cell_type": "markdown",
      "metadata": {
        "id": "NOMiAsG6qOLa"
      },
      "source": [
        "We see that, after optimizing them to be closer to a maximal coupling, both gadgets have adapted to put more probability mass on the diagonal than they did at initialization time."
      ]
    },
    {
      "cell_type": "code",
      "metadata": {
        "colab": {
          "base_uri": "https://localhost:8080/",
          "height": 369
        },
        "id": "xW9NPHMtqFrV",
        "outputId": "32817098-af81-4586-9dfc-dfac4dc6d52d"
      },
      "source": [
        "g1_variance_pq = coupling_util.joint_from_samples(\n",
        "    coupling_util.sampler_from_common_random_numbers(gadget_1_variance.sample, second_kwargs={\"transpose\": True}),\n",
        "    logits_1=p_logits,\n",
        "    logits_2=q_logits,\n",
        "    rng=jax.random.PRNGKey(42),\n",
        "    num_samples=100_000)\n",
        "g2_variance_pq = coupling_util.joint_from_samples(\n",
        "    coupling_util.sampler_from_common_random_numbers(gadget_2_variance.sample),\n",
        "    logits_1=p_logits,\n",
        "    logits_2=q_logits,\n",
        "    rng=jax.random.PRNGKey(42),\n",
        "    num_samples=100_000)\n",
        "\n",
        "_, axs = plt.subplots(ncols=2, figsize=(12,6))\n",
        "axs[0].imshow(g1_variance_pq, vmin=0)\n",
        "axs[1].imshow(g2_variance_pq, vmin=0)"
      ],
      "execution_count": 33,
      "outputs": [
        {
          "output_type": "execute_result",
          "data": {
            "text/plain": [
              "<matplotlib.image.AxesImage at 0x7f5b8611ae10>"
            ]
          },
          "metadata": {},
          "execution_count": 33
        },
        {
          "output_type": "display_data",
          "data": {
            "image/png": "[encoded data removed]",
            "text/plain": [
              "<Figure size 864x432 with 2 Axes>"
            ]
          },
          "metadata": {
            "needs_background": "light"
          }
        }
      ]
    },
    {
      "cell_type": "markdown",
      "metadata": {
        "id": "RALZewqusJmu"
      },
      "source": [
        "If they are trained to reduce variance, Gadget 2 learns a coupling that shares some similarity with the inverse CDF coupling, whereas Gadget 1 again pulls a large amount of mass onto the diagonal.\n",
        "\n"
      ]
    },
    {
      "cell_type": "markdown",
      "metadata": {
        "pycharm": {
          "name": "#%% md\n"
        },
        "id": "EUdsSGtmcM9Y"
      },
      "source": [
        "##  MDP counterfactual treatment effect\n",
        "In this part we show how to use an MDP as interventional distribution in order to couple between transitions under a behavior policy (e.g. physician) and target policy (e.g. RL policy)\n",
        "\n",
        "Following Oberst and Sontag (2019), we consider a sepsis management simulator and take the following steps:\n",
        "1. Learn an MDP by interacting with the simulator. This MDP represents the \"true\" behavior of sepsis management.\n",
        "2. Train a behavior policy (physician) over the MDP.\n",
        "3. Generate patients trajectories (data) using the behavior policy, and construct an estimated MDP based on the sampled data.\n",
        "4. Learn RL policy over the estimated MDP.\n",
        "\n",
        "The MDP produces the probability $pr(s'| s, a)$ and gives us two interventional distributions depending on whether we choose $a$ according to the physician policy or the RL policy. In counterfactual setting, we sample the counterfactual $s'_{cf}$ conditioned on the observed $s'_{obs}$ (from step 3).\n",
        "\n"
      ]
    },
    {
      "cell_type": "code",
      "metadata": {
        "id": "fRvmG3zdD296"
      },
      "source": [
        ""
      ],
      "execution_count": 33,
      "outputs": []
    },
    {
      "cell_type": "code",
      "metadata": {
        "pycharm": {
          "name": "#%%\n"
        },
        "colab": {
          "base_uri": "https://localhost:8080/"
        },
        "id": "_WhUgr7AcM9e",
        "outputId": "069a47bb-097a-4f65-ada9-b500a0a06b7a"
      },
      "source": [
        "%cd ..\n",
        "!git clone https://github.com/GuyLor/gumbel_max_causal_gadgets_part2.git"
      ],
      "execution_count": 34,
      "outputs": [
        {
          "output_type": "stream",
          "name": "stdout",
          "text": [
            "/content\n",
            "Cloning into 'gumbel_max_causal_gadgets_part2'...\n",
            "remote: Enumerating objects: 90, done.\u001b[K\n",
            "remote: Counting objects: 100% (90/90), done.\u001b[K\n",
            "remote: Compressing objects: 100% (73/73), done.\u001b[K\n",
            "remote: Total 90 (delta 8), reused 90 (delta 8), pack-reused 0\u001b[K\n",
            "Unpacking objects: 100% (90/90), done.\n"
          ]
        }
      ]
    },
    {
      "cell_type": "code",
      "metadata": {
        "id": "gytXIQGh2zvv"
      },
      "source": [
        "\n",
        "import os\n",
        "os.chdir(\"gumbel_max_causal_gadgets_part2\")"
      ],
      "execution_count": 35,
      "outputs": []
    },
    {
      "cell_type": "code",
      "metadata": {
        "colab": {
          "base_uri": "https://localhost:8080/"
        },
        "id": "EFkBi1ILcln1",
        "outputId": "e8d6d32c-a5a9-434d-a75f-365d13c1bef9"
      },
      "source": [
        "\n",
        "!pip install -r requirements.txt\n"
      ],
      "execution_count": 36,
      "outputs": [
        {
          "output_type": "stream",
          "name": "stdout",
          "text": [
            "Requirement already satisfied: torch in /usr/local/lib/python3.7/dist-packages (from -r requirements.txt (line 1)) (1.10.0+cu111)\n",
            "Requirement already satisfied: pandas in /usr/local/lib/python3.7/dist-packages (from -r requirements.txt (line 2)) (1.1.5)\n",
            "Requirement already satisfied: seaborn in /usr/local/lib/python3.7/dist-packages (from -r requirements.txt (line 3)) (0.11.2)\n",
            "Requirement already satisfied: tqdm in /usr/local/lib/python3.7/dist-packages (from -r requirements.txt (line 4)) (4.62.3)\n",
            "Collecting pymdptoolbox\n",
            "  Downloading pymdptoolbox-4.0-b3.zip (29 kB)\n",
            "Requirement already satisfied: jax[cuda11_cudnn82] in /usr/local/lib/python3.7/dist-packages (from -r requirements.txt (line 6)) (0.2.21)\n",
            "Requirement already satisfied: flax in /usr/local/lib/python3.7/dist-packages (from -r requirements.txt (line 7)) (0.3.6)\n",
            "Requirement already satisfied: numpy in /usr/local/lib/python3.7/dist-packages (from -r requirements.txt (line 8)) (1.19.5)\n",
            "Requirement already satisfied: optax in /usr/local/lib/python3.7/dist-packages (from -r requirements.txt (line 9)) (0.0.9)\n",
            "Requirement already satisfied: typing-extensions in /usr/local/lib/python3.7/dist-packages (from torch->-r requirements.txt (line 1)) (3.10.0.2)\n",
            "Requirement already satisfied: pytz>=2017.2 in /usr/local/lib/python3.7/dist-packages (from pandas->-r requirements.txt (line 2)) (2018.9)\n",
            "Requirement already satisfied: python-dateutil>=2.7.3 in /usr/local/lib/python3.7/dist-packages (from pandas->-r requirements.txt (line 2)) (2.8.2)\n",
            "Requirement already satisfied: six>=1.5 in /usr/local/lib/python3.7/dist-packages (from python-dateutil>=2.7.3->pandas->-r requirements.txt (line 2)) (1.15.0)\n",
            "Requirement already satisfied: matplotlib>=2.2 in /usr/local/lib/python3.7/dist-packages (from seaborn->-r requirements.txt (line 3)) (3.2.2)\n",
            "Requirement already satisfied: scipy>=1.0 in /usr/local/lib/python3.7/dist-packages (from seaborn->-r requirements.txt (line 3)) (1.4.1)\n",
            "Requirement already satisfied: kiwisolver>=1.0.1 in /usr/local/lib/python3.7/dist-packages (from matplotlib>=2.2->seaborn->-r requirements.txt (line 3)) (1.3.2)\n",
            "Requirement already satisfied: pyparsing!=2.0.4,!=2.1.2,!=2.1.6,>=2.0.1 in /usr/local/lib/python3.7/dist-packages (from matplotlib>=2.2->seaborn->-r requirements.txt (line 3)) (2.4.7)\n",
            "Requirement already satisfied: cycler>=0.10 in /usr/local/lib/python3.7/dist-packages (from matplotlib>=2.2->seaborn->-r requirements.txt (line 3)) (0.11.0)\n",
            "Requirement already satisfied: msgpack in /usr/local/lib/python3.7/dist-packages (from flax->-r requirements.txt (line 7)) (1.0.2)\n",
            "Requirement already satisfied: opt-einsum in /usr/local/lib/python3.7/dist-packages (from jax[cuda11_cudnn82]->-r requirements.txt (line 6)) (3.3.0)\n",
            "Requirement already satisfied: absl-py in /usr/local/lib/python3.7/dist-packages (from jax[cuda11_cudnn82]->-r requirements.txt (line 6)) (0.12.0)\n",
            "Requirement already satisfied: chex>=0.0.4 in /usr/local/lib/python3.7/dist-packages (from optax->-r requirements.txt (line 9)) (0.0.8)\n",
            "Requirement already satisfied: jaxlib>=0.1.37 in /usr/local/lib/python3.7/dist-packages (from optax->-r requirements.txt (line 9)) (0.1.71+cuda111)\n",
            "Requirement already satisfied: toolz>=0.9.0 in /usr/local/lib/python3.7/dist-packages (from chex>=0.0.4->optax->-r requirements.txt (line 9)) (0.11.2)\n",
            "Requirement already satisfied: dm-tree>=0.1.5 in /usr/local/lib/python3.7/dist-packages (from chex>=0.0.4->optax->-r requirements.txt (line 9)) (0.1.6)\n",
            "Requirement already satisfied: flatbuffers<3.0,>=1.12 in /usr/local/lib/python3.7/dist-packages (from jaxlib>=0.1.37->optax->-r requirements.txt (line 9)) (2.0)\n",
            "\u001b[33mWARNING: jax 0.2.21 does not provide the extra 'cuda11_cudnn82'\u001b[0m\n",
            "Building wheels for collected packages: pymdptoolbox\n",
            "  Building wheel for pymdptoolbox (setup.py) ... \u001b[?25l\u001b[?25hdone\n",
            "  Created wheel for pymdptoolbox: filename=pymdptoolbox-4.0b3-py3-none-any.whl size=25656 sha256=41f498d80804a1ecde2421004d5f62369a4ea2f2f5497844a77fcaa0e00d3b54\n",
            "  Stored in directory: /root/.cache/pip/wheels/09/a8/27/a76d688633fa5d71984c288499c2170a8d06726135b8e216fd\n",
            "Successfully built pymdptoolbox\n",
            "Installing collected packages: pymdptoolbox\n",
            "Successfully installed pymdptoolbox-4.0b3\n"
          ]
        }
      ]
    },
    {
      "cell_type": "code",
      "metadata": {
        "id": "aEAl8dnVcM9f"
      },
      "source": [
        "from sepsis_mdp import SepsisMDP\n",
        "import numpy as np\n",
        "import cf.utils as utils\n",
        "from joint_predictor import Coupler\n",
        "from cf import fixed_mechanisms as fm"
      ],
      "execution_count": 37,
      "outputs": []
    },
    {
      "cell_type": "markdown",
      "metadata": {
        "id": "2sW1IKEnu6Yy"
      },
      "source": [
        "### Observations and interventional distributions"
      ]
    },
    {
      "cell_type": "code",
      "metadata": {
        "pycharm": {
          "name": "#%%\n"
        },
        "id": "TcxS1rV_cM9g"
      },
      "source": [
        "# Setup of the sepsis simulator:\n",
        "sep = SepsisMDP()\n",
        "\n",
        "# Load an MDP that was trained over the simulator's states and actions - the 'true' transition distributions of sepsis management\n",
        "true_mdp = sep.load_mdp_from_simulator()\n",
        "\n",
        "# Train a behavior policy over the true MDP using policy iteration algorithm\n",
        "physician_policy = sep.get_physician_policy(true_mdp)\n",
        "\n",
        "# Sample trajectories of patients by interacting with the MDP using the physician policy\n",
        "# Using these trajectories, construct an estimated MDP\n",
        "obs_samples, est_mdp = sep.simulate_patient_trajectories_and_construct_mdp(physician_policy,\n",
        "                                                                           num_steps=20,\n",
        "                                                                           num_samples=20000) \n",
        "\n",
        "# Train a policy over the estimated MDP\n",
        "cf_policy = sep.train_rl_policy(est_mdp)"
      ],
      "execution_count": 38,
      "outputs": []
    },
    {
      "cell_type": "markdown",
      "metadata": {
        "id": "-GIDRz42cM9h"
      },
      "source": [
        "Unlike Oberst and Sontag, we couple between single time steps and therefore, we consider rewards per state (instead of [0,1] rewards at trajectory completion).\n",
        "The state is composed of 6 categorical variables, each with a different number of categories.\n",
        "We sample a Gaussian noise for each category representing its energy.\n",
        "The reward of a given state is obtained by summing the energies associated with its variables."
      ]
    },
    {
      "cell_type": "code",
      "metadata": {
        "pycharm": {
          "name": "#%%\n"
        },
        "id": "x0UcIjb7cM9h"
      },
      "source": [
        "relevant_trajs_and_t = sep.search_for_relevant_tr_t(obs_samples, cf_policy, est_mdp,\n",
        "                                                    num_of_diff_p_q=sep.n_proj_states, num_gt_zero_probs=4)\n",
        "\n",
        "trajectory_idx, time_idx = relevant_trajs_and_t[0]\n",
        "\n",
        "current_state, obs_action, obs_next_state = sep.parse_samples(obs_samples, trajectory_idx, time_idx)\n",
        "cf_action = cf_policy[current_state, :].squeeze().argmax()\n",
        "\n",
        "# get p and q from the MDP\n",
        "behavior_interv_probs = est_mdp.tx_mat[0, obs_action, current_state, :].squeeze().tolist()\n",
        "target_interv_probs = est_mdp.tx_mat[0, cf_action, current_state, :].squeeze().tolist()\n"
      ],
      "execution_count": 39,
      "outputs": []
    },
    {
      "cell_type": "markdown",
      "metadata": {
        "id": "N12Rzsi5cM9i"
      },
      "source": [
        "This function calculates the variance of the treatment effect and compares between couplings with fixed mechanisms inverse-CDF and Gumbel-max to our two learnable mechanisms"
      ]
    },
    {
      "cell_type": "code",
      "metadata": {
        "pycharm": {
          "name": "#%%\n"
        },
        "id": "hPWpjl-_cM9j"
      },
      "source": [
        "\n",
        "def run_comparison(behavior_interv_probs, target_interv_probs, s_prime_obs=None, n=10, seed=0):\n",
        "    # testing\n",
        "    logits_p = np.log(np.array(behavior_interv_probs) + 1e-10).clip(min=-80.0)\n",
        "    logits_q = np.log(np.array(target_interv_probs) + 1e-10).clip(min=-80.0)\n",
        "    batch_size_test = 2000\n",
        "    batch_logits_p = np.tile(logits_p, (batch_size_test, 1)) + noise_scale * np.random.randn(batch_size_test,\n",
        "                                                                                             logits_p.shape[-1])\n",
        "    batch_logits_q = np.tile(logits_q, (batch_size_test, 1)) + noise_scale * np.random.randn(batch_size_test,\n",
        "                                                                                             logits_q.shape[-1])\n",
        "\n",
        "    batch_s_prime_obs = np.tile(s_prime_obs, (batch_size_test, 1)) if counterfactual else None\n",
        "    vars_gm, vars_icdf, vars_gd1, vars_gd2 = [], [], [], []\n",
        "    for i in range(n):\n",
        "        (s_prime_p, s_prime_q), _ = c.gadget_1.sample_from_joint(batch_logits_p, batch_logits_q, batch_s_prime_obs,\n",
        "                                                                 counterfactual=counterfactual, train=False)\n",
        "        vars_gd1.append(utils.compute_variance_treatment_effect(reward_vector, s_prime_p, s_prime_q, batch_s_prime_obs))\n",
        "\n",
        "\n",
        "        (s_prime_p, s_prime_q), _ = c.gadget_2.sample_from_joint(batch_logits_p, batch_logits_q, batch_s_prime_obs,\n",
        "                                                                 counterfactual=counterfactual, train=False)\n",
        "        vars_gd2.append(utils.compute_variance_treatment_effect(reward_vector, s_prime_p, s_prime_q, batch_s_prime_obs))\n",
        "\n",
        "\n",
        "        s_prime_p, s_prime_q = fm.gumbel_max_coupling(batch_logits_p, batch_logits_q, batch_s_prime_obs, counterfactual=counterfactual)\n",
        "        vars_gm.append(utils.compute_variance_treatment_effect(reward_vector, s_prime_p, s_prime_q, batch_s_prime_obs))\n",
        "\n",
        "        s_prime_p, s_prime_q = fm.inverse_cdf_coupling(batch_logits_p, batch_logits_q, batch_s_prime_obs, counterfactual=counterfactual)\n",
        "        vars_icdf.append(utils.compute_variance_treatment_effect(reward_vector, s_prime_p, s_prime_q, batch_s_prime_obs))\n",
        "\n",
        "    return np.mean(vars_gm), np.mean(vars_icdf), np.mean(vars_gd1), np.mean(vars_gd2)\n"
      ],
      "execution_count": 40,
      "outputs": []
    },
    {
      "cell_type": "markdown",
      "metadata": {
        "id": "JD-byR92cM9k"
      },
      "source": [
        "### Training the gadgets\n",
        "Train the gadgets with specific realization of rewards:"
      ]
    },
    {
      "cell_type": "code",
      "metadata": {
        "id": "y_uxndcI-Omc"
      },
      "source": [
        ""
      ],
      "execution_count": 40,
      "outputs": []
    },
    {
      "cell_type": "code",
      "metadata": {
        "pycharm": {
          "name": "#%%\n"
        },
        "scrolled": false,
        "colab": {
          "base_uri": "https://localhost:8080/"
        },
        "id": "DuqAJz4fcM9k",
        "outputId": "e4b53e91-99be-4441-a556-6ec2a1b932d1"
      },
      "source": [
        "\n",
        "noise_scale = 1.0\n",
        "counterfactual = True\n",
        "vars_gm, vars_icdf, vars_gd1, vars_gd2 = [],[],[],[]\n",
        "for t in range(5):\n",
        "    print('='*80)\n",
        "    print(f'Trial {t}: sample new rewards')\n",
        "\n",
        "    c = Coupler(s_dim=sep.n_proj_states, z_dim=20, hidden_features=[1024, 1024], tmp=1.0, seed=t)\n",
        "    reward_vector = sep.randomize_states_rewards()\n",
        "\n",
        "    print('---- Train gadget-1 -----')\n",
        "    c.train_gadget_1(p=behavior_interv_probs, q=target_interv_probs, s_prime_obs=obs_next_state, reward_vector=reward_vector,\n",
        "                     batch_size=64, counterfactual=counterfactual, num_iter=200, noise_scale=noise_scale)\n",
        "    print('---- Train gadget-2 -----')\n",
        "    c.train_gadget_2(p=behavior_interv_probs, q=target_interv_probs, s_prime_obs=obs_next_state, reward_vector=reward_vector,\n",
        "                     batch_size=64, counterfactual=counterfactual, num_iter=200, noise_scale=noise_scale)\n",
        "\n",
        "    gm, icdf, gd1, gd2 = run_comparison(behavior_interv_probs, target_interv_probs, obs_next_state, n=10)\n",
        "    print(f'Gumbel-max: {gm}, inverse-CDF: {icdf}, gadget-1: {gd1}, gadget-2: {gd2}')\n",
        "    vars_gm.append(gm); vars_icdf.append(icdf); vars_gd1.append(gd1); vars_gd2.append(gd2)\n",
        "\n",
        "print('Average over 5 rewards realizations (same p, q)')\n",
        "print(f'Gumbel-max: {np.mean(vars_gm)}, inverse-CDF: {np.mean(vars_icdf)}, gadget-1: { np.mean(vars_gd1)}, gadget-2: {np.mean(vars_gd2)}')\n"
      ],
      "execution_count": 41,
      "outputs": [
        {
          "output_type": "stream",
          "name": "stdout",
          "text": [
            "================================================================================\n",
            "Trial 0: sample new rewards\n",
            "---- Train gadget-1 -----\n",
            "0: {'loss': 6.815032958984375}\n",
            "1: {'loss': 6.83551025390625}\n",
            "2: {'loss': 6.994156837463379}\n",
            "4: {'loss': 6.778452396392822}\n",
            "8: {'loss': 6.953495502471924}\n",
            "16: {'loss': 6.9138689041137695}\n",
            "32: {'loss': 6.835074424743652}\n",
            "64: {'loss': 6.287680149078369}\n",
            "128: {'loss': 5.896256446838379}\n",
            "200: {'loss': 5.839803218841553}\n",
            "---- Train gadget-2 -----\n",
            "0: {'loss': 2.373525381088257}\n",
            "1: {'loss': 2.2369132041931152}\n",
            "2: {'loss': 2.1144003868103027}\n",
            "4: {'loss': 1.7802098989486694}\n",
            "8: {'loss': 1.1901711225509644}\n",
            "16: {'loss': 0.7079426050186157}\n",
            "32: {'loss': 0.5204874277114868}\n",
            "64: {'loss': 0.46064454317092896}\n",
            "128: {'loss': 0.43597525358200073}\n",
            "200: {'loss': 0.4254891574382782}\n",
            "Gumbel-max: 1.6229719088618957, inverse-CDF: 7.687002460750731, gadget-1: 0.9543093113932342, gadget-2: 0.021393688133929636\n",
            "================================================================================\n",
            "Trial 1: sample new rewards\n",
            "---- Train gadget-1 -----\n",
            "0: {'loss': 0.6267673969268799}\n",
            "1: {'loss': 0.6025773286819458}\n",
            "2: {'loss': 0.6116480827331543}\n",
            "4: {'loss': 0.6427431106567383}\n",
            "8: {'loss': 0.6093651056289673}\n",
            "16: {'loss': 0.6066969633102417}\n",
            "32: {'loss': 0.6027437448501587}\n",
            "64: {'loss': 0.5549300909042358}\n",
            "128: {'loss': 0.5022635459899902}\n",
            "200: {'loss': 0.4973168969154358}\n",
            "---- Train gadget-2 -----\n",
            "0: {'loss': 0.7107163071632385}\n",
            "1: {'loss': 0.7120217084884644}\n",
            "2: {'loss': 0.6897112131118774}\n",
            "4: {'loss': 0.6421249508857727}\n",
            "8: {'loss': 0.5438899993896484}\n",
            "16: {'loss': 0.37780094146728516}\n",
            "32: {'loss': 0.28407013416290283}\n",
            "64: {'loss': 0.2638854384422302}\n",
            "128: {'loss': 0.2557735741138458}\n",
            "200: {'loss': 0.2534683644771576}\n",
            "Gumbel-max: 0.06929503907013328, inverse-CDF: 0.5930441721526314, gadget-1: 0.03338696036648546, gadget-2: 0.04212520560329554\n",
            "================================================================================\n",
            "Trial 2: sample new rewards\n",
            "---- Train gadget-1 -----\n",
            "0: {'loss': 2.5762240886688232}\n",
            "1: {'loss': 2.5481934547424316}\n",
            "2: {'loss': 2.5147852897644043}\n",
            "4: {'loss': 2.5088233947753906}\n",
            "8: {'loss': 2.5528452396392822}\n",
            "16: {'loss': 2.555717945098877}\n",
            "32: {'loss': 2.5118608474731445}\n",
            "64: {'loss': 2.3755581378936768}\n",
            "128: {'loss': 2.1253859996795654}\n",
            "200: {'loss': 2.1082639694213867}\n",
            "---- Train gadget-2 -----\n",
            "0: {'loss': 2.395547389984131}\n",
            "1: {'loss': 2.339913845062256}\n",
            "2: {'loss': 2.297952651977539}\n",
            "4: {'loss': 2.0331649780273438}\n",
            "8: {'loss': 1.4600975513458252}\n",
            "16: {'loss': 0.9771777391433716}\n",
            "32: {'loss': 0.7859787940979004}\n",
            "64: {'loss': 0.7007331848144531}\n",
            "128: {'loss': 0.6741129159927368}\n",
            "200: {'loss': 0.6681551337242126}\n",
            "Gumbel-max: 0.773329142398105, inverse-CDF: 2.8497924077361865, gadget-1: 0.6092196966477113, gadget-2: 0.4091588129126439\n",
            "================================================================================\n",
            "Trial 3: sample new rewards\n",
            "---- Train gadget-1 -----\n",
            "0: {'loss': 5.906597137451172}\n",
            "1: {'loss': 5.993771553039551}\n",
            "2: {'loss': 5.758336067199707}\n",
            "4: {'loss': 6.171683311462402}\n",
            "8: {'loss': 6.061111927032471}\n",
            "16: {'loss': 5.954693794250488}\n",
            "32: {'loss': 5.937180519104004}\n",
            "64: {'loss': 5.258135795593262}\n",
            "128: {'loss': 4.856616497039795}\n",
            "200: {'loss': 4.751044273376465}\n",
            "---- Train gadget-2 -----\n",
            "0: {'loss': 3.8443615436553955}\n",
            "1: {'loss': 3.7762885093688965}\n",
            "2: {'loss': 3.3654990196228027}\n",
            "4: {'loss': 2.8285388946533203}\n",
            "8: {'loss': 1.7072570323944092}\n",
            "16: {'loss': 0.8873077034950256}\n",
            "32: {'loss': 0.5000956058502197}\n",
            "64: {'loss': 0.3169873356819153}\n",
            "128: {'loss': 0.2776269316673279}\n",
            "200: {'loss': 0.266557514667511}\n",
            "Gumbel-max: 2.7203931347806107, inverse-CDF: 7.884715517252104, gadget-1: 1.7166531677920365, gadget-2: 0.22186028940070318\n",
            "================================================================================\n",
            "Trial 4: sample new rewards\n",
            "---- Train gadget-1 -----\n",
            "0: {'loss': 2.807694911956787}\n",
            "1: {'loss': 2.7649433612823486}\n",
            "2: {'loss': 2.8492047786712646}\n",
            "4: {'loss': 2.847357749938965}\n",
            "8: {'loss': 2.843879222869873}\n",
            "16: {'loss': 2.8169002532958984}\n",
            "32: {'loss': 2.796600580215454}\n",
            "64: {'loss': 2.5771541595458984}\n",
            "128: {'loss': 2.3061718940734863}\n",
            "200: {'loss': 2.266900062561035}\n",
            "---- Train gadget-2 -----\n",
            "0: {'loss': 2.410926342010498}\n",
            "1: {'loss': 2.2446250915527344}\n",
            "2: {'loss': 2.092498540878296}\n",
            "4: {'loss': 1.7587807178497314}\n",
            "8: {'loss': 1.1251004934310913}\n",
            "16: {'loss': 0.63548743724823}\n",
            "32: {'loss': 0.30186885595321655}\n",
            "64: {'loss': 0.20435461401939392}\n",
            "128: {'loss': 0.1735151708126068}\n",
            "200: {'loss': 0.16532368957996368}\n",
            "Gumbel-max: 0.8051984927699867, inverse-CDF: 3.6378718192340016, gadget-1: 0.484763760787723, gadget-2: 0.09996214648674212\n",
            "Average over 5 rewards realizations (same p, q)\n",
            "Gumbel-max: 1.1982375435761463, inverse-CDF: 4.53048527542513, gadget-1: 0.759666579397438, gadget-2: 0.15890002850746288\n"
          ]
        }
      ]
    },
    {
      "cell_type": "markdown",
      "metadata": {
        "id": "EhS8-MK1vqjK"
      },
      "source": [
        "### Comparison to fixed causal mechanisms (inverse-CDF, Gumbel-max)"
      ]
    },
    {
      "cell_type": "code",
      "metadata": {
        "colab": {
          "base_uri": "https://localhost:8080/",
          "height": 345
        },
        "id": "CZ4OYN7VcM9m",
        "outputId": "b4a55519-4bb7-48b7-de95-c9033a71dc98"
      },
      "source": [
        "utils.plot_mdp_variances(vars_gm, vars_icdf, vars_gd1, vars_gd2, cf=counterfactual,\n",
        "                         generalized=noise_scale > 0)"
      ],
      "execution_count": 42,
      "outputs": [
        {
          "output_type": "display_data",
          "data": {
            "image/png": "[encoded data removed]",
            "text/plain": [
              "<Figure size 554.4x360 with 1 Axes>"
            ]
          },
          "metadata": {
            "needs_background": "light"
          }
        }
      ]
    },
    {
      "cell_type": "code",
      "metadata": {
        "id": "0glyX4jcEiVt"
      },
      "source": [
        ""
      ],
      "execution_count": 42,
      "outputs": []
    }
  ]
}