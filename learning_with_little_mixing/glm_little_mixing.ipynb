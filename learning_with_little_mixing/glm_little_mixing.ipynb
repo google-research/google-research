{
 "cells": [
  {
   "cell_type": "markdown",
   "metadata": {},
   "source": [
    "### Copyright 2022 Google LLC.\n",
    "\n",
    "Licensed under the Apache License, Version 2.0 (the \"License\");"
   ]
  },
  {
   "cell_type": "code",
   "execution_count": 1,
   "metadata": {},
   "outputs": [],
   "source": [
    "# Licensed under the Apache License, Version 2.0 (the \"License\");\n",
    "# you may not use this file except in compliance with the License.\n",
    "# You may obtain a copy of the License at\n",
    "#\n",
    "# https://www.apache.org/licenses/LICENSE-2.0\n",
    "#\n",
    "# Unless required by applicable law or agreed to in writing, software\n",
    "# distributed under the License is distributed on an \"AS IS\" BASIS,\n",
    "# WITHOUT WARRANTIES OR CONDITIONS OF ANY KIND, either express or implied.\n",
    "# See the License for the specific language governing permissions and\n",
    "# limitations under the License."
   ]
  },
  {
   "cell_type": "markdown",
   "metadata": {
    "id": "FP-G8kbSskqk"
   },
   "source": [
    "### Learning with little mixing\n",
    "\n",
    "This colab notebook accompanies the following paper:\n",
    "\n",
    "    Learning with little mixing.\n",
    "    Ingvar Ziemann and Stephen Tu.\n",
    "    NeurIPS 2022.\n",
    "    https://arxiv.org/abs/2206.08269\n",
    "\n",
    "\n",
    "This notebook reproduces the experiments described in the \"Numerical experiments\" section. Specifically, we look at the $L^2$ excess risk of learning\n",
    "from the following generalized linear model (GLM) trajectory process:\n",
    "$$\n",
    "  X_{t+1} = \\sigma(A^\\star X_t) + W_t.\n",
    "$$\n",
    "We choose $A^\\star$ to have operator (spectral) norm strictly less than one so \n",
    "that the covariate process $\\{X_t\\}$ is ergodic. The labels $Y_t$ are given by\n",
    "$Y_{t} = X_{t-1}$, which indicates we are performing system identification\n",
    "to recover the unknown dynamics matrix $A^\\star$.\n",
    "The link function $\\sigma(\\cdot)$ is the LeakyReLU, and is applied elementwise.\n",
    "\n",
    "Given the covariates/labels $\\{(X_t, Y_t)\\}_{t=1}^{T}$, we consider the\n",
    "empirical risk minimizer:\n",
    "$$\n",
    "  \\hat{A} \\in \\operatorname{argmin}_{A}\\left\\{ \\frac{1}{T}\\sum_{t=1}^{T} \\| \\sigma(A X_t) - Y_t \\|^2 \\right\\}. \n",
    "$$\n",
    "The $L^2$ excess risk of an estimate $A$ is:\n",
    "$$\n",
    "  L(A) = \\frac{1}{T}\\mathbb{E}\\sum_{t=1}^{T} \\| \\sigma(A X_t) - \\sigma(A^\\star X_t) \\|^2,\n",
    "$$\n",
    "We will compare the ERM's excess risk with the ERM on an \n",
    "**independent baseline** dataset $\\{(\\bar{X}_t, \\bar{Y}_t)\\}_{t=1}^{T}$, where each $\\bar{X}_t$ has\n",
    "the same distribution as the original $X_t$, but $\\bar{X}_t$ is independent\n",
    "from $\\bar{X}_{t'}$ for $t \\neq t'$. A descriptive generative model for this\n",
    "baseline is to sample $T$ independent copies of the process $\\{X_t^{(i)}\\}_{t=1}^{T}$ for $i \\in [T]$,\n",
    "and set $\\bar{X}_t = X_t^{(t)}$. The conditional distribution $\\bar{Y}_t \\mid \\bar{X}_t$ remains the same.\n"
   ]
  },
  {
   "cell_type": "code",
   "execution_count": null,
   "metadata": {
    "id": "0y-dkJqismdr"
   },
   "outputs": [],
   "source": [
    "from typing import Any, Callable, Sequence, Tuple\n",
    "\n",
    "import enum\n",
    "import dataclasses\n",
    "import functools\n",
    "\n",
    "import numpy as np\n",
    "import scipy as sp\n",
    "import jax.numpy as jnp\n",
    "import jax.scipy as jsp\n",
    "import jax\n",
    "\n",
    "import haiku as hk\n",
    "\n",
    "import itertools as it\n",
    "import time\n",
    "\n",
    "import matplotlib.pylab as plt\n",
    "import seaborn as sns\n",
    "\n",
    "from jax import config as jax_config\n",
    "jax_config.update('jax_enable_x64', True)\n",
    "\n",
    "from tqdm import tqdm"
   ]
  },
  {
   "cell_type": "code",
   "execution_count": null,
   "metadata": {
    "id": "0Vq4IHpZZsZ9"
   },
   "outputs": [],
   "source": [
    "PyTree = Any\n",
    "# x_{t+1} = f(x_t)\n",
    "DynamicsFunction = Callable[[jnp.ndarray], jnp.ndarray]"
   ]
  },
  {
   "cell_type": "code",
   "execution_count": null,
   "metadata": {
    "id": "chnzx1dyaUgx"
   },
   "outputs": [],
   "source": [
    "def rollout(dynamics: DynamicsFunction,\n",
    "            x0: jnp.ndarray,\n",
    "            noises: jnp.ndarray) -> jnp.ndarray:\n",
    "  def scan_fn(x, w):\n",
    "    next_x = dynamics(x) + w\n",
    "    return next_x, next_x\n",
    "  _, xs = jax.lax.scan(scan_fn, x0, noises)\n",
    "  return xs\n",
    "\n",
    "\n",
    "@functools.partial(jax.jit, static_argnums=(0, 2, 5))\n",
    "def random_rollout(dynamics: DynamicsFunction,\n",
    "                   key: jnp.ndarray,\n",
    "                   dim: int,\n",
    "                   init_scale: float,\n",
    "                   noise_scale: float,\n",
    "                   horizon: int) -> jnp.ndarray:\n",
    "  sk1, sk2 = jax.random.split(key)\n",
    "  x0 = init_scale * jax.random.normal(sk1, shape=(dim,))\n",
    "  noises = noise_scale * jax.random.normal(sk2, shape=(horizon, dim))\n",
    "  return rollout(dynamics, x0, noises)\n",
    "\n",
    "\n",
    "@functools.partial(jax.jit, static_argnums=(0, 2, 5))\n",
    "def random_coupled_dataset(dynamics: DynamicsFunction,\n",
    "                           key: jnp.ndarray,\n",
    "                           dim: int,\n",
    "                           init_scale: float,\n",
    "                           noise_scale: float,\n",
    "                           horizon: int) -> Tuple[jnp.ndarray, jnp.ndarray]:\n",
    "  traj = random_rollout(\n",
    "      dynamics, key, dim, init_scale, noise_scale, horizon + 1)\n",
    "  return traj[:-1], traj[1:]\n",
    "\n",
    "\n",
    "@functools.partial(jax.jit, static_argnums=(0, 2, 5))\n",
    "def random_decoupled_dataset(dynamics: DynamicsFunction,\n",
    "                             key: jnp.ndarray,\n",
    "                             dim: int,\n",
    "                             init_scale: float,\n",
    "                             noise_scale: float,\n",
    "                             horizon: int) -> Tuple[jnp.ndarray, jnp.ndarray]:\n",
    "  sks = jax.random.split(key, num=horizon + 1)\n",
    "  all_trajs = jax.vmap(random_rollout, \n",
    "                       in_axes=(None, 0, None, None, None, None))(\n",
    "      dynamics, sks, dim, init_scale, noise_scale, horizon + 1)\n",
    "  xs = all_trajs[jnp.arange(horizon), jnp.arange(horizon)]\n",
    "  ys = all_trajs[jnp.arange(horizon), 1 + jnp.arange(horizon)]\n",
    "  assert xs.shape == ys.shape\n",
    "  return xs, ys\n",
    "\n",
    "\n",
    "def random_dynamics_matrix(key: jnp.ndarray, \n",
    "                           rho: float, \n",
    "                           dim: int) -> jnp.ndarray:\n",
    "  assert dim >= 1\n",
    "  # random orthogonal matrix\n",
    "  sk1, sk2 = jax.random.split(key)\n",
    "  W = jax.random.normal(sk1, shape=(dim, dim))\n",
    "  Q, _ = jnp.linalg.qr(W)\n",
    "  diag = jnp.array([rho] * (dim // 2) + [rho / 3] * (dim - (dim // 2)))\n",
    "  return Q @ jnp.diag(diag) @ Q.T"
   ]
  },
  {
   "cell_type": "code",
   "execution_count": null,
   "metadata": {
    "id": "gUQ-t5L_vp0s"
   },
   "outputs": [],
   "source": [
    "def test_random_datasets():\n",
    "  \"\"\"Some sanity checks.\"\"\"\n",
    "  prng = hk.PRNGSequence(jax.random.PRNGKey(89237))\n",
    "  dim = 5\n",
    "  true_A = random_dynamics_matrix(next(prng), rho=0.99, dim=dim)\n",
    "  activation_fn = functools.partial(jax.nn.leaky_relu, negative_slope=0.5)\n",
    "  def true_dynamics_fn(state: jnp.ndarray) -> jnp.ndarray:\n",
    "    return activation_fn(true_A @ state)\n",
    "\n",
    "  xs, ys = random_coupled_dataset(\n",
    "      true_dynamics_fn,\n",
    "      next(prng),\n",
    "      dim,\n",
    "      init_scale=1.0,\n",
    "      noise_scale=0.0,\n",
    "      horizon=10)\n",
    "  assert jnp.allclose(\n",
    "      jax.vmap(true_dynamics_fn, in_axes=(0,))(xs), ys)\n",
    "  \n",
    "  xs, ys = random_decoupled_dataset(\n",
    "      true_dynamics_fn,\n",
    "      next(prng),\n",
    "      dim,\n",
    "      init_scale=1.0,\n",
    "      noise_scale=0.0,\n",
    "      horizon=10)\n",
    "  assert jnp.allclose(\n",
    "      jax.vmap(true_dynamics_fn, in_axes=(0,))(xs), ys)\n",
    "test_random_datasets()"
   ]
  },
  {
   "cell_type": "code",
   "execution_count": 56,
   "metadata": {
    "executionInfo": {
     "elapsed": 58,
     "status": "ok",
     "timestamp": 1669165272479,
     "user": {
      "displayName": "Stephen Tu",
      "userId": "03538437493275091252"
     },
     "user_tz": 300
    },
    "id": "NOid6ul_cS_0"
   },
   "outputs": [],
   "source": [
    "dim = 25\n",
    "# seed is fixed for reproducibility\n",
    "prng = hk.PRNGSequence(jax.random.PRNGKey(7398328))\n",
    "init_scale = 1.0\n",
    "noise_scale = 0.1\n",
    "activation_fn = functools.partial(jax.nn.leaky_relu, negative_slope=0.5)"
   ]
  },
  {
   "cell_type": "code",
   "execution_count": null,
   "metadata": {
    "id": "HqGB6FkIdRoD"
   },
   "outputs": [],
   "source": [
    "@jax.jit\n",
    "def loss(params: jnp.ndarray, \n",
    "         xs: jnp.ndarray,\n",
    "         ys: jnp.ndarray) -> float:\n",
    "  assert len(xs.shape) == 2\n",
    "  assert xs.shape == ys.shape\n",
    "  return 1/len(xs) * jnp.sum(jnp.square(\n",
    "      ys - jax.vmap(lambda x: activation_fn(params @ x), in_axes=(0,))(xs)))"
   ]
  },
  {
   "cell_type": "code",
   "execution_count": null,
   "metadata": {
    "id": "mbigCZ6JfSM-"
   },
   "outputs": [],
   "source": [
    "@jax.jit\n",
    "def sp_loss(flat_params: jnp.ndarray, \n",
    "            xs: jnp.ndarray,\n",
    "            ys: jnp.ndarray) -> float:\n",
    "  return loss(flat_params.reshape((dim, dim)), xs, ys)\n",
    "\n",
    "_sp_grad_loss = jax.jit(jax.grad(sp_loss, argnums=0))\n",
    "def sp_grad_loss(flat_params: np.ndarray, \n",
    "                 xs: jnp.ndarray,\n",
    "                 ys: jnp.ndarray) -> np.ndarray:\n",
    "  ret = np.array(\n",
    "      jax.device_get(\n",
    "          _sp_grad_loss(flat_params.reshape((dim, dim)), xs, ys)).flatten())\n",
    "  return ret"
   ]
  },
  {
   "cell_type": "code",
   "execution_count": null,
   "metadata": {
    "id": "tF3hb-y9m6Rp"
   },
   "outputs": [],
   "source": [
    "@functools.partial(jax.jit, static_argnums=(3, 4))\n",
    "def excess_risk(true_A: jnp.ndarray, learned_A: jnp.ndarray, key: jnp.ndarray,\n",
    "                horizon: int, num_evals: int) -> float:\n",
    "\n",
    "  def true_dynamics_fn(state):\n",
    "    return activation_fn(true_A @ state)\n",
    "\n",
    "  test_xs = jax.vmap(\n",
    "      lambda sk: random_rollout(\n",
    "          true_dynamics_fn,\n",
    "          sk,\n",
    "          dim,\n",
    "          init_scale=init_scale,\n",
    "          noise_scale=noise_scale,\n",
    "          horizon=horizon),\n",
    "      in_axes=(0,))(\n",
    "          jax.random.split(key, num=num_evals))\n",
    "\n",
    "  def score_one_traj(traj):\n",
    "    return jnp.mean(\n",
    "        jax.vmap(\n",
    "            lambda x: jnp.sum(\n",
    "                jnp.square(\n",
    "                    activation_fn(true_A @ x) - activation_fn(learned_A @ x))),\n",
    "            in_axes=(0,))(traj))\n",
    "\n",
    "  return jnp.mean(jax.vmap(score_one_traj, in_axes=(0,))(test_xs))"
   ]
  },
  {
   "cell_type": "code",
   "execution_count": null,
   "metadata": {
    "id": "QHHbEzuYpBKW"
   },
   "outputs": [],
   "source": [
    "def make_excess_risk_curve(key: jnp.ndarray,\n",
    "                           true_A: jnp.ndarray,\n",
    "                           train_xs: jnp.ndarray,\n",
    "                           train_ys: jnp.ndarray,\n",
    "                           eval_horizons: Sequence[int]) -> jnp.ndarray:\n",
    "  assert train_xs.shape == train_ys.shape\n",
    "  prng = hk.PRNGSequence(key)\n",
    "  excess_risks = []\n",
    "  for eval_horizon in tqdm(eval_horizons):\n",
    "    assert eval_horizon <= len(train_xs)\n",
    "    train_xs_prefix = train_xs[:eval_horizon]\n",
    "    train_ys_prefix = train_ys[:eval_horizon]\n",
    "    res = sp.optimize.minimize(\n",
    "        functools.partial(sp_loss, xs=train_xs_prefix, ys=train_ys_prefix),\n",
    "        np.zeros((dim * dim,)),\n",
    "        method='L-BFGS-B',\n",
    "        jac=functools.partial(\n",
    "            sp_grad_loss, xs=train_xs_prefix, ys=train_ys_prefix))\n",
    "    if not res.success:\n",
    "      print(\"ERROR:\")\n",
    "      print(res)\n",
    "    learned_A = res.x.reshape((dim, dim))\n",
    "    excess_risks.append(\n",
    "        excess_risk(true_A, learned_A, next(prng), \n",
    "                    eval_horizon, num_evals=1000))\n",
    "  return jnp.array(excess_risks)"
   ]
  },
  {
   "cell_type": "code",
   "execution_count": null,
   "metadata": {
    "executionInfo": {
     "elapsed": 456631,
     "status": "ok",
     "timestamp": 1669165735034,
     "user": {
      "displayName": "Stephen Tu",
      "userId": "03538437493275091252"
     },
     "user_tz": 300
    },
    "id": "LrnGqLpxLjcN",
    "outputId": "ca65343f-9fc7-4bb4-eaad-a1fed10b8d03"
   },
   "outputs": [],
   "source": [
    "rhos = [0.9, 0.99]\n",
    "rho_to_true_As = {}\n",
    "rho_to_datasets = {}\n",
    "# number of repeated datasets for error bars\n",
    "num_train_datasets = 10\n",
    "\n",
    "def generate_data(fn, dynamics_fn, key, dim, \n",
    "                  init_scale, noise_scale, horizon, num_train_datasets):\n",
    "  all_xs, all_ys = [], []\n",
    "  prng_seq = hk.PRNGSequence(key)\n",
    "  # note: this is not vmap-ed since we get OOM errors when the horizon is\n",
    "  # too long. making it an explicit for loop seems to avoid the OOM issues. \n",
    "  for _ in tqdm(range(num_train_datasets)):\n",
    "    xs, ys = fn(dynamics_fn, next(prng_seq), dim, \n",
    "                init_scale, noise_scale, horizon)\n",
    "    all_xs.append(xs)\n",
    "    all_ys.append(ys)\n",
    "  return jnp.array(all_xs), jnp.array(all_ys)\n",
    "\n",
    "for rho in rhos:\n",
    "  print(f\"generating data for rho={rho}\")\n",
    "  true_A = random_dynamics_matrix(next(prng), rho, dim)\n",
    "  all_coupled_train_xs, all_coupled_train_ys = generate_data(\n",
    "      random_coupled_dataset,\n",
    "      lambda x: activation_fn(true_A @ x),\n",
    "      next(prng),\n",
    "      dim,\n",
    "      init_scale,\n",
    "      noise_scale,\n",
    "      5000,\n",
    "      num_train_datasets)\n",
    "  all_ind_train_xs, all_ind_train_ys = generate_data(\n",
    "      random_decoupled_dataset,\n",
    "      lambda x: activation_fn(true_A @ x),\n",
    "      next(prng),\n",
    "      dim,\n",
    "      init_scale,\n",
    "      noise_scale,\n",
    "      5000,\n",
    "      num_train_datasets)\n",
    "  rho_to_true_As[rho] = true_A\n",
    "  rho_to_datasets[rho] = {\n",
    "      'coupled': (all_coupled_train_xs, all_coupled_train_ys),\n",
    "      'ind': (all_ind_train_xs, all_ind_train_ys),\n",
    "  }"
   ]
  },
  {
   "cell_type": "code",
   "execution_count": 66,
   "metadata": {
    "executionInfo": {
     "elapsed": 63,
     "status": "ok",
     "timestamp": 1669166382899,
     "user": {
      "displayName": "Stephen Tu",
      "userId": "03538437493275091252"
     },
     "user_tz": 300
    },
    "id": "InmepUaS_YUU"
   },
   "outputs": [],
   "source": [
    "short_horizons = [100, 200, 300, 400, 500, 600, 700, 800, 900, 1000]\n",
    "extra_horizons = [2000, 3000, 4000, 5000]\n",
    "long_horizons = [short_horizons[-1]] + extra_horizons\n",
    "eval_horizons = short_horizons + extra_horizons"
   ]
  },
  {
   "cell_type": "code",
   "execution_count": null,
   "metadata": {
    "executionInfo": {
     "elapsed": 94634,
     "status": "ok",
     "timestamp": 1669167513345,
     "user": {
      "displayName": "Stephen Tu",
      "userId": "03538437493275091252"
     },
     "user_tz": 300
    },
    "id": "USGu3yxepBaT",
    "outputId": "ad66ca0e-de3b-48bd-f3fa-2c704043b155"
   },
   "outputs": [],
   "source": [
    "rho_to_risk_curves = {}\n",
    "\n",
    "for rho in rhos:\n",
    "  print(f\"generating risk curves for rho={rho}\")\n",
    "  mixing_risk_curves = [] \n",
    "  for coupled_train_xs, coupled_train_ys in zip(\n",
    "      *rho_to_datasets[rho]['coupled']):\n",
    "    mixing_risk_curves.append(\n",
    "        make_excess_risk_curve(next(prng), \n",
    "                               rho_to_true_As[rho],\n",
    "                               coupled_train_xs, \n",
    "                               coupled_train_ys, \n",
    "                               eval_horizons))\n",
    "  mixing_risk_curves = np.array(mixing_risk_curves)\n",
    "  ind_risk_curves = [] \n",
    "  for ind_train_xs, ind_train_ys in zip(\n",
    "      *rho_to_datasets[rho]['ind']):\n",
    "    ind_risk_curves.append(\n",
    "        make_excess_risk_curve(next(prng), \n",
    "                               rho_to_true_As[rho],\n",
    "                               ind_train_xs, \n",
    "                               ind_train_ys, \n",
    "                               eval_horizons))\n",
    "  ind_risk_curves = np.array(ind_risk_curves)\n",
    "  rho_to_risk_curves[rho] = {\n",
    "      'coupled': mixing_risk_curves,\n",
    "      'ind': ind_risk_curves,\n",
    "  }"
   ]
  },
  {
   "cell_type": "code",
   "execution_count": 69,
   "metadata": {
    "executionInfo": {
     "elapsed": 59,
     "status": "ok",
     "timestamp": 1669167521700,
     "user": {
      "displayName": "Stephen Tu",
      "userId": "03538437493275091252"
     },
     "user_tz": 300
    },
    "id": "-_wL8O4p7tUU"
   },
   "outputs": [],
   "source": [
    "labelsize = 14\n",
    "legendsize = 12"
   ]
  },
  {
   "cell_type": "code",
   "execution_count": 73,
   "metadata": {
    "colab": {
     "height": 372
    },
    "executionInfo": {
     "elapsed": 1976,
     "status": "ok",
     "timestamp": 1669167539440,
     "user": {
      "displayName": "Stephen Tu",
      "userId": "03538437493275091252"
     },
     "user_tz": 300
    },
    "id": "Z8jf7Q-76iir",
    "outputId": "c032bf93-bbc5-488c-9a83-c8ae4668d737"
   },
   "outputs": [
    {
     "data": {
      "image/png": "[encoded data removed]",
      "text/plain": [
       "<Figure size 1000x500 with 2 Axes>"
      ]
     },
     "metadata": {},
     "output_type": "display_data"
    }
   ],
   "source": [
    "plt.figure(figsize=(10, 5))\n",
    "plt.rc('xtick', labelsize=legendsize)\n",
    "plt.rc('ytick', labelsize=legendsize)\n",
    "\n",
    "colors = sns.color_palette(n_colors=2)\n",
    "\n",
    "for idx, rho in enumerate(rhos):\n",
    "  mixing_risk_curves = rho_to_risk_curves[rho]['coupled']\n",
    "  ind_risk_curves = rho_to_risk_curves[rho]['ind']\n",
    "  mixing_risk_curves = mixing_risk_curves[:, :len(short_horizons)]\n",
    "  ind_risk_curves = ind_risk_curves[:, :len(short_horizons)]\n",
    "\n",
    "  mixing_risk_means = np.mean(mixing_risk_curves, axis=0)\n",
    "  mixing_risk_stds = np.std(mixing_risk_curves, axis=0)\n",
    "  ind_risk_means = np.mean(ind_risk_curves, axis=0)\n",
    "  ind_risk_stds = np.std(ind_risk_curves, axis=0)\n",
    "\n",
    "  plt.subplot(1, len(rhos), idx + 1)\n",
    "\n",
    "  plt.semilogy(short_horizons, mixing_risk_means, '-o', color=colors[0])\n",
    "  plt.fill_between(\n",
    "      short_horizons,\n",
    "      mixing_risk_means - mixing_risk_stds,\n",
    "      mixing_risk_means + mixing_risk_stds,\n",
    "      color=colors[0],\n",
    "      alpha=0.4)\n",
    "\n",
    "  plt.semilogy(short_horizons, ind_risk_means, '--x', color=colors[1])\n",
    "  plt.fill_between(\n",
    "      short_horizons,\n",
    "      ind_risk_means - ind_risk_stds,\n",
    "      ind_risk_means + ind_risk_stds,\n",
    "      color=colors[1],\n",
    "      alpha=0.4)\n",
    "\n",
    "  plt.ylim(5e-3, 5e-1)\n",
    "\n",
    "  plt.xlabel(r'$T$', fontsize=labelsize)\n",
    "  if idx == 0:\n",
    "    plt.ylabel(r'$L^2$ Excess Risk', fontsize=labelsize)\n",
    "    plt.legend(('Trajectory', 'Ind Baseline'), fontsize=legendsize)\n",
    "  plt.title(r'$\\rho={}$'.format(rho), fontsize=labelsize)\n",
    "\n",
    "plt.tight_layout()\n",
    "plt.savefig('glm_little_mixing_risks.pdf')"
   ]
  },
  {
   "cell_type": "code",
   "execution_count": 76,
   "metadata": {
    "colab": {
     "height": 300
    },
    "executionInfo": {
     "elapsed": 953,
     "status": "ok",
     "timestamp": 1669167566406,
     "user": {
      "displayName": "Stephen Tu",
      "userId": "03538437493275091252"
     },
     "user_tz": 300
    },
    "id": "8UTPeCo00EcN",
    "outputId": "6377c55c-0d07-4084-9e41-244339e8f94b"
   },
   "outputs": [
    {
     "data": {
      "image/png": "[encoded data removed]",
      "text/plain": [
       "<Figure size 800x400 with 2 Axes>"
      ]
     },
     "metadata": {},
     "output_type": "display_data"
    }
   ],
   "source": [
    "plt.figure(figsize=(8, 4))\n",
    "plt.rc('xtick', labelsize=legendsize)\n",
    "plt.rc('ytick', labelsize=legendsize)\n",
    "\n",
    "colors = sns.color_palette(n_colors=len(rhos) + 1)\n",
    "\n",
    "plt.subplot(1, 2, 1)\n",
    "\n",
    "for rho, color in zip(rhos, colors):\n",
    "\n",
    "  mixing_risk_curves = rho_to_risk_curves[rho]['coupled']\n",
    "  ind_risk_curves = rho_to_risk_curves[rho]['ind']\n",
    "  mixing_risk_curves = mixing_risk_curves[:, :len(short_horizons)]\n",
    "  ind_risk_curves = ind_risk_curves[:, :len(short_horizons)]\n",
    "\n",
    "  mixing_risk_means = np.mean(mixing_risk_curves, axis=0)\n",
    "  mixing_risk_stds = np.std(mixing_risk_curves, axis=0)\n",
    "  ind_risk_means = np.mean(ind_risk_curves, axis=0)\n",
    "  ind_risk_stds = np.std(ind_risk_curves, axis=0)\n",
    "\n",
    "  plt.plot(\n",
    "      short_horizons, mixing_risk_means / ind_risk_means, '-o', color=color)\n",
    "  plt.fill_between(\n",
    "      short_horizons,\n",
    "      (mixing_risk_means - mixing_risk_stds) / (ind_risk_means + ind_risk_stds),\n",
    "      (mixing_risk_means + mixing_risk_stds) / (ind_risk_means - ind_risk_stds),\n",
    "      alpha=0.4)\n",
    "\n",
    "plt.plot(short_horizons, np.ones_like(short_horizons), '--', color=colors[-1])\n",
    "\n",
    "plt.xlabel(r'$T$', fontsize=labelsize)\n",
    "plt.ylabel(r'$L^2$ Excess Risk Ratio', fontsize=labelsize)\n",
    "plt.legend(\n",
    "    [r'$\\rho={}$'.format(rho) for rho in rhos] + ['Ideal'], fontsize=legendsize)\n",
    "plt.ylim((0.75, 4.4))\n",
    "\n",
    "plt.subplot(1, 2, 2)\n",
    "\n",
    "for rho, color in zip(rhos, colors):\n",
    "\n",
    "  mixing_risk_curves = rho_to_risk_curves[rho]['coupled']\n",
    "  ind_risk_curves = rho_to_risk_curves[rho]['ind']\n",
    "  mixing_risk_curves = mixing_risk_curves[:, len(short_horizons) - 1:]\n",
    "  ind_risk_curves = ind_risk_curves[:, len(short_horizons) - 1:]\n",
    "\n",
    "  mixing_risk_means = np.mean(mixing_risk_curves, axis=0)\n",
    "  mixing_risk_stds = np.std(mixing_risk_curves, axis=0)\n",
    "  ind_risk_means = np.mean(ind_risk_curves, axis=0)\n",
    "  ind_risk_stds = np.std(ind_risk_curves, axis=0)\n",
    "\n",
    "  plt.plot(long_horizons, mixing_risk_means / ind_risk_means, '-o', color=color)\n",
    "  plt.fill_between(\n",
    "      long_horizons,\n",
    "      (mixing_risk_means - mixing_risk_stds) / (ind_risk_means + ind_risk_stds),\n",
    "      (mixing_risk_means + mixing_risk_stds) / (ind_risk_means - ind_risk_stds),\n",
    "      alpha=0.4)\n",
    "\n",
    "plt.plot(long_horizons, np.ones_like(long_horizons), '--', color=colors[-1])\n",
    "plt.xlabel(r'$T$', fontsize=labelsize)\n",
    "plt.ylim((0.75, 4.4))\n",
    "\n",
    "plt.tight_layout()\n",
    "plt.savefig('glm_little_mixing_ratio_long.pdf')"
   ]
  }
 ],
 "metadata": {
  "kernelspec": {
   "display_name": "Python 3",
   "language": "python",
   "name": "python3"
  },
  "language_info": {
   "codemirror_mode": {
    "name": "ipython",
    "version": 3
   },
   "file_extension": ".py",
   "mimetype": "text/x-python",
   "name": "python",
   "nbconvert_exporter": "python",
   "pygments_lexer": "ipython3",
   "version": "3.8.8"
  }
 },
 "nbformat": 4,
 "nbformat_minor": 1
}
