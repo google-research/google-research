{
 "cells": [
  {
    "metadata": {
      "id": "DhWmZgAVwDGu",
      "colab_type": "text"
    },
    "cell_type": "markdown",
    "source": [
      "Copyright 2024 Google LLC\n",
      "\n",
      "Licensed under the Apache License, Version 2.0 (the \"License\");\n",
      "you may not use this file except in compliance with the License.\n",
      "You may obtain a copy of the License at\n",
      "\n",
      "https://www.apache.org/licenses/LICENSE-2.0\n",
      "\n",
      "Unless required by applicable law or agreed to in writing, software\n",
      "distributed under the License is distributed on an \"AS IS\" BASIS,\n",
      "WITHOUT WARRANTIES OR CONDITIONS OF ANY KIND, either express or implied.\n",
      "See the License for the specific language governing permissions and\n",
      "limitations under the License."
    ]
  },
  {
   "cell_type": "code",
   "execution_count": 1,
   "metadata": {
    "collapsed": true
   },
   "outputs": [],
   "source": [
    "import pandas as pd\n",
    "import numpy as np\n",
    "import collections\n",
    "import copy\n",
    "import igraph\n",
    "import itertools\n",
    "import binascii"
   ]
  },
  {
   "cell_type": "code",
   "execution_count": 2,
   "metadata": {
    "collapsed": true
   },
   "outputs": [],
   "source": [
    "VALENCE_DICT = {'C': 4, 'N': 3, 'Np': 4, 'O': 2, 'On': 1, 'F': 1, 'H': 1}\n",
    "CHARGE_DICT = collections.defaultdict(int)\n",
    "CHARGE_DICT['Np'] = 1\n",
    "CHARGE_DICT['On'] = -1\n",
    "HEAVY_ELEMENTS = ['C', 'N', 'Np', 'O', 'On', 'F']\n",
    "ELEMENTS = HEAVY_ELEMENTS + ['H']\n",
    "ELEMENT_COLORS = ['black', 'blue', 'light blue', 'red', 'pink', 'green', 'white']\n",
    "\n",
    "BOND_SINGLE = 1\n",
    "BOND_DOUBLE = 2\n",
    "BOND_TRIPLE = 3"
   ]
  },
  {
   "cell_type": "code",
   "execution_count": 3,
   "metadata": {
    "collapsed": false
   },
   "outputs": [
    {
     "data": {
      "text/plain": [
       "'C'"
      ]
     },
     "execution_count": 3,
     "metadata": {},
     "output_type": "execute_result"
    }
   ],
   "source": [
    "ELEMENTS[0]"
   ]
  },
  {
   "cell_type": "code",
   "execution_count": 9,
   "metadata": {
    "collapsed": true
   },
   "outputs": [],
   "source": [
    "class Stoichiometry(collections.namedtuple('Stoichiometry', ELEMENTS)):\n",
    "    def num_atoms(self):\n",
    "        return sum(self)\n",
    "    \n",
    "    def as_element_list(self):\n",
    "        out = []\n",
    "        for elem_idx, elem in enumerate(ELEMENTS):\n",
    "            out += [elem] * self[elem_idx]\n",
    "        return out\n",
    "    \n",
    "    def as_element_idx_list(self):\n",
    "        out = []\n",
    "        for elem_idx, _ in enumerate(ELEMENTS):\n",
    "            out += [elem_idx] * self[elem_idx]\n",
    "        return out\n",
    "    def max_hydrogens(self):\n",
    "      total_valence = 0\n",
    "      total_atoms = 0\n",
    "      for elem, count in self._asdict().items():\n",
    "        total_atoms += count\n",
    "        total_valence += count * VALENCE_DICT[elem]\n",
    "      return total_valence - 2 * (total_atoms - 1)\n",
    "\n",
    "def make_stoichiometry(**kwargs):\n",
    "  \"\"\"Makes a stoichiometry given keyword args for the elements.\n",
    "  \n",
    "  Example: make_stoichiometry(C=4, O=1)\n",
    "  \n",
    "  Return:\n",
    "    Stoichiometry\n",
    "  \"\"\"\n",
    "  stoich = Stoichiometry._make([0] * len(ELEMENTS))\n",
    "  return stoich._replace(**kwargs)\n"
   ]
  },
  {
   "cell_type": "code",
   "execution_count": 10,
   "metadata": {
    "collapsed": true
   },
   "outputs": [],
   "source": [
    "def charge(stoich):\n",
    "  return sum(count * CHARGE_DICT[elem] for elem, count in stoich._asdict().iteritems())"
   ]
  },
  {
   "cell_type": "code",
   "execution_count": 11,
   "metadata": {
    "collapsed": true
   },
   "outputs": [],
   "source": [
    "def enumerate_stoichiometries(num_heavy):\n",
    "  def recursive_enumerate_stoichiometries(stoich, num_heavy, elements):\n",
    "    if num_heavy == 0:\n",
    "      # We are out of heavy atoms. If we are neutral, we are done!\n",
    "      if charge(stoich) == 0:\n",
    "        # parity of the number of hydrogens is determined, so use step size 2.\n",
    "        for num_h in range(stoich.max_hydrogens(), -1, -2):\n",
    "          yield stoich._replace(H=num_h)\n",
    "    elif len(elements) == 1:\n",
    "      for x in recursive_enumerate_stoichiometries(stoich._replace(**{elements[0]: num_heavy}), 0, elements[1:]):\n",
    "        yield x\n",
    "    else: \n",
    "      for this_count in range(num_heavy+1):\n",
    "        for x in recursive_enumerate_stoichiometries(stoich._replace(**{elements[0]: this_count}), num_heavy - this_count, elements[1:]):\n",
    "          yield x\n",
    "  \n",
    "  for x in recursive_enumerate_stoichiometries(make_stoichiometry(), num_heavy, HEAVY_ELEMENTS):\n",
    "    yield x"
   ]
  },
  {
   "cell_type": "code",
   "execution_count": 12,
   "metadata": {
    "collapsed": false
   },
   "outputs": [
    {
     "name": "stdout",
     "output_type": "stream",
     "text": [
      "['O', 'F', 'F']\n",
      "['O', 'O', 'F', 'H']\n",
      "['O', 'O', 'O', 'H', 'H']\n",
      "['O', 'O', 'O']\n",
      "['Np', 'On', 'F', 'H', 'H']\n",
      "['Np', 'On', 'F']\n",
      "['Np', 'O', 'On', 'H', 'H', 'H']\n",
      "['Np', 'O', 'On', 'H']\n",
      "['N', 'F', 'F', 'H']\n",
      "['N', 'O', 'F', 'H', 'H']\n",
      "['N', 'O', 'F']\n",
      "['N', 'O', 'O', 'H', 'H', 'H']\n",
      "['N', 'O', 'O', 'H']\n",
      "['N', 'Np', 'On', 'H', 'H', 'H', 'H']\n",
      "['N', 'Np', 'On', 'H', 'H']\n",
      "['N', 'Np', 'On']\n",
      "['N', 'N', 'F', 'H', 'H', 'H']\n",
      "['N', 'N', 'F', 'H']\n",
      "['N', 'N', 'O', 'H', 'H', 'H', 'H']\n",
      "['N', 'N', 'O', 'H', 'H']\n",
      "['N', 'N', 'O']\n",
      "['N', 'N', 'N', 'H', 'H', 'H', 'H', 'H']\n",
      "['N', 'N', 'N', 'H', 'H', 'H']\n",
      "['N', 'N', 'N', 'H']\n",
      "['C', 'F', 'F', 'H', 'H']\n",
      "['C', 'F', 'F']\n",
      "['C', 'O', 'F', 'H', 'H', 'H']\n",
      "['C', 'O', 'F', 'H']\n",
      "['C', 'O', 'O', 'H', 'H', 'H', 'H']\n",
      "['C', 'O', 'O', 'H', 'H']\n",
      "['C', 'O', 'O']\n",
      "['C', 'Np', 'On', 'H', 'H', 'H', 'H', 'H']\n",
      "['C', 'Np', 'On', 'H', 'H', 'H']\n",
      "['C', 'Np', 'On', 'H']\n",
      "['C', 'N', 'F', 'H', 'H', 'H', 'H']\n",
      "['C', 'N', 'F', 'H', 'H']\n",
      "['C', 'N', 'F']\n",
      "['C', 'N', 'O', 'H', 'H', 'H', 'H', 'H']\n",
      "['C', 'N', 'O', 'H', 'H', 'H']\n",
      "['C', 'N', 'O', 'H']\n",
      "['C', 'N', 'N', 'H', 'H', 'H', 'H', 'H', 'H']\n",
      "['C', 'N', 'N', 'H', 'H', 'H', 'H']\n",
      "['C', 'N', 'N', 'H', 'H']\n",
      "['C', 'N', 'N']\n",
      "['C', 'C', 'F', 'H', 'H', 'H', 'H', 'H']\n",
      "['C', 'C', 'F', 'H', 'H', 'H']\n",
      "['C', 'C', 'F', 'H']\n",
      "['C', 'C', 'O', 'H', 'H', 'H', 'H', 'H', 'H']\n",
      "['C', 'C', 'O', 'H', 'H', 'H', 'H']\n",
      "['C', 'C', 'O', 'H', 'H']\n",
      "['C', 'C', 'O']\n",
      "['C', 'C', 'N', 'H', 'H', 'H', 'H', 'H', 'H', 'H']\n",
      "['C', 'C', 'N', 'H', 'H', 'H', 'H', 'H']\n",
      "['C', 'C', 'N', 'H', 'H', 'H']\n",
      "['C', 'C', 'N', 'H']\n",
      "['C', 'C', 'C', 'H', 'H', 'H', 'H', 'H', 'H', 'H', 'H']\n",
      "['C', 'C', 'C', 'H', 'H', 'H', 'H', 'H', 'H']\n",
      "['C', 'C', 'C', 'H', 'H', 'H', 'H']\n",
      "['C', 'C', 'C', 'H', 'H']\n",
      "['C', 'C', 'C']\n"
     ]
    }
   ],
   "source": [
    "for s in enumerate_stoichiometries(3):\n",
    "    print s.as_element_list()"
   ]
  },
  {
   "cell_type": "code",
   "execution_count": 13,
   "metadata": {
    "collapsed": false
   },
   "outputs": [
    {
     "name": "stdout",
     "output_type": "stream",
     "text": [
      "[3, 5, 5]\n",
      "[3, 3, 5, 6]\n",
      "[3, 3, 3, 6, 6]\n",
      "[3, 3, 3]\n",
      "[2, 4, 5, 6, 6]\n",
      "[2, 4, 5]\n",
      "[2, 3, 4, 6, 6, 6]\n",
      "[2, 3, 4, 6]\n",
      "[1, 5, 5, 6]\n",
      "[1, 3, 5, 6, 6]\n",
      "[1, 3, 5]\n",
      "[1, 3, 3, 6, 6, 6]\n",
      "[1, 3, 3, 6]\n",
      "[1, 2, 4, 6, 6, 6, 6]\n",
      "[1, 2, 4, 6, 6]\n",
      "[1, 2, 4]\n",
      "[1, 1, 5, 6, 6, 6]\n",
      "[1, 1, 5, 6]\n",
      "[1, 1, 3, 6, 6, 6, 6]\n",
      "[1, 1, 3, 6, 6]\n",
      "[1, 1, 3]\n",
      "[1, 1, 1, 6, 6, 6, 6, 6]\n",
      "[1, 1, 1, 6, 6, 6]\n",
      "[1, 1, 1, 6]\n",
      "[0, 5, 5, 6, 6]\n",
      "[0, 5, 5]\n",
      "[0, 3, 5, 6, 6, 6]\n",
      "[0, 3, 5, 6]\n",
      "[0, 3, 3, 6, 6, 6, 6]\n",
      "[0, 3, 3, 6, 6]\n",
      "[0, 3, 3]\n",
      "[0, 2, 4, 6, 6, 6, 6, 6]\n",
      "[0, 2, 4, 6, 6, 6]\n",
      "[0, 2, 4, 6]\n",
      "[0, 1, 5, 6, 6, 6, 6]\n",
      "[0, 1, 5, 6, 6]\n",
      "[0, 1, 5]\n",
      "[0, 1, 3, 6, 6, 6, 6, 6]\n",
      "[0, 1, 3, 6, 6, 6]\n",
      "[0, 1, 3, 6]\n",
      "[0, 1, 1, 6, 6, 6, 6, 6, 6]\n",
      "[0, 1, 1, 6, 6, 6, 6]\n",
      "[0, 1, 1, 6, 6]\n",
      "[0, 1, 1]\n",
      "[0, 0, 5, 6, 6, 6, 6, 6]\n",
      "[0, 0, 5, 6, 6, 6]\n",
      "[0, 0, 5, 6]\n",
      "[0, 0, 3, 6, 6, 6, 6, 6, 6]\n",
      "[0, 0, 3, 6, 6, 6, 6]\n",
      "[0, 0, 3, 6, 6]\n",
      "[0, 0, 3]\n",
      "[0, 0, 1, 6, 6, 6, 6, 6, 6, 6]\n",
      "[0, 0, 1, 6, 6, 6, 6, 6]\n",
      "[0, 0, 1, 6, 6, 6]\n",
      "[0, 0, 1, 6]\n",
      "[0, 0, 0, 6, 6, 6, 6, 6, 6, 6, 6]\n",
      "[0, 0, 0, 6, 6, 6, 6, 6, 6]\n",
      "[0, 0, 0, 6, 6, 6, 6]\n",
      "[0, 0, 0, 6, 6]\n",
      "[0, 0, 0]\n"
     ]
    }
   ],
   "source": [
    "for s in enumerate_stoichiometries(3):\n",
    "    print s.as_element_idx_list()"
   ]
  },
  {
   "cell_type": "code",
   "execution_count": 14,
   "metadata": {
    "collapsed": false
   },
   "outputs": [
    {
     "name": "stdout",
     "output_type": "stream",
     "text": [
      "OOFF\n",
      "OOOFH\n",
      "OOOOHH\n",
      "OOOO\n",
      "NpOnFFH\n",
      "NpOOnFHH\n",
      "NpOOnF\n",
      "NpOOOnHHH\n",
      "NpOOOnH\n",
      "NpNpOnOnHHHH\n",
      "NpNpOnOnHH\n",
      "NpNpOnOn\n",
      "NFFF\n",
      "NOFFH\n",
      "NOOFHH\n",
      "NOOF\n",
      "NOOOHHH\n",
      "NOOOH\n",
      "NNpOnFHHH\n",
      "NNpOnFH\n",
      "NNpOOnHHHH\n",
      "NNpOOnHH\n",
      "NNpOOn\n",
      "NNFFHH\n",
      "NNFF\n",
      "NNOFHHH\n",
      "NNOFH\n",
      "NNOOHHHH\n",
      "NNOOHH\n",
      "NNOO\n",
      "NNNpOnHHHHH\n",
      "NNNpOnHHH\n",
      "NNNpOnH\n",
      "NNNFHHHH\n",
      "NNNFHH\n",
      "NNNF\n",
      "NNNOHHHHH\n",
      "NNNOHHH\n",
      "NNNOH\n",
      "NNNNHHHHHH\n",
      "NNNNHHHH\n",
      "NNNNHH\n",
      "NNNN\n",
      "CFFFH\n",
      "COFFHH\n",
      "COFF\n",
      "COOFHHH\n",
      "COOFH\n",
      "COOOHHHH\n",
      "COOOHH\n",
      "COOO\n",
      "CNpOnFHHHH\n",
      "CNpOnFHH\n",
      "CNpOnF\n",
      "CNpOOnHHHHH\n",
      "CNpOOnHHH\n",
      "CNpOOnH\n",
      "CNFFHHH\n",
      "CNFFH\n",
      "CNOFHHHH\n",
      "CNOFHH\n",
      "CNOF\n",
      "CNOOHHHHH\n",
      "CNOOHHH\n",
      "CNOOH\n",
      "CNNpOnHHHHHH\n",
      "CNNpOnHHHH\n",
      "CNNpOnHH\n",
      "CNNpOn\n",
      "CNNFHHHHH\n",
      "CNNFHHH\n",
      "CNNFH\n",
      "CNNOHHHHHH\n",
      "CNNOHHHH\n",
      "CNNOHH\n",
      "CNNO\n",
      "CNNNHHHHHHH\n",
      "CNNNHHHHH\n",
      "CNNNHHH\n",
      "CNNNH\n",
      "CCFFHHHH\n",
      "CCFFHH\n",
      "CCFF\n",
      "CCOFHHHHH\n",
      "CCOFHHH\n",
      "CCOFH\n",
      "CCOOHHHHHH\n",
      "CCOOHHHH\n",
      "CCOOHH\n",
      "CCOO\n",
      "CCNpOnHHHHHHH\n",
      "CCNpOnHHHHH\n",
      "CCNpOnHHH\n",
      "CCNpOnH\n",
      "CCNFHHHHHH\n",
      "CCNFHHHH\n",
      "CCNFHH\n",
      "CCNF\n",
      "CCNOHHHHHHH\n",
      "CCNOHHHHH\n",
      "CCNOHHH\n",
      "CCNOH\n",
      "CCNNHHHHHHHH\n",
      "CCNNHHHHHH\n",
      "CCNNHHHH\n",
      "CCNNHH\n",
      "CCNN\n",
      "CCCFHHHHHHH\n",
      "CCCFHHHHH\n",
      "CCCFHHH\n",
      "CCCFH\n",
      "CCCOHHHHHHHH\n",
      "CCCOHHHHHH\n",
      "CCCOHHHH\n",
      "CCCOHH\n",
      "CCCO\n",
      "CCCNHHHHHHHHH\n",
      "CCCNHHHHHHH\n",
      "CCCNHHHHH\n",
      "CCCNHHH\n",
      "CCCNH\n",
      "CCCCHHHHHHHHHH\n",
      "CCCCHHHHHHHH\n",
      "CCCCHHHHHH\n",
      "CCCCHHHH\n",
      "CCCCHH\n",
      "CCCC\n"
     ]
    }
   ],
   "source": [
    "for s in enumerate_stoichiometries(4):\n",
    "    print ''.join(s.as_element_list())"
   ]
  },
  {
   "cell_type": "code",
   "execution_count": 9,
   "metadata": {
    "collapsed": false
   },
   "outputs": [
    {
     "data": {
      "text/plain": [
       "3"
      ]
     },
     "execution_count": 9,
     "metadata": {},
     "output_type": "execute_result"
    }
   ],
   "source": [
    "list(enumerate_stoichiometries(3))[10].num_atoms()"
   ]
  },
  {
   "cell_type": "code",
   "execution_count": 16,
   "metadata": {
    "collapsed": false
   },
   "outputs": [
    {
     "data": {
      "text/plain": [
       "-2"
      ]
     },
     "execution_count": 16,
     "metadata": {},
     "output_type": "execute_result"
    }
   ],
   "source": [
    "make_stoichiometry(F=4).max_hydrogens()"
   ]
  },
  {
   "cell_type": "markdown",
   "metadata": {},
   "source": []
  },
  {
   "cell_type": "code",
   "execution_count": 10,
   "metadata": {
    "collapsed": true
   },
   "outputs": [],
   "source": [
    "# NOT USING THIS\n",
    "POSSIBLE_BONDS_FOR_VALENCE = []\n",
    "# valence 0\n",
    "POSSIBLE_BONDS_FOR_VALENCE.append([])\n",
    "# valence 1\n",
    "POSSIBLE_BONDS_FOR_VALENCE.append(\n",
    "    POSSIBLE_BONDS_FOR_VALENCE[0] +\n",
    "    [BOND_SINGLE])\n",
    "# valence 2\n",
    "POSSIBLE_BONDS_FOR_VALENCE.append(\n",
    "    POSSIBLE_BONDS_FOR_VALENCE[1] +\n",
    "    [[BOND_SINGLE, BOND_SINGLE], [BOND_DOUBLE]])\n",
    "# valence 3\n",
    "POSSIBLE_BONDS_FOR_VALENCE.append(\n",
    "    POSSIBLE_BONDS_FOR_VALENCE[2] +\n",
    "    [[BOND_SINGLE, BOND_SINGLE, BOND_SINGLE], [BOND_DOUBLE, BOND_SINGLE], [BOND_TRIPLE]])\n",
    "# valence 4\n",
    "POSSIBLE_BONDS_FOR_VALENCE.append(\n",
    "    POSSIBLE_BONDS_FOR_VALENCE[3] +\n",
    "    [[BOND_SINGLE, BOND_SINGLE, BOND_SINGLE, BOND_SINGLE],\n",
    "     [BOND_DOUBLE, BOND_SINGLE, BOND_SINGLE],\n",
    "     [BOND_DOUBLE, BOND_DOUBLE],\n",
    "     [BOND_TRIPLE, BOND_SINGLE]])"
   ]
  },
  {
   "cell_type": "code",
   "execution_count": 11,
   "metadata": {
    "collapsed": true
   },
   "outputs": [],
   "source": [
    "# Gets a graph representation that is hashable (and can therefore be put into a set)\n",
    "def get_graph_representation(g):\n",
    "    return np.array(g.get_adjacency(igraph.GET_ADJACENCY_UPPER).data).tobytes()"
   ]
  },
  {
   "cell_type": "code",
   "execution_count": 12,
   "metadata": {
    "collapsed": true
   },
   "outputs": [],
   "source": [
    "def get_same_element_groups(g):\n",
    "    \"\"\"Gives a list of list of indices that are the same element.\n",
    "    \n",
    "    Assumes nodes of each type are in order in the graph\n",
    "    \"\"\"\n",
    "    same_element_groups = []\n",
    "    previous_node_type = None\n",
    "    current_group = []\n",
    "    for node_index, node_type in enumerate(g.vs['element_idx']):\n",
    "        if previous_node_type is None:\n",
    "            previous_node_type = node_type\n",
    "            current_group.append(node_index)\n",
    "        elif previous_node_type == node_type:\n",
    "            current_group.append(node_index)\n",
    "        else:\n",
    "            same_element_groups.append(current_group)\n",
    "            current_group = [node_index]\n",
    "            previous_node_type = node_type\n",
    "    same_element_groups.append(current_group)\n",
    "    return same_element_groups\n",
    "    \n",
    "def get_element_preserving_permutations(g):\n",
    "    \"\"\"Yields all element preserving permutations of nodes.\n",
    "    \n",
    "    Assumes nodes of each type are in order in the graph\n",
    "    \"\"\"\n",
    "    element_groups = get_same_element_groups(g)\n",
    "    for nested_perm in itertools.product(*[itertools.permutations(x) for x in element_groups]):\n",
    "        yield [x for x in itertools.chain(*nested_perm)]"
   ]
  },
  {
   "cell_type": "code",
   "execution_count": 13,
   "metadata": {
    "collapsed": false
   },
   "outputs": [
    {
     "name": "stdout",
     "output_type": "stream",
     "text": [
      "[[0, 1], [2, 3], [4]]\n",
      "[[0, 1, 2, 3, 4]]\n",
      "[[0], [1], [2], [3], [4]]\n"
     ]
    }
   ],
   "source": [
    "g = igraph.Graph(5)\n",
    "g.vs['element_idx'] = [0, 0, 1, 1, 5]\n",
    "print get_same_element_groups(g)\n",
    "g = igraph.Graph(5)\n",
    "g.vs['element_idx'] = [0, 0, 0, 0, 0]\n",
    "print get_same_element_groups(g)\n",
    "g = igraph.Graph(5)\n",
    "g.vs['element_idx'] = [1, 3, 5, 2, 4]\n",
    "print get_same_element_groups(g)"
   ]
  },
  {
   "cell_type": "code",
   "execution_count": 14,
   "metadata": {
    "collapsed": false
   },
   "outputs": [
    {
     "name": "stdout",
     "output_type": "stream",
     "text": [
      "[[0, 1, 2, 3, 4]]\n",
      "[[0, 1, 2, 3, 4], [0, 1, 3, 2, 4], [1, 0, 2, 3, 4], [1, 0, 3, 2, 4]]\n"
     ]
    }
   ],
   "source": [
    "g = igraph.Graph(5)\n",
    "g.vs['element_idx'] = [0, 1, 2, 3, 4]\n",
    "print list(get_element_preserving_permutations(g))\n",
    "g = igraph.Graph(5)\n",
    "g.vs['element_idx'] = [0, 0, 1, 1, 4]\n",
    "print list(get_element_preserving_permutations(g))"
   ]
  },
  {
   "cell_type": "code",
   "execution_count": 49,
   "metadata": {
    "collapsed": true
   },
   "outputs": [],
   "source": [
    "def get_valence(g, node_index):\n",
    "    return VALENCE_DICT[ELEMENTS[g.vs[node_index]['element_idx']]] \n",
    "               \n",
    "def enumerate_graphs_for_stoich(stoich):\n",
    "    num_atoms = stoich.num_atoms()\n",
    "    starting_graph = igraph.Graph(num_atoms)\n",
    "    starting_graph.vs['element_idx'] = stoich.as_element_idx_list()\n",
    "    seen_graphs = set()\n",
    "    \n",
    "    def recursive_enumerate_graphs(g, node_index):\n",
    "        if node_index >= num_atoms:\n",
    "            # We're done! Let's make sure we have a good graph\n",
    "            if (len(g.components()) == 1):\n",
    "                representation = get_graph_representation(g)\n",
    "                if representation not in seen_graphs:\n",
    "                    # This is truly a new graph. Put all reorderings of nodes in our set and then yield the graph.\n",
    "                    # Note that due to autopmorphisms we will put in some graphs many times, but that's no big deal\n",
    "                    for perm in get_element_preserving_permutations(g):\n",
    "                        #print perm\n",
    "                        perm_representation = get_graph_representation(g.permute_vertices(perm))\n",
    "                        seen_graphs.add(perm_representation)\n",
    "                        #print \"For {} adding {}\".format(binascii.hexlify(representation), binascii.hexlify(perm_representation))\n",
    "                    yield g\n",
    "            return\n",
    "        \n",
    "        available_valence = get_valence(g, node_index) - g.degree(node_index)\n",
    "        if available_valence == 0:\n",
    "            for x in recursive_enumerate_graphs(g, node_index+1):\n",
    "                yield x\n",
    "            return\n",
    "\n",
    "        # Note that we include node_index to represent the no-bond (bond to hydrogen)\n",
    "        for bond_targets in itertools.combinations_with_replacement(range(node_index, num_atoms), available_valence):\n",
    "            next_g = copy.copy(g)\n",
    "            good_graph = True\n",
    "            for target in bond_targets:\n",
    "                if target == node_index:\n",
    "                    continue\n",
    "                if next_g.degree(target) == get_valence(next_g, target):\n",
    "                    good_graph = False\n",
    "                    break\n",
    "                next_g.add_edge(node_index, target)\n",
    "            if good_graph:\n",
    "                for x in recursive_enumerate_graphs(next_g, node_index + 1):\n",
    "                    yield x\n",
    "    \n",
    "    for x in recursive_enumerate_graphs(starting_graph, 0):\n",
    "        yield x\n",
    "    "
   ]
  },
  {
   "cell_type": "code",
   "execution_count": 50,
   "metadata": {
    "collapsed": false
   },
   "outputs": [
    {
     "data": {
      "image/svg+xml": [
       "<?xml version=\"1.0\" encoding=\"UTF-8\"?>\n",
       "<svg xmlns=\"http://www.w3.org/2000/svg\" xmlns:xlink=\"http://www.w3.org/1999/xlink\" width=\"100pt\" height=\"100pt\" viewBox=\"0 0 100 100\" version=\"1.1\">\n",
       "<defs>\n",
       "<g>\n",
       "<symbol overflow=\"visible\" id=\"glyph0-0\">\n",
       "<path style=\"stroke:none;\" d=\"M 0.703125 2.46875 L 0.703125 -9.875 L 7.703125 -9.875 L 7.703125 2.46875 Z M 1.484375 1.703125 L 6.921875 1.703125 L 6.921875 -9.078125 L 1.484375 -9.078125 Z M 1.484375 1.703125 \"/>\n",
       "</symbol>\n",
       "<symbol overflow=\"visible\" id=\"glyph0-1\">\n",
       "<path style=\"stroke:none;\" d=\"M 5.515625 -9.265625 C 4.515625 -9.265625 3.71875 -8.890625 3.125 -8.140625 C 2.539062 -7.398438 2.25 -6.382812 2.25 -5.09375 C 2.25 -3.8125 2.539062 -2.796875 3.125 -2.046875 C 3.71875 -1.296875 4.515625 -0.921875 5.515625 -0.921875 C 6.515625 -0.921875 7.304688 -1.296875 7.890625 -2.046875 C 8.484375 -2.796875 8.78125 -3.8125 8.78125 -5.09375 C 8.78125 -6.382812 8.484375 -7.398438 7.890625 -8.140625 C 7.304688 -8.890625 6.515625 -9.265625 5.515625 -9.265625 Z M 5.515625 -10.390625 C 6.941406 -10.390625 8.082031 -9.910156 8.9375 -8.953125 C 9.800781 -7.992188 10.234375 -6.707031 10.234375 -5.09375 C 10.234375 -3.488281 9.800781 -2.203125 8.9375 -1.234375 C 8.082031 -0.273438 6.941406 0.203125 5.515625 0.203125 C 4.078125 0.203125 2.925781 -0.273438 2.0625 -1.234375 C 1.207031 -2.191406 0.78125 -3.476562 0.78125 -5.09375 C 0.78125 -6.707031 1.207031 -7.992188 2.0625 -8.953125 C 2.925781 -9.910156 4.078125 -10.390625 5.515625 -10.390625 Z M 5.515625 -10.390625 \"/>\n",
       "</symbol>\n",
       "</g>\n",
       "</defs>\n",
       "<g id=\"surface8144\">\n",
       "<rect x=\"0\" y=\"0\" width=\"100\" height=\"100\" style=\"fill:rgb(100%,100%,100%);fill-opacity:1;stroke:none;\"/>\n",
       "<path style=\"fill:none;stroke-width:1;stroke-linecap:butt;stroke-linejoin:miter;stroke:rgb(26.666667%,26.666667%,26.666667%);stroke-opacity:1;stroke-miterlimit:10;\" d=\"M 80 50 L 20 80 \"/>\n",
       "<path style=\"fill:none;stroke-width:1;stroke-linecap:butt;stroke-linejoin:miter;stroke:rgb(26.666667%,26.666667%,26.666667%);stroke-opacity:1;stroke-miterlimit:10;\" d=\"M 20 80 L 20 20 \"/>\n",
       "<path style=\"fill-rule:nonzero;fill:rgb(100%,0%,0%);fill-opacity:1;stroke-width:1;stroke-linecap:butt;stroke-linejoin:miter;stroke:rgb(0%,0%,0%);stroke-opacity:1;stroke-miterlimit:10;\" d=\"M 90 50 C 90 55.523438 85.523438 60 80 60 C 74.476562 60 70 55.523438 70 50 C 70 44.476562 74.476562 40 80 40 C 85.523438 40 90 44.476562 90 50 \"/>\n",
       "<path style=\"fill-rule:nonzero;fill:rgb(100%,0%,0%);fill-opacity:1;stroke-width:1;stroke-linecap:butt;stroke-linejoin:miter;stroke:rgb(0%,0%,0%);stroke-opacity:1;stroke-miterlimit:10;\" d=\"M 30 80 C 30 85.523438 25.523438 90 20 90 C 14.476562 90 10 85.523438 10 80 C 10 74.476562 14.476562 70 20 70 C 25.523438 70 30 74.476562 30 80 \"/>\n",
       "<path style=\"fill-rule:nonzero;fill:rgb(100%,0%,0%);fill-opacity:1;stroke-width:1;stroke-linecap:butt;stroke-linejoin:miter;stroke:rgb(0%,0%,0%);stroke-opacity:1;stroke-miterlimit:10;\" d=\"M 30 20 C 30 25.523438 25.523438 30 20 30 C 14.476562 30 10 25.523438 10 20 C 10 14.476562 14.476562 10 20 10 C 25.523438 10 30 14.476562 30 20 \"/>\n",
       "<g style=\"fill:rgb(0%,0%,0%);fill-opacity:1;\">\n",
       "  <use xlink:href=\"#glyph0-1\" x=\"74.492188\" y=\"56.847656\"/>\n",
       "</g>\n",
       "<g style=\"fill:rgb(0%,0%,0%);fill-opacity:1;\">\n",
       "  <use xlink:href=\"#glyph0-1\" x=\"14.492188\" y=\"86.847656\"/>\n",
       "</g>\n",
       "<g style=\"fill:rgb(0%,0%,0%);fill-opacity:1;\">\n",
       "  <use xlink:href=\"#glyph0-1\" x=\"14.492188\" y=\"26.847656\"/>\n",
       "</g>\n",
       "</g>\n",
       "</svg>\n"
      ],
      "text/plain": [
       "<igraph.drawing.Plot at 0x7f8673ab5c10>"
      ]
     },
     "metadata": {},
     "output_type": "display_data"
    },
    {
     "data": {
      "image/svg+xml": [
       "<?xml version=\"1.0\" encoding=\"UTF-8\"?>\n",
       "<svg xmlns=\"http://www.w3.org/2000/svg\" xmlns:xlink=\"http://www.w3.org/1999/xlink\" width=\"100pt\" height=\"100pt\" viewBox=\"0 0 100 100\" version=\"1.1\">\n",
       "<defs>\n",
       "<g>\n",
       "<symbol overflow=\"visible\" id=\"glyph0-0\">\n",
       "<path style=\"stroke:none;\" d=\"M 0.703125 2.46875 L 0.703125 -9.875 L 7.703125 -9.875 L 7.703125 2.46875 Z M 1.484375 1.703125 L 6.921875 1.703125 L 6.921875 -9.078125 L 1.484375 -9.078125 Z M 1.484375 1.703125 \"/>\n",
       "</symbol>\n",
       "<symbol overflow=\"visible\" id=\"glyph0-1\">\n",
       "<path style=\"stroke:none;\" d=\"M 5.515625 -9.265625 C 4.515625 -9.265625 3.71875 -8.890625 3.125 -8.140625 C 2.539062 -7.398438 2.25 -6.382812 2.25 -5.09375 C 2.25 -3.8125 2.539062 -2.796875 3.125 -2.046875 C 3.71875 -1.296875 4.515625 -0.921875 5.515625 -0.921875 C 6.515625 -0.921875 7.304688 -1.296875 7.890625 -2.046875 C 8.484375 -2.796875 8.78125 -3.8125 8.78125 -5.09375 C 8.78125 -6.382812 8.484375 -7.398438 7.890625 -8.140625 C 7.304688 -8.890625 6.515625 -9.265625 5.515625 -9.265625 Z M 5.515625 -10.390625 C 6.941406 -10.390625 8.082031 -9.910156 8.9375 -8.953125 C 9.800781 -7.992188 10.234375 -6.707031 10.234375 -5.09375 C 10.234375 -3.488281 9.800781 -2.203125 8.9375 -1.234375 C 8.082031 -0.273438 6.941406 0.203125 5.515625 0.203125 C 4.078125 0.203125 2.925781 -0.273438 2.0625 -1.234375 C 1.207031 -2.191406 0.78125 -3.476562 0.78125 -5.09375 C 0.78125 -6.707031 1.207031 -7.992188 2.0625 -8.953125 C 2.925781 -9.910156 4.078125 -10.390625 5.515625 -10.390625 Z M 5.515625 -10.390625 \"/>\n",
       "</symbol>\n",
       "</g>\n",
       "</defs>\n",
       "<g id=\"surface8150\">\n",
       "<rect x=\"0\" y=\"0\" width=\"100\" height=\"100\" style=\"fill:rgb(100%,100%,100%);fill-opacity:1;stroke:none;\"/>\n",
       "<path style=\"fill:none;stroke-width:1;stroke-linecap:butt;stroke-linejoin:miter;stroke:rgb(26.666667%,26.666667%,26.666667%);stroke-opacity:1;stroke-miterlimit:10;\" d=\"M 80 50 L 20 80 \"/>\n",
       "<path style=\"fill:none;stroke-width:1;stroke-linecap:butt;stroke-linejoin:miter;stroke:rgb(26.666667%,26.666667%,26.666667%);stroke-opacity:1;stroke-miterlimit:10;\" d=\"M 80 50 L 20 20 \"/>\n",
       "<path style=\"fill:none;stroke-width:1;stroke-linecap:butt;stroke-linejoin:miter;stroke:rgb(26.666667%,26.666667%,26.666667%);stroke-opacity:1;stroke-miterlimit:10;\" d=\"M 20 80 L 20 20 \"/>\n",
       "<path style=\"fill-rule:nonzero;fill:rgb(100%,0%,0%);fill-opacity:1;stroke-width:1;stroke-linecap:butt;stroke-linejoin:miter;stroke:rgb(0%,0%,0%);stroke-opacity:1;stroke-miterlimit:10;\" d=\"M 90 50 C 90 55.523438 85.523438 60 80 60 C 74.476562 60 70 55.523438 70 50 C 70 44.476562 74.476562 40 80 40 C 85.523438 40 90 44.476562 90 50 \"/>\n",
       "<path style=\"fill-rule:nonzero;fill:rgb(100%,0%,0%);fill-opacity:1;stroke-width:1;stroke-linecap:butt;stroke-linejoin:miter;stroke:rgb(0%,0%,0%);stroke-opacity:1;stroke-miterlimit:10;\" d=\"M 30 80 C 30 85.523438 25.523438 90 20 90 C 14.476562 90 10 85.523438 10 80 C 10 74.476562 14.476562 70 20 70 C 25.523438 70 30 74.476562 30 80 \"/>\n",
       "<path style=\"fill-rule:nonzero;fill:rgb(100%,0%,0%);fill-opacity:1;stroke-width:1;stroke-linecap:butt;stroke-linejoin:miter;stroke:rgb(0%,0%,0%);stroke-opacity:1;stroke-miterlimit:10;\" d=\"M 30 20 C 30 25.523438 25.523438 30 20 30 C 14.476562 30 10 25.523438 10 20 C 10 14.476562 14.476562 10 20 10 C 25.523438 10 30 14.476562 30 20 \"/>\n",
       "<g style=\"fill:rgb(0%,0%,0%);fill-opacity:1;\">\n",
       "  <use xlink:href=\"#glyph0-1\" x=\"74.492188\" y=\"56.847656\"/>\n",
       "</g>\n",
       "<g style=\"fill:rgb(0%,0%,0%);fill-opacity:1;\">\n",
       "  <use xlink:href=\"#glyph0-1\" x=\"14.492188\" y=\"86.847656\"/>\n",
       "</g>\n",
       "<g style=\"fill:rgb(0%,0%,0%);fill-opacity:1;\">\n",
       "  <use xlink:href=\"#glyph0-1\" x=\"14.492188\" y=\"26.847656\"/>\n",
       "</g>\n",
       "</g>\n",
       "</svg>\n"
      ],
      "text/plain": [
       "<igraph.drawing.Plot at 0x7f86a4311950>"
      ]
     },
     "metadata": {},
     "output_type": "display_data"
    }
   ],
   "source": [
    "for g in enumerate_graphs_for_stoich(make_stoichiometry(O=3)):\n",
    "    g.vs['label'] = [ELEMENTS[i] for i in g.vs['element_idx']]\n",
    "    display(igraph.plot(g, layout='circle', bbox=(100, 100), vertex_size=20))\n",
    "                              "
   ]
  },
  {
   "cell_type": "code",
   "execution_count": 51,
   "metadata": {
    "collapsed": false
   },
   "outputs": [
    {
     "data": {
      "image/svg+xml": [
       "<?xml version=\"1.0\" encoding=\"UTF-8\"?>\n",
       "<svg xmlns=\"http://www.w3.org/2000/svg\" xmlns:xlink=\"http://www.w3.org/1999/xlink\" width=\"100pt\" height=\"100pt\" viewBox=\"0 0 100 100\" version=\"1.1\">\n",
       "<g id=\"surface8156\">\n",
       "<rect x=\"0\" y=\"0\" width=\"100\" height=\"100\" style=\"fill:rgb(100%,100%,100%);fill-opacity:1;stroke:none;\"/>\n",
       "<path style=\"fill:none;stroke-width:1;stroke-linecap:butt;stroke-linejoin:miter;stroke:rgb(26.666667%,26.666667%,26.666667%);stroke-opacity:1;stroke-miterlimit:10;\" d=\"M 80 50 L 20 80 \"/>\n",
       "<path style=\"fill:none;stroke-width:1;stroke-linecap:butt;stroke-linejoin:miter;stroke:rgb(26.666667%,26.666667%,26.666667%);stroke-opacity:1;stroke-miterlimit:10;\" d=\"M 20 80 L 20 20 \"/>\n",
       "<path style=\"fill-rule:nonzero;fill:rgb(0%,0%,0%);fill-opacity:1;stroke-width:1;stroke-linecap:butt;stroke-linejoin:miter;stroke:rgb(0%,0%,0%);stroke-opacity:1;stroke-miterlimit:10;\" d=\"M 90 50 C 90 55.523438 85.523438 60 80 60 C 74.476562 60 70 55.523438 70 50 C 70 44.476562 74.476562 40 80 40 C 85.523438 40 90 44.476562 90 50 \"/>\n",
       "<path style=\"fill-rule:nonzero;fill:rgb(0%,0%,0%);fill-opacity:1;stroke-width:1;stroke-linecap:butt;stroke-linejoin:miter;stroke:rgb(0%,0%,0%);stroke-opacity:1;stroke-miterlimit:10;\" d=\"M 30 80 C 30 85.523438 25.523438 90 20 90 C 14.476562 90 10 85.523438 10 80 C 10 74.476562 14.476562 70 20 70 C 25.523438 70 30 74.476562 30 80 \"/>\n",
       "<path style=\"fill-rule:nonzero;fill:rgb(100%,0%,0%);fill-opacity:1;stroke-width:1;stroke-linecap:butt;stroke-linejoin:miter;stroke:rgb(0%,0%,0%);stroke-opacity:1;stroke-miterlimit:10;\" d=\"M 30 20 C 30 25.523438 25.523438 30 20 30 C 14.476562 30 10 25.523438 10 20 C 10 14.476562 14.476562 10 20 10 C 25.523438 10 30 14.476562 30 20 \"/>\n",
       "</g>\n",
       "</svg>\n"
      ],
      "text/plain": [
       "<igraph.drawing.Plot at 0x7f8673ab5fd0>"
      ]
     },
     "metadata": {},
     "output_type": "display_data"
    },
    {
     "data": {
      "image/svg+xml": [
       "<?xml version=\"1.0\" encoding=\"UTF-8\"?>\n",
       "<svg xmlns=\"http://www.w3.org/2000/svg\" xmlns:xlink=\"http://www.w3.org/1999/xlink\" width=\"100pt\" height=\"100pt\" viewBox=\"0 0 100 100\" version=\"1.1\">\n",
       "<g id=\"surface8162\">\n",
       "<rect x=\"0\" y=\"0\" width=\"100\" height=\"100\" style=\"fill:rgb(100%,100%,100%);fill-opacity:1;stroke:none;\"/>\n",
       "<path style=\"fill:none;stroke-width:1;stroke-linecap:butt;stroke-linejoin:miter;stroke:rgb(26.666667%,26.666667%,26.666667%);stroke-opacity:1;stroke-miterlimit:10;\" d=\"M 80 50 L 20 80 \"/>\n",
       "<path style=\"fill:none;stroke-width:1;stroke-linecap:butt;stroke-linejoin:miter;stroke:rgb(26.666667%,26.666667%,26.666667%);stroke-opacity:1;stroke-miterlimit:10;\" d=\"M 20 80 C 35 60 35 40 20 20 \"/>\n",
       "<path style=\"fill:none;stroke-width:1;stroke-linecap:butt;stroke-linejoin:miter;stroke:rgb(26.666667%,26.666667%,26.666667%);stroke-opacity:1;stroke-miterlimit:10;\" d=\"M 20 80 C 5 60 5 40 20 20 \"/>\n",
       "<path style=\"fill-rule:nonzero;fill:rgb(0%,0%,0%);fill-opacity:1;stroke-width:1;stroke-linecap:butt;stroke-linejoin:miter;stroke:rgb(0%,0%,0%);stroke-opacity:1;stroke-miterlimit:10;\" d=\"M 90 50 C 90 55.523438 85.523438 60 80 60 C 74.476562 60 70 55.523438 70 50 C 70 44.476562 74.476562 40 80 40 C 85.523438 40 90 44.476562 90 50 \"/>\n",
       "<path style=\"fill-rule:nonzero;fill:rgb(0%,0%,0%);fill-opacity:1;stroke-width:1;stroke-linecap:butt;stroke-linejoin:miter;stroke:rgb(0%,0%,0%);stroke-opacity:1;stroke-miterlimit:10;\" d=\"M 30 80 C 30 85.523438 25.523438 90 20 90 C 14.476562 90 10 85.523438 10 80 C 10 74.476562 14.476562 70 20 70 C 25.523438 70 30 74.476562 30 80 \"/>\n",
       "<path style=\"fill-rule:nonzero;fill:rgb(100%,0%,0%);fill-opacity:1;stroke-width:1;stroke-linecap:butt;stroke-linejoin:miter;stroke:rgb(0%,0%,0%);stroke-opacity:1;stroke-miterlimit:10;\" d=\"M 30 20 C 30 25.523438 25.523438 30 20 30 C 14.476562 30 10 25.523438 10 20 C 10 14.476562 14.476562 10 20 10 C 25.523438 10 30 14.476562 30 20 \"/>\n",
       "</g>\n",
       "</svg>\n"
      ],
      "text/plain": [
       "<igraph.drawing.Plot at 0x7f8673ab5fd0>"
      ]
     },
     "metadata": {},
     "output_type": "display_data"
    },
    {
     "data": {
      "image/svg+xml": [
       "<?xml version=\"1.0\" encoding=\"UTF-8\"?>\n",
       "<svg xmlns=\"http://www.w3.org/2000/svg\" xmlns:xlink=\"http://www.w3.org/1999/xlink\" width=\"100pt\" height=\"100pt\" viewBox=\"0 0 100 100\" version=\"1.1\">\n",
       "<g id=\"surface8168\">\n",
       "<rect x=\"0\" y=\"0\" width=\"100\" height=\"100\" style=\"fill:rgb(100%,100%,100%);fill-opacity:1;stroke:none;\"/>\n",
       "<path style=\"fill:none;stroke-width:1;stroke-linecap:butt;stroke-linejoin:miter;stroke:rgb(26.666667%,26.666667%,26.666667%);stroke-opacity:1;stroke-miterlimit:10;\" d=\"M 80 50 L 20 20 \"/>\n",
       "<path style=\"fill:none;stroke-width:1;stroke-linecap:butt;stroke-linejoin:miter;stroke:rgb(26.666667%,26.666667%,26.666667%);stroke-opacity:1;stroke-miterlimit:10;\" d=\"M 20 80 L 20 20 \"/>\n",
       "<path style=\"fill-rule:nonzero;fill:rgb(0%,0%,0%);fill-opacity:1;stroke-width:1;stroke-linecap:butt;stroke-linejoin:miter;stroke:rgb(0%,0%,0%);stroke-opacity:1;stroke-miterlimit:10;\" d=\"M 90 50 C 90 55.523438 85.523438 60 80 60 C 74.476562 60 70 55.523438 70 50 C 70 44.476562 74.476562 40 80 40 C 85.523438 40 90 44.476562 90 50 \"/>\n",
       "<path style=\"fill-rule:nonzero;fill:rgb(0%,0%,0%);fill-opacity:1;stroke-width:1;stroke-linecap:butt;stroke-linejoin:miter;stroke:rgb(0%,0%,0%);stroke-opacity:1;stroke-miterlimit:10;\" d=\"M 30 80 C 30 85.523438 25.523438 90 20 90 C 14.476562 90 10 85.523438 10 80 C 10 74.476562 14.476562 70 20 70 C 25.523438 70 30 74.476562 30 80 \"/>\n",
       "<path style=\"fill-rule:nonzero;fill:rgb(100%,0%,0%);fill-opacity:1;stroke-width:1;stroke-linecap:butt;stroke-linejoin:miter;stroke:rgb(0%,0%,0%);stroke-opacity:1;stroke-miterlimit:10;\" d=\"M 30 20 C 30 25.523438 25.523438 30 20 30 C 14.476562 30 10 25.523438 10 20 C 10 14.476562 14.476562 10 20 10 C 25.523438 10 30 14.476562 30 20 \"/>\n",
       "</g>\n",
       "</svg>\n"
      ],
      "text/plain": [
       "<igraph.drawing.Plot at 0x7f86745bf690>"
      ]
     },
     "metadata": {},
     "output_type": "display_data"
    },
    {
     "data": {
      "image/svg+xml": [
       "<?xml version=\"1.0\" encoding=\"UTF-8\"?>\n",
       "<svg xmlns=\"http://www.w3.org/2000/svg\" xmlns:xlink=\"http://www.w3.org/1999/xlink\" width=\"100pt\" height=\"100pt\" viewBox=\"0 0 100 100\" version=\"1.1\">\n",
       "<g id=\"surface8174\">\n",
       "<rect x=\"0\" y=\"0\" width=\"100\" height=\"100\" style=\"fill:rgb(100%,100%,100%);fill-opacity:1;stroke:none;\"/>\n",
       "<path style=\"fill:none;stroke-width:1;stroke-linecap:butt;stroke-linejoin:miter;stroke:rgb(26.666667%,26.666667%,26.666667%);stroke-opacity:1;stroke-miterlimit:10;\" d=\"M 80 50 C 52.5 45 32.5 55 20 80 \"/>\n",
       "<path style=\"fill:none;stroke-width:1;stroke-linecap:butt;stroke-linejoin:miter;stroke:rgb(26.666667%,26.666667%,26.666667%);stroke-opacity:1;stroke-miterlimit:10;\" d=\"M 80 50 C 67.5 75 47.5 85 20 80 \"/>\n",
       "<path style=\"fill:none;stroke-width:1;stroke-linecap:butt;stroke-linejoin:miter;stroke:rgb(26.666667%,26.666667%,26.666667%);stroke-opacity:1;stroke-miterlimit:10;\" d=\"M 20 80 L 20 20 \"/>\n",
       "<path style=\"fill-rule:nonzero;fill:rgb(0%,0%,0%);fill-opacity:1;stroke-width:1;stroke-linecap:butt;stroke-linejoin:miter;stroke:rgb(0%,0%,0%);stroke-opacity:1;stroke-miterlimit:10;\" d=\"M 90 50 C 90 55.523438 85.523438 60 80 60 C 74.476562 60 70 55.523438 70 50 C 70 44.476562 74.476562 40 80 40 C 85.523438 40 90 44.476562 90 50 \"/>\n",
       "<path style=\"fill-rule:nonzero;fill:rgb(0%,0%,0%);fill-opacity:1;stroke-width:1;stroke-linecap:butt;stroke-linejoin:miter;stroke:rgb(0%,0%,0%);stroke-opacity:1;stroke-miterlimit:10;\" d=\"M 30 80 C 30 85.523438 25.523438 90 20 90 C 14.476562 90 10 85.523438 10 80 C 10 74.476562 14.476562 70 20 70 C 25.523438 70 30 74.476562 30 80 \"/>\n",
       "<path style=\"fill-rule:nonzero;fill:rgb(100%,0%,0%);fill-opacity:1;stroke-width:1;stroke-linecap:butt;stroke-linejoin:miter;stroke:rgb(0%,0%,0%);stroke-opacity:1;stroke-miterlimit:10;\" d=\"M 30 20 C 30 25.523438 25.523438 30 20 30 C 14.476562 30 10 25.523438 10 20 C 10 14.476562 14.476562 10 20 10 C 25.523438 10 30 14.476562 30 20 \"/>\n",
       "</g>\n",
       "</svg>\n"
      ],
      "text/plain": [
       "<igraph.drawing.Plot at 0x7f8673ab5fd0>"
      ]
     },
     "metadata": {},
     "output_type": "display_data"
    },
    {
     "data": {
      "image/svg+xml": [
       "<?xml version=\"1.0\" encoding=\"UTF-8\"?>\n",
       "<svg xmlns=\"http://www.w3.org/2000/svg\" xmlns:xlink=\"http://www.w3.org/1999/xlink\" width=\"100pt\" height=\"100pt\" viewBox=\"0 0 100 100\" version=\"1.1\">\n",
       "<g id=\"surface8180\">\n",
       "<rect x=\"0\" y=\"0\" width=\"100\" height=\"100\" style=\"fill:rgb(100%,100%,100%);fill-opacity:1;stroke:none;\"/>\n",
       "<path style=\"fill:none;stroke-width:1;stroke-linecap:butt;stroke-linejoin:miter;stroke:rgb(26.666667%,26.666667%,26.666667%);stroke-opacity:1;stroke-miterlimit:10;\" d=\"M 80 50 C 52.5 45 32.5 55 20 80 \"/>\n",
       "<path style=\"fill:none;stroke-width:1;stroke-linecap:butt;stroke-linejoin:miter;stroke:rgb(26.666667%,26.666667%,26.666667%);stroke-opacity:1;stroke-miterlimit:10;\" d=\"M 80 50 C 67.5 75 47.5 85 20 80 \"/>\n",
       "<path style=\"fill:none;stroke-width:1;stroke-linecap:butt;stroke-linejoin:miter;stroke:rgb(26.666667%,26.666667%,26.666667%);stroke-opacity:1;stroke-miterlimit:10;\" d=\"M 20 80 C 35 60 35 40 20 20 \"/>\n",
       "<path style=\"fill:none;stroke-width:1;stroke-linecap:butt;stroke-linejoin:miter;stroke:rgb(26.666667%,26.666667%,26.666667%);stroke-opacity:1;stroke-miterlimit:10;\" d=\"M 20 80 C 5 60 5 40 20 20 \"/>\n",
       "<path style=\"fill-rule:nonzero;fill:rgb(0%,0%,0%);fill-opacity:1;stroke-width:1;stroke-linecap:butt;stroke-linejoin:miter;stroke:rgb(0%,0%,0%);stroke-opacity:1;stroke-miterlimit:10;\" d=\"M 90 50 C 90 55.523438 85.523438 60 80 60 C 74.476562 60 70 55.523438 70 50 C 70 44.476562 74.476562 40 80 40 C 85.523438 40 90 44.476562 90 50 \"/>\n",
       "<path style=\"fill-rule:nonzero;fill:rgb(0%,0%,0%);fill-opacity:1;stroke-width:1;stroke-linecap:butt;stroke-linejoin:miter;stroke:rgb(0%,0%,0%);stroke-opacity:1;stroke-miterlimit:10;\" d=\"M 30 80 C 30 85.523438 25.523438 90 20 90 C 14.476562 90 10 85.523438 10 80 C 10 74.476562 14.476562 70 20 70 C 25.523438 70 30 74.476562 30 80 \"/>\n",
       "<path style=\"fill-rule:nonzero;fill:rgb(100%,0%,0%);fill-opacity:1;stroke-width:1;stroke-linecap:butt;stroke-linejoin:miter;stroke:rgb(0%,0%,0%);stroke-opacity:1;stroke-miterlimit:10;\" d=\"M 30 20 C 30 25.523438 25.523438 30 20 30 C 14.476562 30 10 25.523438 10 20 C 10 14.476562 14.476562 10 20 10 C 25.523438 10 30 14.476562 30 20 \"/>\n",
       "</g>\n",
       "</svg>\n"
      ],
      "text/plain": [
       "<igraph.drawing.Plot at 0x7f8673ab5fd0>"
      ]
     },
     "metadata": {},
     "output_type": "display_data"
    },
    {
     "data": {
      "image/svg+xml": [
       "<?xml version=\"1.0\" encoding=\"UTF-8\"?>\n",
       "<svg xmlns=\"http://www.w3.org/2000/svg\" xmlns:xlink=\"http://www.w3.org/1999/xlink\" width=\"100pt\" height=\"100pt\" viewBox=\"0 0 100 100\" version=\"1.1\">\n",
       "<g id=\"surface8186\">\n",
       "<rect x=\"0\" y=\"0\" width=\"100\" height=\"100\" style=\"fill:rgb(100%,100%,100%);fill-opacity:1;stroke:none;\"/>\n",
       "<path style=\"fill:none;stroke-width:1;stroke-linecap:butt;stroke-linejoin:miter;stroke:rgb(26.666667%,26.666667%,26.666667%);stroke-opacity:1;stroke-miterlimit:10;\" d=\"M 80 50 L 20 80 \"/>\n",
       "<path style=\"fill:none;stroke-width:1;stroke-linecap:butt;stroke-linejoin:miter;stroke:rgb(26.666667%,26.666667%,26.666667%);stroke-opacity:1;stroke-miterlimit:10;\" d=\"M 80 50 L 20 20 \"/>\n",
       "<path style=\"fill:none;stroke-width:1;stroke-linecap:butt;stroke-linejoin:miter;stroke:rgb(26.666667%,26.666667%,26.666667%);stroke-opacity:1;stroke-miterlimit:10;\" d=\"M 20 80 L 20 20 \"/>\n",
       "<path style=\"fill-rule:nonzero;fill:rgb(0%,0%,0%);fill-opacity:1;stroke-width:1;stroke-linecap:butt;stroke-linejoin:miter;stroke:rgb(0%,0%,0%);stroke-opacity:1;stroke-miterlimit:10;\" d=\"M 90 50 C 90 55.523438 85.523438 60 80 60 C 74.476562 60 70 55.523438 70 50 C 70 44.476562 74.476562 40 80 40 C 85.523438 40 90 44.476562 90 50 \"/>\n",
       "<path style=\"fill-rule:nonzero;fill:rgb(0%,0%,0%);fill-opacity:1;stroke-width:1;stroke-linecap:butt;stroke-linejoin:miter;stroke:rgb(0%,0%,0%);stroke-opacity:1;stroke-miterlimit:10;\" d=\"M 30 80 C 30 85.523438 25.523438 90 20 90 C 14.476562 90 10 85.523438 10 80 C 10 74.476562 14.476562 70 20 70 C 25.523438 70 30 74.476562 30 80 \"/>\n",
       "<path style=\"fill-rule:nonzero;fill:rgb(100%,0%,0%);fill-opacity:1;stroke-width:1;stroke-linecap:butt;stroke-linejoin:miter;stroke:rgb(0%,0%,0%);stroke-opacity:1;stroke-miterlimit:10;\" d=\"M 30 20 C 30 25.523438 25.523438 30 20 30 C 14.476562 30 10 25.523438 10 20 C 10 14.476562 14.476562 10 20 10 C 25.523438 10 30 14.476562 30 20 \"/>\n",
       "</g>\n",
       "</svg>\n"
      ],
      "text/plain": [
       "<igraph.drawing.Plot at 0x7f867455e490>"
      ]
     },
     "metadata": {},
     "output_type": "display_data"
    },
    {
     "data": {
      "image/svg+xml": [
       "<?xml version=\"1.0\" encoding=\"UTF-8\"?>\n",
       "<svg xmlns=\"http://www.w3.org/2000/svg\" xmlns:xlink=\"http://www.w3.org/1999/xlink\" width=\"100pt\" height=\"100pt\" viewBox=\"0 0 100 100\" version=\"1.1\">\n",
       "<g id=\"surface8192\">\n",
       "<rect x=\"0\" y=\"0\" width=\"100\" height=\"100\" style=\"fill:rgb(100%,100%,100%);fill-opacity:1;stroke:none;\"/>\n",
       "<path style=\"fill:none;stroke-width:1;stroke-linecap:butt;stroke-linejoin:miter;stroke:rgb(26.666667%,26.666667%,26.666667%);stroke-opacity:1;stroke-miterlimit:10;\" d=\"M 80 50 C 52.5 45 32.5 55 20 80 \"/>\n",
       "<path style=\"fill:none;stroke-width:1;stroke-linecap:butt;stroke-linejoin:miter;stroke:rgb(26.666667%,26.666667%,26.666667%);stroke-opacity:1;stroke-miterlimit:10;\" d=\"M 80 50 C 67.5 75 47.5 85 20 80 \"/>\n",
       "<path style=\"fill:none;stroke-width:1;stroke-linecap:butt;stroke-linejoin:miter;stroke:rgb(26.666667%,26.666667%,26.666667%);stroke-opacity:1;stroke-miterlimit:10;\" d=\"M 80 50 L 20 80 \"/>\n",
       "<path style=\"fill:none;stroke-width:1;stroke-linecap:butt;stroke-linejoin:miter;stroke:rgb(26.666667%,26.666667%,26.666667%);stroke-opacity:1;stroke-miterlimit:10;\" d=\"M 20 80 L 20 20 \"/>\n",
       "<path style=\"fill-rule:nonzero;fill:rgb(0%,0%,0%);fill-opacity:1;stroke-width:1;stroke-linecap:butt;stroke-linejoin:miter;stroke:rgb(0%,0%,0%);stroke-opacity:1;stroke-miterlimit:10;\" d=\"M 90 50 C 90 55.523438 85.523438 60 80 60 C 74.476562 60 70 55.523438 70 50 C 70 44.476562 74.476562 40 80 40 C 85.523438 40 90 44.476562 90 50 \"/>\n",
       "<path style=\"fill-rule:nonzero;fill:rgb(0%,0%,0%);fill-opacity:1;stroke-width:1;stroke-linecap:butt;stroke-linejoin:miter;stroke:rgb(0%,0%,0%);stroke-opacity:1;stroke-miterlimit:10;\" d=\"M 30 80 C 30 85.523438 25.523438 90 20 90 C 14.476562 90 10 85.523438 10 80 C 10 74.476562 14.476562 70 20 70 C 25.523438 70 30 74.476562 30 80 \"/>\n",
       "<path style=\"fill-rule:nonzero;fill:rgb(100%,0%,0%);fill-opacity:1;stroke-width:1;stroke-linecap:butt;stroke-linejoin:miter;stroke:rgb(0%,0%,0%);stroke-opacity:1;stroke-miterlimit:10;\" d=\"M 30 20 C 30 25.523438 25.523438 30 20 30 C 14.476562 30 10 25.523438 10 20 C 10 14.476562 14.476562 10 20 10 C 25.523438 10 30 14.476562 30 20 \"/>\n",
       "</g>\n",
       "</svg>\n"
      ],
      "text/plain": [
       "<igraph.drawing.Plot at 0x7f867455e050>"
      ]
     },
     "metadata": {},
     "output_type": "display_data"
    },
    {
     "data": {
      "image/svg+xml": [
       "<?xml version=\"1.0\" encoding=\"UTF-8\"?>\n",
       "<svg xmlns=\"http://www.w3.org/2000/svg\" xmlns:xlink=\"http://www.w3.org/1999/xlink\" width=\"100pt\" height=\"100pt\" viewBox=\"0 0 100 100\" version=\"1.1\">\n",
       "<g id=\"surface8198\">\n",
       "<rect x=\"0\" y=\"0\" width=\"100\" height=\"100\" style=\"fill:rgb(100%,100%,100%);fill-opacity:1;stroke:none;\"/>\n",
       "<path style=\"fill:none;stroke-width:1;stroke-linecap:butt;stroke-linejoin:miter;stroke:rgb(26.666667%,26.666667%,26.666667%);stroke-opacity:1;stroke-miterlimit:10;\" d=\"M 80 50 C 52.5 45 32.5 55 20 80 \"/>\n",
       "<path style=\"fill:none;stroke-width:1;stroke-linecap:butt;stroke-linejoin:miter;stroke:rgb(26.666667%,26.666667%,26.666667%);stroke-opacity:1;stroke-miterlimit:10;\" d=\"M 80 50 C 67.5 75 47.5 85 20 80 \"/>\n",
       "<path style=\"fill:none;stroke-width:1;stroke-linecap:butt;stroke-linejoin:miter;stroke:rgb(26.666667%,26.666667%,26.666667%);stroke-opacity:1;stroke-miterlimit:10;\" d=\"M 80 50 L 20 20 \"/>\n",
       "<path style=\"fill:none;stroke-width:1;stroke-linecap:butt;stroke-linejoin:miter;stroke:rgb(26.666667%,26.666667%,26.666667%);stroke-opacity:1;stroke-miterlimit:10;\" d=\"M 20 80 L 20 20 \"/>\n",
       "<path style=\"fill-rule:nonzero;fill:rgb(0%,0%,0%);fill-opacity:1;stroke-width:1;stroke-linecap:butt;stroke-linejoin:miter;stroke:rgb(0%,0%,0%);stroke-opacity:1;stroke-miterlimit:10;\" d=\"M 90 50 C 90 55.523438 85.523438 60 80 60 C 74.476562 60 70 55.523438 70 50 C 70 44.476562 74.476562 40 80 40 C 85.523438 40 90 44.476562 90 50 \"/>\n",
       "<path style=\"fill-rule:nonzero;fill:rgb(0%,0%,0%);fill-opacity:1;stroke-width:1;stroke-linecap:butt;stroke-linejoin:miter;stroke:rgb(0%,0%,0%);stroke-opacity:1;stroke-miterlimit:10;\" d=\"M 30 80 C 30 85.523438 25.523438 90 20 90 C 14.476562 90 10 85.523438 10 80 C 10 74.476562 14.476562 70 20 70 C 25.523438 70 30 74.476562 30 80 \"/>\n",
       "<path style=\"fill-rule:nonzero;fill:rgb(100%,0%,0%);fill-opacity:1;stroke-width:1;stroke-linecap:butt;stroke-linejoin:miter;stroke:rgb(0%,0%,0%);stroke-opacity:1;stroke-miterlimit:10;\" d=\"M 30 20 C 30 25.523438 25.523438 30 20 30 C 14.476562 30 10 25.523438 10 20 C 10 14.476562 14.476562 10 20 10 C 25.523438 10 30 14.476562 30 20 \"/>\n",
       "</g>\n",
       "</svg>\n"
      ],
      "text/plain": [
       "<igraph.drawing.Plot at 0x7f867455e810>"
      ]
     },
     "metadata": {},
     "output_type": "display_data"
    },
    {
     "data": {
      "image/svg+xml": [
       "<?xml version=\"1.0\" encoding=\"UTF-8\"?>\n",
       "<svg xmlns=\"http://www.w3.org/2000/svg\" xmlns:xlink=\"http://www.w3.org/1999/xlink\" width=\"100pt\" height=\"100pt\" viewBox=\"0 0 100 100\" version=\"1.1\">\n",
       "<g id=\"surface8204\">\n",
       "<rect x=\"0\" y=\"0\" width=\"100\" height=\"100\" style=\"fill:rgb(100%,100%,100%);fill-opacity:1;stroke:none;\"/>\n",
       "<path style=\"fill:none;stroke-width:1;stroke-linecap:butt;stroke-linejoin:miter;stroke:rgb(26.666667%,26.666667%,26.666667%);stroke-opacity:1;stroke-miterlimit:10;\" d=\"M 80 50 C 52.5 45 32.5 55 20 80 \"/>\n",
       "<path style=\"fill:none;stroke-width:1;stroke-linecap:butt;stroke-linejoin:miter;stroke:rgb(26.666667%,26.666667%,26.666667%);stroke-opacity:1;stroke-miterlimit:10;\" d=\"M 80 50 C 67.5 75 47.5 85 20 80 \"/>\n",
       "<path style=\"fill:none;stroke-width:1;stroke-linecap:butt;stroke-linejoin:miter;stroke:rgb(26.666667%,26.666667%,26.666667%);stroke-opacity:1;stroke-miterlimit:10;\" d=\"M 80 50 L 20 80 \"/>\n",
       "<path style=\"fill:none;stroke-width:1;stroke-linecap:butt;stroke-linejoin:miter;stroke:rgb(26.666667%,26.666667%,26.666667%);stroke-opacity:1;stroke-miterlimit:10;\" d=\"M 80 50 L 20 20 \"/>\n",
       "<path style=\"fill:none;stroke-width:1;stroke-linecap:butt;stroke-linejoin:miter;stroke:rgb(26.666667%,26.666667%,26.666667%);stroke-opacity:1;stroke-miterlimit:10;\" d=\"M 20 80 L 20 20 \"/>\n",
       "<path style=\"fill-rule:nonzero;fill:rgb(0%,0%,0%);fill-opacity:1;stroke-width:1;stroke-linecap:butt;stroke-linejoin:miter;stroke:rgb(0%,0%,0%);stroke-opacity:1;stroke-miterlimit:10;\" d=\"M 90 50 C 90 55.523438 85.523438 60 80 60 C 74.476562 60 70 55.523438 70 50 C 70 44.476562 74.476562 40 80 40 C 85.523438 40 90 44.476562 90 50 \"/>\n",
       "<path style=\"fill-rule:nonzero;fill:rgb(0%,0%,0%);fill-opacity:1;stroke-width:1;stroke-linecap:butt;stroke-linejoin:miter;stroke:rgb(0%,0%,0%);stroke-opacity:1;stroke-miterlimit:10;\" d=\"M 30 80 C 30 85.523438 25.523438 90 20 90 C 14.476562 90 10 85.523438 10 80 C 10 74.476562 14.476562 70 20 70 C 25.523438 70 30 74.476562 30 80 \"/>\n",
       "<path style=\"fill-rule:nonzero;fill:rgb(100%,0%,0%);fill-opacity:1;stroke-width:1;stroke-linecap:butt;stroke-linejoin:miter;stroke:rgb(0%,0%,0%);stroke-opacity:1;stroke-miterlimit:10;\" d=\"M 30 20 C 30 25.523438 25.523438 30 20 30 C 14.476562 30 10 25.523438 10 20 C 10 14.476562 14.476562 10 20 10 C 25.523438 10 30 14.476562 30 20 \"/>\n",
       "</g>\n",
       "</svg>\n"
      ],
      "text/plain": [
       "<igraph.drawing.Plot at 0x7f8673ab5fd0>"
      ]
     },
     "metadata": {},
     "output_type": "display_data"
    }
   ],
   "source": [
    "for g in enumerate_graphs_for_stoich(make_stoichiometry(C=2, O=1)):\n",
    "    #print g.vs['element_idx']\n",
    "    #g.vs['label'] = [ELEMENTS[i] for i in g.vs['element_idx']]\n",
    "    #g.vs['label'] = ['-C'] * 6\n",
    "    #print g.vs['element_idx']\n",
    "    #print g.vs['label']\n",
    "    display(igraph.plot(g, layout='circle', bbox=(100, 100), vertex_size=20, \n",
    "                        vertex_color=[ELEMENT_COLORS[i] for i in g.vs['element_idx']]))\n",
    "                              "
   ]
  },
  {
   "cell_type": "code",
   "execution_count": 52,
   "metadata": {
    "collapsed": true
   },
   "outputs": [],
   "source": [
    "def enumerate_graphs(num_heavy):\n",
    "    for stoich in enumerate_stoichiometries(num_heavy):\n",
    "        for g in enumerate_graphs_for_stoich(stoich):\n",
    "            yield g\n",
    "        \n"
   ]
  },
  {
   "cell_type": "code",
   "execution_count": 53,
   "metadata": {
    "collapsed": true
   },
   "outputs": [],
   "source": [
    "def count_graphs(num_heavy):\n",
    "    count = 0\n",
    "    for g in enumerate_graphs(num_heavy):\n",
    "        #display(igraph.plot(g, layout='circle', bbox=(75, 75), vertex_size=10, \n",
    "        #                    vertex_color=[ELEMENT_COLORS[i] for i in g.vs['element_idx']]))\n",
    "        count += 1\n",
    "    return count"
   ]
  },
  {
   "cell_type": "code",
   "execution_count": 54,
   "metadata": {
    "collapsed": false
   },
   "outputs": [
    {
     "name": "stdout",
     "output_type": "stream",
     "text": [
      "CPU times: user 52 ms, sys: 4 ms, total: 56 ms\n",
      "Wall time: 53.8 ms\n"
     ]
    },
    {
     "data": {
      "text/plain": [
       "109"
      ]
     },
     "execution_count": 54,
     "metadata": {},
     "output_type": "execute_result"
    }
   ],
   "source": [
    "%%time\n",
    "count_graphs(3)"
   ]
  },
  {
   "cell_type": "code",
   "execution_count": 55,
   "metadata": {
    "collapsed": false
   },
   "outputs": [
    {
     "name": "stdout",
     "output_type": "stream",
     "text": [
      "CPU times: user 708 ms, sys: 4 ms, total: 712 ms\n",
      "Wall time: 705 ms\n"
     ]
    },
    {
     "data": {
      "text/plain": [
       "806"
      ]
     },
     "execution_count": 55,
     "metadata": {},
     "output_type": "execute_result"
    }
   ],
   "source": [
    "%%time\n",
    "count_graphs(4)"
   ]
  },
  {
   "cell_type": "code",
   "execution_count": 56,
   "metadata": {
    "collapsed": false
   },
   "outputs": [
    {
     "name": "stdout",
     "output_type": "stream",
     "text": [
      "CPU times: user 14.6 s, sys: 84 ms, total: 14.6 s\n",
      "Wall time: 14.6 s\n"
     ]
    },
    {
     "data": {
      "text/plain": [
       "7000"
      ]
     },
     "execution_count": 56,
     "metadata": {},
     "output_type": "execute_result"
    }
   ],
   "source": [
    "%%time\n",
    "count_graphs(5)"
   ]
  },
  {
   "cell_type": "code",
   "execution_count": 57,
   "metadata": {
    "collapsed": false
   },
   "outputs": [
    {
     "name": "stdout",
     "output_type": "stream",
     "text": [
      "CPU times: user 7min 13s, sys: 2.11 s, total: 7min 15s\n",
      "Wall time: 7min 14s\n"
     ]
    },
    {
     "data": {
      "text/plain": [
       "71649"
      ]
     },
     "execution_count": 57,
     "metadata": {},
     "output_type": "execute_result"
    }
   ],
   "source": [
    "%%time\n",
    "count_graphs(6)"
   ]
  },
  {
   "cell_type": "code",
   "execution_count": 58,
   "metadata": {
    "collapsed": false
   },
   "outputs": [
    {
     "name": "stdout",
     "output_type": "stream",
     "text": [
      "CPU times: user 4h 42min 7s, sys: 1min 19s, total: 4h 43min 26s\n",
      "Wall time: 4h 42min 46s\n"
     ]
    },
    {
     "data": {
      "text/plain": [
       "820064"
      ]
     },
     "execution_count": 58,
     "metadata": {},
     "output_type": "execute_result"
    }
   ],
   "source": [
    "%%time\n",
    "count_graphs(7)"
   ]
  },
  {
   "cell_type": "code",
   "execution_count": null,
   "metadata": {
    "collapsed": true
   },
   "outputs": [],
   "source": []
  }
 ],
 "metadata": {
  "kernelspec": {
   "display_name": "Python 2",
   "language": "python",
   "name": "python2"
  },
  "language_info": {
   "codemirror_mode": {
    "name": "ipython",
    "version": 2
   },
   "file_extension": ".py",
   "mimetype": "text/x-python",
   "name": "python",
   "nbconvert_exporter": "python",
   "pygments_lexer": "ipython2",
   "version": "2.7.13"
  }
 },
 "nbformat": 4,
 "nbformat_minor": 2
}
