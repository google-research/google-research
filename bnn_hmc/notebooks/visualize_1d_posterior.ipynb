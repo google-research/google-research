{
 "cells": [
  {
   "cell_type": "code",
   "execution_count": 1,
   "metadata": {},
   "outputs": [],
   "source": [
    "%load_ext autoreload\n",
    "%autoreload 2"
   ]
  },
  {
   "cell_type": "code",
   "execution_count": 2,
   "metadata": {},
   "outputs": [],
   "source": [
    "workspaceFolder = \"/home/gabor/Projects/bnn_seq_vi\"\n",
    "seq_args = [\n",
    "    \"--seed=3\",\n",
    "    # \"--weight_decay=15\",\n",
    "    # f\"--pretrained_prior_checkpoint={workspaceFolder}/bnn_hmc/.runs/vi/regtest2/mfvi_initsigma_0.01_meaninit__opt_adam__lr_sch_i_0.001___epochs_300_wd_0.5_batchsize_1_temp_1.0__seed_11/model_step_299.pt\",\n",
    "    f\"--dir={workspaceFolder}/bnn_hmc/.runs/sgd/visualize/\",\n",
    "    \"--dataset_name=regtest_1\",\n",
    "    \"--model_name=bayesian_regression\",\n",
    "    # \"--init_step_size=1e-4\",\n",
    "    # \"--num_epochs=500\",\n",
    "    # \"--eval_freq=50\",\n",
    "    # \"--batch_size=1\",\n",
    "    # \"--save_freq=500\",\n",
    "    # \"--vi_sigma_init=1e-3\",\n",
    "]"
   ]
  },
  {
   "cell_type": "code",
   "execution_count": 3,
   "metadata": {},
   "outputs": [],
   "source": [
    "import os\n",
    "import pandas as pd\n",
    "import importlib\n",
    "os.chdir(\"../..\")"
   ]
  },
  {
   "cell_type": "code",
   "execution_count": 6,
   "metadata": {},
   "outputs": [],
   "source": [
    "from jax import numpy as jnp\n",
    "import jax\n",
    "import pandas as pd\n",
    "import tensorflow.compat.v2 as tf\n",
    "import argparse\n",
    "\n",
    "from bnn_hmc.utils import checkpoint_utils\n",
    "from bnn_hmc.utils import cmd_args_utils\n",
    "from bnn_hmc.utils import logging_utils\n",
    "from bnn_hmc.utils import train_utils\n",
    "from bnn_hmc.utils import optim_utils\n",
    "from bnn_hmc.utils import script_utils\n",
    "from bnn_hmc.core import vi\n",
    "\n",
    "parser = argparse.ArgumentParser(description=\"Run SGD on a cloud TPU\")\n",
    "cmd_args_utils.add_common_flags(parser)\n",
    "cmd_args_utils.add_sgd_flags(parser)\n",
    "parser.add_argument(\"--vi_sigma_init\", default=1e-3)\n",
    "\n",
    "args = parser.parse_args(seq_args)\n",
    "train_utils.set_up_jax(args.tpu_ip, args.use_float64)"
   ]
  },
  {
   "cell_type": "code",
   "execution_count": 7,
   "metadata": {},
   "outputs": [],
   "source": [
    "import matplotlib.pyplot as plt\n",
    "%matplotlib inline"
   ]
  },
  {
   "cell_type": "code",
   "execution_count": 8,
   "metadata": {},
   "outputs": [],
   "source": [
    "(train_set, test_set, net_apply, params, net_state, key, log_likelihood_fn,\n",
    "   log_prior_fn, _, predict_fn, ensemble_upd_fn, metrics_fns,\n",
    "   tabulate_metrics) = script_utils.get_data_model_fns(args)"
   ]
  },
  {
   "cell_type": "code",
   "execution_count": 9,
   "metadata": {},
   "outputs": [],
   "source": [
    "VI_POSTERIOR_CHECKPOINT = f\"{workspaceFolder}/bnn_hmc/.runs/vi/regtest2/\"\\\n",
    "                          \"mfvi_initsigma_0.01_meaninit__opt_adam__lr_sch_i_0.001___epochs_300_wd_0.5_batchsize_1_temp_1.0__seed_11/\"\\\n",
    "                          \"model_step_299.pt\"\n",
    "VI_ENSEMBLE_PREDICT_SIZE = 500"
   ]
  },
  {
   "cell_type": "code",
   "execution_count": 10,
   "metadata": {},
   "outputs": [
    {
     "data": {
      "text/plain": [
       "{'inv_softplus_std': {'linear': {'b': Array([-4.449687 , -4.4497023], dtype=float32),\n",
       "   'w': Array([[-4.4497523, -4.4496865]], dtype=float32)}},\n",
       " 'mean': {'linear': {'b': Array([ 0.29441336, -0.16342908], dtype=float32),\n",
       "   'w': Array([[-0.29441342,  0.16342911]], dtype=float32)}}}"
      ]
     },
     "execution_count": 10,
     "metadata": {},
     "output_type": "execute_result"
    }
   ],
   "source": [
    "posterior_params = checkpoint_utils.load_checkpoint(VI_POSTERIOR_CHECKPOINT)['params']\n",
    "posterior_params"
   ]
  },
  {
   "cell_type": "code",
   "execution_count": 11,
   "metadata": {},
   "outputs": [],
   "source": [
    "  # Convert the model to MFVI parameterization\n",
    "net_apply, mean_apply, _, _posterior_params, net_state = vi.get_mfvi_model_fn(\n",
    "    net_apply, posterior_params, net_state, seed=0, sigma_init=args.vi_sigma_init)\n",
    "# prior_kl = vi.make_kl_with_gaussian_prior(args.weight_decay, args.temperature)\n",
    "num_devices = len(jax.devices())\n",
    "net_state = jax.pmap(lambda _: net_state)(jnp.arange(num_devices))"
   ]
  },
  {
   "cell_type": "code",
   "execution_count": 12,
   "metadata": {},
   "outputs": [],
   "source": [
    "def vi_ensemble_predict_fn(net_apply, params, net_state, ds):\n",
    "    net_state, all_preds = jax.lax.scan(\n",
    "        lambda state, _: predict_fn(net_apply, params, state, ds),\n",
    "        init=net_state,\n",
    "        xs=jnp.arange(VI_ENSEMBLE_PREDICT_SIZE))\n",
    "\n",
    "    ensemble_predictions = None\n",
    "    num_ensembled = 0\n",
    "    for pred in all_preds:\n",
    "        ensemble_predictions = ensemble_upd_fn(ensemble_predictions,\n",
    "                                                num_ensembled, pred)\n",
    "        num_ensembled += 1\n",
    "    return net_state, ensemble_predictions, all_preds"
   ]
  },
  {
   "cell_type": "code",
   "execution_count": 24,
   "metadata": {},
   "outputs": [],
   "source": [
    "net_state, test_predictions, all_preds = vi_ensemble_predict_fn(net_apply, posterior_params, net_state, test_set)\n",
    "posterior_mean = test_predictions[0, ..., 0]\n",
    "posterior_mean_std = pd.DataFrame(all_preds[...,0,:,0]).std(axis=0)\n",
    "predictive_std = test_predictions[0, ..., 1]"
   ]
  },
  {
   "cell_type": "code",
   "execution_count": 26,
   "metadata": {},
   "outputs": [
    {
     "data": {
      "image/png": "[encoded data removed]",
      "text/plain": [
       "<Figure size 640x480 with 1 Axes>"
      ]
     },
     "metadata": {},
     "output_type": "display_data"
    }
   ],
   "source": [
    "test_x = test_set[0][0, ..., 0]\n",
    "plt.errorbar(test_x, posterior_mean, yerr=predictive_std)\n",
    "plt.fill_between(test_x, posterior_mean-posterior_mean_std, posterior_mean+posterior_mean_std, alpha=0.4)\n",
    "plt.hlines(y=0, xmin=-2, xmax=2, alpha=0.2)\n",
    "plt.show()"
   ]
  }
 ],
 "metadata": {
  "kernelspec": {
   "display_name": "Python 3",
   "language": "python",
   "name": "python3"
  },
  "language_info": {
   "codemirror_mode": {
    "name": "ipython",
    "version": 3
   },
   "file_extension": ".py",
   "mimetype": "text/x-python",
   "name": "python",
   "nbconvert_exporter": "python",
   "pygments_lexer": "ipython3",
   "version": "3.10.14"
  }
 },
 "nbformat": 4,
 "nbformat_minor": 2
}
