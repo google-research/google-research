{
 "cells": [
  {
   "cell_type": "code",
   "execution_count": 1,
   "metadata": {},
   "outputs": [],
   "source": [
    "#@title Licensed under the Apache License, Version 2.0 (the \"License\"); { display-mode: \"form\" }\n",
    "# you may not use this file except in compliance with the License.\n",
    "# You may obtain a copy of the License at\n",
    "#\n",
    "# https://www.apache.org/licenses/LICENSE-2.0\n",
    "#\n",
    "# Unless required by applicable law or agreed to in writing, software\n",
    "# distributed under the License is distributed on an \"AS IS\" BASIS,\n",
    "# WITHOUT WARRANTIES OR CONDITIONS OF ANY KIND, either express or implied.\n",
    "# See the License for the specific language governing permissions and\n",
    "# limitations under the License."
   ]
  },
  {
   "cell_type": "markdown",
   "metadata": {},
   "source": [
    "# HMC, SGMCMC and MFVI on Synthetic Regression"
   ]
  },
  {
   "cell_type": "code",
   "execution_count": 1,
   "metadata": {},
   "outputs": [],
   "source": [
    "import os\n",
    "import sys\n",
    "from jax import config\n",
    "import haiku as hk\n",
    "import jax\n",
    "from jax import numpy as jnp\n",
    "import numpy as onp\n",
    "import time\n",
    "from jax.experimental.callback import rewrite\n",
    "import tqdm\n",
    "import copy\n",
    "\n",
    "from bnn_hmc.utils import data_utils\n",
    "from bnn_hmc.utils import models\n",
    "from bnn_hmc.utils import losses\n",
    "from bnn_hmc.utils import checkpoint_utils\n",
    "from bnn_hmc.utils import cmd_args_utils\n",
    "from bnn_hmc.utils import logging_utils\n",
    "from bnn_hmc.utils import train_utils\n",
    "from bnn_hmc.utils import tree_utils\n",
    "from bnn_hmc.utils import precision_utils\n",
    "from bnn_hmc.utils import optim_utils\n",
    "\n",
    "import optax\n",
    "import functools\n",
    "\n",
    "from matplotlib import pyplot as plt\n",
    "\n",
    "%matplotlib inline\n",
    "%load_ext autoreload\n",
    "%autoreload 2"
   ]
  },
  {
   "cell_type": "code",
   "execution_count": 2,
   "metadata": {},
   "outputs": [],
   "source": [
    "# tpu_ip = \"10.0.0.2\"\n",
    "# config.FLAGS.jax_xla_backend = \"tpu_driver\"\n",
    "# config.FLAGS.jax_backend_target = \"grpc://{}:8470\".format(tpu_ip)\n",
    "train_utils.set_up_jax(None, False)"
   ]
  },
  {
   "cell_type": "markdown",
   "metadata": {},
   "source": [
    "## Data"
   ]
  },
  {
   "cell_type": "code",
   "execution_count": 3,
   "metadata": {},
   "outputs": [],
   "source": [
    "data_npz = onp.load(\"synth_reg_data.npz\")\n",
    "x_ = jnp.asarray(data_npz[\"x_\"])\n",
    "y_ = jnp.asarray(data_npz[\"y_\"])\n",
    "f_ = jnp.asarray(data_npz[\"f_\"])\n",
    "x = jnp.asarray(data_npz[\"x\"])\n",
    "y = jnp.asarray(data_npz[\"y\"])\n",
    "f = jnp.asarray(data_npz[\"f\"])\n",
    "\n",
    "data_info = {\"y_scale\": 1.}"
   ]
  },
  {
   "cell_type": "code",
   "execution_count": 4,
   "metadata": {},
   "outputs": [],
   "source": [
    "def inv_softplus(x):\n",
    "    return jnp.log(jnp.exp(x) - 1)\n",
    "\n",
    "# Noise in the data\n",
    "noise_std = 0.02\n",
    "invsp_noise_std = inv_softplus(noise_std)"
   ]
  },
  {
   "cell_type": "code",
   "execution_count": 5,
   "metadata": {
    "scrolled": true
   },
   "outputs": [
    {
     "data": {
      "text/plain": [
       "[<matplotlib.lines.Line2D at 0x7f174cf5ed00>]"
      ]
     },
     "execution_count": 5,
     "metadata": {},
     "output_type": "execute_result"
    },
    {
     "data": {
      "image/png": "[encoded data removed]",
      "text/plain": [
       "<Figure size 432x288 with 1 Axes>"
      ]
     },
     "metadata": {
      "needs_background": "light"
     },
     "output_type": "display_data"
    }
   ],
   "source": [
    "plt.plot(x, y, \"bo\")\n",
    "plt.plot(x_, y_, \"-k\")"
   ]
  },
  {
   "cell_type": "code",
   "execution_count": 6,
   "metadata": {},
   "outputs": [],
   "source": [
    "num_devices = len(jax.devices())\n",
    "train_set = (f, y)\n",
    "test_set = (f_, y_)\n",
    "train_set = data_utils.pmap_dataset(train_set, num_devices)\n",
    "test_set = data_utils.pmap_dataset(test_set, num_devices)"
   ]
  },
  {
   "cell_type": "markdown",
   "metadata": {},
   "source": [
    "## Model"
   ]
  },
  {
   "cell_type": "code",
   "execution_count": 7,
   "metadata": {},
   "outputs": [],
   "source": [
    "def make_model(layer_dims, invsp_noise_std):\n",
    "    def forward(batch, is_training):\n",
    "        x, _ = batch\n",
    "        x = hk.Flatten()(x)\n",
    "        for layer_dim in layer_dims:\n",
    "            x = hk.Linear(layer_dim)(x)\n",
    "            x = jax.nn.relu(x)\n",
    "        x = hk.Linear(1)(x)\n",
    "        x = jnp.concatenate([x, jnp.ones_like(x) * invsp_noise_std], -1)\n",
    "        return x\n",
    "    return forward"
   ]
  },
  {
   "cell_type": "code",
   "execution_count": 8,
   "metadata": {},
   "outputs": [],
   "source": [
    "# net_fn = models.make_mlp_regression(data_info, output_dim=1, layer_dims=[100, 100, 100])\n",
    "net_fn = make_model(layer_dims=[100, 100, 100], invsp_noise_std=invsp_noise_std)\n",
    "net = hk.transform_with_state(net_fn)\n",
    "net_apply, net_init = net.apply, net.init\n",
    "net_apply = precision_utils.rewrite_high_precision(net_apply)"
   ]
  },
  {
   "cell_type": "code",
   "execution_count": 9,
   "metadata": {},
   "outputs": [],
   "source": [
    "# key, net_init_key = jax.random.split(jax.random.PRNGKey(0), 2)\n",
    "# start_iteration = 0\n",
    "# num_ensembled = 0\n",
    "# ensemble_predictions = None\n",
    "# step_size = 1.e-4"
   ]
  },
  {
   "cell_type": "code",
   "execution_count": 10,
   "metadata": {},
   "outputs": [],
   "source": [
    "def resample_params(seed, params, std=0.005):\n",
    "    key = jax.random.PRNGKey(seed)\n",
    "    num_leaves = len(jax.tree.leaves(params))\n",
    "    normal_keys = list(jax.random.split(key, num_leaves))\n",
    "    treedef = jax.tree.structure(params)\n",
    "    normal_keys = jax.tree.unflatten(treedef, normal_keys)\n",
    "    params = jax.tree_multimap(lambda p, k: jax.random.normal(k, p.shape) * std,\n",
    "                               params, normal_keys)\n",
    "    return params"
   ]
  },
  {
   "cell_type": "code",
   "execution_count": 11,
   "metadata": {},
   "outputs": [],
   "source": [
    "param_seed = 2\n",
    "params, net_state = net.init(jax.random.PRNGKey(param_seed), (f, None), True)\n",
    "params = resample_params(param_seed, params)\n",
    "net_state = jax.pmap(lambda _: net_state)(jnp.arange(num_devices))"
   ]
  },
  {
   "cell_type": "markdown",
   "metadata": {},
   "source": [
    "## Prior and likelihood"
   ]
  },
  {
   "cell_type": "code",
   "execution_count": 12,
   "metadata": {},
   "outputs": [],
   "source": [
    "prior_std = 0.1\n",
    "weight_decay = 1 / prior_std**2\n",
    "\n",
    "task = data_utils.Task(\"regression\")\n",
    "(likelihood_factory, predict_fn, ensemble_upd_fn, _,_) = train_utils.get_task_specific_fns(task, data_info)\n",
    "log_prior_fn, log_prior_diff_fn = losses.make_gaussian_log_prior(weight_decay, 1.)"
   ]
  },
  {
   "cell_type": "code",
   "execution_count": 13,
   "metadata": {},
   "outputs": [],
   "source": [
    "log_prior_fn, log_prior_diff_fn = (\n",
    "    losses.make_gaussian_log_prior(weight_decay, 1.))\n",
    "log_likelihood_fn = losses.make_gaussian_likelihood(1.)"
   ]
  },
  {
   "cell_type": "markdown",
   "metadata": {},
   "source": [
    "## HMC\n",
    "### HMC update"
   ]
  },
  {
   "cell_type": "code",
   "execution_count": 14,
   "metadata": {},
   "outputs": [
    {
     "name": "stdout",
     "output_type": "stream",
     "text": [
      "Leapfrog steps per iteration: 15708\n"
     ]
    }
   ],
   "source": [
    "step_size = 1e-5\n",
    "trajectory_len = jnp.pi / 2 / jnp.sqrt(weight_decay)\n",
    "max_num_leapfrog_steps = int(trajectory_len // step_size + 1)\n",
    "print(\"Leapfrog steps per iteration:\", max_num_leapfrog_steps)"
   ]
  },
  {
   "cell_type": "code",
   "execution_count": 15,
   "metadata": {},
   "outputs": [],
   "source": [
    "update, get_log_prob_and_grad = train_utils.make_hmc_update(\n",
    "    net_apply, log_likelihood_fn, log_prior_fn, log_prior_diff_fn,\n",
    "    max_num_leapfrog_steps, 1., 0.)"
   ]
  },
  {
   "cell_type": "code",
   "execution_count": 16,
   "metadata": {},
   "outputs": [],
   "source": [
    "# Initial log-prob and grad values\n",
    "log_prob, state_grad, log_likelihood, net_state = (\n",
    "    get_log_prob_and_grad(train_set, params, net_state))"
   ]
  },
  {
   "cell_type": "markdown",
   "metadata": {},
   "source": [
    "### Run HMC"
   ]
  },
  {
   "cell_type": "code",
   "execution_count": 17,
   "metadata": {},
   "outputs": [
    {
     "name": "stderr",
     "output_type": "stream",
     "text": [
      "  0%|          | 0/100 [00:00<?, ?it/s]/home/pavel/anaconda3/envs/py38/lib/python3.8/site-packages/numpy/core/_asarray.py:83: VisibleDeprecationWarning: Creating an ndarray from ragged nested sequences (which is a list-or-tuple of lists-or-tuples-or ndarrays with different lengths or shapes) is deprecated. If you meant to do this, you must specify 'dtype=object' when creating the ndarray\n",
      "  return array(a, dtype, copy=False, order=order)\n",
      "  1%|          | 1/100 [00:04<08:14,  4.99s/it]"
     ]
    },
    {
     "name": "stdout",
     "output_type": "stream",
     "text": [
      "It: 0 \t Accept P: 0.44331416487693787 \t Accepted False \t Log-likelihood: -4750.1806640625\n"
     ]
    },
    {
     "name": "stderr",
     "output_type": "stream",
     "text": [
      "\r",
      "  2%|▏         | 2/100 [00:09<07:40,  4.70s/it]"
     ]
    },
    {
     "name": "stdout",
     "output_type": "stream",
     "text": [
      "It: 1 \t Accept P: 0.6106910705566406 \t Accepted True \t Log-likelihood: 288.75006103515625\n"
     ]
    },
    {
     "name": "stderr",
     "output_type": "stream",
     "text": [
      "\r",
      "  3%|▎         | 3/100 [00:13<07:25,  4.59s/it]"
     ]
    },
    {
     "name": "stdout",
     "output_type": "stream",
     "text": [
      "It: 2 \t Accept P: 0.6960702538490295 \t Accepted False \t Log-likelihood: 288.75006103515625\n"
     ]
    },
    {
     "name": "stderr",
     "output_type": "stream",
     "text": [
      "\r",
      "  4%|▍         | 4/100 [00:18<07:10,  4.49s/it]"
     ]
    },
    {
     "name": "stdout",
     "output_type": "stream",
     "text": [
      "It: 3 \t Accept P: 0.3969963788986206 \t Accepted False \t Log-likelihood: 288.75006103515625\n"
     ]
    },
    {
     "name": "stderr",
     "output_type": "stream",
     "text": [
      "\r",
      "  5%|▌         | 5/100 [00:22<07:02,  4.45s/it]"
     ]
    },
    {
     "name": "stdout",
     "output_type": "stream",
     "text": [
      "It: 4 \t Accept P: 0.5421000719070435 \t Accepted True \t Log-likelihood: 296.9173583984375\n"
     ]
    },
    {
     "name": "stderr",
     "output_type": "stream",
     "text": [
      "\r",
      "  6%|▌         | 6/100 [00:27<06:55,  4.42s/it]"
     ]
    },
    {
     "name": "stdout",
     "output_type": "stream",
     "text": [
      "It: 5 \t Accept P: 1.0 \t Accepted True \t Log-likelihood: 300.0396728515625\n"
     ]
    },
    {
     "name": "stderr",
     "output_type": "stream",
     "text": [
      "\r",
      "  7%|▋         | 7/100 [00:31<06:54,  4.46s/it]"
     ]
    },
    {
     "name": "stdout",
     "output_type": "stream",
     "text": [
      "It: 6 \t Accept P: 0.8234943747520447 \t Accepted True \t Log-likelihood: 304.6881408691406\n"
     ]
    },
    {
     "name": "stderr",
     "output_type": "stream",
     "text": [
      "\r",
      "  8%|▊         | 8/100 [00:36<06:50,  4.46s/it]"
     ]
    },
    {
     "name": "stdout",
     "output_type": "stream",
     "text": [
      "It: 7 \t Accept P: 0.7535507082939148 \t Accepted True \t Log-likelihood: 306.29449462890625\n"
     ]
    },
    {
     "name": "stderr",
     "output_type": "stream",
     "text": [
      "\r",
      "  9%|▉         | 9/100 [00:40<06:42,  4.43s/it]"
     ]
    },
    {
     "name": "stdout",
     "output_type": "stream",
     "text": [
      "It: 8 \t Accept P: 0.7557385563850403 \t Accepted True \t Log-likelihood: 300.27215576171875\n"
     ]
    },
    {
     "name": "stderr",
     "output_type": "stream",
     "text": [
      "\r",
      " 10%|█         | 10/100 [00:44<06:38,  4.43s/it]"
     ]
    },
    {
     "name": "stdout",
     "output_type": "stream",
     "text": [
      "It: 9 \t Accept P: 1.0 \t Accepted True \t Log-likelihood: 307.8955993652344\n"
     ]
    },
    {
     "name": "stderr",
     "output_type": "stream",
     "text": [
      "\r",
      " 11%|█         | 11/100 [00:49<06:34,  4.43s/it]"
     ]
    },
    {
     "name": "stdout",
     "output_type": "stream",
     "text": [
      "It: 10 \t Accept P: 1.0 \t Accepted True \t Log-likelihood: 305.6859130859375\n"
     ]
    },
    {
     "name": "stderr",
     "output_type": "stream",
     "text": [
      "\r",
      " 12%|█▏        | 12/100 [00:53<06:30,  4.44s/it]"
     ]
    },
    {
     "name": "stdout",
     "output_type": "stream",
     "text": [
      "It: 11 \t Accept P: 0.5808966755867004 \t Accepted True \t Log-likelihood: 301.56597900390625\n"
     ]
    },
    {
     "name": "stderr",
     "output_type": "stream",
     "text": [
      "\r",
      " 13%|█▎        | 13/100 [00:58<06:24,  4.42s/it]"
     ]
    },
    {
     "name": "stdout",
     "output_type": "stream",
     "text": [
      "It: 12 \t Accept P: 1.0 \t Accepted True \t Log-likelihood: 305.988037109375\n"
     ]
    },
    {
     "name": "stderr",
     "output_type": "stream",
     "text": [
      "\r",
      " 14%|█▍        | 14/100 [01:02<06:19,  4.42s/it]"
     ]
    },
    {
     "name": "stdout",
     "output_type": "stream",
     "text": [
      "It: 13 \t Accept P: 1.0 \t Accepted True \t Log-likelihood: 301.1233215332031\n"
     ]
    },
    {
     "name": "stderr",
     "output_type": "stream",
     "text": [
      "\r",
      " 15%|█▌        | 15/100 [01:06<06:12,  4.38s/it]"
     ]
    },
    {
     "name": "stdout",
     "output_type": "stream",
     "text": [
      "It: 14 \t Accept P: 1.0 \t Accepted True \t Log-likelihood: 304.947509765625\n"
     ]
    },
    {
     "name": "stderr",
     "output_type": "stream",
     "text": [
      "\r",
      " 16%|█▌        | 16/100 [01:11<06:08,  4.38s/it]"
     ]
    },
    {
     "name": "stdout",
     "output_type": "stream",
     "text": [
      "It: 15 \t Accept P: 0.6118027567863464 \t Accepted False \t Log-likelihood: 304.947509765625\n"
     ]
    },
    {
     "name": "stderr",
     "output_type": "stream",
     "text": [
      "\r",
      " 17%|█▋        | 17/100 [01:15<06:04,  4.39s/it]"
     ]
    },
    {
     "name": "stdout",
     "output_type": "stream",
     "text": [
      "It: 16 \t Accept P: 1.0 \t Accepted True \t Log-likelihood: 301.9200439453125\n"
     ]
    },
    {
     "name": "stderr",
     "output_type": "stream",
     "text": [
      "\r",
      " 18%|█▊        | 18/100 [01:20<06:01,  4.40s/it]"
     ]
    },
    {
     "name": "stdout",
     "output_type": "stream",
     "text": [
      "It: 17 \t Accept P: 0.6961233615875244 \t Accepted True \t Log-likelihood: 299.6227722167969\n"
     ]
    },
    {
     "name": "stderr",
     "output_type": "stream",
     "text": [
      "\r",
      " 19%|█▉        | 19/100 [01:24<05:56,  4.40s/it]"
     ]
    },
    {
     "name": "stdout",
     "output_type": "stream",
     "text": [
      "It: 18 \t Accept P: 1.0 \t Accepted True \t Log-likelihood: 298.88525390625\n"
     ]
    },
    {
     "name": "stderr",
     "output_type": "stream",
     "text": [
      "\r",
      " 20%|██        | 20/100 [01:28<05:50,  4.38s/it]"
     ]
    },
    {
     "name": "stdout",
     "output_type": "stream",
     "text": [
      "It: 19 \t Accept P: 0.564547061920166 \t Accepted True \t Log-likelihood: 305.3060302734375\n"
     ]
    },
    {
     "name": "stderr",
     "output_type": "stream",
     "text": [
      "\r",
      " 21%|██        | 21/100 [01:32<05:43,  4.35s/it]"
     ]
    },
    {
     "name": "stdout",
     "output_type": "stream",
     "text": [
      "It: 20 \t Accept P: 1.0 \t Accepted True \t Log-likelihood: 306.0487060546875\n"
     ]
    },
    {
     "name": "stderr",
     "output_type": "stream",
     "text": [
      "\r",
      " 22%|██▏       | 22/100 [01:37<05:39,  4.35s/it]"
     ]
    },
    {
     "name": "stdout",
     "output_type": "stream",
     "text": [
      "It: 21 \t Accept P: 1.0 \t Accepted True \t Log-likelihood: 304.29803466796875\n"
     ]
    },
    {
     "name": "stderr",
     "output_type": "stream",
     "text": [
      "\r",
      " 23%|██▎       | 23/100 [01:41<05:35,  4.36s/it]"
     ]
    },
    {
     "name": "stdout",
     "output_type": "stream",
     "text": [
      "It: 22 \t Accept P: 0.931722104549408 \t Accepted True \t Log-likelihood: 306.2374267578125\n"
     ]
    },
    {
     "name": "stderr",
     "output_type": "stream",
     "text": [
      "\r",
      " 24%|██▍       | 24/100 [01:46<05:30,  4.35s/it]"
     ]
    },
    {
     "name": "stdout",
     "output_type": "stream",
     "text": [
      "It: 23 \t Accept P: 0.9963369965553284 \t Accepted True \t Log-likelihood: 307.23046875\n"
     ]
    },
    {
     "name": "stderr",
     "output_type": "stream",
     "text": [
      "\r",
      " 25%|██▌       | 25/100 [01:50<05:26,  4.35s/it]"
     ]
    },
    {
     "name": "stdout",
     "output_type": "stream",
     "text": [
      "It: 24 \t Accept P: 0.9574736952781677 \t Accepted True \t Log-likelihood: 304.567626953125\n"
     ]
    },
    {
     "name": "stderr",
     "output_type": "stream",
     "text": [
      "\r",
      " 26%|██▌       | 26/100 [01:54<05:21,  4.35s/it]"
     ]
    },
    {
     "name": "stdout",
     "output_type": "stream",
     "text": [
      "It: 25 \t Accept P: 1.0 \t Accepted True \t Log-likelihood: 301.8046875\n"
     ]
    },
    {
     "name": "stderr",
     "output_type": "stream",
     "text": [
      "\r",
      " 27%|██▋       | 27/100 [01:59<05:17,  4.35s/it]"
     ]
    },
    {
     "name": "stdout",
     "output_type": "stream",
     "text": [
      "It: 26 \t Accept P: 0.6117029786109924 \t Accepted True \t Log-likelihood: 305.7394104003906\n"
     ]
    },
    {
     "name": "stderr",
     "output_type": "stream",
     "text": [
      "\r",
      " 28%|██▊       | 28/100 [02:03<05:15,  4.39s/it]"
     ]
    },
    {
     "name": "stdout",
     "output_type": "stream",
     "text": [
      "It: 27 \t Accept P: 0.8127864599227905 \t Accepted False \t Log-likelihood: 305.7394104003906\n"
     ]
    },
    {
     "name": "stderr",
     "output_type": "stream",
     "text": [
      "\r",
      " 29%|██▉       | 29/100 [02:07<05:11,  4.39s/it]"
     ]
    },
    {
     "name": "stdout",
     "output_type": "stream",
     "text": [
      "It: 28 \t Accept P: 0.8444713354110718 \t Accepted True \t Log-likelihood: 302.2467041015625\n"
     ]
    },
    {
     "name": "stderr",
     "output_type": "stream",
     "text": [
      "\r",
      " 30%|███       | 30/100 [02:12<05:07,  4.39s/it]"
     ]
    },
    {
     "name": "stdout",
     "output_type": "stream",
     "text": [
      "It: 29 \t Accept P: 1.0 \t Accepted True \t Log-likelihood: 304.6074523925781\n"
     ]
    },
    {
     "name": "stderr",
     "output_type": "stream",
     "text": [
      "\r",
      " 31%|███       | 31/100 [02:16<05:03,  4.39s/it]"
     ]
    },
    {
     "name": "stdout",
     "output_type": "stream",
     "text": [
      "It: 30 \t Accept P: 1.0 \t Accepted True \t Log-likelihood: 303.765869140625\n"
     ]
    },
    {
     "name": "stderr",
     "output_type": "stream",
     "text": [
      "\r",
      " 32%|███▏      | 32/100 [02:21<04:58,  4.39s/it]"
     ]
    },
    {
     "name": "stdout",
     "output_type": "stream",
     "text": [
      "It: 31 \t Accept P: 0.8158897757530212 \t Accepted True \t Log-likelihood: 303.4247741699219\n"
     ]
    },
    {
     "name": "stderr",
     "output_type": "stream",
     "text": [
      "\r",
      " 33%|███▎      | 33/100 [02:25<04:53,  4.38s/it]"
     ]
    },
    {
     "name": "stdout",
     "output_type": "stream",
     "text": [
      "It: 32 \t Accept P: 0.8440139889717102 \t Accepted False \t Log-likelihood: 303.4247741699219\n"
     ]
    },
    {
     "name": "stderr",
     "output_type": "stream",
     "text": [
      "\r",
      " 34%|███▍      | 34/100 [02:29<04:49,  4.38s/it]"
     ]
    },
    {
     "name": "stdout",
     "output_type": "stream",
     "text": [
      "It: 33 \t Accept P: 1.0 \t Accepted True \t Log-likelihood: 305.3061828613281\n"
     ]
    },
    {
     "name": "stderr",
     "output_type": "stream",
     "text": [
      "\r",
      " 35%|███▌      | 35/100 [02:34<04:45,  4.39s/it]"
     ]
    },
    {
     "name": "stdout",
     "output_type": "stream",
     "text": [
      "It: 34 \t Accept P: 0.9191089868545532 \t Accepted True \t Log-likelihood: 305.9798583984375\n"
     ]
    },
    {
     "name": "stderr",
     "output_type": "stream",
     "text": [
      "\r",
      " 36%|███▌      | 36/100 [02:38<04:40,  4.39s/it]"
     ]
    },
    {
     "name": "stdout",
     "output_type": "stream",
     "text": [
      "It: 35 \t Accept P: 0.6415802836418152 \t Accepted True \t Log-likelihood: 303.8466796875\n"
     ]
    },
    {
     "name": "stderr",
     "output_type": "stream",
     "text": [
      "\r",
      " 37%|███▋      | 37/100 [02:43<04:35,  4.38s/it]"
     ]
    },
    {
     "name": "stdout",
     "output_type": "stream",
     "text": [
      "It: 36 \t Accept P: 1.0 \t Accepted True \t Log-likelihood: 305.57568359375\n"
     ]
    },
    {
     "name": "stderr",
     "output_type": "stream",
     "text": [
      "\r",
      " 38%|███▊      | 38/100 [02:47<04:31,  4.38s/it]"
     ]
    },
    {
     "name": "stdout",
     "output_type": "stream",
     "text": [
      "It: 37 \t Accept P: 0.8615278601646423 \t Accepted True \t Log-likelihood: 303.54656982421875\n"
     ]
    },
    {
     "name": "stderr",
     "output_type": "stream",
     "text": [
      "\r",
      " 39%|███▉      | 39/100 [02:51<04:28,  4.40s/it]"
     ]
    },
    {
     "name": "stdout",
     "output_type": "stream",
     "text": [
      "It: 38 \t Accept P: 0.7682139277458191 \t Accepted False \t Log-likelihood: 303.54656982421875\n"
     ]
    },
    {
     "name": "stderr",
     "output_type": "stream",
     "text": [
      "\r",
      " 40%|████      | 40/100 [02:56<04:24,  4.41s/it]"
     ]
    },
    {
     "name": "stdout",
     "output_type": "stream",
     "text": [
      "It: 39 \t Accept P: 0.9846616983413696 \t Accepted True \t Log-likelihood: 306.8083190917969\n"
     ]
    },
    {
     "name": "stderr",
     "output_type": "stream",
     "text": [
      "\r",
      " 41%|████      | 41/100 [03:00<04:20,  4.41s/it]"
     ]
    },
    {
     "name": "stdout",
     "output_type": "stream",
     "text": [
      "It: 40 \t Accept P: 1.0 \t Accepted True \t Log-likelihood: 302.1324157714844\n"
     ]
    },
    {
     "name": "stderr",
     "output_type": "stream",
     "text": [
      "\r",
      " 42%|████▏     | 42/100 [03:05<04:17,  4.43s/it]"
     ]
    },
    {
     "name": "stdout",
     "output_type": "stream",
     "text": [
      "It: 41 \t Accept P: 0.9805086255073547 \t Accepted True \t Log-likelihood: 307.1108093261719\n"
     ]
    },
    {
     "name": "stderr",
     "output_type": "stream",
     "text": [
      "\r",
      " 43%|████▎     | 43/100 [03:09<04:10,  4.40s/it]"
     ]
    },
    {
     "name": "stdout",
     "output_type": "stream",
     "text": [
      "It: 42 \t Accept P: 1.0 \t Accepted True \t Log-likelihood: 306.416015625\n"
     ]
    },
    {
     "name": "stderr",
     "output_type": "stream",
     "text": [
      "\r",
      " 44%|████▍     | 44/100 [03:13<04:05,  4.39s/it]"
     ]
    },
    {
     "name": "stdout",
     "output_type": "stream",
     "text": [
      "It: 43 \t Accept P: 1.0 \t Accepted True \t Log-likelihood: 305.84716796875\n"
     ]
    },
    {
     "name": "stderr",
     "output_type": "stream",
     "text": [
      "\r",
      " 45%|████▌     | 45/100 [03:18<04:02,  4.41s/it]"
     ]
    },
    {
     "name": "stdout",
     "output_type": "stream",
     "text": [
      "It: 44 \t Accept P: 1.0 \t Accepted True \t Log-likelihood: 305.4182434082031\n"
     ]
    },
    {
     "name": "stderr",
     "output_type": "stream",
     "text": [
      "\r",
      " 46%|████▌     | 46/100 [03:22<03:58,  4.42s/it]"
     ]
    },
    {
     "name": "stdout",
     "output_type": "stream",
     "text": [
      "It: 45 \t Accept P: 0.6943941116333008 \t Accepted True \t Log-likelihood: 302.2402648925781\n"
     ]
    },
    {
     "name": "stderr",
     "output_type": "stream",
     "text": [
      "\r",
      " 47%|████▋     | 47/100 [03:27<03:55,  4.44s/it]"
     ]
    },
    {
     "name": "stdout",
     "output_type": "stream",
     "text": [
      "It: 46 \t Accept P: 0.7107853293418884 \t Accepted True \t Log-likelihood: 306.53033447265625\n"
     ]
    },
    {
     "name": "stderr",
     "output_type": "stream",
     "text": [
      "\r",
      " 48%|████▊     | 48/100 [03:31<03:51,  4.45s/it]"
     ]
    },
    {
     "name": "stdout",
     "output_type": "stream",
     "text": [
      "It: 47 \t Accept P: 1.0 \t Accepted True \t Log-likelihood: 305.1146240234375\n"
     ]
    },
    {
     "name": "stderr",
     "output_type": "stream",
     "text": [
      "\r",
      " 49%|████▉     | 49/100 [03:36<03:47,  4.47s/it]"
     ]
    },
    {
     "name": "stdout",
     "output_type": "stream",
     "text": [
      "It: 48 \t Accept P: 1.0 \t Accepted True \t Log-likelihood: 305.091796875\n"
     ]
    },
    {
     "name": "stderr",
     "output_type": "stream",
     "text": [
      "\r",
      " 50%|█████     | 50/100 [03:40<03:41,  4.44s/it]"
     ]
    },
    {
     "name": "stdout",
     "output_type": "stream",
     "text": [
      "It: 49 \t Accept P: 0.8162509202957153 \t Accepted True \t Log-likelihood: 301.1991271972656\n"
     ]
    },
    {
     "name": "stderr",
     "output_type": "stream",
     "text": [
      "\r",
      " 51%|█████     | 51/100 [03:45<03:37,  4.43s/it]"
     ]
    },
    {
     "name": "stdout",
     "output_type": "stream",
     "text": [
      "It: 50 \t Accept P: 1.0 \t Accepted True \t Log-likelihood: 307.944091796875\n"
     ]
    },
    {
     "name": "stderr",
     "output_type": "stream",
     "text": [
      "\r",
      " 52%|█████▏    | 52/100 [03:49<03:33,  4.45s/it]"
     ]
    },
    {
     "name": "stdout",
     "output_type": "stream",
     "text": [
      "It: 51 \t Accept P: 1.0 \t Accepted True \t Log-likelihood: 298.5113220214844\n"
     ]
    },
    {
     "name": "stderr",
     "output_type": "stream",
     "text": [
      "\r",
      " 53%|█████▎    | 53/100 [03:53<03:28,  4.44s/it]"
     ]
    },
    {
     "name": "stdout",
     "output_type": "stream",
     "text": [
      "It: 52 \t Accept P: 0.7043398022651672 \t Accepted True \t Log-likelihood: 305.8555603027344\n"
     ]
    },
    {
     "name": "stderr",
     "output_type": "stream",
     "text": [
      "\r",
      " 54%|█████▍    | 54/100 [03:58<03:24,  4.44s/it]"
     ]
    },
    {
     "name": "stdout",
     "output_type": "stream",
     "text": [
      "It: 53 \t Accept P: 0.8012942671775818 \t Accepted False \t Log-likelihood: 305.8555603027344\n"
     ]
    },
    {
     "name": "stderr",
     "output_type": "stream",
     "text": [
      "\r",
      " 55%|█████▌    | 55/100 [04:02<03:18,  4.42s/it]"
     ]
    },
    {
     "name": "stdout",
     "output_type": "stream",
     "text": [
      "It: 54 \t Accept P: 1.0 \t Accepted True \t Log-likelihood: 304.7760009765625\n"
     ]
    },
    {
     "name": "stderr",
     "output_type": "stream",
     "text": [
      "\r",
      " 56%|█████▌    | 56/100 [04:07<03:14,  4.41s/it]"
     ]
    },
    {
     "name": "stdout",
     "output_type": "stream",
     "text": [
      "It: 55 \t Accept P: 0.6312505006790161 \t Accepted True \t Log-likelihood: 304.8714599609375\n"
     ]
    },
    {
     "name": "stderr",
     "output_type": "stream",
     "text": [
      "\r",
      " 57%|█████▋    | 57/100 [04:11<03:11,  4.45s/it]"
     ]
    },
    {
     "name": "stdout",
     "output_type": "stream",
     "text": [
      "It: 56 \t Accept P: 0.587206244468689 \t Accepted True \t Log-likelihood: 303.06591796875\n"
     ]
    },
    {
     "name": "stderr",
     "output_type": "stream",
     "text": [
      "\r",
      " 58%|█████▊    | 58/100 [04:16<03:06,  4.44s/it]"
     ]
    },
    {
     "name": "stdout",
     "output_type": "stream",
     "text": [
      "It: 57 \t Accept P: 1.0 \t Accepted True \t Log-likelihood: 304.20025634765625\n"
     ]
    },
    {
     "name": "stderr",
     "output_type": "stream",
     "text": [
      "\r",
      " 59%|█████▉    | 59/100 [04:20<03:01,  4.44s/it]"
     ]
    },
    {
     "name": "stdout",
     "output_type": "stream",
     "text": [
      "It: 58 \t Accept P: 1.0 \t Accepted True \t Log-likelihood: 304.043212890625\n"
     ]
    },
    {
     "name": "stderr",
     "output_type": "stream",
     "text": [
      "\r",
      " 60%|██████    | 60/100 [04:25<02:57,  4.44s/it]"
     ]
    },
    {
     "name": "stdout",
     "output_type": "stream",
     "text": [
      "It: 59 \t Accept P: 0.8979959487915039 \t Accepted True \t Log-likelihood: 307.18310546875\n"
     ]
    },
    {
     "name": "stderr",
     "output_type": "stream",
     "text": [
      "\r",
      " 61%|██████    | 61/100 [04:29<02:52,  4.42s/it]"
     ]
    },
    {
     "name": "stdout",
     "output_type": "stream",
     "text": [
      "It: 60 \t Accept P: 0.4929855465888977 \t Accepted True \t Log-likelihood: 305.50341796875\n"
     ]
    },
    {
     "name": "stderr",
     "output_type": "stream",
     "text": [
      "\r",
      " 62%|██████▏   | 62/100 [04:33<02:48,  4.44s/it]"
     ]
    },
    {
     "name": "stdout",
     "output_type": "stream",
     "text": [
      "It: 61 \t Accept P: 0.7391082048416138 \t Accepted True \t Log-likelihood: 306.798583984375\n"
     ]
    },
    {
     "name": "stderr",
     "output_type": "stream",
     "text": [
      "\r",
      " 63%|██████▎   | 63/100 [04:38<02:44,  4.45s/it]"
     ]
    },
    {
     "name": "stdout",
     "output_type": "stream",
     "text": [
      "It: 62 \t Accept P: 0.5848143100738525 \t Accepted False \t Log-likelihood: 306.798583984375\n"
     ]
    },
    {
     "name": "stderr",
     "output_type": "stream",
     "text": [
      "\r",
      " 64%|██████▍   | 64/100 [04:42<02:39,  4.44s/it]"
     ]
    },
    {
     "name": "stdout",
     "output_type": "stream",
     "text": [
      "It: 63 \t Accept P: 1.0 \t Accepted True \t Log-likelihood: 306.85125732421875\n"
     ]
    },
    {
     "name": "stderr",
     "output_type": "stream",
     "text": [
      "\r",
      " 65%|██████▌   | 65/100 [04:47<02:35,  4.45s/it]"
     ]
    },
    {
     "name": "stdout",
     "output_type": "stream",
     "text": [
      "It: 64 \t Accept P: 0.7779322266578674 \t Accepted True \t Log-likelihood: 306.869384765625\n"
     ]
    },
    {
     "name": "stderr",
     "output_type": "stream",
     "text": [
      "\r",
      " 66%|██████▌   | 66/100 [04:51<02:31,  4.46s/it]"
     ]
    },
    {
     "name": "stdout",
     "output_type": "stream",
     "text": [
      "It: 65 \t Accept P: 0.6985174417495728 \t Accepted True \t Log-likelihood: 306.8277587890625\n"
     ]
    },
    {
     "name": "stderr",
     "output_type": "stream",
     "text": [
      "\r",
      " 67%|██████▋   | 67/100 [04:56<02:27,  4.46s/it]"
     ]
    },
    {
     "name": "stdout",
     "output_type": "stream",
     "text": [
      "It: 66 \t Accept P: 0.6850852966308594 \t Accepted True \t Log-likelihood: 303.6003112792969\n"
     ]
    },
    {
     "name": "stderr",
     "output_type": "stream",
     "text": [
      "\r",
      " 68%|██████▊   | 68/100 [05:00<02:22,  4.44s/it]"
     ]
    },
    {
     "name": "stdout",
     "output_type": "stream",
     "text": [
      "It: 67 \t Accept P: 0.5190920829772949 \t Accepted False \t Log-likelihood: 303.6003112792969\n"
     ]
    },
    {
     "name": "stderr",
     "output_type": "stream",
     "text": [
      "\r",
      " 69%|██████▉   | 69/100 [05:05<02:17,  4.45s/it]"
     ]
    },
    {
     "name": "stdout",
     "output_type": "stream",
     "text": [
      "It: 68 \t Accept P: 0.755415678024292 \t Accepted True \t Log-likelihood: 303.3385314941406\n"
     ]
    },
    {
     "name": "stderr",
     "output_type": "stream",
     "text": [
      "\r",
      " 70%|███████   | 70/100 [05:09<02:12,  4.43s/it]"
     ]
    },
    {
     "name": "stdout",
     "output_type": "stream",
     "text": [
      "It: 69 \t Accept P: 1.0 \t Accepted True \t Log-likelihood: 305.12713623046875\n"
     ]
    },
    {
     "name": "stderr",
     "output_type": "stream",
     "text": [
      "\r",
      " 71%|███████   | 71/100 [05:13<02:08,  4.43s/it]"
     ]
    },
    {
     "name": "stdout",
     "output_type": "stream",
     "text": [
      "It: 70 \t Accept P: 0.6588325500488281 \t Accepted False \t Log-likelihood: 305.12713623046875\n"
     ]
    },
    {
     "name": "stderr",
     "output_type": "stream",
     "text": [
      "\r",
      " 72%|███████▏  | 72/100 [05:18<02:04,  4.44s/it]"
     ]
    },
    {
     "name": "stdout",
     "output_type": "stream",
     "text": [
      "It: 71 \t Accept P: 1.0 \t Accepted True \t Log-likelihood: 305.7940979003906\n"
     ]
    },
    {
     "name": "stderr",
     "output_type": "stream",
     "text": [
      "\r",
      " 73%|███████▎  | 73/100 [05:22<01:59,  4.43s/it]"
     ]
    },
    {
     "name": "stdout",
     "output_type": "stream",
     "text": [
      "It: 72 \t Accept P: 1.0 \t Accepted True \t Log-likelihood: 306.1658935546875\n"
     ]
    },
    {
     "name": "stderr",
     "output_type": "stream",
     "text": [
      "\r",
      " 74%|███████▍  | 74/100 [05:27<01:57,  4.54s/it]"
     ]
    },
    {
     "name": "stdout",
     "output_type": "stream",
     "text": [
      "It: 73 \t Accept P: 0.7336950302124023 \t Accepted True \t Log-likelihood: 302.37982177734375\n"
     ]
    },
    {
     "name": "stderr",
     "output_type": "stream",
     "text": [
      "\r",
      " 75%|███████▌  | 75/100 [05:31<01:52,  4.51s/it]"
     ]
    },
    {
     "name": "stdout",
     "output_type": "stream",
     "text": [
      "It: 74 \t Accept P: 1.0 \t Accepted True \t Log-likelihood: 306.50946044921875\n"
     ]
    },
    {
     "name": "stderr",
     "output_type": "stream",
     "text": [
      "\r",
      " 76%|███████▌  | 76/100 [05:36<01:47,  4.50s/it]"
     ]
    },
    {
     "name": "stdout",
     "output_type": "stream",
     "text": [
      "It: 75 \t Accept P: 0.8105541467666626 \t Accepted True \t Log-likelihood: 306.75286865234375\n"
     ]
    },
    {
     "name": "stderr",
     "output_type": "stream",
     "text": [
      "\r",
      " 77%|███████▋  | 77/100 [05:40<01:43,  4.48s/it]"
     ]
    },
    {
     "name": "stdout",
     "output_type": "stream",
     "text": [
      "It: 76 \t Accept P: 0.7997856736183167 \t Accepted False \t Log-likelihood: 306.75286865234375\n"
     ]
    },
    {
     "name": "stderr",
     "output_type": "stream",
     "text": [
      "\r",
      " 78%|███████▊  | 78/100 [05:45<01:38,  4.46s/it]"
     ]
    },
    {
     "name": "stdout",
     "output_type": "stream",
     "text": [
      "It: 77 \t Accept P: 1.0 \t Accepted True \t Log-likelihood: 302.4058837890625\n"
     ]
    },
    {
     "name": "stderr",
     "output_type": "stream",
     "text": [
      "\r",
      " 79%|███████▉  | 79/100 [05:49<01:34,  4.48s/it]"
     ]
    },
    {
     "name": "stdout",
     "output_type": "stream",
     "text": [
      "It: 78 \t Accept P: 0.3538023829460144 \t Accepted True \t Log-likelihood: 304.36431884765625\n"
     ]
    },
    {
     "name": "stderr",
     "output_type": "stream",
     "text": [
      "\r",
      " 80%|████████  | 80/100 [05:54<01:29,  4.48s/it]"
     ]
    },
    {
     "name": "stdout",
     "output_type": "stream",
     "text": [
      "It: 79 \t Accept P: 0.9218899607658386 \t Accepted False \t Log-likelihood: 304.36431884765625\n"
     ]
    },
    {
     "name": "stderr",
     "output_type": "stream",
     "text": [
      "\r",
      " 81%|████████  | 81/100 [05:58<01:24,  4.46s/it]"
     ]
    },
    {
     "name": "stdout",
     "output_type": "stream",
     "text": [
      "It: 80 \t Accept P: 1.0 \t Accepted True \t Log-likelihood: 307.56768798828125\n"
     ]
    },
    {
     "name": "stderr",
     "output_type": "stream",
     "text": [
      "\r",
      " 82%|████████▏ | 82/100 [06:03<01:20,  4.45s/it]"
     ]
    },
    {
     "name": "stdout",
     "output_type": "stream",
     "text": [
      "It: 81 \t Accept P: 1.0 \t Accepted True \t Log-likelihood: 305.87567138671875\n"
     ]
    },
    {
     "name": "stderr",
     "output_type": "stream",
     "text": [
      "\r",
      " 83%|████████▎ | 83/100 [06:07<01:16,  4.48s/it]"
     ]
    },
    {
     "name": "stdout",
     "output_type": "stream",
     "text": [
      "It: 82 \t Accept P: 0.801703929901123 \t Accepted True \t Log-likelihood: 305.25006103515625\n"
     ]
    },
    {
     "name": "stderr",
     "output_type": "stream",
     "text": [
      "\r",
      " 84%|████████▍ | 84/100 [06:12<01:11,  4.48s/it]"
     ]
    },
    {
     "name": "stdout",
     "output_type": "stream",
     "text": [
      "It: 83 \t Accept P: 0.664260745048523 \t Accepted False \t Log-likelihood: 305.25006103515625\n"
     ]
    },
    {
     "name": "stderr",
     "output_type": "stream",
     "text": [
      "\r",
      " 85%|████████▌ | 85/100 [06:16<01:07,  4.49s/it]"
     ]
    },
    {
     "name": "stdout",
     "output_type": "stream",
     "text": [
      "It: 84 \t Accept P: 0.9909999370574951 \t Accepted True \t Log-likelihood: 303.90130615234375\n"
     ]
    },
    {
     "name": "stderr",
     "output_type": "stream",
     "text": [
      "\r",
      " 86%|████████▌ | 86/100 [06:21<01:02,  4.48s/it]"
     ]
    },
    {
     "name": "stdout",
     "output_type": "stream",
     "text": [
      "It: 85 \t Accept P: 0.8348080515861511 \t Accepted True \t Log-likelihood: 303.3831787109375\n"
     ]
    },
    {
     "name": "stderr",
     "output_type": "stream",
     "text": [
      "\r",
      " 87%|████████▋ | 87/100 [06:25<00:57,  4.45s/it]"
     ]
    },
    {
     "name": "stdout",
     "output_type": "stream",
     "text": [
      "It: 86 \t Accept P: 0.6714239716529846 \t Accepted False \t Log-likelihood: 303.3831787109375\n"
     ]
    },
    {
     "name": "stderr",
     "output_type": "stream",
     "text": [
      "\r",
      " 88%|████████▊ | 88/100 [06:30<00:53,  4.48s/it]"
     ]
    },
    {
     "name": "stdout",
     "output_type": "stream",
     "text": [
      "It: 87 \t Accept P: 0.8639897108078003 \t Accepted True \t Log-likelihood: 303.21063232421875\n"
     ]
    },
    {
     "name": "stderr",
     "output_type": "stream",
     "text": [
      "\r",
      " 89%|████████▉ | 89/100 [06:34<00:49,  4.48s/it]"
     ]
    },
    {
     "name": "stdout",
     "output_type": "stream",
     "text": [
      "It: 88 \t Accept P: 0.8214362263679504 \t Accepted False \t Log-likelihood: 303.21063232421875\n"
     ]
    },
    {
     "name": "stderr",
     "output_type": "stream",
     "text": [
      "\r",
      " 90%|█████████ | 90/100 [06:38<00:44,  4.45s/it]"
     ]
    },
    {
     "name": "stdout",
     "output_type": "stream",
     "text": [
      "It: 89 \t Accept P: 0.6487197279930115 \t Accepted True \t Log-likelihood: 304.1519775390625\n"
     ]
    },
    {
     "name": "stderr",
     "output_type": "stream",
     "text": [
      "\r",
      " 91%|█████████ | 91/100 [06:43<00:40,  4.47s/it]"
     ]
    },
    {
     "name": "stdout",
     "output_type": "stream",
     "text": [
      "It: 90 \t Accept P: 0.4721648097038269 \t Accepted True \t Log-likelihood: 302.0124816894531\n"
     ]
    },
    {
     "name": "stderr",
     "output_type": "stream",
     "text": [
      "\r",
      " 92%|█████████▏| 92/100 [06:47<00:35,  4.48s/it]"
     ]
    },
    {
     "name": "stdout",
     "output_type": "stream",
     "text": [
      "It: 91 \t Accept P: 1.0 \t Accepted True \t Log-likelihood: 303.7568359375\n"
     ]
    },
    {
     "name": "stderr",
     "output_type": "stream",
     "text": [
      "\r",
      " 93%|█████████▎| 93/100 [06:52<00:31,  4.49s/it]"
     ]
    },
    {
     "name": "stdout",
     "output_type": "stream",
     "text": [
      "It: 92 \t Accept P: 1.0 \t Accepted True \t Log-likelihood: 304.6117248535156\n"
     ]
    },
    {
     "name": "stderr",
     "output_type": "stream",
     "text": [
      "\r",
      " 94%|█████████▍| 94/100 [06:57<00:27,  4.53s/it]"
     ]
    },
    {
     "name": "stdout",
     "output_type": "stream",
     "text": [
      "It: 93 \t Accept P: 1.0 \t Accepted True \t Log-likelihood: 305.64404296875\n"
     ]
    },
    {
     "name": "stderr",
     "output_type": "stream",
     "text": [
      "\r",
      " 95%|█████████▌| 95/100 [07:01<00:22,  4.50s/it]"
     ]
    },
    {
     "name": "stdout",
     "output_type": "stream",
     "text": [
      "It: 94 \t Accept P: 0.7609601616859436 \t Accepted True \t Log-likelihood: 301.7269592285156\n"
     ]
    },
    {
     "name": "stderr",
     "output_type": "stream",
     "text": [
      "\r",
      " 96%|█████████▌| 96/100 [07:05<00:17,  4.48s/it]"
     ]
    },
    {
     "name": "stdout",
     "output_type": "stream",
     "text": [
      "It: 95 \t Accept P: 0.827881932258606 \t Accepted False \t Log-likelihood: 301.7269592285156\n"
     ]
    },
    {
     "name": "stderr",
     "output_type": "stream",
     "text": [
      "\r",
      " 97%|█████████▋| 97/100 [07:10<00:13,  4.49s/it]"
     ]
    },
    {
     "name": "stdout",
     "output_type": "stream",
     "text": [
      "It: 96 \t Accept P: 0.9865039587020874 \t Accepted True \t Log-likelihood: 306.21209716796875\n"
     ]
    },
    {
     "name": "stderr",
     "output_type": "stream",
     "text": [
      "\r",
      " 98%|█████████▊| 98/100 [07:14<00:08,  4.48s/it]"
     ]
    },
    {
     "name": "stdout",
     "output_type": "stream",
     "text": [
      "It: 97 \t Accept P: 1.0 \t Accepted True \t Log-likelihood: 306.2794189453125\n"
     ]
    },
    {
     "name": "stderr",
     "output_type": "stream",
     "text": [
      "\r",
      " 99%|█████████▉| 99/100 [07:19<00:04,  4.51s/it]"
     ]
    },
    {
     "name": "stdout",
     "output_type": "stream",
     "text": [
      "It: 98 \t Accept P: 0.4154016077518463 \t Accepted True \t Log-likelihood: 306.2530212402344\n"
     ]
    },
    {
     "name": "stderr",
     "output_type": "stream",
     "text": [
      "100%|██████████| 100/100 [07:23<00:00,  4.44s/it]"
     ]
    },
    {
     "name": "stdout",
     "output_type": "stream",
     "text": [
      "It: 99 \t Accept P: 0.6763861179351807 \t Accepted False \t Log-likelihood: 306.2530212402344\n"
     ]
    },
    {
     "name": "stderr",
     "output_type": "stream",
     "text": [
      "\n"
     ]
    }
   ],
   "source": [
    "num_iterations = 100\n",
    "all_test_preds = []\n",
    "key = jax.random.PRNGKey(0)\n",
    "\n",
    "for iteration in tqdm.tqdm(range(num_iterations)):\n",
    "    \n",
    "#     in_burnin = (iteration < args.num_burn_in_iterations)\n",
    "#     do_mh_correction = (not args.no_mh) and (not in_burnin)\n",
    "\n",
    "    (params, net_state, log_likelihood, state_grad, step_size, key,\n",
    "     accept_prob, accepted) = (\n",
    "        update(train_set, params, net_state, log_likelihood, state_grad,\n",
    "               key, step_size, trajectory_len, True))\n",
    "    # Evaluation\n",
    "    test_predictions = onp.asarray(\n",
    "      predict_fn(net_apply, params, net_state, test_set))\n",
    "    if accepted:\n",
    "        all_test_preds.append(test_predictions)\n",
    "\n",
    "    print(\"It: {} \\t Accept P: {} \\t Accepted {} \\t Log-likelihood: {}\".format(\n",
    "            iteration, accept_prob, accepted, log_likelihood))"
   ]
  },
  {
   "cell_type": "code",
   "execution_count": 22,
   "metadata": {},
   "outputs": [],
   "source": [
    "all_test_preds = [p[1] for p in all_test_preds]"
   ]
  },
  {
   "cell_type": "code",
   "execution_count": 24,
   "metadata": {},
   "outputs": [
    {
     "data": {
      "image/png": "[encoded data removed]",
      "text/plain": [
       "<Figure size 432x288 with 1 Axes>"
      ]
     },
     "metadata": {
      "needs_background": "light"
     },
     "output_type": "display_data"
    }
   ],
   "source": [
    "for pred in all_test_preds[:]:\n",
    "    plt.plot(x_, pred[0, :, 0])"
   ]
  },
  {
   "cell_type": "code",
   "execution_count": 32,
   "metadata": {},
   "outputs": [],
   "source": [
    "preds_concat = onp.concatenate(all_test_preds, axis=0)\n",
    "# onp.save(\"synthreg_hmc_chain2.npy\", preds_concat)"
   ]
  },
  {
   "cell_type": "markdown",
   "metadata": {},
   "source": [
    "## SGLD"
   ]
  },
  {
   "cell_type": "code",
   "execution_count": 526,
   "metadata": {},
   "outputs": [],
   "source": [
    "from bnn_hmc.core import sgmcmc"
   ]
  },
  {
   "cell_type": "code",
   "execution_count": 527,
   "metadata": {},
   "outputs": [],
   "source": [
    "lr_schedule = train_utils.make_cosine_lr_schedule_with_burnin(3.e-8, 3.e-8, 1)\n",
    "optimizer = sgmcmc.sgld_gradient_update(lr_schedule, 0)"
   ]
  },
  {
   "cell_type": "code",
   "execution_count": 528,
   "metadata": {},
   "outputs": [],
   "source": [
    "param_seed = 0\n",
    "params, net_state = net.init(jax.random.PRNGKey(param_seed), (f, None), True)\n",
    "params = resample_params(param_seed, params, std=0.05)"
   ]
  },
  {
   "cell_type": "code",
   "execution_count": 529,
   "metadata": {},
   "outputs": [],
   "source": [
    "sgmcmc_train_epoch = train_utils.make_sgd_train_epoch(\n",
    "    net_apply, log_likelihood_fn, log_prior_fn, optimizer, num_batches=1)"
   ]
  },
  {
   "cell_type": "code",
   "execution_count": 530,
   "metadata": {},
   "outputs": [
    {
     "name": "stderr",
     "output_type": "stream",
     "text": [
      "100%|██████████| 100000/100000 [02:42<00:00, 615.98it/s]\n"
     ]
    }
   ],
   "source": [
    "num_iterations = 100000\n",
    "all_test_preds = []\n",
    "key = jax.random.PRNGKey(0)\n",
    "key = jax.random.split(key, num_devices)\n",
    "save_freq = 1000\n",
    "\n",
    "for iteration in tqdm.tqdm(range(num_iterations)):\n",
    "    params, net_state, opt_state, logprob_avg, key = sgmcmc_train_epoch(\n",
    "        params, net_state, opt_state, train_set, key)\n",
    "    if iteration % save_freq == 0:\n",
    "        test_predictions = onp.asarray(\n",
    "              predict_fn(net_apply, params, net_state, test_set))\n",
    "        all_test_preds.append(test_predictions)"
   ]
  },
  {
   "cell_type": "code",
   "execution_count": 531,
   "metadata": {},
   "outputs": [
    {
     "data": {
      "text/plain": [
       "[<matplotlib.lines.Line2D at 0x7f21c8689b50>]"
      ]
     },
     "execution_count": 531,
     "metadata": {},
     "output_type": "execute_result"
    },
    {
     "data": {
      "image/png": "[encoded data removed]",
      "text/plain": [
       "<Figure size 432x288 with 1 Axes>"
      ]
     },
     "metadata": {
      "needs_background": "light"
     },
     "output_type": "display_data"
    }
   ],
   "source": [
    "for pred in all_test_preds:#[::10][4:]:\n",
    "    plt.plot(x_, pred[0, :, 0])\n",
    "    \n",
    "plt.plot(x, y, \"ro\")"
   ]
  },
  {
   "cell_type": "code",
   "execution_count": 532,
   "metadata": {},
   "outputs": [],
   "source": [
    "preds_concat = onp.concatenate(all_test_preds, axis=0)\n",
    "# onp.save(\"synthreg_sgld3e8.npy\", preds_concat)"
   ]
  },
  {
   "cell_type": "markdown",
   "metadata": {},
   "source": [
    "## SGHMC"
   ]
  },
  {
   "cell_type": "code",
   "execution_count": 26,
   "metadata": {},
   "outputs": [],
   "source": [
    "from bnn_hmc.core import sgmcmc"
   ]
  },
  {
   "cell_type": "code",
   "execution_count": 27,
   "metadata": {},
   "outputs": [],
   "source": [
    "lr = 1.e-8\n",
    "mom = 0.95\n",
    "lr_schedule = optim_utils.make_constant_lr_schedule_with_cosine_burnin(lr, lr, 1)\n",
    "optimizer = sgmcmc.sgld_gradient_update(lr_schedule, momentum_decay=mom, seed=0)"
   ]
  },
  {
   "cell_type": "code",
   "execution_count": 28,
   "metadata": {},
   "outputs": [],
   "source": [
    "param_seed = 0\n",
    "params, net_state = net.init(jax.random.PRNGKey(param_seed), (f, None), True)\n",
    "params = resample_params(param_seed, params, std=0.05)\n",
    "opt_state = optimizer.init(params)"
   ]
  },
  {
   "cell_type": "code",
   "execution_count": 29,
   "metadata": {},
   "outputs": [],
   "source": [
    "sgmcmc_train_epoch = train_utils.make_sgd_train_epoch(\n",
    "    net_apply, log_likelihood_fn, log_prior_fn, optimizer, num_batches=1)"
   ]
  },
  {
   "cell_type": "code",
   "execution_count": 30,
   "metadata": {},
   "outputs": [
    {
     "name": "stderr",
     "output_type": "stream",
     "text": [
      "100%|██████████| 100000/100000 [03:32<00:00, 471.36it/s]\n"
     ]
    }
   ],
   "source": [
    "num_iterations = 100000\n",
    "all_test_preds = []\n",
    "key = jax.random.PRNGKey(0)\n",
    "key = jax.random.split(key, num_devices)\n",
    "save_freq = 1000\n",
    "\n",
    "for iteration in tqdm.tqdm(range(num_iterations)):\n",
    "    params, net_state, opt_state, logprob_avg, key = sgmcmc_train_epoch(\n",
    "        params, net_state, opt_state, train_set, key)\n",
    "    if iteration % save_freq == 0:\n",
    "        test_predictions = onp.asarray(\n",
    "              predict_fn(net_apply, params, net_state, test_set))\n",
    "        all_test_preds.append(test_predictions)"
   ]
  },
  {
   "cell_type": "code",
   "execution_count": 31,
   "metadata": {},
   "outputs": [
    {
     "data": {
      "text/plain": [
       "[<matplotlib.lines.Line2D at 0x7fc36ed78250>]"
      ]
     },
     "execution_count": 31,
     "metadata": {},
     "output_type": "execute_result"
    },
    {
     "data": {
      "image/png": "[encoded data removed]",
      "text/plain": [
       "<Figure size 432x288 with 1 Axes>"
      ]
     },
     "metadata": {
      "needs_background": "light"
     },
     "output_type": "display_data"
    }
   ],
   "source": [
    "for pred in all_test_preds[2:]:#[::10][4:]:\n",
    "    plt.plot(x_, pred[0, :, 0])\n",
    "    \n",
    "plt.plot(x, y, \"ro\")"
   ]
  },
  {
   "cell_type": "code",
   "execution_count": 33,
   "metadata": {},
   "outputs": [],
   "source": [
    "preds_concat = onp.concatenate(all_test_preds, axis=0)\n",
    "onp.save(\"synthreg_sghmc_lr{}_mom{}.npy\".format(lr, mom), preds_concat)"
   ]
  },
  {
   "cell_type": "markdown",
   "metadata": {},
   "source": [
    "## SGHMC with Cyclical  LR"
   ]
  },
  {
   "cell_type": "code",
   "execution_count": 93,
   "metadata": {},
   "outputs": [],
   "source": [
    "from bnn_hmc.core import sgmcmc"
   ]
  },
  {
   "cell_type": "code",
   "execution_count": 94,
   "metadata": {},
   "outputs": [],
   "source": [
    "lr = 3.e-8\n",
    "mom = 0.95\n",
    "burnin_len = 1000\n",
    "cycle_len = 1000\n",
    "\n",
    "lr_schedule = optim_utils.make_cyclical_cosine_lr_schedule_with_const_burnin(lr, burnin_len, cycle_len)\n",
    "optimizer = sgmcmc.sgld_gradient_update(lr_schedule, momentum_decay=mom, preconditioner=None, seed=0)"
   ]
  },
  {
   "cell_type": "code",
   "execution_count": 95,
   "metadata": {},
   "outputs": [],
   "source": [
    "param_seed = 0\n",
    "params, net_state = net.init(jax.random.PRNGKey(param_seed), (f, None), True)\n",
    "params = resample_params(param_seed, params, std=0.05)\n",
    "opt_state = optimizer.init(params)"
   ]
  },
  {
   "cell_type": "code",
   "execution_count": 96,
   "metadata": {},
   "outputs": [],
   "source": [
    "sgmcmc_train_epoch = train_utils.make_sgd_train_epoch(\n",
    "    net_apply, log_likelihood_fn, log_prior_fn, optimizer, num_batches=1)"
   ]
  },
  {
   "cell_type": "code",
   "execution_count": 97,
   "metadata": {},
   "outputs": [
    {
     "name": "stderr",
     "output_type": "stream",
     "text": [
      "100%|██████████| 100000/100000 [07:07<00:00, 234.18it/s]\n"
     ]
    }
   ],
   "source": [
    "num_iterations = 100000\n",
    "all_test_preds = []\n",
    "key = jax.random.PRNGKey(0)\n",
    "key = jax.random.split(key, num_devices)\n",
    "lrs = []\n",
    "\n",
    "\n",
    "for iteration in tqdm.tqdm(range(num_iterations)):\n",
    "    params, net_state, opt_state, logprob_avg, key = sgmcmc_train_epoch(\n",
    "        params, net_state, opt_state, train_set, key)\n",
    "    \n",
    "    lr = lr_schedule(opt_state.count)\n",
    "    lrs.append(lr)\n",
    "    if iteration > burnin_len and (iteration - burnin_len + 1) % cycle_len == 0:\n",
    "#         print(\"lr:\", lr)\n",
    "        test_predictions = onp.asarray(\n",
    "              predict_fn(net_apply, params, net_state, test_set))\n",
    "        all_test_preds.append(test_predictions)"
   ]
  },
  {
   "cell_type": "code",
   "execution_count": 98,
   "metadata": {},
   "outputs": [
    {
     "data": {
      "text/plain": [
       "[<matplotlib.lines.Line2D at 0x7fc3608e46a0>]"
      ]
     },
     "execution_count": 98,
     "metadata": {},
     "output_type": "execute_result"
    },
    {
     "data": {
      "image/png": "[encoded data removed]",
      "text/plain": [
       "<Figure size 432x288 with 1 Axes>"
      ]
     },
     "metadata": {
      "needs_background": "light"
     },
     "output_type": "display_data"
    }
   ],
   "source": [
    "for pred in all_test_preds[2:]:#[::10][4:]:\n",
    "    plt.plot(x_, pred[0, :, 0])\n",
    "    \n",
    "plt.plot(x, y, \"ro\")"
   ]
  },
  {
   "cell_type": "code",
   "execution_count": 99,
   "metadata": {},
   "outputs": [],
   "source": [
    "preds_concat = onp.concatenate(all_test_preds, axis=0)\n",
    "onp.save(\"synthreg_sghmc_cyclical_lr{}_mom{}.npy\".format(lr, mom), preds_concat)"
   ]
  },
  {
   "cell_type": "markdown",
   "metadata": {},
   "source": [
    "## SGHMC with PreConditioner"
   ]
  },
  {
   "cell_type": "code",
   "execution_count": 40,
   "metadata": {},
   "outputs": [],
   "source": [
    "from bnn_hmc.core import sgmcmc"
   ]
  },
  {
   "cell_type": "code",
   "execution_count": 41,
   "metadata": {},
   "outputs": [],
   "source": [
    "lr = 1.e-5\n",
    "mom = 0.95\n",
    "lr_schedule = optim_utils.make_constant_lr_schedule_with_cosine_burnin(lr, lr, 1)\n",
    "preconditioner = sgmcmc.get_rmsprop_preconditioner()\n",
    "optimizer = sgmcmc.sgld_gradient_update(lr_schedule, momentum_decay=mom, preconditioner=preconditioner, seed=0)"
   ]
  },
  {
   "cell_type": "code",
   "execution_count": 42,
   "metadata": {},
   "outputs": [],
   "source": [
    "param_seed = 0\n",
    "params, net_state = net.init(jax.random.PRNGKey(param_seed), (f, None), True)\n",
    "params = resample_params(param_seed, params, std=0.05)\n",
    "opt_state = optimizer.init(params)"
   ]
  },
  {
   "cell_type": "code",
   "execution_count": 43,
   "metadata": {},
   "outputs": [],
   "source": [
    "sgmcmc_train_epoch = train_utils.make_sgd_train_epoch(\n",
    "    net_apply, log_likelihood_fn, log_prior_fn, optimizer, num_batches=1)"
   ]
  },
  {
   "cell_type": "code",
   "execution_count": 44,
   "metadata": {},
   "outputs": [
    {
     "name": "stderr",
     "output_type": "stream",
     "text": [
      "100%|██████████| 100000/100000 [04:27<00:00, 373.72it/s]\n"
     ]
    }
   ],
   "source": [
    "num_iterations = 100000\n",
    "all_test_preds = []\n",
    "key = jax.random.PRNGKey(0)\n",
    "key = jax.random.split(key, num_devices)\n",
    "save_freq = 1000\n",
    "\n",
    "for iteration in tqdm.tqdm(range(num_iterations)):\n",
    "    params, net_state, opt_state, logprob_avg, key = sgmcmc_train_epoch(\n",
    "        params, net_state, opt_state, train_set, key)\n",
    "    if iteration % save_freq == 0:\n",
    "        test_predictions = onp.asarray(\n",
    "              predict_fn(net_apply, params, net_state, test_set))\n",
    "        all_test_preds.append(test_predictions)"
   ]
  },
  {
   "cell_type": "code",
   "execution_count": 45,
   "metadata": {},
   "outputs": [
    {
     "data": {
      "text/plain": [
       "[<matplotlib.lines.Line2D at 0x7fc36ea47190>]"
      ]
     },
     "execution_count": 45,
     "metadata": {},
     "output_type": "execute_result"
    },
    {
     "data": {
      "image/png": "[encoded data removed]",
      "text/plain": [
       "<Figure size 432x288 with 1 Axes>"
      ]
     },
     "metadata": {
      "needs_background": "light"
     },
     "output_type": "display_data"
    }
   ],
   "source": [
    "for pred in all_test_preds[2:]:#[::10][4:]:\n",
    "    plt.plot(x_, pred[0, :, 0])\n",
    "    \n",
    "plt.plot(x, y, \"ro\")"
   ]
  },
  {
   "cell_type": "code",
   "execution_count": 46,
   "metadata": {},
   "outputs": [],
   "source": [
    "preds_concat = onp.concatenate(all_test_preds, axis=0)\n",
    "onp.save(\"synthreg_sghmc_rmsprop_lr{}_mom{}.npy\".format(lr, mom), preds_concat)"
   ]
  },
  {
   "cell_type": "markdown",
   "metadata": {},
   "source": [
    "## SGHMC with PreConditioner with Cyclical  LR"
   ]
  },
  {
   "cell_type": "code",
   "execution_count": 59,
   "metadata": {},
   "outputs": [],
   "source": [
    "from bnn_hmc.core import sgmcmc"
   ]
  },
  {
   "cell_type": "code",
   "execution_count": 60,
   "metadata": {},
   "outputs": [],
   "source": [
    "lr = 1.e-4\n",
    "mom = 0.95\n",
    "burnin_len = 1000\n",
    "cycle_len = 1000\n",
    "\n",
    "lr_schedule = optim_utils.make_cyclical_cosine_lr_schedule_with_const_burnin(lr, burnin_len, cycle_len)\n",
    "preconditioner = sgmcmc.get_rmsprop_preconditioner()\n",
    "optimizer = sgmcmc.sgld_gradient_update(lr_schedule, momentum_decay=mom, preconditioner=preconditioner, seed=0)"
   ]
  },
  {
   "cell_type": "code",
   "execution_count": 61,
   "metadata": {},
   "outputs": [],
   "source": [
    "param_seed = 0\n",
    "params, net_state = net.init(jax.random.PRNGKey(param_seed), (f, None), True)\n",
    "params = resample_params(param_seed, params, std=0.05)\n",
    "opt_state = optimizer.init(params)"
   ]
  },
  {
   "cell_type": "code",
   "execution_count": 62,
   "metadata": {},
   "outputs": [],
   "source": [
    "sgmcmc_train_epoch = train_utils.make_sgd_train_epoch(\n",
    "    net_apply, log_likelihood_fn, log_prior_fn, optimizer, num_batches=1)"
   ]
  },
  {
   "cell_type": "code",
   "execution_count": 63,
   "metadata": {},
   "outputs": [
    {
     "name": "stderr",
     "output_type": "stream",
     "text": [
      "100%|██████████| 100000/100000 [07:41<00:00, 216.74it/s]\n"
     ]
    }
   ],
   "source": [
    "num_iterations = 100000\n",
    "all_test_preds = []\n",
    "key = jax.random.PRNGKey(0)\n",
    "key = jax.random.split(key, num_devices)\n",
    "lrs = []\n",
    "\n",
    "\n",
    "for iteration in tqdm.tqdm(range(num_iterations)):\n",
    "    params, net_state, opt_state, logprob_avg, key = sgmcmc_train_epoch(\n",
    "        params, net_state, opt_state, train_set, key)\n",
    "    \n",
    "    lr = lr_schedule(opt_state.count)\n",
    "    lrs.append(lr)\n",
    "    if iteration > burnin_len and (iteration - burnin_len + 1) % cycle_len == 0:\n",
    "#         print(\"lr:\", lr)\n",
    "        test_predictions = onp.asarray(\n",
    "              predict_fn(net_apply, params, net_state, test_set))\n",
    "        all_test_preds.append(test_predictions)"
   ]
  },
  {
   "cell_type": "code",
   "execution_count": 68,
   "metadata": {},
   "outputs": [
    {
     "data": {
      "text/plain": [
       "[<matplotlib.lines.Line2D at 0x7fc36518f7c0>]"
      ]
     },
     "execution_count": 68,
     "metadata": {},
     "output_type": "execute_result"
    },
    {
     "data": {
      "image/png": "[encoded data removed]",
      "text/plain": [
       "<Figure size 432x288 with 1 Axes>"
      ]
     },
     "metadata": {
      "needs_background": "light"
     },
     "output_type": "display_data"
    }
   ],
   "source": [
    "for pred in all_test_preds[2:]:#[::10][4:]:\n",
    "    plt.plot(x_, pred[0, :, 0])\n",
    "    \n",
    "plt.plot(x, y, \"ro\")"
   ]
  },
  {
   "cell_type": "code",
   "execution_count": 69,
   "metadata": {},
   "outputs": [],
   "source": [
    "preds_concat = onp.concatenate(all_test_preds, axis=0)\n",
    "onp.save(\"synthreg_sghmc_rmsprop_cyclical_lr{}_mom{}.npy\".format(lr, mom), preds_concat)"
   ]
  },
  {
   "cell_type": "markdown",
   "metadata": {},
   "source": [
    "## SGD"
   ]
  },
  {
   "cell_type": "code",
   "execution_count": 119,
   "metadata": {},
   "outputs": [],
   "source": [
    "# prior_std = .1\n",
    "# weight_decay = 1 / prior_std**2\n",
    "\n",
    "# log_prior_fn, log_prior_diff_fn = losses.make_gaussian_log_prior(weight_decay, 1.)"
   ]
  },
  {
   "cell_type": "code",
   "execution_count": 120,
   "metadata": {},
   "outputs": [],
   "source": [
    "net_fn = make_model(layer_dims=[100, 100, 100], invsp_noise_std=invsp_noise_std)\n",
    "net = hk.transform_with_state(net_fn)\n",
    "net_apply, net_init = net.apply, net.init\n",
    "net_apply = precision_utils.rewrite_high_precision(net_apply)"
   ]
  },
  {
   "cell_type": "code",
   "execution_count": 121,
   "metadata": {},
   "outputs": [],
   "source": [
    "num_iterations = 1000"
   ]
  },
  {
   "cell_type": "code",
   "execution_count": 122,
   "metadata": {},
   "outputs": [],
   "source": [
    "lr_schedule = optim_utils.make_cosine_lr_schedule(1e-7, num_iterations)\n",
    "optimizer = optim_utils.make_sgd_optimizer(lr_schedule, momentum_decay=0.9)"
   ]
  },
  {
   "cell_type": "code",
   "execution_count": 123,
   "metadata": {},
   "outputs": [],
   "source": [
    "sgd_train_epoch = train_utils.make_sgd_train_epoch(\n",
    "    net_apply, log_likelihood_fn, log_prior_fn, optimizer, num_batches=1)"
   ]
  },
  {
   "cell_type": "code",
   "execution_count": 124,
   "metadata": {},
   "outputs": [],
   "source": [
    "param_seed = 2\n",
    "params, net_state = net.init(jax.random.PRNGKey(param_seed), (f, None), True)\n",
    "params = resample_params(param_seed, params, std=0.05)\n",
    "net_state = jax.pmap(lambda _: net_state)(jnp.arange(num_devices))\n",
    "opt_state = optimizer.init(params)"
   ]
  },
  {
   "cell_type": "code",
   "execution_count": 125,
   "metadata": {},
   "outputs": [
    {
     "name": "stderr",
     "output_type": "stream",
     "text": [
      "100%|██████████| 1000/1000 [00:02<00:00, 378.62it/s]\n"
     ]
    }
   ],
   "source": [
    "key = jax.random.PRNGKey(0)\n",
    "key = jax.random.split(key, num_devices)\n",
    "\n",
    "for iteration in tqdm.tqdm(range(num_iterations)):\n",
    "    params, net_state, opt_state, logprob_avg, key = sgd_train_epoch(\n",
    "        params, net_state, opt_state, train_set, key)"
   ]
  },
  {
   "cell_type": "code",
   "execution_count": 126,
   "metadata": {},
   "outputs": [
    {
     "name": "stderr",
     "output_type": "stream",
     "text": [
      "/home/pavel/anaconda3/envs/py38/lib/python3.8/site-packages/numpy/core/_asarray.py:83: VisibleDeprecationWarning: Creating an ndarray from ragged nested sequences (which is a list-or-tuple of lists-or-tuples-or ndarrays with different lengths or shapes) is deprecated. If you meant to do this, you must specify 'dtype=object' when creating the ndarray\n",
      "  return array(a, dtype, copy=False, order=order)\n"
     ]
    }
   ],
   "source": [
    "_, test_predictions = onp.asarray(\n",
    "    predict_fn(net_apply, params, net_state, test_set))"
   ]
  },
  {
   "cell_type": "code",
   "execution_count": 127,
   "metadata": {},
   "outputs": [
    {
     "data": {
      "text/plain": [
       "[<matplotlib.lines.Line2D at 0x7f245017d100>]"
      ]
     },
     "execution_count": 127,
     "metadata": {},
     "output_type": "execute_result"
    },
    {
     "data": {
      "image/png": "[encoded data removed]",
      "text/plain": [
       "<Figure size 432x288 with 1 Axes>"
      ]
     },
     "metadata": {
      "needs_background": "light"
     },
     "output_type": "display_data"
    }
   ],
   "source": [
    "plt.plot(x_, test_predictions[0, :, 0])\n",
    "plt.plot(x, y, \"ro\")"
   ]
  },
  {
   "cell_type": "code",
   "execution_count": 59,
   "metadata": {},
   "outputs": [],
   "source": [
    "checkpoint_utils.save_checkpoint(\"synthreg_sgd_params.pt\", {\"params\": params})"
   ]
  },
  {
   "cell_type": "markdown",
   "metadata": {},
   "source": [
    "## VI"
   ]
  },
  {
   "cell_type": "code",
   "execution_count": 385,
   "metadata": {},
   "outputs": [],
   "source": [
    "sgd_params = checkpoint_utils.load_checkpoint(\"synthreg_sgd_params.pt\")[\"params\"]"
   ]
  },
  {
   "cell_type": "code",
   "execution_count": 386,
   "metadata": {},
   "outputs": [],
   "source": [
    "def get_mfvi_model_fn(net_fn, params, net_state, seed=0, sigma_init=0.):\n",
    "    #  net_fn(params, net_state, None, batch, is_training)\n",
    "    mean_params = jax.tree.map(lambda p: p.copy(), params)\n",
    "    std_params = jax.tree.map(lambda p: jnp.ones_like(p) * sigma_init, params)\n",
    "    mfvi_params = {\"mean\": mean_params, \"inv_softplus_std\": std_params}\n",
    "    mfvi_state = {\"net_state\": copy.deepcopy(net_state), \n",
    "                  \"mfvi_key\": jax.random.PRNGKey(seed)}\n",
    "    \n",
    "    def mfvi_apply_fn(params, state, _, batch, is_training):\n",
    "        mean = params[\"mean\"]\n",
    "        std = jax.tree.map(jax.nn.softplus, params[\"inv_softplus_std\"])\n",
    "        noise, new_key = tree_utils.normal_like_tree(mean, state[\"mfvi_key\"])\n",
    "        params_sampled = jax.tree_multimap(lambda m, s, n: m + n * s, mean, std, noise)\n",
    "        predictions, new_net_state = net_fn(params_sampled, state[\"net_state\"], None, batch, is_training)\n",
    "        new_mfvi_state = {\"net_state\": copy.deepcopy(new_net_state), \n",
    "                          \"mfvi_key\": new_key}\n",
    "        return predictions, new_mfvi_state\n",
    "    \n",
    "    return mfvi_apply_fn, mfvi_params, mfvi_state, "
   ]
  },
  {
   "cell_type": "code",
   "execution_count": 387,
   "metadata": {},
   "outputs": [],
   "source": [
    "def make_elbo_gaussian_log_prior(weight_decay, temperature):\n",
    "    def log_prior(params):\n",
    "        n_params = sum([p.size for p in jax.tree.leaves(params)])\n",
    "        sigma_prior = jnp.sqrt(1 / weight_decay)\n",
    "        \n",
    "        mu_vi_tree = params[\"mean\"]\n",
    "        sigma_vi_tree = jax.tree.map(jax.nn.softplus, params[\"inv_softplus_std\"])\n",
    "        \n",
    "        def get_parameter_kl(mu_vi, sigma_vi):\n",
    "            return (jnp.log(sigma_prior / sigma_vi) + \n",
    "                    (sigma_vi**2 + mu_vi**2) / 2 / sigma_prior**2 - 1 / 2)\n",
    "        \n",
    "        kl_tree = jax.tree_multimap(get_parameter_kl, mu_vi_tree, sigma_vi_tree)\n",
    "        kl = sum([p_kl.sum() for p_kl in jax.tree.leaves(kl_tree)])\n",
    "\n",
    "        return -kl / temperature\n",
    "  \n",
    "    def log_prior_diff(params1, params2):\n",
    "        raise NotImplementedError\n",
    "\n",
    "\n",
    "    return log_prior, log_prior_diff\n",
    "\n",
    "\n",
    "def fake_likelihood(net_apply, params, net_state, batch, is_training):\n",
    "    return jnp.zeros(()), net_state"
   ]
  },
  {
   "cell_type": "code",
   "execution_count": 388,
   "metadata": {},
   "outputs": [],
   "source": [
    "net_fn = make_model(layer_dims=[100, 100, 100], invsp_noise_std=invsp_noise_std)\n",
    "net = hk.transform_with_state(net_fn)\n",
    "net_apply, net_init = net.apply, net.init\n",
    "net_apply = precision_utils.rewrite_high_precision(net_apply)\n",
    "_, net_state = net.init(jax.random.PRNGKey(param_seed), (f, None), True)\n",
    "\n",
    "net_apply, params, net_state = get_mfvi_model_fn(net_apply, sgd_params, net_state, sigma_init=-3.)\n",
    "net_state = jax.pmap(lambda _: net_state)(jnp.arange(num_devices))"
   ]
  },
  {
   "cell_type": "code",
   "execution_count": 389,
   "metadata": {},
   "outputs": [],
   "source": [
    "num_iterations = 10000\n",
    "lr_schedule = optim_utils.make_cosine_lr_schedule(1e-3, num_iterations)\n",
    "optimizer = optim_utils.make_adam_optimizer(lr_schedule)\n",
    "opt_state = optimizer.init(params)"
   ]
  },
  {
   "cell_type": "code",
   "execution_count": 390,
   "metadata": {},
   "outputs": [],
   "source": [
    "vi_log_prior_fn, _ = make_elbo_gaussian_log_prior(weight_decay, 1.)\n",
    "sgd_train_epoch = train_utils.make_sgd_train_epoch(\n",
    "    net_apply, log_likelihood_fn, vi_log_prior_fn, optimizer, num_batches=1)\n",
    "# sgd_train_epoch = train_utils.make_sgd_train_epoch(\n",
    "#     net_apply, fake_likelihood, vi_log_prior_fn, optimizer, num_batches=1)"
   ]
  },
  {
   "cell_type": "code",
   "execution_count": 391,
   "metadata": {},
   "outputs": [
    {
     "name": "stderr",
     "output_type": "stream",
     "text": [
      "100%|██████████| 10000/10000 [00:46<00:00, 217.27it/s]\n"
     ]
    }
   ],
   "source": [
    "\n",
    "key = jax.random.PRNGKey(0)\n",
    "key = jax.random.split(key, num_devices)\n",
    "\n",
    "for iteration in tqdm.tqdm(range(num_iterations)):\n",
    "    params, net_state, opt_state, logprob_avg, key = sgd_train_epoch(\n",
    "        params, net_state, opt_state, train_set, key)"
   ]
  },
  {
   "cell_type": "code",
   "execution_count": 392,
   "metadata": {},
   "outputs": [],
   "source": [
    "_, all_test_preds = jax.lax.scan(\n",
    "    lambda state, _: predict_fn(net_apply, params, state, test_set), \n",
    "    init=net_state,\n",
    "    xs=jnp.arange(10))"
   ]
  },
  {
   "cell_type": "code",
   "execution_count": 394,
   "metadata": {},
   "outputs": [
    {
     "data": {
      "text/plain": [
       "[<matplotlib.lines.Line2D at 0x7f97985bd160>]"
      ]
     },
     "execution_count": 394,
     "metadata": {},
     "output_type": "execute_result"
    },
    {
     "data": {
      "image/png": "[encoded data removed]",
      "text/plain": [
       "<Figure size 432x288 with 1 Axes>"
      ]
     },
     "metadata": {
      "needs_background": "light"
     },
     "output_type": "display_data"
    }
   ],
   "source": [
    "for pred in all_test_preds:#[::10][4:]:\n",
    "    plt.plot(x_, pred[0, :, 0])\n",
    "    \n",
    "plt.plot(x, y, \"ro\")"
   ]
  },
  {
   "cell_type": "code",
   "execution_count": 374,
   "metadata": {},
   "outputs": [
    {
     "data": {
      "text/plain": [
       "{'mfvi_key': ShardedDeviceArray([[2490749004, 2000077409]], dtype=uint32),\n",
       " 'net_state': FlatMapping({})}"
      ]
     },
     "execution_count": 374,
     "metadata": {},
     "output_type": "execute_result"
    }
   ],
   "source": [
    "net_state"
   ]
  },
  {
   "cell_type": "code",
   "execution_count": null,
   "metadata": {},
   "outputs": [],
   "source": []
  }
 ],
 "metadata": {
  "kernelspec": {
   "display_name": "py38",
   "language": "python",
   "name": "py38"
  },
  "language_info": {
   "codemirror_mode": {
    "name": "ipython",
    "version": 3
   },
   "file_extension": ".py",
   "mimetype": "text/x-python",
   "name": "python",
   "nbconvert_exporter": "python",
   "pygments_lexer": "ipython3",
   "version": "3.8.5"
  }
 },
 "nbformat": 4,
 "nbformat_minor": 4
}
