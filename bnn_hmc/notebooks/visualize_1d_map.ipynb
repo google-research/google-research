{
 "cells": [
  {
   "cell_type": "code",
   "execution_count": 2,
   "metadata": {},
   "outputs": [],
   "source": [
    "%load_ext autoreload\n",
    "%autoreload 2"
   ]
  },
  {
   "cell_type": "code",
   "execution_count": 3,
   "metadata": {},
   "outputs": [],
   "source": [
    "workspaceFolder = \"/home/gabor/Projects/bnn_seq_vi\"\n",
    "seq_args = [\n",
    "    \"--seed=3\",\n",
    "    # \"--weight_decay=15\",\n",
    "    # f\"--pretrained_prior_checkpoint={workspaceFolder}/bnn_hmc/.runs/vi/regtest2/mfvi_initsigma_0.01_meaninit__opt_adam__lr_sch_i_0.001___epochs_300_wd_0.5_batchsize_1_temp_1.0__seed_11/model_step_299.pt\",\n",
    "    f\"--dir={workspaceFolder}/bnn_hmc/.runs/sgd/visualize/\",\n",
    "    \"--dataset_name=regtest_1\",\n",
    "    \"--model_name=bayesian_regression\",\n",
    "    # \"--init_step_size=1e-4\",\n",
    "    # \"--num_epochs=500\",\n",
    "    # \"--eval_freq=50\",\n",
    "    # \"--batch_size=1\",\n",
    "    # \"--save_freq=500\",\n",
    "    # \"--vi_sigma_init=1e-3\",\n",
    "]"
   ]
  },
  {
   "cell_type": "code",
   "execution_count": 4,
   "metadata": {},
   "outputs": [],
   "source": [
    "import os\n",
    "import pandas as pd\n",
    "import importlib\n",
    "os.chdir(\"../..\")"
   ]
  },
  {
   "cell_type": "code",
   "execution_count": 5,
   "metadata": {},
   "outputs": [
    {
     "name": "stderr",
     "output_type": "stream",
     "text": [
      "2024-09-14 19:27:24.554678: W tensorflow/compiler/tf2tensorrt/utils/py_utils.cc:38] TF-TRT Warning: Could not find TensorRT\n",
      "2024-09-14 19:27:25.220381: W tensorflow/core/common_runtime/gpu/gpu_device.cc:2251] Cannot dlopen some GPU libraries. Please make sure the missing libraries mentioned above are installed properly if you would like to use GPU. Follow the guide at https://www.tensorflow.org/install/gpu for how to download and setup the required libraries for your platform.\n",
      "Skipping registering GPU devices...\n"
     ]
    }
   ],
   "source": [
    "from jax import numpy as jnp\n",
    "import jax\n",
    "import pandas as pd\n",
    "import tensorflow.compat.v2 as tf\n",
    "import argparse\n",
    "\n",
    "from bnn_hmc.utils import checkpoint_utils\n",
    "from bnn_hmc.utils import cmd_args_utils\n",
    "from bnn_hmc.utils import logging_utils\n",
    "from bnn_hmc.utils import train_utils\n",
    "from bnn_hmc.utils import optim_utils\n",
    "from bnn_hmc.utils import script_utils\n",
    "from bnn_hmc.core import vi\n",
    "\n",
    "parser = argparse.ArgumentParser(description=\"Run SGD on a cloud TPU\")\n",
    "cmd_args_utils.add_common_flags(parser)\n",
    "cmd_args_utils.add_sgd_flags(parser)\n",
    "parser.add_argument(\"--vi_sigma_init\", default=1e-3)\n",
    "\n",
    "args = parser.parse_args(seq_args)\n",
    "train_utils.set_up_jax(args.tpu_ip, args.use_float64)"
   ]
  },
  {
   "cell_type": "code",
   "execution_count": 6,
   "metadata": {},
   "outputs": [],
   "source": [
    "import matplotlib.pyplot as plt\n",
    "%matplotlib inline"
   ]
  },
  {
   "cell_type": "code",
   "execution_count": 7,
   "metadata": {},
   "outputs": [
    {
     "name": "stderr",
     "output_type": "stream",
     "text": [
      "2024-09-14 19:27:26.298806: W external/xla/xla/service/platform_util.cc:198] unable to create StreamExecutor for CUDA:0: failed initializing StreamExecutor for CUDA device ordinal 0: INTERNAL: failed call to cuDevicePrimaryCtxRetain: CUDA_ERROR_OUT_OF_MEMORY: out of memory; total memory reported: 8250458112\n",
      "CUDA backend failed to initialize: INTERNAL: no supported devices found for platform CUDA (Set TF_CPP_MIN_LOG_LEVEL=0 and rerun for more info.)\n"
     ]
    }
   ],
   "source": [
    "(train_set, test_set, net_apply, params, net_state, key, log_likelihood_fn,\n",
    "   log_prior_fn, _, predict_fn, ensemble_upd_fn, metrics_fns,\n",
    "   tabulate_metrics) = script_utils.get_data_model_fns(args)"
   ]
  },
  {
   "cell_type": "code",
   "execution_count": 10,
   "metadata": {},
   "outputs": [],
   "source": [
    "SGD_CHECKPOINT = f\"{workspaceFolder}/bnn_hmc/.runs/sgd/regtest/\"\\\n",
    "                 \"sgd_mom_0.9__lr_sch_i_0.0005___epochs_500_wd_10.0_batchsize_1_temp_1.0__seed_1/model_step_499.pt\""
   ]
  },
  {
   "cell_type": "code",
   "execution_count": 11,
   "metadata": {},
   "outputs": [
    {
     "data": {
      "text/plain": [
       "{'linear': {'b': Array([0.14621593, 0.00249196], dtype=float32),\n",
       "  'w': Array([[-0.14621599, -0.0024919 ]], dtype=float32)}}"
      ]
     },
     "execution_count": 11,
     "metadata": {},
     "output_type": "execute_result"
    }
   ],
   "source": [
    "sgd_params = checkpoint_utils.load_checkpoint(SGD_CHECKPOINT)['params']\n",
    "sgd_params"
   ]
  },
  {
   "cell_type": "code",
   "execution_count": 13,
   "metadata": {},
   "outputs": [],
   "source": [
    "_, test_predictions, train_predictions, test_stats, train_stats_ = script_utils.evaluate(net_apply, sgd_params, net_state, train_set,\n",
    "                                test_set, predict_fn, metrics_fns,\n",
    "                                log_prior_fn)"
   ]
  },
  {
   "cell_type": "code",
   "execution_count": 15,
   "metadata": {},
   "outputs": [],
   "source": [
    "map_mean = test_predictions[0, ..., 0]\n",
    "predictive_std = test_predictions[0, ..., 1]"
   ]
  },
  {
   "cell_type": "code",
   "execution_count": 16,
   "metadata": {},
   "outputs": [
    {
     "data": {
      "image/png": "[encoded data removed]",
      "text/plain": [
       "<Figure size 640x480 with 1 Axes>"
      ]
     },
     "metadata": {},
     "output_type": "display_data"
    }
   ],
   "source": [
    "test_x = test_set[0][0, ..., 0]\n",
    "plt.errorbar(test_x, map_mean, yerr=predictive_std)\n",
    "plt.hlines(y=0, xmin=-2, xmax=2, alpha=0.2)\n",
    "plt.show()"
   ]
  }
 ],
 "metadata": {
  "kernelspec": {
   "display_name": "Python 3",
   "language": "python",
   "name": "python3"
  },
  "language_info": {
   "codemirror_mode": {
    "name": "ipython",
    "version": 3
   },
   "file_extension": ".py",
   "mimetype": "text/x-python",
   "name": "python",
   "nbconvert_exporter": "python",
   "pygments_lexer": "ipython3",
   "version": "3.10.14"
  }
 },
 "nbformat": 4,
 "nbformat_minor": 2
}
