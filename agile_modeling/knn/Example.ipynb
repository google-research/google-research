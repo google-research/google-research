{
 "cells": [
  {
   "cell_type": "markdown",
   "id": "8bda5ed3",
   "metadata": {},
   "source": [
    "# Setup\n",
    "\n",
    "## Download files\n",
    "\n",
    "**Small-scale (~1M images)**\n",
    "\n",
    "Go to https://deploy.laion.ai/8f83b608504d46bb81708ec86e912220/embeddings/metadata/ and download JUST `metadata_0.parquet`.\n",
    "\n",
    "Download the small-scale index from https://drive.google.com/drive/folders/11QRjRhTANy5mLquPBV-gIlAjz-NgqHby?usp=sharing.\n",
    "\n",
    "Put these two files in the following structure:\n",
    "```\n",
    "laion_400m_subset/\n",
    "  |- metadata/\n",
    "      |- metadata_0.parquet\n",
    "  |- image.index\n",
    "```\n",
    "\n",
    "The corresponding index definition file is `indices_laion_small.json`\n",
    "\n",
    "**Large-scale**\n",
    "\n",
    "Download all parquet files from https://deploy.laion.ai/8f83b608504d46bb81708ec86e912220/embeddings/metadata/.\n",
    "\n",
    "Next, download an `image.index` file from https://the-eye.eu/public/AI/cah/laion400m-indexes/\n",
    "\n",
    "We assume the following file structure. The path to the root `data` folder is defined in `indices_paths.json` and can be modified as needed:\n",
    "\n",
    "```\n",
    "laion_400m/\n",
    "  |- metadata/\n",
    "      |- metadata_0.parquet \n",
    "      |- ...\n",
    "  |- image.index\n",
    "```\n",
    "\n",
    "\n",
    "## Install dependencies:\n",
    "\n",
    "Install CLIP:\n",
    "```\n",
    "pip install ftfy regex tqdm\n",
    "pip install git+https://github.com/openai/CLIP.git\n",
    "```\n",
    "\n",
    "Dependending on if you want to GPU-accelerate the nearest-neighbors index:\n",
    "\n",
    "```pip install faiss-gpu``` OR ```pip install faiss-gpu```"
   ]
  },
  {
   "cell_type": "markdown",
   "id": "88107226",
   "metadata": {},
   "source": [
    "# Using the KNN Index"
   ]
  },
  {
   "cell_type": "code",
   "execution_count": 1,
   "id": "37f85c5e",
   "metadata": {},
   "outputs": [
    {
     "name": "stderr",
     "output_type": "stream",
     "text": [
      "/Users/edwardvendrow/miniconda3/envs/misc/lib/python3.8/site-packages/tqdm/auto.py:22: TqdmWarning: IProgress not found. Please update jupyter and ipywidgets. See https://ipywidgets.readthedocs.io/en/stable/user_install.html\n",
      "  from .autonotebook import tqdm as notebook_tqdm\n"
     ]
    },
    {
     "name": "stdout",
     "output_type": "stream",
     "text": [
      "warming up with batch size 1 on cpu\n"
     ]
    },
    {
     "name": "stderr",
     "output_type": "stream",
     "text": [
      "/Users/edwardvendrow/Documents/Research/agile_modeling/google-research/agile_modeling/knn/load_clip.py:105: UserWarning: floor_divide is deprecated, and will be removed in a future version of pytorch. It currently rounds toward 0 (like the 'trunc' function NOT 'floor'). This results in incorrect rounding for negative values.\n",
      "To keep the current behavior, use torch.div(a, b, rounding_mode='trunc'), or for actual floor division, use torch.div(a, b, rounding_mode='floor'). (Triggered internally at  /Users/distiller/project/pytorch/aten/src/ATen/native/BinaryOps.cpp:607.)\n",
      "  model.encode_image(image_tensor)\n"
     ]
    },
    {
     "name": "stdout",
     "output_type": "stream",
     "text": [
      "done warming up in 0.35264015197753906s\n"
     ]
    }
   ],
   "source": [
    "from clip_knn_service import create\n",
    "\n",
    "knn_service = create(\n",
    "    indices_paths=\"indices_laion_small.json\",\n",
    "    \n",
    "    # Enable hdf5 caching for the metadata. This reduces metadata memory \n",
    "    # use to near zero, but on the first run will take a bit of time to \n",
    "    # create the memory-mapped hdf5 files\n",
    "    enable_hdf5=True,\n",
    "    \n",
    "    # Use an index with memory mapping, decreasing memory use to zero.\n",
    "    enable_faiss_memory_mapping=True\n",
    ")"
   ]
  },
  {
   "cell_type": "code",
   "execution_count": 2,
   "id": "f550dcef",
   "metadata": {},
   "outputs": [
    {
     "data": {
      "text/plain": [
       "{'NSFW': 'UNLIKELY',\n",
       " 'caption': 'Tuna in Water',\n",
       " 'image_path': '000004410',\n",
       " 'url': 'https://gracefoods.com/components/com_jshopping/files/img_products/thumb_cc-tuna-water.jpg',\n",
       " 'id': 191470,\n",
       " 'similarity': 0.3783961534500122,\n",
       " 'embedding': array([ 2.04808987e-03, -5.39444722e-02,  1.42260240e-02,  1.22351442e-02,\n",
       "         1.54693713e-02,  9.04668309e-03, -2.65145637e-02,  3.85971479e-02,\n",
       "         3.88641260e-03,  8.16184748e-03,  5.12022467e-04,  2.30057314e-02,\n",
       "         5.81855848e-02, -1.54388594e-02,  4.34790030e-02, -4.37078392e-03,\n",
       "         7.35329092e-02,  1.98020153e-02,  1.50650926e-02, -1.44334073e-04,\n",
       "        -1.85022220e-01,  2.18768027e-02, -3.31965983e-02,  6.59812940e-03,\n",
       "        -1.55456504e-02,  4.39976975e-02,  1.72848105e-02,  1.94816440e-02,\n",
       "        -2.53246110e-02, -2.45999615e-03,  4.04278422e-03,  6.76975679e-03,\n",
       "         3.20981815e-02,  2.09614560e-02, -1.33945839e-02, -2.82384679e-02,\n",
       "        -8.50662887e-02, -3.99396569e-02, -1.82001572e-02,  3.69190127e-02,\n",
       "        -1.66440662e-02,  1.09002618e-02,  3.65833864e-02,  6.68203607e-02,\n",
       "        -5.25409430e-02,  2.20141057e-02,  8.12370796e-03, -1.40734669e-03,\n",
       "        -2.23497320e-02, -1.82001572e-02,  3.23117636e-02, -3.10607888e-02,\n",
       "         9.85524058e-03, -1.60338357e-02,  3.85666378e-02, -1.99850854e-02,\n",
       "        -7.54246265e-02,  2.94131637e-02,  6.32810146e-02, -1.62016489e-02,\n",
       "        -2.54314020e-02,  4.22204006e-03,  4.42417897e-02,  7.88419247e-02,\n",
       "         4.35095131e-02, -9.71031003e-03,  1.28434680e-03,  6.36471584e-02,\n",
       "        -3.95506341e-03, -6.66983128e-02,  3.96345444e-02, -1.83984824e-02,\n",
       "        -3.16099972e-02,  1.45387677e-02,  1.86025293e-03,  5.60173532e-04,\n",
       "         2.94055347e-03, -6.58439919e-02,  2.43940093e-02,  1.98935512e-02,\n",
       "         2.16784775e-02,  3.34673887e-03, -3.71936150e-02, -1.11916475e-01,\n",
       "         7.85673223e-03, -1.87836913e-03, -4.81472723e-02, -3.94209623e-02,\n",
       "         1.55609064e-02,  1.67813688e-03,  4.42723036e-02, -7.55161606e-03,\n",
       "        -5.14547288e-01, -8.41356814e-03, -1.47828609e-02,  4.57978807e-02,\n",
       "        -1.83832273e-02, -4.92762029e-03, -4.89100628e-02,  4.45469059e-02,\n",
       "        -4.61640209e-02, -5.83076291e-02, -5.53480051e-02,  1.29674217e-02,\n",
       "        -3.07251606e-02,  4.21670042e-02, -2.30820104e-02, -2.81621888e-02,\n",
       "         4.63470891e-02,  5.03746197e-02, -2.68501900e-02,  4.63165790e-02,\n",
       "        -5.57141453e-02, -6.92002624e-02, -3.13659050e-02,  3.81089635e-02,\n",
       "         1.85662974e-02,  1.83679722e-02,  6.15113452e-02, -1.34784905e-02,\n",
       "         1.05646346e-02,  8.16947594e-03, -1.79865770e-02,  1.90849937e-02,\n",
       "        -1.43785821e-02,  4.80862521e-02, -6.01078123e-02,  8.86666551e-02,\n",
       "        -2.17852686e-02,  4.14042138e-02,  4.59809527e-02, -7.68129015e-03,\n",
       "         8.46696366e-03,  9.52571556e-02,  1.34327235e-02, -4.45163958e-02,\n",
       "         4.28687707e-02,  4.36220253e-05, -3.10607888e-02,  3.13964151e-02,\n",
       "         8.20952235e-04, -9.87049658e-03, -7.20454706e-03,  5.79414926e-02,\n",
       "         2.13390356e-03, -1.56371854e-02, -2.32193135e-02,  5.44326603e-02,\n",
       "        -2.90470235e-02,  2.84062810e-02, -2.16174554e-02,  1.29521657e-02,\n",
       "         2.65908428e-02,  1.12206340e-02, -4.61487658e-03,  8.59663729e-03,\n",
       "         2.58585643e-02,  3.02064642e-02, -1.18613765e-02,  4.27162126e-02,\n",
       "        -6.49896683e-03,  4.86659706e-02, -1.10451924e-02, -7.28616565e-02,\n",
       "        -2.90470235e-02,  2.19988488e-02, -1.04597514e-03, -3.53934318e-02,\n",
       "        -9.11533460e-03, -2.79028397e-02,  2.34634057e-02, -2.45923344e-02,\n",
       "         4.51876521e-02,  4.21975143e-02,  3.31660882e-02,  3.18540893e-02,\n",
       "        -2.80401427e-02, -1.02595193e-02, -2.12360602e-02,  4.25331444e-02,\n",
       "         8.16489905e-02, -2.60874014e-02,  8.93226545e-03, -2.00613644e-02,\n",
       "        -1.53396968e-02,  9.48910136e-03,  6.33878075e-03,  1.17164468e-02,\n",
       "        -4.10685875e-02,  4.51571383e-02, -1.61406267e-02, -4.76285778e-02,\n",
       "        -4.12821695e-02, -4.46384437e-02,  3.86276618e-02,  6.36547850e-03,\n",
       "        -6.10536709e-02,  1.05112391e-02, -4.67132293e-02, -2.91194883e-03,\n",
       "         2.07936428e-02,  2.18005236e-02,  7.53636062e-02, -2.08851770e-02,\n",
       "         4.40282114e-02, -1.88714117e-02, -1.84289943e-02,  3.36847864e-02,\n",
       "        -1.55685339e-02, -4.45774198e-02,  2.40583811e-02,  1.14113308e-01,\n",
       "         3.59731540e-02,  1.48553262e-03,  2.49432176e-02, -1.56524405e-02,\n",
       "        -1.66593231e-02, -9.83083099e-02, -8.68149800e-04,  7.57907629e-02,\n",
       "         4.10075635e-02, -1.55151384e-02, -2.49241479e-03,  2.09461991e-02,\n",
       "         3.88412401e-02,  5.73007464e-02,  3.68274786e-02,  4.67589963e-03,\n",
       "        -9.94677562e-03, -2.14496404e-02,  4.31128629e-02, -6.60270602e-02,\n",
       "         2.38181022e-03, -1.33564444e-02,  8.65003280e-03, -2.09461991e-02,\n",
       "         3.93599384e-02, -6.86510559e-03,  8.42119660e-03, -5.37003800e-02,\n",
       "         4.25331444e-02,  3.89937982e-02,  1.28530031e-02, -1.60066615e-04,\n",
       "         1.79560650e-02, -2.85588391e-02,  4.57673706e-02,  2.22124308e-02,\n",
       "         8.64698216e-02, -1.59270447e-02, -2.06410848e-02, -2.56144721e-02,\n",
       "        -1.40810944e-02,  4.46079299e-02, -1.32572819e-02,  6.01993464e-02,\n",
       "         2.82994900e-02,  6.37081787e-02, -5.76668866e-02,  8.43340084e-02,\n",
       "         1.88409016e-02,  4.71098796e-02, -5.89788854e-02,  1.78492740e-02,\n",
       "        -1.14876097e-02, -3.07213468e-03, -6.52566412e-03, -2.25328021e-02,\n",
       "         6.98104948e-02,  1.25402594e-02,  5.14120124e-02,  6.63245469e-03,\n",
       "         2.62590288e-03, -1.49888135e-02, -1.44853732e-02,  5.41580543e-02,\n",
       "        -5.95891178e-02,  8.47459119e-03, -2.39058230e-02, -8.55849870e-03,\n",
       "        -2.41346601e-02,  5.47377765e-02, -3.45696211e-02, -9.67979897e-03,\n",
       "         1.45788142e-03,  1.32534676e-03, -4.26246785e-02, -1.89629477e-02,\n",
       "         2.16937345e-02, -5.52869849e-02,  3.19761373e-02,  1.85968075e-02,\n",
       "        -2.28226613e-02,  3.25863659e-02,  1.22198882e-02, -5.00084795e-02,\n",
       "         1.33335609e-02,  4.92762029e-02, -4.51476051e-04,  9.67979897e-03,\n",
       "         5.41199138e-03,  2.15564314e-02, -4.13737036e-02,  4.31433730e-02,\n",
       "        -7.61645334e-03,  5.40436385e-03,  4.39976975e-02,  2.30972655e-02,\n",
       "        -9.72556602e-03, -3.48022702e-04, -4.79947142e-02, -8.45933519e-03,\n",
       "         9.52571556e-02,  2.98060011e-03, -1.03968214e-02,  3.96040305e-02,\n",
       "         2.82384679e-02,  9.02379956e-03,  2.57060062e-02, -1.93595979e-02,\n",
       "         6.01688363e-02,  1.03068121e-01, -1.13121681e-02, -4.66255093e-04,\n",
       "         3.42950150e-02, -8.39831214e-03,  1.44853732e-02, -2.09614560e-02,\n",
       "        -4.94592711e-02, -9.08482261e-03, -2.33566146e-02,  2.98250690e-02,\n",
       "         3.76627315e-03, -4.32349108e-02,  6.03213944e-02,  1.00917052e-02,\n",
       "         2.63162386e-02,  2.68501900e-02, -1.87798776e-02,  4.05193791e-02,\n",
       "        -4.33874689e-02, -4.31128629e-02, -3.19456235e-02, -4.98254113e-02,\n",
       "        -1.50498366e-02, -4.63470891e-02,  4.70793694e-02, -1.18690049e-02,\n",
       "        -3.56375240e-02, -1.76967159e-02,  1.59575567e-02, -4.80862521e-02,\n",
       "         2.33871266e-02, -3.19456235e-02, -4.69268113e-02,  1.31352358e-02,\n",
       "         3.69800366e-02,  3.40204127e-02,  2.89402343e-02,  2.20446158e-02,\n",
       "        -2.87876762e-02, -6.69824542e-04, -2.61179134e-02,  7.70112276e-02,\n",
       "        -9.36705526e-03, -3.26473899e-02, -2.56297272e-02,  2.91995816e-02,\n",
       "         2.68959589e-02, -5.33342436e-02, -1.77424848e-02, -8.32203310e-03,\n",
       "         1.06332861e-02,  5.03135957e-02, -1.79255533e-03,  1.88103896e-02,\n",
       "         4.38146293e-02,  1.20902136e-02, -1.10268854e-01,  2.55992152e-02,\n",
       "         1.19757950e-02,  1.32038863e-02,  2.92453505e-02,  3.75673827e-03,\n",
       "        -3.13964151e-02,  2.74909344e-02,  1.22046322e-02, -2.06868518e-02,\n",
       "        -1.87035985e-02, -1.63297981e-01, -5.30291274e-02, -5.81550710e-02,\n",
       "         2.13581063e-02,  3.56375240e-02,  1.72695536e-02,  2.89402343e-02,\n",
       "        -3.50578055e-02, -2.99318600e-02, -2.87113972e-02,  2.02749446e-02,\n",
       "        -2.40583811e-02, -9.70268250e-03,  6.65915245e-03, -1.13197966e-02,\n",
       "        -4.51571383e-02, -5.35783358e-02,  2.92758606e-02, -3.83530557e-02,\n",
       "         4.65911813e-02, -9.38993879e-03, -2.65908428e-02, -2.14534556e-03,\n",
       "         2.29294524e-02,  7.52415583e-02, -8.09319690e-03, -1.69186704e-02,\n",
       "        -6.66372925e-02, -1.95579231e-02,  1.57134645e-02, -4.07854008e-04,\n",
       "        -3.71020809e-02,  5.04203886e-03,  6.30979463e-02,  4.61029969e-02,\n",
       "         5.78804687e-02, -2.90012565e-02, -3.19227413e-03,  9.91626410e-04,\n",
       "        -1.49018556e-01, -3.06641380e-03,  3.17320451e-02, -1.42260240e-02,\n",
       "         9.67827290e-02, -4.19534221e-02,  4.49664425e-03,  2.99776271e-02,\n",
       "        -3.18235792e-02, -2.05037817e-02,  3.20066474e-02, -1.02442633e-02,\n",
       "         6.14045560e-03, -2.67891679e-02, -1.19757950e-02, -1.24029573e-02,\n",
       "         2.34176381e-03, -2.47448925e-02, -3.21897157e-02, -1.86120644e-02,\n",
       "         4.16864455e-03, -8.97040442e-02,  4.64691371e-02,  3.04353014e-02,\n",
       "         2.03054566e-02, -1.36691881e-02, -6.20300435e-02,  5.13509884e-02,\n",
       "        -8.55087023e-03,  1.03968214e-02,  1.69186704e-02, -9.29077622e-03,\n",
       "        -5.99552542e-02, -4.09770533e-02,  2.28836853e-02,  3.27389240e-02,\n",
       "         4.57673706e-03, -8.46391246e-02,  4.10075635e-02, -8.96277651e-03,\n",
       "         3.67969647e-02,  1.20597025e-02,  2.86351182e-02, -4.38985368e-03,\n",
       "        -2.75672134e-02, -4.88795526e-02, -9.89338011e-03, -1.05360302e-03,\n",
       "        -4.54012305e-02,  5.48903346e-02, -1.80475991e-02, -3.11980899e-02,\n",
       "        -1.47523489e-02, -3.59121300e-02, -1.61406267e-02,  8.95324163e-04,\n",
       "        -1.03663094e-02, -1.84289943e-02,  2.18310356e-02,  2.03512236e-02,\n",
       "         3.22812535e-02, -1.04502160e-02,  6.26707822e-02,  2.45770775e-02,\n",
       "         6.94443583e-02, -3.15489732e-02,  2.95046978e-02, -1.16020283e-02,\n",
       "        -2.65603308e-02,  3.01683252e-03, -3.07709295e-02, -4.93906206e-04,\n",
       "         1.67661142e-02,  6.57219440e-02,  1.66002067e-03,  1.27996076e-02,\n",
       "        -1.55151384e-02,  7.90249929e-02, -6.69729197e-03,  6.77357092e-02,\n",
       "        -1.81849021e-02,  3.75597551e-02, -3.27389240e-02,  3.79564054e-02],\n",
       "       dtype=float32)}"
      ]
     },
     "execution_count": 2,
     "metadata": {},
     "output_type": "execute_result"
    }
   ],
   "source": [
    "# Get a result from the knn index\n",
    "\n",
    "results = knn_service.query(\n",
    "        text_input=\"gourmet tuna\", # can accept text, and image, an image URL, or an embedding\n",
    "#         image_input=None,\n",
    "#         image_url_input=None,\n",
    "#         embedding_input=query,\n",
    "        modality=\"image\",\n",
    "        num_images=100,\n",
    "        num_result_ids=100,\n",
    "#         use_mclip=False,\n",
    "        deduplicate=True,\n",
    "    )\n",
    "\n",
    "results[0]"
   ]
  },
  {
   "cell_type": "markdown",
   "id": "5a65ce67",
   "metadata": {},
   "source": [
    "# Metadata provider\n",
    "\n",
    "Here we use the metadata provider to query information given an image's ID"
   ]
  },
  {
   "cell_type": "code",
   "execution_count": 3,
   "id": "9c6e5768",
   "metadata": {},
   "outputs": [
    {
     "data": {
      "text/plain": [
       "[{'NSFW': b'UNLIKELY',\n",
       "  'caption': b'Tuna in Water',\n",
       "  'image_path': b'000004410',\n",
       "  'url': b'https://gracefoods.com/components/com_jshopping/files/img_products/thumb_cc-tuna-water.jpg'}]"
      ]
     },
     "execution_count": 3,
     "metadata": {},
     "output_type": "execute_result"
    }
   ],
   "source": [
    "image_id = results[0]['id']\n",
    "resouce_name = next(iter(knn_service.clip_resources.keys()))\n",
    "metadata = knn_service.clip_resources[resouce_name].metadata_provider.get([image_id])\n",
    "\n",
    "metadata"
   ]
  },
  {
   "cell_type": "code",
   "execution_count": null,
   "id": "26cf7982",
   "metadata": {},
   "outputs": [],
   "source": []
  }
 ],
 "metadata": {
  "kernelspec": {
   "display_name": "Python 3 (ipykernel)",
   "language": "python",
   "name": "python3"
  },
  "language_info": {
   "codemirror_mode": {
    "name": "ipython",
    "version": 3
   },
   "file_extension": ".py",
   "mimetype": "text/x-python",
   "name": "python",
   "nbconvert_exporter": "python",
   "pygments_lexer": "ipython3",
   "version": "3.8.11"
  }
 },
 "nbformat": 4,
 "nbformat_minor": 5
}
