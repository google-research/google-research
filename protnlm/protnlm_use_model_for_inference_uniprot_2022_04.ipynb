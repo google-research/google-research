{
  "cells": [
    {
      "cell_type": "markdown",
      "metadata": {
        "id": "hCuI3G1qcZJ8"
      },
      "source": [
        "```\n",
        "# Copyright 2022 Google Inc.\n",
        "\n",
        "# Licensed under the Apache License, Version 2.0 (the \"License\");\n",
        "# you may not use this file except in compliance with the License.\n",
        "# You may obtain a copy of the License at\n",
        "\n",
        "#     http://www.apache.org/licenses/LICENSE-2.0\n",
        "\n",
        "# Unless required by applicable law or agreed to in writing, software\n",
        "# distributed under the License is distributed on an \"AS IS\" BASIS,\n",
        "# WITHOUT WARRANTIES OR CONDITIONS OF ANY KIND, either express or implied.\n",
        "# See the License for the specific language governing permissions and\n",
        "# limitations under the License.\n",
        "```"
      ]
    },
    {
      "cell_type": "markdown",
      "metadata": {
        "id": "swj2Jhw8cvAR"
      },
      "source": [
        "This colab supports the UniProt launch 2022_04, where Google predicted\n",
        "protein names for 88% of all Uncharacterized proteins (over 1 in 5 proteins in UniProt).\n",
        "\n",
        "This colab allows you to run a model that's very similar to the one used in the UniProt release. To run this colab:\n",
        "\n",
        "1. Select an appropriate runtime. We recommend choosing a runtime with at least 20G of RAM, e.g. the publicly-available \"TPU v2\" runtime.\n",
        "2. **Put in the amino acid sequence below**, and press \"Runtime \u003e Run all\" in the _File_ menu above to **get name predictions for your protein**!\n",
        "\n",
        "This colab takes a few minutes to run initially, and then you get protein sequence predictions in a few seconds!"
      ]
    },
    {
      "cell_type": "markdown",
      "metadata": {
        "id": "Q8TtkEsX7Z2q"
      },
      "source": [
        "# Import code"
      ]
    },
    {
      "cell_type": "code",
      "execution_count": null,
      "metadata": {
        "id": "wSfRFuO5tive"
      },
      "outputs": [],
      "source": [
        "#@markdown Please execute this cell by pressing the _Play_ button\n",
        "#@markdown on the left to import the dependencies. It can take a few minutes.\n",
        "!python3 -m pip install -q -U tensorflow==2.8.2\n",
        "!python3 -m pip install -q -U tensorflow-text==2.8.2\n",
        "import tensorflow as tf\n",
        "import tensorflow_text\n",
        "import numpy as np\n",
        "import re\n",
        "\n",
        "import IPython.display\n",
        "from absl import logging\n",
        "\n",
        "tf.compat.v1.enable_eager_execution()\n",
        "\n",
        "logging.set_verbosity(logging.ERROR)  # Turn down tensorflow warnings\n",
        "\n",
        "def print_markdown(string):\n",
        "  IPython.display.display(IPython.display.Markdown(string))"
      ]
    },
    {
      "cell_type": "markdown",
      "metadata": {
        "id": "g7Vxy09g6WpD"
      },
      "source": [
        "# 2. Load the model"
      ]
    },
    {
      "cell_type": "code",
      "execution_count": 3,
      "metadata": {
        "cellView": "form",
        "executionInfo": {
          "elapsed": 2,
          "status": "ok",
          "timestamp": 1717112891703,
          "user": {
            "displayName": "",
            "userId": ""
          },
          "user_tz": 240
        },
        "id": "uIZGEiYMXqUD"
      },
      "outputs": [],
      "source": [
        "#@markdown Please execute this cell by pressing the _Play_ button.\n",
        "\n",
        "def query(seq):\n",
        "  return f\"[protein_name_in_english] \u003cextra_id_0\u003e [sequence] {seq}\"\n",
        "\n",
        "EC_NUMBER_REGEX = r'(\\d+).([\\d\\-n]+).([\\d\\-n]+).([\\d\\-n]+)'\n",
        "\n",
        "def run_inference(seq):\n",
        "  labeling = infer(tf.constant([query(seq)]))\n",
        "  names = labeling['output_0'][0].numpy().tolist()\n",
        "  scores = labeling['output_1'][0].numpy().tolist()\n",
        "  beam_size = len(names)\n",
        "  names = [names[beam_size-1-i].decode().replace('\u003cextra_id_0\u003e ', '') for i in range(beam_size)]\n",
        "  for i, name in enumerate(names):\n",
        "    if re.match(EC_NUMBER_REGEX, name):\n",
        "      names[i] = 'EC:' + name\n",
        "  scores = [np.exp(scores[beam_size-1-i]) for i in range(beam_size)]\n",
        "  return names, scores"
      ]
    },
    {
      "cell_type": "code",
      "execution_count": 4,
      "metadata": {
        "executionInfo": {
          "elapsed": 87975,
          "status": "ok",
          "timestamp": 1717112980034,
          "user": {
            "displayName": "",
            "userId": ""
          },
          "user_tz": 240
        },
        "id": "N9YtieGL6YRk"
      },
      "outputs": [],
      "source": [
        "#@markdown Please execute this cell by pressing the _Play_ button\n",
        "#@markdown on the left to load the model. It can take a few minutes.\n",
        "\n",
        "! mkdir -p protnlm\n",
        "\n",
        "! wget -nc https://storage.googleapis.com/brain-genomics-public/research/proteins/protnlm/uniprot_2022_04/savedmodel__20221011__030822_1128_bs1.bm10.eos_cpu/saved_model.pb -P protnlm -q --no-check-certificate\n",
        "! mkdir -p protnlm/variables\n",
        "! wget -nc https://storage.googleapis.com/brain-genomics-public/research/proteins/protnlm/uniprot_2022_04/savedmodel__20221011__030822_1128_bs1.bm10.eos_cpu/variables/variables.index -P protnlm/variables/ -q --no-check-certificate\n",
        "! wget -nc https://storage.googleapis.com/brain-genomics-public/research/proteins/protnlm/uniprot_2022_04/savedmodel__20221011__030822_1128_bs1.bm10.eos_cpu/variables/variables.data-00000-of-00001 -P protnlm/variables/ -q --no-check-certificate\n",
        "\n",
        "imported = tf.saved_model.load(export_dir=\"protnlm\")\n",
        "infer = imported.signatures[\"serving_default\"]"
      ]
    },
    {
      "cell_type": "code",
      "execution_count": 5,
      "metadata": {
        "colab": {
          "height": 257
        },
        "executionInfo": {
          "elapsed": 94679,
          "status": "ok",
          "timestamp": 1717113075007,
          "user": {
            "displayName": "",
            "userId": ""
          },
          "user_tz": 240
        },
        "id": "QUDDawYq4e3B",
        "outputId": "9ad8eed3-38c1-4975-8a77-8cb497efcb74"
      },
      "outputs": [
        {
          "data": {
            "text/markdown": "Prediction number 1: **Hemoglobin subunit alpha** with a score of **0.364**",
            "text/plain": [
              "\u003cIPython.core.display.Markdown object\u003e"
            ]
          },
          "metadata": {},
          "output_type": "display_data"
        },
        {
          "data": {
            "text/markdown": "Prediction number 2: **Alpha-globin** with a score of **0.160**",
            "text/plain": [
              "\u003cIPython.core.display.Markdown object\u003e"
            ]
          },
          "metadata": {},
          "output_type": "display_data"
        },
        {
          "data": {
            "text/markdown": "Prediction number 3: **Hemoglobin subunit alpha-like** with a score of **0.069**",
            "text/plain": [
              "\u003cIPython.core.display.Markdown object\u003e"
            ]
          },
          "metadata": {},
          "output_type": "display_data"
        },
        {
          "data": {
            "text/markdown": "Prediction number 4: **Hemoglobin alpha chain** with a score of **0.068**",
            "text/plain": [
              "\u003cIPython.core.display.Markdown object\u003e"
            ]
          },
          "metadata": {},
          "output_type": "display_data"
        },
        {
          "data": {
            "text/markdown": "Prediction number 5: **Hemoglobin alpha subunit 2** with a score of **0.035**",
            "text/plain": [
              "\u003cIPython.core.display.Markdown object\u003e"
            ]
          },
          "metadata": {},
          "output_type": "display_data"
        },
        {
          "data": {
            "text/markdown": "Prediction number 6: **Hemoglobin subunit alpha-1** with a score of **0.033**",
            "text/plain": [
              "\u003cIPython.core.display.Markdown object\u003e"
            ]
          },
          "metadata": {},
          "output_type": "display_data"
        },
        {
          "data": {
            "text/markdown": "Prediction number 7: **GLOBIN domain-containing protein** with a score of **0.027**",
            "text/plain": [
              "\u003cIPython.core.display.Markdown object\u003e"
            ]
          },
          "metadata": {},
          "output_type": "display_data"
        },
        {
          "data": {
            "text/markdown": "Prediction number 8: **Hemoglobin subunit alpha-2** with a score of **0.025**",
            "text/plain": [
              "\u003cIPython.core.display.Markdown object\u003e"
            ]
          },
          "metadata": {},
          "output_type": "display_data"
        },
        {
          "data": {
            "text/markdown": "Prediction number 9: **Hemoglobin alpha-1 chain** with a score of **0.018**",
            "text/plain": [
              "\u003cIPython.core.display.Markdown object\u003e"
            ]
          },
          "metadata": {},
          "output_type": "display_data"
        },
        {
          "data": {
            "text/markdown": "Prediction number 10: **Hemoglobin alpha-2 chain** with a score of **0.012**",
            "text/plain": [
              "\u003cIPython.core.display.Markdown object\u003e"
            ]
          },
          "metadata": {},
          "output_type": "display_data"
        }
      ],
      "source": [
        "#@title 3. Put your prediction here (hemoglobin is pre-loaded)\n",
        "\n",
        "#@markdown Press the _Play_ button to get a prediction.\n",
        "#@markdown The first time can take a few minutes.\n",
        "#@markdown\n",
        "#@markdown Subsequent predictions take a few seconds.\n",
        "sequence = \"MVLSPADKTNVKAAWGKVGAHAGEYGAEALERMFLSFPTTKTYFPHFDLSHGSAQVKGHG KKVADALTNAVAHVDDMPNALSALSDLHAHKLRVDPVNFKLLSHCLLVTLAAHLPAEFTP AVHASLDKFLASVSTVLTSKYR\" #@param {type:\"string\"}\n",
        "sequence = sequence.replace(' ', '')\n",
        "\n",
        "names, scores = run_inference(sequence)\n",
        "\n",
        "for name, score, i in zip(names, scores, range(len(names))):\n",
        "  print_markdown(f\"Prediction number {i+1}: **{name}** with a score of **{score:.03f}**\")"
      ]
    },
    {
      "cell_type": "code",
      "execution_count": 6,
      "metadata": {
        "colab": {
          "height": 257
        },
        "executionInfo": {
          "elapsed": 14273,
          "status": "ok",
          "timestamp": 1717113089801,
          "user": {
            "displayName": "",
            "userId": ""
          },
          "user_tz": 240
        },
        "id": "MKUsa5LB4ZyF",
        "outputId": "3542e3ed-6efa-483a-946e-d20f93d2721d"
      },
      "outputs": [
        {
          "data": {
            "text/markdown": "Prediction number 1: **Multifunctional fusion protein** with a score of **0.182**",
            "text/plain": [
              "\u003cIPython.core.display.Markdown object\u003e"
            ]
          },
          "metadata": {},
          "output_type": "display_data"
        },
        {
          "data": {
            "text/markdown": "Prediction number 2: **Indole-3-glycerol phosphate synthase** with a score of **0.168**",
            "text/plain": [
              "\u003cIPython.core.display.Markdown object\u003e"
            ]
          },
          "metadata": {},
          "output_type": "display_data"
        },
        {
          "data": {
            "text/markdown": "Prediction number 3: **IGPS** with a score of **0.162**",
            "text/plain": [
              "\u003cIPython.core.display.Markdown object\u003e"
            ]
          },
          "metadata": {},
          "output_type": "display_data"
        },
        {
          "data": {
            "text/markdown": "Prediction number 4: **EC:4.1.1.48** with a score of **0.160**",
            "text/plain": [
              "\u003cIPython.core.display.Markdown object\u003e"
            ]
          },
          "metadata": {},
          "output_type": "display_data"
        },
        {
          "data": {
            "text/markdown": "Prediction number 5: **N-(5'-phosphoribosyl)anthranilate isomerase** with a score of **0.109**",
            "text/plain": [
              "\u003cIPython.core.display.Markdown object\u003e"
            ]
          },
          "metadata": {},
          "output_type": "display_data"
        },
        {
          "data": {
            "text/markdown": "Prediction number 6: **PRAI** with a score of **0.105**",
            "text/plain": [
              "\u003cIPython.core.display.Markdown object\u003e"
            ]
          },
          "metadata": {},
          "output_type": "display_data"
        },
        {
          "data": {
            "text/markdown": "Prediction number 7: **EC:5.3.1.24** with a score of **0.100**",
            "text/plain": [
              "\u003cIPython.core.display.Markdown object\u003e"
            ]
          },
          "metadata": {},
          "output_type": "display_data"
        },
        {
          "data": {
            "text/markdown": "Prediction number 8: **Bifunctional indole-3-glycerol-phosphate synthase TrpC/phosphoribosylanthranilate isomerase TrpF** with a score of **0.002**",
            "text/plain": [
              "\u003cIPython.core.display.Markdown object\u003e"
            ]
          },
          "metadata": {},
          "output_type": "display_data"
        },
        {
          "data": {
            "text/markdown": "Prediction number 9: **Tryptophan biosynthesis protein TrpCF** with a score of **0.001**",
            "text/plain": [
              "\u003cIPython.core.display.Markdown object\u003e"
            ]
          },
          "metadata": {},
          "output_type": "display_data"
        },
        {
          "data": {
            "text/markdown": "Prediction number 10: **Anthranilate synthase component 1** with a score of **0.001**",
            "text/plain": [
              "\u003cIPython.core.display.Markdown object\u003e"
            ]
          },
          "metadata": {},
          "output_type": "display_data"
        }
      ],
      "source": [
        "#@title 3. A second example prediction (bifunctional TrpCF protein P22098)\n",
        "\n",
        "#@markdown Press the _Play_ button to get a prediction.\n",
        "sequence = \"MKMTDFNTQQANNLSEHVSKKEAEMAEVLAKIVRDKYQWVAERKASQHLSTFQSDLLPSD RSFYDALSGDKTVFITECKKASPSKGLIRNDFDLDYIASVYNNYADAISVLTDEKYFQGS FDFLPQVRRQVKQPVLCKDFMVDTYQVYLARHYGADAVLLMLSVLNDEEYKALEEAAHSL NMGILTEVSNEEELHRAVQLGARVIGINNRNLRDLTTDLNRTKALAPTIRKLAPNATVIS ESGIYTHQQVRDLAEYADGFLIGSSLMAEDNLELAVRKVTLGENKVCGLTHPDDAAKAYQ AGAVFGGLIFVEKSKRAVDFESARLTMSGAPLNYVGVFQNHDVDYVASIVTSLGLKAVQL HGLEDQEYVNQLKTELPVGVEIWKAYGVADTKPSLLADNIDRHLLDAQVGTQTGGTGHVF DWSLIGDPSQIMLAGGLSPENAQQAAKLGCLGLDLNSGVESAPGKKDSQKLQAAFHAIRN Y\" #@param {type:\"string\"}\n",
        "sequence = sequence.replace(' ', '')\n",
        "\n",
        "names, scores = run_inference(sequence)\n",
        "\n",
        "for name, score, i in zip(names, scores, range(len(names))):\n",
        "  print_markdown(f\"Prediction number {i+1}: **{name}** with a score of **{score:.03f}**\")"
      ]
    },
    {
      "cell_type": "code",
      "execution_count": 6,
      "metadata": {
        "executionInfo": {
          "elapsed": 2,
          "status": "ok",
          "timestamp": 1717113090330,
          "user": {
            "displayName": "",
            "userId": ""
          },
          "user_tz": 240
        },
        "id": "FMsP-amVyRhu"
      },
      "outputs": [],
      "source": []
    }
  ],
  "metadata": {
    "accelerator": "GPU",
    "colab": {
      "last_runtime": {
        "build_target": "//learning/brain/research/sequin/colab:xm_colab",
        "kind": "private"
      },
      "provenance": []
    },
    "gpuClass": "standard",
    "kernelspec": {
      "display_name": "Python 3",
      "name": "python3"
    },
    "language_info": {
      "name": "python"
    }
  },
  "nbformat": 4,
  "nbformat_minor": 0
}
