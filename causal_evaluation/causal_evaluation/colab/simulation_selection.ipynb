{
  "cells": [
    {
      "metadata": {
        "id": "T-LeZRpeZHpy"
      },
      "cell_type": "markdown",
      "source": [
        "Copyright 2025 The Google Research Authors\n",
        "\n",
        "Licensed under the Apache License, Version 2.0 (the \"License\"); you may not use this file except in compliance with the License. You may obtain a copy of the License at\n",
        "```\n",
        " http://www.apache.org/licenses/LICENSE-2.0\n",
        "```\n",
        "Unless required by applicable law or agreed to in writing, software distributed under the License is distributed on an \"AS IS\" BASIS, WITHOUT WARRANTIES OR CONDITIONS OF ANY KIND, either express or implied. See the License for the specific language governing permissions and limitations under the License."
      ]
    },
    {
      "metadata": {
        "id": "SzuVF5YJu695"
      },
      "cell_type": "markdown",
      "source": [
        "# Simulation of the effects of selection bias on subgroup calibration"
      ]
    },
    {
      "metadata": {
        "id": "bSjbUHQUkiz0"
      },
      "cell_type": "code",
      "source": [
        "import os\n",
        "import random\n",
        "import matplotlib.pyplot as plt\n",
        "import numpy as np\n",
        "import pandas as pd\n",
        "import seaborn as sns\n",
        "import itertools\n",
        "\n",
        "from causal_evaluation import utils\n",
        "from causal_evaluation.experiments.simulator import Simulator"
      ],
      "outputs": [],
      "execution_count": null
    },
    {
      "metadata": {
        "id": "B3Q95cealDe6"
      },
      "cell_type": "code",
      "source": [
        "# Flags\n",
        "N_SAMPLES_TRAIN = 100000\n",
        "N_SAMPLES_TRAIN_EFFECTIVE = 50000\n",
        "N_SAMPLES_EVAL = 20000\n",
        "FIGURE_PATH = './../../figures'"
      ],
      "outputs": [],
      "execution_count": null
    },
    {
      "metadata": {
        "id": "ujANcvJUNlXE"
      },
      "cell_type": "code",
      "source": [
        "os.makedirs(FIGURE_PATH, exist_ok=True)"
      ],
      "outputs": [],
      "execution_count": null
    },
    {
      "metadata": {
        "id": "VP2Gp8i7lFdf"
      },
      "cell_type": "code",
      "source": [
        "np.random.seed(173)\n",
        "random.seed(100)"
      ],
      "outputs": [],
      "execution_count": null
    },
    {
      "metadata": {
        "id": "SxfC117ey1pB"
      },
      "cell_type": "code",
      "source": [
        "def select_x(x):\n",
        "  return np.minimum(np.maximum(-4/25*x**2 + 1, 0), 1)\n",
        "fig, ax = plt.subplots(1, 1)\n",
        "x = np.linspace(-10, 10, 1000)\n",
        "ax.plot(x, select_x(x))"
      ],
      "outputs": [],
      "execution_count": null
    },
    {
      "metadata": {
        "id": "wpPXjC5Nl5cJ"
      },
      "cell_type": "code",
      "source": [
        "class SimulatorSelectX(Simulator):\n",
        "  def selection_function(self, u, a, x, y):\n",
        "    p_selected = select_x(x)\n",
        "    return np.random.binomial(n=1, p=p_selected), p_selected\n",
        "\n",
        "class SimulatorSelectY(Simulator):\n",
        "\n",
        "  def selection_function(self, u, a, x, y):\n",
        "    p_selected_y = np.array([0.4, 0.8])\n",
        "    p_selected = p_selected_y[y]\n",
        "    return np.random.binomial(n=1, p=p_selected), p_selected\n",
        "\n",
        "class SimulatorSelectAY(Simulator):\n",
        "\n",
        "  def selection_function(self, u, a, x, y):\n",
        "    p_selected_y = np.array([[0.8, 0.5], [0.8, 0.25]])\n",
        "    p_selected = p_selected_y[a, y]\n",
        "    return np.random.binomial(n=1, p=p_selected), p_selected"
      ],
      "outputs": [],
      "execution_count": null
    },
    {
      "metadata": {
        "id": "hw6dP1_BlOP7"
      },
      "cell_type": "code",
      "source": [
        "def get_sim_dict(**kwargs):\n",
        "\n",
        "  sim_dict = {\n",
        "      'select_x': SimulatorSelectX(\n",
        "          a_to_y=True, mu_y_a=np.array([0.1, 0]), **kwargs\n",
        "      ),\n",
        "      'select_y': SimulatorSelectY(\n",
        "          a_to_y=True, mu_y_a=np.array([0.1, 0]), **kwargs\n",
        "      ),\n",
        "      'select_ay': SimulatorSelectAY(\n",
        "          a_to_y=True, mu_y_a=np.array([0.1, 0]), **kwargs\n",
        "      )\n",
        "  }\n",
        "  return sim_dict\n",
        "\n",
        "sim_samples_dict = {\n",
        "    key: utils.get_squeezed_df(value.get_samples(seed=i))\n",
        "    for i, (key, value) in enumerate(\n",
        "        get_sim_dict(num_samples=N_SAMPLES_TRAIN).items()\n",
        "    )\n",
        "}\n",
        "\n",
        "sim_samples_df = (\n",
        "    pd.concat(sim_samples_dict)\n",
        "    .reset_index(level=-1, drop=True)\n",
        "    .rename_axis('setting')\n",
        "    .reset_index()\n",
        ")\n",
        "\n",
        "sim_samples_dict_eval = {\n",
        "    key: utils.get_squeezed_df(value.get_samples(seed=2 * i))\n",
        "    for i, (key, value) in enumerate(\n",
        "        get_sim_dict(num_samples=N_SAMPLES_EVAL).items()\n",
        "    )\n",
        "}\n"
      ],
      "outputs": [],
      "execution_count": null
    },
    {
      "metadata": {
        "id": "9MwSE93--D4c"
      },
      "cell_type": "code",
      "source": [
        "assert (sim_samples_df.query('selected == 1').groupby('setting')['setting'].agg(lambda x: x.shape[0]).values \u003e N_SAMPLES_TRAIN_EFFECTIVE).all()\n",
        "sim_samples_df_selected = sim_samples_df.query('selected == 1').groupby('setting').apply(lambda x: x.sample(N_SAMPLES_TRAIN_EFFECTIVE, random_state=10), include_groups=False).reset_index(level=-1, drop=True).reset_index()\n",
        "sim_samples_df_selected"
      ],
      "outputs": [],
      "execution_count": null
    },
    {
      "metadata": {
        "id": "R3yicgSRrI4l"
      },
      "cell_type": "code",
      "source": [
        "model_type = 'gradient_boosting'\n",
        "settings = sim_samples_dict.keys()\n",
        "for setting in settings:\n",
        "  print(f'Setting: {setting}', flush=True)\n",
        "  selected_df = sim_samples_df_selected.query('setting == @setting')\n",
        "  # Fit model for E[Y | X]\n",
        "  model = utils.fit_model(\n",
        "      selected_df['x'].values.reshape(-1, 1),\n",
        "      selected_df['y'].values,\n",
        "      model_type=model_type,\n",
        "      model_cross_val=True,\n",
        "  )\n",
        "\n",
        "  # Predict y in the eval data\n",
        "  sim_samples_dict_eval[setting]['pred_probs_y_x'] = utils.array_to_series(\n",
        "      model.predict_proba(\n",
        "          sim_samples_dict_eval[setting]['x'].values.reshape(-1, 1)\n",
        "      )\n",
        "  )\n",
        "  sim_samples_dict_eval[setting]['pred_probs_y1_x'] = sim_samples_dict_eval[\n",
        "      setting\n",
        "  ]['pred_probs_y_x'].map(lambda x: x[-1])\n",
        "\n",
        "  # Fit model stratified\n",
        "  model_dict = utils.fit_model_stratified(\n",
        "    selected_df['x'].values.reshape(-1, 1),\n",
        "    selected_df['y'].values,\n",
        "    group=selected_df['a'].values,\n",
        "    model_type=model_type,\n",
        "    model_cross_val=True,\n",
        ")\n",
        "\n",
        "  # Predict y in the eval data\n",
        "  sim_samples_dict_eval[setting]['pred_probs_y_xa_stratified'] = utils.array_to_series(\n",
        "      utils.predict_proba_stratified(\n",
        "          sim_samples_dict_eval[setting]['x'].values.reshape(-1, 1),\n",
        "          model_dict,\n",
        "          group=sim_samples_dict_eval[setting]['a'].values,\n",
        "      )\n",
        "  )\n",
        "  sim_samples_dict_eval[setting]['pred_probs_y1_xa_stratified'] = sim_samples_dict_eval[\n",
        "      setting\n",
        "  ]['pred_probs_y_xa_stratified'].map(lambda x: x[-1])\n",
        "\n",
        "  # Fit model with X and A\n",
        "  model_xa = utils.fit_model(\n",
        "      np.concatenate(\n",
        "          (\n",
        "              selected_df['x'].values.reshape(-1, 1),\n",
        "              selected_df['a'].values.reshape(-1, 1),\n",
        "          ),\n",
        "          axis=1,\n",
        "      ),\n",
        "      selected_df['y'].values,\n",
        "      model_type=model_type,\n",
        "      model_cross_val=True,\n",
        "  )\n",
        "\n",
        "  # Predict y in the eval data\n",
        "  sim_samples_dict_eval[setting]['pred_probs_y_xa'] = utils.array_to_series(\n",
        "      model_xa.predict_proba(\n",
        "          np.concatenate(\n",
        "              (\n",
        "                  sim_samples_dict_eval[setting]['x'].values.reshape(-1, 1),\n",
        "                  sim_samples_dict_eval[setting]['a'].values.reshape(-1, 1),\n",
        "              ),\n",
        "              axis=1,\n",
        "          )\n",
        "      )\n",
        "  )\n",
        "\n",
        "  sim_samples_dict_eval[setting]['pred_probs_y1_xa'] = sim_samples_dict_eval[\n",
        "      setting\n",
        "  ]['pred_probs_y_xa'].map(lambda x: x[-1])"
      ],
      "outputs": [],
      "execution_count": null
    },
    {
      "metadata": {
        "id": "qWUgVW8jshJ8"
      },
      "cell_type": "code",
      "source": [
        "def calibration_plot(\n",
        "    y_true,\n",
        "    y_prob,\n",
        "    group=None,\n",
        "    ax=None,\n",
        "    plot_overall=True,\n",
        "    palette=None,\n",
        "    legend=False,\n",
        "    xlabel='Score',\n",
        "    ylabel='Fraction positive',\n",
        "    **kwargs,\n",
        "):\n",
        "\n",
        "  if ax is None:\n",
        "    plt.figure()\n",
        "    ax = plt.gca()\n",
        "\n",
        "  if kwargs.get('n_bins') is None:\n",
        "    kwargs['n_bins'] = 10\n",
        "\n",
        "  if palette is None:\n",
        "    palette = sns.color_palette('Set2')\n",
        "\n",
        "  palette_count = 0\n",
        "  if plot_overall:\n",
        "    calibration_curve_result = utils.calibration_curve_ci(\n",
        "        y_true, y_prob, **kwargs\n",
        "    )\n",
        "    ax.plot(\n",
        "        calibration_curve_result[1],\n",
        "        calibration_curve_result[0],\n",
        "        label='Overall',\n",
        "        color=palette[0],\n",
        "    )\n",
        "    ax.fill_between(\n",
        "        calibration_curve_result[1],\n",
        "        calibration_curve_result[2],\n",
        "        calibration_curve_result[3],\n",
        "        alpha=0.3,\n",
        "        color=palette[0],\n",
        "    )\n",
        "    palette_count = 1\n",
        "\n",
        "  if group is not None:\n",
        "    df = pd.DataFrame({'y_true': y_true, 'y_prob': y_prob, 'group': group})\n",
        "    for i, (the_group, group_df) in enumerate(df.groupby('group')):\n",
        "      if group_df.shape[0] \u003e 0:\n",
        "        calibration_curve_result = utils.calibration_curve_ci(\n",
        "            group_df['y_true'],\n",
        "            group_df['y_prob'],\n",
        "        )\n",
        "        ax.plot(\n",
        "            calibration_curve_result[1],\n",
        "            calibration_curve_result[0],\n",
        "            label=f'{the_group}',\n",
        "            linewidth=2,\n",
        "            color=palette[i + palette_count],\n",
        "        )\n",
        "        ax.fill_between(\n",
        "            calibration_curve_result[1],\n",
        "            calibration_curve_result[2],\n",
        "            calibration_curve_result[3],\n",
        "            alpha=0.3,\n",
        "            color=palette[i + palette_count],\n",
        "        )\n",
        "\n",
        "  ax.plot(\n",
        "      np.linspace(0, 1, 100),\n",
        "      np.linspace(0, 1, 100),\n",
        "      linestyle='-.',\n",
        "      color='gray',\n",
        "  )\n",
        "\n",
        "  ax.set_xlim(0, 1)\n",
        "  ax.set_ylim(0, 1)\n",
        "\n",
        "  if xlabel is not None:\n",
        "    ax.set_xlabel(xlabel, size=14)\n",
        "  if ylabel is not None:\n",
        "    ax.set_ylabel(ylabel, size=14)\n",
        "\n",
        "  if legend:\n",
        "    ax.legend()\n",
        "\n",
        "  sns.despine()"
      ],
      "outputs": [],
      "execution_count": null
    },
    {
      "metadata": {
        "id": "yYwDAhDBtHLj"
      },
      "cell_type": "code",
      "source": [
        "settings = sim_samples_dict.keys()"
      ],
      "outputs": [],
      "execution_count": null
    },
    {
      "metadata": {
        "id": "rRvob7TOtVKB"
      },
      "cell_type": "code",
      "source": [
        "pred_eval_dict = sim_samples_dict_eval.copy()"
      ],
      "outputs": [],
      "execution_count": null
    },
    {
      "metadata": {
        "id": "1L6O9OSVAjwz"
      },
      "cell_type": "code",
      "source": [
        "setting_title_dict = {\n",
        "    'select_x': r'X $\\rightarrow$ S',\n",
        "    'select_y': r'Y $\\rightarrow$ S',\n",
        "    'select_ay': r'{Y, A} $\\rightarrow$ A'\n",
        "}"
      ],
      "outputs": [],
      "execution_count": null
    },
    {
      "metadata": {
        "id": "q8Ir9fVLs0Kk"
      },
      "cell_type": "code",
      "source": [
        "figsize = (5, 5)\n",
        "fig, axes = plt.subplots(3, len(settings), sharex=True, sharey=True, figsize=figsize)\n",
        "for i, (setting, feature_set) in enumerate(\n",
        "    itertools.product(settings, ['x', 'xa', 'xa_stratified'])\n",
        "):\n",
        "\n",
        "  calibration_plot(\n",
        "      pred_eval_dict[setting]['y'],\n",
        "      pred_eval_dict[setting][f'pred_probs_y1_{feature_set}'],\n",
        "      group=pred_eval_dict[setting]['a'],\n",
        "      plot_overall=False,\n",
        "      ax=axes[i % 3][i // 3],\n",
        "      legend=False,\n",
        "      xlabel=None,\n",
        "      ylabel=None,\n",
        "  )\n",
        "\n",
        "for i, setting in enumerate(settings):\n",
        "  axes[0][i].set_title(setting_title_dict[setting], size=12)\n",
        "\n",
        "axes[0][-1].text(x=1.02, y=0.3, s='Cov.: X', rotation=-90, size=12)\n",
        "axes[1][-1].text(x=1.02, y=0.3, s='Cov.: XA', rotation=-90, size=12)\n",
        "axes[2][-1].text(x=1.02, y=0.1, s=r'Cov.: $\\text{X}_{strat}$', rotation=-90, size=12)\n",
        "fig.supxlabel('Score', size=14, y=0.05)\n",
        "fig.supylabel('Fraction positive', size=14, x=0.03)\n",
        "plt.tight_layout()\n",
        "fig.set_size_inches(*figsize)\n",
        "axes[1][-1].legend(frameon=False, bbox_to_anchor=(1.25, 1), title='Group', fontsize='medium', title_fontsize='large')\n",
        "for filetype in ['png', 'pdf']:\n",
        "  fig.savefig(\n",
        "      os.path.join(FIGURE_PATH, f'selection_calibration.{filetype}'), format=filetype, bbox_inches='tight'\n",
        "  )"
      ],
      "outputs": [],
      "execution_count": null
    }
  ],
  "metadata": {
    "colab": {
      "last_runtime": {
        "build_target": "//learning/grp/tools/ml_python:ml_notebook",
        "kind": "private"
      },
      "private_outputs": true,
      "provenance": [
        {
          "file_id": "1dLAZncMDWiPCqKZjdPsT61a2K2DlLmSS",
          "timestamp": 1746821225775
        }
      ]
    },
    "kernelspec": {
      "display_name": "Python 3",
      "name": "python3"
    },
    "language_info": {
      "name": "python"
    }
  },
  "nbformat": 4,
  "nbformat_minor": 0
}
