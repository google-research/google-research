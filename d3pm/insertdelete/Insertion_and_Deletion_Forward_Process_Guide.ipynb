{
  "cells": [
    {
      "cell_type": "markdown",
      "metadata": {
        "id": "JndnmDMp66FL"
      },
      "source": [
        "##### Copyright 2023 Google LLC.\n",
        "\n",
        "Licensed under the Apache License, Version 2.0 (the \"License\");"
      ]
    },
    {
      "cell_type": "code",
      "execution_count": 1,
      "metadata": {
        "id": "hMqWDc_m6rUC"
      },
      "outputs": [],
      "source": [
        "# Licensed under the Apache License, Version 2.0 (the \"License\");\n",
        "# you may not use this file except in compliance with the License.\n",
        "# You may obtain a copy of the License at\n",
        "#\n",
        "# https://www.apache.org/licenses/LICENSE-2.0\n",
        "#\n",
        "# Unless required by applicable law or agreed to in writing, software\n",
        "# distributed under the License is distributed on an \"AS IS\" BASIS,\n",
        "# WITHOUT WARRANTIES OR CONDITIONS OF ANY KIND, either express or implied.\n",
        "# See the License for the specific language governing permissions and\n",
        "# limitations under the License."
      ]
    },
    {
      "cell_type": "markdown",
      "metadata": {
        "id": "vsS6OoYqWfqb"
      },
      "source": [
        "\n",
        "# How to work with insertion/deletion forward processes\n",
        "\n",
        "This notebook shows how to construct and manipulate probability distributions  for discrete insertion/deletion diffusion processes, as described in [\"Beyond In-Place Corruption: Insertion and Deletion in Denoising Probabilistic Models\"](https://arxiv.org/abs/2107.07675).\n"
      ]
    },
    {
      "cell_type": "markdown",
      "metadata": {
        "id": "wqAn-pTN6iHA"
      },
      "source": [
        "[![Open In Colab](https://colab.research.google.com/assets/colab-badge.svg)](https://colab.research.google.com/github/google-research/google-research/blob/master/d3pm/insertdelete/Insertion_and_Deletion_Forward_Process_Guide.ipynb)"
      ]
    },
    {
      "cell_type": "markdown",
      "metadata": {
        "id": "hmLxdk2D5YQG"
      },
      "source": [
        "### Setup and imports"
      ]
    },
    {
      "cell_type": "code",
      "execution_count": 10,
      "metadata": {
        "colab": {
          "base_uri": "https://localhost:8080/"
        },
        "id": "UxOrT9g05XWV",
        "outputId": "820ab7e0-1f4a-43e7-dadf-af21bd477cf0"
      },
      "outputs": [
        {
          "output_type": "stream",
          "name": "stdout",
          "text": [
            "Cloning into 'google-research'...\n",
            "remote: Enumerating objects: 17221, done.\u001b[K\n",
            "remote: Counting objects: 100% (17221/17221), done.\u001b[K\n",
            "remote: Compressing objects: 100% (14097/14097), done.\u001b[K\n",
            "remote: Total 17221 (delta 2630), reused 11246 (delta 2129), pack-reused 0\u001b[K\n",
            "Receiving objects: 100% (17221/17221), 192.78 MiB | 20.72 MiB/s, done.\n",
            "Resolving deltas: 100% (2630/2630), done.\n",
            "Already on 'master'\n",
            "Your branch is up to date with 'origin/master'.\n"
          ]
        }
      ],
      "source": [
        "!git clone https://github.com/google-research/google-research.git --depth=1 --no-checkout\n",
        "!cd google-research\n",
        "!git sparse-checkout init --cone\n",
        "!git sparse-checkout set d3pm\n",
        "!git switch master"
      ]
    },
    {
      "cell_type": "code",
      "execution_count": 42,
      "metadata": {
        "colab": {
          "base_uri": "https://localhost:8080/"
        },
        "id": "gfCDCBvN59gv",
        "outputId": "5e279b44-ec79-4286-e760-2555f59d8df0"
      },
      "outputs": [
        {
          "output_type": "stream",
          "name": "stdout",
          "text": [
            "Looking in indexes: https://pypi.org/simple, https://us-python.pkg.dev/colab-wheels/public/simple/\n",
            "Requirement already satisfied: flax~=0.6.4 in /usr/local/lib/python3.8/dist-packages (0.6.4)\n",
            "Requirement already satisfied: rich>=11.1 in /usr/local/lib/python3.8/dist-packages (from flax~=0.6.4) (13.3.1)\n",
            "Requirement already satisfied: tensorstore in /usr/local/lib/python3.8/dist-packages (from flax~=0.6.4) (0.1.32)\n",
            "Requirement already satisfied: numpy>=1.12 in /usr/local/lib/python3.8/dist-packages (from flax~=0.6.4) (1.22.4)\n",
            "Requirement already satisfied: matplotlib in /usr/local/lib/python3.8/dist-packages (from flax~=0.6.4) (3.2.2)\n",
            "Requirement already satisfied: jax>=0.3.16 in /usr/local/lib/python3.8/dist-packages (from flax~=0.6.4) (0.3.25)\n",
            "Requirement already satisfied: msgpack in /usr/local/lib/python3.8/dist-packages (from flax~=0.6.4) (1.0.4)\n",
            "Requirement already satisfied: optax in /usr/local/lib/python3.8/dist-packages (from flax~=0.6.4) (0.1.4)\n",
            "Requirement already satisfied: typing-extensions>=4.1.1 in /usr/local/lib/python3.8/dist-packages (from flax~=0.6.4) (4.5.0)\n",
            "Requirement already satisfied: PyYAML>=5.4.1 in /usr/local/lib/python3.8/dist-packages (from flax~=0.6.4) (6.0)\n",
            "Requirement already satisfied: orbax in /usr/local/lib/python3.8/dist-packages (from flax~=0.6.4) (0.1.2)\n",
            "Requirement already satisfied: opt-einsum in /usr/local/lib/python3.8/dist-packages (from jax>=0.3.16->flax~=0.6.4) (3.3.0)\n",
            "Requirement already satisfied: scipy>=1.5 in /usr/local/lib/python3.8/dist-packages (from jax>=0.3.16->flax~=0.6.4) (1.7.3)\n",
            "Requirement already satisfied: markdown-it-py<3.0.0,>=2.1.0 in /usr/local/lib/python3.8/dist-packages (from rich>=11.1->flax~=0.6.4) (2.1.0)\n",
            "Requirement already satisfied: pygments<3.0.0,>=2.14.0 in /usr/local/lib/python3.8/dist-packages (from rich>=11.1->flax~=0.6.4) (2.14.0)\n",
            "Requirement already satisfied: pyparsing!=2.0.4,!=2.1.2,!=2.1.6,>=2.0.1 in /usr/local/lib/python3.8/dist-packages (from matplotlib->flax~=0.6.4) (3.0.9)\n",
            "Requirement already satisfied: cycler>=0.10 in /usr/local/lib/python3.8/dist-packages (from matplotlib->flax~=0.6.4) (0.11.0)\n",
            "Requirement already satisfied: kiwisolver>=1.0.1 in /usr/local/lib/python3.8/dist-packages (from matplotlib->flax~=0.6.4) (1.4.4)\n",
            "Requirement already satisfied: python-dateutil>=2.1 in /usr/local/lib/python3.8/dist-packages (from matplotlib->flax~=0.6.4) (2.8.2)\n",
            "Requirement already satisfied: chex>=0.1.5 in /usr/local/lib/python3.8/dist-packages (from optax->flax~=0.6.4) (0.1.6)\n",
            "Requirement already satisfied: jaxlib>=0.1.37 in /usr/local/lib/python3.8/dist-packages (from optax->flax~=0.6.4) (0.3.25+cuda11.cudnn805)\n",
            "Requirement already satisfied: absl-py>=0.7.1 in /usr/local/lib/python3.8/dist-packages (from optax->flax~=0.6.4) (1.4.0)\n",
            "Requirement already satisfied: cached_property in /usr/local/lib/python3.8/dist-packages (from orbax->flax~=0.6.4) (1.5.2)\n",
            "Requirement already satisfied: etils in /usr/local/lib/python3.8/dist-packages (from orbax->flax~=0.6.4) (1.0.0)\n",
            "Requirement already satisfied: importlib_resources in /usr/local/lib/python3.8/dist-packages (from orbax->flax~=0.6.4) (5.10.2)\n",
            "Requirement already satisfied: dm-tree>=0.1.5 in /usr/local/lib/python3.8/dist-packages (from chex>=0.1.5->optax->flax~=0.6.4) (0.1.8)\n",
            "Requirement already satisfied: toolz>=0.9.0 in /usr/local/lib/python3.8/dist-packages (from chex>=0.1.5->optax->flax~=0.6.4) (0.12.0)\n",
            "Requirement already satisfied: mdurl~=0.1 in /usr/local/lib/python3.8/dist-packages (from markdown-it-py<3.0.0,>=2.1.0->rich>=11.1->flax~=0.6.4) (0.1.2)\n",
            "Requirement already satisfied: six>=1.5 in /usr/local/lib/python3.8/dist-packages (from python-dateutil>=2.1->matplotlib->flax~=0.6.4) (1.15.0)\n",
            "Requirement already satisfied: zipp>=3.1.0 in /usr/local/lib/python3.8/dist-packages (from importlib_resources->orbax->flax~=0.6.4) (3.13.0)\n"
          ]
        }
      ],
      "source": [
        "!pip install \"flax~=0.6.4\""
      ]
    },
    {
      "cell_type": "code",
      "execution_count": 13,
      "metadata": {
        "id": "5u0NX4oQ-PQl"
      },
      "outputs": [],
      "source": [
        "from d3pm.insertdelete import transition_operator\n",
        "from d3pm.insertdelete import forward_process"
      ]
    },
    {
      "cell_type": "code",
      "execution_count": 14,
      "metadata": {
        "id": "Q1D5b0C0Dlb4"
      },
      "outputs": [],
      "source": [
        "import numpy as np\n",
        "import jax\n",
        "import jax.numpy as jnp"
      ]
    },
    {
      "cell_type": "code",
      "execution_count": 15,
      "metadata": {
        "id": "KJxJfNLHYUJU"
      },
      "outputs": [],
      "source": [
        "%matplotlib inline\n",
        "import matplotlib.pyplot as plt\n",
        "import matplotlib as mpl\n",
        "plt.ion()"
      ]
    },
    {
      "cell_type": "code",
      "execution_count": 16,
      "metadata": {
        "id": "EA47RVcIYZin"
      },
      "outputs": [],
      "source": [
        "np.set_printoptions(linewidth=150)"
      ]
    },
    {
      "cell_type": "markdown",
      "metadata": {
        "id": "7grJ96ccFIci"
      },
      "source": [
        "## Constructing a distribution"
      ]
    },
    {
      "cell_type": "code",
      "execution_count": 17,
      "metadata": {
        "id": "mYyIwX3sE5YU",
        "colab": {
          "base_uri": "https://localhost:8080/"
        },
        "outputId": "30836567-37e6-48aa-d80a-59114762bc1d"
      },
      "outputs": [
        {
          "output_type": "stream",
          "name": "stderr",
          "text": [
            "WARNING:jax._src.lib.xla_bridge:No GPU/TPU found, falling back to CPU. (Set TF_CPP_MIN_LOG_LEVEL=0 and rerun for more info.)\n"
          ]
        }
      ],
      "source": [
        "def unstringify(s, max_len):\n",
        "  \"\"\"Converts a string to a wrapped sequence.\"\"\"\n",
        "  arr = np.full((max_len,), -3, dtype=np.int32)\n",
        "  arr[:len(s)] = [\"!x+abcdeABCDE\".find(t)-3 for t in s]\n",
        "  return forward_process.DynamicLengthSentinelSequence(arr, len(s))\n",
        "\n",
        "def stringify_tok(tok):\n",
        "  \"\"\"Transforms a token into a string.\"\"\"\n",
        "  return \"!x+abcdeABCDE\"[tok+3]\n",
        "\n",
        "def stringify(dyn_seq):\n",
        "  \"\"\"Transforms a sequence of tokens into a string.\"\"\"\n",
        "  return \"\".join(\"!x+abcdeABCDE\"[t+3] for t in list(dyn_seq.tokens[:dyn_seq.length]))\n",
        "\n",
        "def treeslice(i, obj):\n",
        "  return jax.tree.map(lambda v: v[i], obj)\n",
        "\n",
        "def treestack(objs):\n",
        "  return jax.tree_multimap(lambda *args: jnp.stack(list(args)), *objs)\n",
        "\n",
        "def tree_unstack(objs):\n",
        "  length = jax.tree.leaves(objs)[0].shape[0]\n",
        "  return [treeslice(i, objs) for i in range(length)]\n",
        "\n",
        "def mk_A(swap_prob):\n",
        "  \"\"\"Builds a transition matrix that swaps lowercase and capital letters.\"\"\"\n",
        "  return transition_operator.LogMatrixOperator.from_probs(\n",
        "      (1-swap_prob) * np.eye(10)\n",
        "      + swap_prob * np.roll(np.eye(10), 5, 0))\n",
        "\n",
        "\n",
        "def mk_D_logits(upper_prob):\n",
        "  \"\"\"Builds a vector of token probabilities for insertions.\"\"\"\n",
        "  return np.log(np.array([(1 - upper_prob)/5] * 5 + [upper_prob/5] * 5))\n",
        "\n",
        "# High noise schedule\n",
        "noise_test_0_to_1 = forward_process.OneStepDistn(\n",
        "    lp_delete=jnp.log(0.3), lp_insert=jnp.log(0.41),\n",
        "    A=mk_A(.21), D_insert_logits=mk_D_logits(.1))\n",
        "noise_test_1_to_2 = forward_process.OneStepDistn(\n",
        "    lp_delete=jnp.log(0.19), lp_insert=jnp.log(0.24),\n",
        "    A=mk_A(.05), D_insert_logits=mk_D_logits(.3))\n",
        "noise_test_2_to_3 = forward_process.OneStepDistn(\n",
        "    lp_delete=jnp.log(0.34), lp_insert=jnp.log(0.23),\n",
        "    A=mk_A(.08), D_insert_logits=mk_D_logits(.5))\n",
        "noise_test_3_to_4 = forward_process.OneStepDistn(\n",
        "    lp_delete=jnp.log(0.0), lp_insert=jnp.log(0.0),\n",
        "    A=mk_A(.12), D_insert_logits=mk_D_logits(.7))\n",
        "\n",
        "# Lower noise schedule; uncomment to try a different noise schedule.\n",
        "# noise_test_0_to_1 = forward_process.OneStepDistn(\n",
        "#     lp_delete=jnp.log(0.09), lp_insert=jnp.log(0.065),\n",
        "#     A=mk_A(.031), D_insert_logits=mk_D_logits(.1))\n",
        "# noise_test_1_to_2 = forward_process.OneStepDistn(\n",
        "#     lp_delete=jnp.log(0.079), lp_insert=jnp.log(0.064),\n",
        "#     A=mk_A(.011), D_insert_logits=mk_D_logits(.15))\n",
        "# noise_test_2_to_3 = forward_process.OneStepDistn(\n",
        "#     lp_delete=jnp.log(0.034), lp_insert=jnp.log(0.023),\n",
        "#     A=mk_A(.021), D_insert_logits=mk_D_logits(.5))\n",
        "# noise_test_3_to_4 = forward_process.OneStepDistn(\n",
        "#     lp_delete=jnp.log(0.0), lp_insert=jnp.log(0.0),\n",
        "#     A=mk_A(.041), D_insert_logits=mk_D_logits(.7))\n",
        "\n",
        "noise_test_multi_0_to_0 = forward_process.ManyStepDistn.identity_for(noise_test_0_to_1)\n",
        "noise_test_multi_0_to_1 = noise_test_multi_0_to_0.then(noise_test_0_to_1, check=True)\n",
        "noise_test_multi_0_to_2 = noise_test_multi_0_to_1.then(noise_test_1_to_2, check=True)\n",
        "noise_test_multi_0_to_3 = noise_test_multi_0_to_2.then(noise_test_2_to_3, check=True)\n",
        "noise_test_multi_0_to_4 = noise_test_multi_0_to_3.then(noise_test_3_to_4, check=True)"
      ]
    },
    {
      "cell_type": "markdown",
      "metadata": {
        "id": "obu0LO32h1aK"
      },
      "source": [
        "## Helper functions"
      ]
    },
    {
      "cell_type": "code",
      "execution_count": 18,
      "metadata": {
        "id": "-rKuv93DFQKS"
      },
      "outputs": [],
      "source": [
        "def show_aligned(sequences, alignments, ax=None, figsize=(5,5), fontsize=18):\n",
        "  \"\"\"Visualizes a trajectory of aligned sequences.\"\"\"\n",
        "  max_length = 0\n",
        "  if ax is None:\n",
        "    fig = plt.figure(figsize=figsize)\n",
        "    ax = fig.gca()\n",
        "\n",
        "  if alignments == \"onestep\":\n",
        "    alignments = []\n",
        "    for xt, xtplus1 in zip(sequences[:-1], sequences[1:]):\n",
        "      alignments.append(forward_process.align_one_step(xt, xtplus1))\n",
        "\n",
        "  for y, seq in enumerate(sequences):\n",
        "    seqstr = stringify(seq)\n",
        "    max_length = max(max_length, len(seqstr))\n",
        "    for x, char in enumerate(seqstr):\n",
        "      ax.text(x, y, char, ha=\"center\", va=\"center\", fontsize=fontsize)\n",
        "\n",
        "  for y, align in enumerate(alignments):\n",
        "    if align.reroll_mask is None:\n",
        "      colors = np.full_like(align.backpointers, 2)\n",
        "    else:\n",
        "      colors = np.where(align.reroll_mask, 1, 0)\n",
        "    colors = np.where(align.delete_sentinels, 3, colors)[:align.after_length]\n",
        "    for x, (backptr, c) in enumerate(zip(align.backpointers[:align.after_length], colors)):\n",
        "      if backptr == forward_process.SequenceAlignment.NO_BACKPOINTER:\n",
        "        continue\n",
        "      ax.plot([backptr, x], [y + 0.2, y+1 - 0.2], c=mpl.cm.tab10(c))\n",
        "\n",
        "  ax.set_xlim((-.5, max_length-.5))\n",
        "  ax.set_ylim((-.5, len(sequences)-.5))\n",
        "  ax.invert_yaxis()\n"
      ]
    },
    {
      "cell_type": "code",
      "execution_count": 19,
      "metadata": {
        "id": "z211qXeRC1i2"
      },
      "outputs": [],
      "source": [
        "def show_marginals(sequence, marginal, figsize=(5,5), fontsize=18, ax=None, clip_deletes=6, num_alts=3):\n",
        "  \"\"\"Visualizes a vector of marginal probabilities.\"\"\"\n",
        "\n",
        "  if ax is None:\n",
        "    fig = plt.figure(figsize=figsize)\n",
        "    ax = fig.gca()\n",
        "\n",
        "  seqlen = sequence.length\n",
        "  if clip_deletes:\n",
        "    max_deletes = clip_deletes\n",
        "  else:\n",
        "    max_deletes = marginal.log_prob_number_of_preceding_deletes.shape[1]\n",
        "\n",
        "  seqstr = stringify(sequence)\n",
        "  for x, char in enumerate(seqstr):\n",
        "    ax.text(x, -1, char, ha=\"center\", va=\"center\", fontsize=fontsize)\n",
        "\n",
        "  for i in range(seqlen):\n",
        "    best_toks = np.argsort(-marginal.previous_token_log_probs[i])\n",
        "    for j, tok in enumerate(best_toks[:num_alts]):\n",
        "      alpha = np.exp(marginal.previous_token_log_probs[i, tok])\n",
        "      ax.text(i, -3-j, stringify_tok(tok), ha=\"center\", va=\"center\", fontsize=fontsize, alpha=alpha)\n",
        "\n",
        "\n",
        "  ax.imshow(jnp.exp(marginal.log_prob_number_of_preceding_deletes[:seqlen+1, :]).T, cmap=mpl.cm.Reds, vmin=0, vmax=1)#, extent=(-0.5, max_deletes-0.5, -0.5, seqlen-0.5))\n",
        "  ax.imshow(jnp.exp(marginal.was_insert_log_prob)[None, :seqlen], extent=(-0.5, seqlen-0.5, -2.5, -1.5), cmap=mpl.cm.Blues, vmin=0, vmax=1)\n",
        "\n",
        "  ax.set_xlim((-.5, seqlen+.5))\n",
        "  ax.set_ylim((-2.5-num_alts, max_deletes-.5))\n"
      ]
    },
    {
      "cell_type": "markdown",
      "metadata": {
        "id": "w36TrWcuHF_S"
      },
      "source": [
        "## Working with insertion-deletion forward processes"
      ]
    },
    {
      "cell_type": "markdown",
      "metadata": {
        "id": "PPk7LLayHNX8"
      },
      "source": [
        "### Sampling one step"
      ]
    },
    {
      "cell_type": "code",
      "execution_count": 20,
      "metadata": {
        "colab": {
          "height": 341,
          "base_uri": "https://localhost:8080/"
        },
        "id": "_dKhAHeRl025",
        "outputId": "3405b6e2-32b7-4016-d9bc-608e5ccc5d36"
      },
      "outputs": [
        {
          "output_type": "stream",
          "name": "stdout",
          "text": [
            "+axx++De\n"
          ]
        },
        {
          "output_type": "display_data",
          "data": {
            "text/plain": [
              "<Figure size 360x360 with 1 Axes>"
            ],
            "image/png": "[encoded data removed]"
          },
          "metadata": {
            "needs_background": "light"
          }
        }
      ],
      "source": [
        "# Generate one random sample using the 0->1 transition probabilities.\n",
        "seq, alignment = forward_process.sample_noise_step(\n",
        "    sequence=unstringify(\"abcde\", 32),\n",
        "    distn=noise_test_0_to_1,\n",
        "    rng=jax.random.PRNGKey(0))\n",
        "print(stringify(seq))\n",
        "show_aligned([unstringify(\"abcde\", 32), seq], [alignment])"
      ]
    },
    {
      "cell_type": "markdown",
      "metadata": {
        "id": "NT9nzxS6Hlqn"
      },
      "source": [
        "In this sample:\n",
        "- multiple new insertion sentinel tokens (\"+\") are inserted\n",
        "- b and c are replaced with delete sentinels (\"x\")\n",
        "- \"a\" and \"e\" are copied unchanged\n",
        "- \"d\" is modified into \"D\""
      ]
    },
    {
      "cell_type": "code",
      "execution_count": 21,
      "metadata": {
        "id": "mFUF3B0tHOiY",
        "outputId": "7ed49c4b-8499-40c6-f2d8-16765aa26e40",
        "colab": {
          "base_uri": "https://localhost:8080/"
        }
      },
      "outputs": [
        {
          "output_type": "stream",
          "name": "stderr",
          "text": [
            "<ipython-input-17-cfef1419032b>:22: FutureWarning: jax.tree.leaves is deprecated, and will be removed in a future release. Use jax.tree_util.tree_leaves instead.\n",
            "  length = jax.tree.leaves(objs)[0].shape[0]\n"
          ]
        },
        {
          "output_type": "execute_result",
          "data": {
            "text/plain": [
              "['++a+cdbex',\n",
              " 'ac++cded',\n",
              " 'xCce++ea',\n",
              " 'acd+eed+',\n",
              " '+acD+Eex',\n",
              " 'xCeBeB++',\n",
              " '++acc+xeb',\n",
              " 'acdxx+b',\n",
              " 'xxD++++bex',\n",
              " 'xc+e+axx',\n",
              " 'a+ccBeB',\n",
              " 'acabx+x',\n",
              " 'x+ce+dec',\n",
              " 'a++cCde+E+',\n",
              " 'xcxDeD',\n",
              " 'ax+xxex++',\n",
              " 'xcdd+ec',\n",
              " 'axedeB',\n",
              " 'A+x+bBex',\n",
              " '++a+cea+ex',\n",
              " '+a+CBBec',\n",
              " 'x+cxbe+a+',\n",
              " 'ac+bcxD+',\n",
              " 'axc+Cea',\n",
              " '+a++cA+d++xd',\n",
              " 'acDEea',\n",
              " '+a+cxAxx',\n",
              " 'ac++bde+b',\n",
              " 'accae+c',\n",
              " 'xcbxeA+']"
            ]
          },
          "metadata": {},
          "execution_count": 21
        }
      ],
      "source": [
        "# Generate a number of random samples using the 1->2 transition probabilities.\n",
        "seqs, alignments = jax.vmap(lambda rng: forward_process.sample_noise_step(\n",
        "    sequence=unstringify('axcx++e+', 32),\n",
        "    distn=noise_test_1_to_2,\n",
        "    rng=rng))(jax.random.split(jax.random.PRNGKey(0), 30))\n",
        "[stringify(s) for s in tree_unstack(seqs)]"
      ]
    },
    {
      "cell_type": "markdown",
      "metadata": {
        "id": "JAs7QUn2IX0A"
      },
      "source": [
        "### Sampling multiple steps"
      ]
    },
    {
      "cell_type": "code",
      "execution_count": 22,
      "metadata": {
        "colab": {
          "height": 320,
          "base_uri": "https://localhost:8080/"
        },
        "id": "DgzOisKPIFi8",
        "outputId": "272e8132-d9ca-4820-8ed4-c31bb5a62150"
      },
      "outputs": [
        {
          "output_type": "display_data",
          "data": {
            "text/plain": [
              "<Figure size 360x360 with 1 Axes>"
            ],
            "image/png": "[encoded data removed]"
          },
          "metadata": {
            "needs_background": "light"
          }
        }
      ],
      "source": [
        "rng = jax.random.PRNGKey(1)\n",
        "\n",
        "cur_sequence = unstringify(\"abcde\", 32)\n",
        "sequences = [cur_sequence]\n",
        "alignments = []\n",
        "for distn in [noise_test_0_to_1,\n",
        "              noise_test_1_to_2,\n",
        "              noise_test_2_to_3,\n",
        "              noise_test_3_to_4]:\n",
        "  rng, key = jax.random.split(rng)\n",
        "  cur_sequence, alignment = forward_process.sample_noise_step(\n",
        "    sequence=cur_sequence,\n",
        "    distn=distn,\n",
        "    rng=key)\n",
        "  sequences.append(cur_sequence)\n",
        "  alignments.append(alignment)\n",
        "\n",
        "show_aligned(sequences, alignments)"
      ]
    },
    {
      "cell_type": "markdown",
      "metadata": {
        "id": "CPCGh5YzIcRi"
      },
      "source": [
        "### Inferring one-step alignments"
      ]
    },
    {
      "cell_type": "markdown",
      "metadata": {
        "id": "UL3UMtRiIjRJ"
      },
      "source": [
        "It is always possible to deterministically infer an alignment for adjacent sequences."
      ]
    },
    {
      "cell_type": "code",
      "execution_count": 23,
      "metadata": {
        "colab": {
          "height": 320,
          "base_uri": "https://localhost:8080/"
        },
        "id": "dt10wAwPIabE",
        "outputId": "79b03b02-d537-4cf0-84bf-70900da990fc"
      },
      "outputs": [
        {
          "output_type": "display_data",
          "data": {
            "text/plain": [
              "<Figure size 360x360 with 1 Axes>"
            ],
            "image/png": "[encoded data removed]"
          },
          "metadata": {
            "needs_background": "light"
          }
        }
      ],
      "source": [
        "inferred_alignments = [forward_process.align_one_step(s1, s2) for s1, s2 in zip(sequences[:-1], sequences[1:])]\n",
        "show_aligned(sequences, inferred_alignments)"
      ]
    },
    {
      "cell_type": "markdown",
      "metadata": {
        "id": "EtJB0lmeJA4e"
      },
      "source": [
        "### Expanding to multi-step alignments"
      ]
    },
    {
      "cell_type": "markdown",
      "metadata": {
        "id": "BHk3YgnYJKmY"
      },
      "source": [
        "We can skip timesteps and chain the alignments together."
      ]
    },
    {
      "cell_type": "code",
      "execution_count": 24,
      "metadata": {
        "colab": {
          "height": 324,
          "base_uri": "https://localhost:8080/"
        },
        "id": "COtv1Zt_I11B",
        "outputId": "acda602d-fedb-4345-b3ca-e17e376bfa98"
      },
      "outputs": [
        {
          "output_type": "display_data",
          "data": {
            "text/plain": [
              "<Figure size 360x360 with 1 Axes>"
            ],
            "image/png": "[encoded data removed]"
          },
          "metadata": {
            "needs_background": "light"
          }
        }
      ],
      "source": [
        "show_aligned(\n",
        "    [sequences[0], sequences[2], sequences[4]],\n",
        "    [\n",
        "      alignments[0].then(alignments[1]),\n",
        "      alignments[2].then(alignments[3])\n",
        "    ])"
      ]
    },
    {
      "cell_type": "markdown",
      "metadata": {
        "id": "JUFy1ifrJeZZ"
      },
      "source": [
        "Orange lines here represent \"reroll\" alignments: a token was deleted, but before it was deleted, another token was inserted to the right of it. Keeping track of these alignments is necessary to avoid ambiguities across consecutive insertions and deletions."
      ]
    },
    {
      "cell_type": "markdown",
      "metadata": {
        "id": "MWRNdJ8WJ7N3"
      },
      "source": [
        "### Sampling multiple steps at once"
      ]
    },
    {
      "cell_type": "markdown",
      "metadata": {
        "id": "uxu2qS7fJ-IX"
      },
      "source": [
        "We can chain together multiple distributions, then sample from the chained distribution. This is statistically equivalent to rolling out samples from the individual steps, but can be done more efficiently."
      ]
    },
    {
      "cell_type": "code",
      "execution_count": 25,
      "metadata": {
        "id": "Ao4dOJc8K-4m"
      },
      "outputs": [],
      "source": [
        "start = unstringify('axcx++e+', 32)\n",
        "seqs, alignments = jax.vmap(lambda rng: forward_process.sample_noise_step(\n",
        "    sequence=start,\n",
        "    distn=forward_process.ManyStepDistn.from_single_step(noise_test_1_to_2).then(noise_test_2_to_3),\n",
        "    rng=rng))(jax.random.split(jax.random.PRNGKey(0), 30))"
      ]
    },
    {
      "cell_type": "code",
      "execution_count": 26,
      "metadata": {
        "colab": {
          "height": 596,
          "base_uri": "https://localhost:8080/"
        },
        "id": "fPv2gXLCLj8d",
        "outputId": "bff2ba82-caba-4aca-fcd5-ef37110d47ba"
      },
      "outputs": [
        {
          "output_type": "display_data",
          "data": {
            "text/plain": [
              "<Figure size 1080x720 with 20 Axes>"
            ],
            "image/png": "[encoded data removed]"
          },
          "metadata": {
            "needs_background": "light"
          }
        }
      ],
      "source": [
        "fig, axs = plt.subplots(ncols=4, nrows=5, figsize=(15, 10))\n",
        "for i in range(axs.size):\n",
        "  show_aligned([start, treeslice(i, seqs)], [treeslice(i, alignments)], ax=axs[np.unravel_index(i, axs.shape)])"
      ]
    },
    {
      "cell_type": "markdown",
      "metadata": {
        "id": "d765DfAJK6_K"
      },
      "source": [
        "### Computing log probs"
      ]
    },
    {
      "cell_type": "markdown",
      "metadata": {
        "id": "vO4Vcmk_K_dR"
      },
      "source": [
        "We can use our distributions to compute the (log of the) probability of obtaining a particular sequence after another. If we have a fixed alignment, this is straightforward to compute."
      ]
    },
    {
      "cell_type": "code",
      "execution_count": 27,
      "metadata": {
        "id": "S-RyjgYHKJ1f",
        "outputId": "b7a199ed-c14f-461a-e01b-d5f7d9c4d0a5",
        "colab": {
          "base_uri": "https://localhost:8080/"
        }
      },
      "outputs": [
        {
          "output_type": "execute_result",
          "data": {
            "text/plain": [
              "DeviceArray(-10.007076, dtype=float32)"
            ]
          },
          "metadata": {},
          "execution_count": 27
        }
      ],
      "source": [
        "forward_process.multi_step_aligned_log_prob(\n",
        "    unstringify('axcx+e+', 32),\n",
        "    unstringify('xc++xex', 32),\n",
        "    forward_process.align_one_step(unstringify('axcx+e+', 32), unstringify('xc++xex', 32)),\n",
        "    forward_process.ManyStepDistn.from_single_step(noise_test_1_to_2),\n",
        ")"
      ]
    },
    {
      "cell_type": "markdown",
      "metadata": {
        "id": "mw5CewHFM1BU"
      },
      "source": [
        "Over multiple steps, we can still compute log probs, as long as we have a multi-step alignment. (Note that this is the probability of observing this alignment and also this output,  marginalized over intermediate steps.)"
      ]
    },
    {
      "cell_type": "code",
      "execution_count": 28,
      "metadata": {
        "colab": {
          "height": 627,
          "base_uri": "https://localhost:8080/"
        },
        "id": "XNKGi1ipLd4C",
        "outputId": "9ed223a9-a1ac-4e83-bb12-98610365b643"
      },
      "outputs": [
        {
          "output_type": "display_data",
          "data": {
            "text/plain": [
              "<Figure size 360x360 with 1 Axes>"
            ],
            "image/png": "[encoded data removed]"
          },
          "metadata": {
            "needs_background": "light"
          }
        },
        {
          "output_type": "display_data",
          "data": {
            "text/plain": [
              "<Figure size 360x360 with 1 Axes>"
            ],
            "image/png": "[encoded data removed]"
          },
          "metadata": {
            "needs_background": "light"
          }
        }
      ],
      "source": [
        "# Set up some sequences\n",
        "sequence_strings = [\n",
        "  'abcde',\n",
        "  '++x+b+c++xx++',\n",
        "  'edeb+axbdDD',\n",
        "  'edeb+axbdDD',\n",
        "  'ex++ebxAbdDD',\n",
        "]\n",
        "sequences = [unstringify(s, 16) for s in sequence_strings]\n",
        "inferred_alignments = [forward_process.align_one_step(s1, s2) for s1, s2 in zip(sequences[:-1], sequences[1:])]\n",
        "show_aligned(sequences, inferred_alignments)\n",
        "show_aligned([sequences[0], sequences[3]], [inferred_alignments[0].then(inferred_alignments[1]).then(inferred_alignments[2])])"
      ]
    },
    {
      "cell_type": "code",
      "execution_count": 29,
      "metadata": {
        "id": "vHHqZ-TqNc1t",
        "outputId": "33aaa912-b936-496c-d6dc-289f05805ab0",
        "colab": {
          "base_uri": "https://localhost:8080/"
        }
      },
      "outputs": [
        {
          "output_type": "execute_result",
          "data": {
            "text/plain": [
              "DeviceArray(-41.96258, dtype=float32)"
            ]
          },
          "metadata": {},
          "execution_count": 29
        }
      ],
      "source": [
        "forward_process.multi_step_aligned_log_prob(\n",
        "    source=sequences[0],\n",
        "    target=sequences[3],\n",
        "    distn=noise_test_multi_0_to_3,\n",
        "    alignment=inferred_alignments[0].then(inferred_alignments[1]).then(inferred_alignments[2]))"
      ]
    },
    {
      "cell_type": "markdown",
      "metadata": {
        "id": "CgiPqcJJOOEs"
      },
      "source": [
        "### Resampling intermediate values conditioned on an alignment"
      ]
    },
    {
      "cell_type": "markdown",
      "metadata": {
        "id": "qY1zzMkROQUs"
      },
      "source": [
        "Given sequences at times 0 and T, and an alignment between them, we can sample an intermediate sample at time T-1. This produces the same overall distribution of samples as sampling each of the timesteps in the original order, but allows us to generate multiple hypothetical intermediate states given a fixed final state."
      ]
    },
    {
      "cell_type": "code",
      "execution_count": 30,
      "metadata": {
        "colab": {
          "height": 592,
          "base_uri": "https://localhost:8080/"
        },
        "id": "TBGRHgoaN45s",
        "outputId": "3f2fb14a-25ae-4b98-e49a-5612782d1569"
      },
      "outputs": [
        {
          "output_type": "display_data",
          "data": {
            "text/plain": [
              "<Figure size 1440x720 with 35 Axes>"
            ],
            "image/png": "[encoded data removed]"
          },
          "metadata": {
            "needs_background": "light"
          }
        }
      ],
      "source": [
        "x0 = sequences[0]\n",
        "x3 = sequences[3]\n",
        "alignment_0_to_3 = inferred_alignments[0].then(inferred_alignments[1]).then(inferred_alignments[2])\n",
        "\n",
        "key = jax.random.PRNGKey(1)\n",
        "\n",
        "def sample_one_intermediate(key):\n",
        "  return forward_process.sample_intermediate(\n",
        "      x0, x3, alignment_0_to_3, noise_test_multi_0_to_2, noise_test_2_to_3, key)\n",
        "\n",
        "(x2, alignment_0_to_t, alignment_t_to_tplus1) = jax.vmap(sample_one_intermediate)(jax.random.split(key, 5 * 7))\n",
        "\n",
        "\n",
        "fig, axs = plt.subplots(ncols=7, nrows=5, figsize=(20, 10))\n",
        "for i in range(axs.size):\n",
        "  show_aligned([x0, treeslice(i, x2), x3], treeslice(i, [alignment_0_to_t, alignment_t_to_tplus1]), ax=axs[np.unravel_index(i, axs.shape)], fontsize=12)\n"
      ]
    },
    {
      "cell_type": "markdown",
      "metadata": {
        "id": "SbIkse5HdN8W"
      },
      "source": [
        "Note that this allows us to sample in reverse! We can:\n",
        "\n",
        "- choose our starting sequence at time 0,\n",
        "- use multi-step sampling to directly sample the output at the final timestep T,\n",
        "- then repeatedly use `sample_intermediate` to generate a sequence at time T-1, then again at time T-2, and so on, until we have generated values for all timesteps."
      ]
    },
    {
      "cell_type": "markdown",
      "metadata": {
        "id": "kvnJAIhSVZoV"
      },
      "source": [
        "### Intermediate marginals"
      ]
    },
    {
      "cell_type": "markdown",
      "metadata": {
        "id": "ozQTpoqcVe0e"
      },
      "source": [
        "Instead of sampling individual intermediate sequences, we can also compute \"marginals\". These give probabilities of previous tokens aggregated at a per-token level."
      ]
    },
    {
      "cell_type": "code",
      "execution_count": 31,
      "metadata": {
        "id": "8Y5kehi3Vv90",
        "outputId": "1d0cf921-6f3a-4b66-d915-5f332cb85f2b",
        "colab": {
          "base_uri": "https://localhost:8080/"
        }
      },
      "outputs": [
        {
          "output_type": "stream",
          "name": "stdout",
          "text": [
            "-17.218935\n"
          ]
        }
      ],
      "source": [
        "marginals, expected_log_prob = forward_process.intermediate_marginals(x0, x3, alignment_0_to_3, noise_test_multi_0_to_2, noise_test_2_to_3)\n",
        "print(expected_log_prob)"
      ]
    },
    {
      "cell_type": "code",
      "execution_count": 32,
      "metadata": {
        "colab": {
          "height": 646,
          "base_uri": "https://localhost:8080/"
        },
        "id": "nTpLKSxYGdm-",
        "outputId": "0ec2d054-f656-4ad8-c09d-ac0235868f37"
      },
      "outputs": [
        {
          "output_type": "stream",
          "name": "stderr",
          "text": [
            "/usr/local/lib/python3.8/dist-packages/jax/_src/numpy/lax_numpy.py:3463: UserWarning: 'kind' argument to argsort is ignored; only 'stable' sorts are supported.\n",
            "  warnings.warn(\"'kind' argument to argsort is ignored; only 'stable' sorts \"\n"
          ]
        },
        {
          "output_type": "display_data",
          "data": {
            "text/plain": [
              "<Figure size 360x360 with 1 Axes>"
            ],
            "image/png": "[encoded data removed]"
          },
          "metadata": {
            "needs_background": "light"
          }
        },
        {
          "output_type": "display_data",
          "data": {
            "text/plain": [
              "<Figure size 360x360 with 1 Axes>"
            ],
            "image/png": "[encoded data removed]"
          },
          "metadata": {
            "needs_background": "light"
          }
        }
      ],
      "source": [
        "show_aligned([x0, x3], [alignment_0_to_3])\n",
        "show_marginals(x3, marginals)"
      ]
    },
    {
      "cell_type": "markdown",
      "metadata": {
        "id": "7n3_m0_cWIct"
      },
      "source": [
        "In this plot:\n",
        "- The letters in the middle (at row -1) are the tokens in the sequence `x3`, same as they appear in the previous figure.\n",
        "- Red denotes probability of there being a given number of delete tokens at time T-1 that existed before the token in the middle at time T, with higher squares denoting more delete tokens (e.g. a red square at 0 is the probability of no delete tokens, a red square one step above is the probability of one, and so on). Note that we don't compute anything here for insert tokens because the insert tokens did not exist at time T-1. Also, delete tokens are more likely to have appeared before reroll alignments (orange lines in the top plot), since the reroll alignments are only generated by combinations of insertions and deletions.\n",
        "- Blue denotes the probability that this token at time T used to be an insert token at time T-1.\n",
        "- Gray letters below the blue denote possible values for this token at the previous step, and are ranked and shaded based on their likelihood at previous steps. Due to the configuration of the transition matrix in the setup section above, letters are most likely to have stayed the same, but some letters could have switched capitalization, and a delete sentinel at time T could have been any token at time T-1."
      ]
    },
    {
      "cell_type": "markdown",
      "metadata": {
        "id": "CiTuSy6Jdkw3"
      },
      "source": [
        "These marginals are important because they serve as the output representation for our neural network models. These models are given the sequence at time T (e.g. the sequence shown in the middle of the plot), and they predict distributions over inserts, previous token values, and numbers of previous deletion sentinels."
      ]
    },
    {
      "cell_type": "markdown",
      "metadata": {
        "id": "8FIBJPmmeD9V"
      },
      "source": [
        "We can also sample a new sequence from these marginals. Note that this is *NOT* statistically equivalent to running `sample_intermediate`, since `sample_intermediate` keeps track of interactions between tokens and the marginals do not. However, the less noise there is in the forward process, the less uncertainty there is in the marginals, so sampling from the marginals can produce a good approximation of the distribution we want. When sampling from our learned models, we use this approach, since our model only learns the marginals."
      ]
    },
    {
      "cell_type": "code",
      "execution_count": 33,
      "metadata": {
        "id": "iP4lYjhjeoAb",
        "outputId": "8f288a83-7c58-4863-f3ac-d3fb0a55868e",
        "colab": {
          "base_uri": "https://localhost:8080/"
        }
      },
      "outputs": [
        {
          "output_type": "stream",
          "name": "stdout",
          "text": [
            "+d+b++bd++\n",
            "e+ebacxbx+x++\n",
            "+deb++bdxDD\n",
            "e+exbxab++xd+\n",
            "+deBaEbdxD+\n",
            "++x+ba+B+xx+D\n",
            "e+ebaEx+dx+D\n",
            "++ebaD+dx++\n",
            "++eb++b+xDD\n",
            "ed+xxba++xdx++\n"
          ]
        }
      ],
      "source": [
        "for i in range(10):\n",
        "  sample_from_marginals = marginals.sample(jax.random.PRNGKey(i))\n",
        "  print(stringify(sample_from_marginals))\n"
      ]
    },
    {
      "cell_type": "markdown",
      "metadata": {
        "id": "wf0biYTKPjw5"
      },
      "source": [
        "### Resampling multi-step alignments"
      ]
    },
    {
      "cell_type": "markdown",
      "metadata": {
        "id": "2ucaE_PKPqGT"
      },
      "source": [
        "If we don't have an alignment between the initial and final sequence, it's also possible to infer one using dynamic programming across multiple steps of the sequence. (Note that this is much more expensive than using a single fixed alignment; when training a model it ends up being more efficient to just remember the original alignment.)\n",
        "\n",
        "The first step is to compute a table of possible token-level alignments between sequences."
      ]
    },
    {
      "cell_type": "code",
      "execution_count": 34,
      "metadata": {
        "colab": {
          "height": 180,
          "base_uri": "https://localhost:8080/"
        },
        "id": "z---qcL2K8Us",
        "outputId": "77136da9-0ea4-4ed5-8217-3daaba92ee91"
      },
      "outputs": [
        {
          "output_type": "execute_result",
          "data": {
            "text/plain": [
              "<matplotlib.image.AxesImage at 0x7f077b280e80>"
            ]
          },
          "metadata": {},
          "execution_count": 34
        },
        {
          "output_type": "display_data",
          "data": {
            "text/plain": [
              "<Figure size 720x360 with 2 Axes>"
            ],
            "image/png": "[encoded data removed]"
          },
          "metadata": {
            "needs_background": "light"
          }
        }
      ],
      "source": [
        "alignment_table = forward_process.compute_multi_step_alignment_table(\n",
        "    x0,\n",
        "    x3,\n",
        "    noise_test_multi_0_to_3)\n",
        "\n",
        "fig, axs = plt.subplots(ncols=2, nrows=1, figsize=(10, 5))\n",
        "axs[0].imshow(alignment_table[0][:x0.length,:x3.length])\n",
        "axs[1].imshow(alignment_table[1][:x0.length,:x3.length])"
      ]
    },
    {
      "cell_type": "markdown",
      "metadata": {
        "id": "c_9uWFP4Qr4J"
      },
      "source": [
        "Given this, we can then sample individual alignments using an iterative process (somewhat similar to sampling from the posterior of a hidden Markov model)."
      ]
    },
    {
      "cell_type": "code",
      "execution_count": 35,
      "metadata": {
        "colab": {
          "height": 596,
          "base_uri": "https://localhost:8080/"
        },
        "id": "1wlZ3cCyPBJX",
        "outputId": "2efd0ab4-1047-4283-9cdc-8a1067e57696"
      },
      "outputs": [
        {
          "output_type": "display_data",
          "data": {
            "text/plain": [
              "<Figure size 1440x720 with 35 Axes>"
            ],
            "image/png": "[encoded data removed]"
          },
          "metadata": {
            "needs_background": "light"
          }
        }
      ],
      "source": [
        "def sample_one_alignment(key):\n",
        "  return forward_process.sample_alignment_from_table(\n",
        "      source=x0,\n",
        "      target=x3,\n",
        "      distn=noise_test_multi_0_to_3,\n",
        "      alignment_table=alignment_table,\n",
        "      rng=key)\n",
        "\n",
        "key = jax.random.PRNGKey(2)\n",
        "alignments_stacked = jax.vmap(sample_one_alignment)(jax.random.split(key, 5 * 7))\n",
        "\n",
        "\n",
        "fig, axs = plt.subplots(ncols=7, nrows=5, figsize=(20, 10))\n",
        "for i in range(axs.size):\n",
        "  show_aligned([x0, x3], treeslice(i, [alignments_stacked]), ax=axs[np.unravel_index(i, axs.shape)], fontsize=12)\n"
      ]
    },
    {
      "cell_type": "markdown",
      "metadata": {
        "id": "l3kf8cLzTxEi"
      },
      "source": [
        "#### Advanced: Rao-Blackwell over a reduced dynamic programming table"
      ]
    },
    {
      "cell_type": "markdown",
      "metadata": {
        "id": "-I_ELgY7RqhS"
      },
      "source": [
        "An advanced trick is to only compute the DP table for entries that are close to the diagonal, which can be more efficient for large sequences."
      ]
    },
    {
      "cell_type": "code",
      "execution_count": 36,
      "metadata": {
        "colab": {
          "height": 180,
          "base_uri": "https://localhost:8080/"
        },
        "id": "WszkJ5QvRULG",
        "outputId": "0deae557-27e8-4a4c-9381-923040ae7a6f"
      },
      "outputs": [
        {
          "output_type": "execute_result",
          "data": {
            "text/plain": [
              "<matplotlib.image.AxesImage at 0x7f077f3d55e0>"
            ]
          },
          "metadata": {},
          "execution_count": 36
        },
        {
          "output_type": "display_data",
          "data": {
            "text/plain": [
              "<Figure size 720x360 with 2 Axes>"
            ],
            "image/png": "[encoded data removed]"
          },
          "metadata": {
            "needs_background": "light"
          }
        }
      ],
      "source": [
        "alignment_table_banded = forward_process.compute_multi_step_alignment_table(\n",
        "    x0,\n",
        "    x3,\n",
        "    noise_test_multi_0_to_3,\n",
        "    pack_block_size=2,\n",
        "    use_dynamic_band=True)\n",
        "\n",
        "fig, axs = plt.subplots(ncols=2, nrows=1, figsize=(10, 5))\n",
        "axs[0].imshow(alignment_table_banded[0][:x0.length,:x3.length])\n",
        "axs[1].imshow(alignment_table_banded[1][:x0.length,:x3.length])"
      ]
    },
    {
      "cell_type": "markdown",
      "metadata": {
        "id": "X7JBU0HVSPE4"
      },
      "source": [
        "Note that if we sample an alignment using this table, it will only sample an alignment that matches tokens that are close to one another spatially, and won't do large numbers of consecutive insertions or deletions.\n",
        "\n",
        "If we want to average something over all alignments, we can use a trick called Rao-Blackwellization or conditional marginalization:\n",
        "- if our original sample was contained in this diagonal \"dynamic band\", we can draw a bunch of other samples within that dynamic band, and average over them\n",
        "- if our original sample was not contained in the band, we just keep the value from our original sample.\n",
        "\n",
        "It turns out that this has less variance than just using the original sample's value, if we want to estimate some quantity across all possible alignments. However, this ends up being quite slow in practice, and isn't usually worth doing."
      ]
    },
    {
      "cell_type": "markdown",
      "metadata": {
        "id": "9-G2yOJFU_Dw"
      },
      "source": [
        "If we use the originally sampled alignment, it is in the band, and we can resample other well-aligned alignments using our table."
      ]
    },
    {
      "cell_type": "code",
      "execution_count": 37,
      "metadata": {
        "colab": {
          "height": 596,
          "base_uri": "https://localhost:8080/"
        },
        "id": "VvSCCpfTR1Pa",
        "outputId": "661c3131-99db-4057-f673-bde52761fa90"
      },
      "outputs": [
        {
          "output_type": "display_data",
          "data": {
            "text/plain": [
              "<Figure size 1440x720 with 35 Axes>"
            ],
            "image/png": "[encoded data removed]"
          },
          "metadata": {
            "needs_background": "light"
          }
        }
      ],
      "source": [
        "def sample_one_alignment(key):\n",
        "  return forward_process.rao_blackwellize_dynamic_band_alignment(\n",
        "      source=x0,\n",
        "      target=x3,\n",
        "      distn=noise_test_multi_0_to_2,\n",
        "      alignment=alignment_0_to_3,\n",
        "      alignment_table=alignment_table_banded,\n",
        "      rng=key)\n",
        "\n",
        "key = jax.random.PRNGKey(2)\n",
        "alignments_stacked = jax.vmap(sample_one_alignment)(jax.random.split(key, 5 * 7))\n",
        "\n",
        "fig, axs = plt.subplots(ncols=7, nrows=5, figsize=(20, 10))\n",
        "for i in range(axs.size):\n",
        "  show_aligned([x0, x3], treeslice(i, [alignments_stacked]), ax=axs[np.unravel_index(i, axs.shape)], fontsize=12)\n"
      ]
    },
    {
      "cell_type": "code",
      "execution_count": 38,
      "metadata": {
        "colab": {
          "height": 903,
          "base_uri": "https://localhost:8080/"
        },
        "id": "HZAWYGzSTWBe",
        "outputId": "da652e63-df68-4773-b5db-2f528b1897b8"
      },
      "outputs": [
        {
          "output_type": "display_data",
          "data": {
            "text/plain": [
              "<Figure size 360x360 with 1 Axes>"
            ],
            "image/png": "[encoded data removed]"
          },
          "metadata": {
            "needs_background": "light"
          }
        },
        {
          "output_type": "display_data",
          "data": {
            "text/plain": [
              "<Figure size 1440x720 with 35 Axes>"
            ],
            "image/png": "[encoded data removed]"
          },
          "metadata": {
            "needs_background": "light"
          }
        }
      ],
      "source": [
        "# This is the sampled alignment at indes 26 in `alignments_stacked` above.\n",
        "# It's a possible alignment, but it requires a large number of insertions.\n",
        "out_of_band_alignment = forward_process.SequenceAlignment(\n",
        "    backpointers=jnp.array([-1,  3,  4, -1, -1, -1, -1, -1, -1, -1, -1, -1, -1, -1, -1, -1]),\n",
        "    delete_sentinels=jnp.array([0, 0, 0, 0, 0, 0,  1, 0, 0, 0, 0, 0, 0, 0, 0, 0]).astype(bool),\n",
        "    before_length=jnp.array(5),\n",
        "    after_length=jnp.array(11),\n",
        "    is_single_step=False,\n",
        "    reroll_mask=jnp.array([0, 0, 0, 0, 0, 0, 0, 0, 0, 0, 0, 0, 0, 0, 0, 0]).astype(bool))\n",
        "\n",
        "show_aligned([x0, x3], [out_of_band_alignment], fontsize=12)\n",
        "\n",
        "def sample_one_alignment(key):\n",
        "  return forward_process.rao_blackwellize_dynamic_band_alignment(\n",
        "      source=x0,\n",
        "      target=x3,\n",
        "      distn=noise_test_multi_0_to_2,\n",
        "      alignment=out_of_band_alignment,  # uses our manual assignment instead\n",
        "      alignment_table=alignment_table_banded,\n",
        "      rng=key)\n",
        "\n",
        "key = jax.random.PRNGKey(2)\n",
        "alignments_stacked = jax.vmap(sample_one_alignment)(jax.random.split(key, 5 * 7))\n",
        "\n",
        "fig, axs = plt.subplots(ncols=7, nrows=5, figsize=(20, 10))\n",
        "for i in range(axs.size):\n",
        "  show_aligned([x0, x3], treeslice(i, [alignments_stacked]), ax=axs[np.unravel_index(i, axs.shape)], fontsize=12)\n"
      ]
    },
    {
      "cell_type": "markdown",
      "metadata": {
        "id": "WG8VCapkaCjF"
      },
      "source": [
        "### Computing the number of tokens at the final timestep"
      ]
    },
    {
      "cell_type": "markdown",
      "metadata": {
        "id": "YkvyJebvaJ5H"
      },
      "source": [
        "For simplicity, we assume that the final step of the forward process deletes everything. This means that the only information left at the final timestep is just the number of deletions that happened."
      ]
    },
    {
      "cell_type": "code",
      "execution_count": 39,
      "metadata": {
        "id": "mkyYi9pUbkfn"
      },
      "outputs": [],
      "source": [
        "\n",
        "# Main schedule\n",
        "noise_test_0_to_1 = forward_process.OneStepDistn(\n",
        "    lp_delete=jnp.log(0.3), lp_insert=jnp.log(0.35),\n",
        "    A=mk_A(.21), D_insert_logits=mk_D_logits(.1))\n",
        "noise_test_1_to_2 = forward_process.OneStepDistn(\n",
        "    lp_delete=jnp.log(0.19), lp_insert=jnp.log(0.14),\n",
        "    A=mk_A(.15), D_insert_logits=mk_D_logits(.3))\n",
        "noise_test_2_to_3 = forward_process.OneStepDistn(\n",
        "    lp_delete=jnp.log(0.34), lp_insert=jnp.log(0.23),\n",
        "    A=mk_A(.18), D_insert_logits=mk_D_logits(.5))\n",
        "noise_test_3_to_4 = forward_process.OneStepDistn(\n",
        "    lp_delete=jnp.log(0.4), lp_insert=jnp.log(0.2),\n",
        "    A=mk_A(.12), D_insert_logits=mk_D_logits(.7))\n",
        "\n",
        "# Last step deletes everything\n",
        "noise_test_4_to_5_terminal = forward_process.OneStepDistn(\n",
        "    lp_delete=jnp.log(1.0), lp_insert=jnp.log(0.0),\n",
        "    A=mk_A(.5), D_insert_logits=mk_D_logits(.5))\n",
        "\n",
        "noise_test_multi_0_to_0 = forward_process.ManyStepDistn.identity_for(noise_test_0_to_1)\n",
        "noise_test_multi_0_to_1 = noise_test_multi_0_to_0.then(noise_test_0_to_1, check=True)\n",
        "noise_test_multi_0_to_2 = noise_test_multi_0_to_1.then(noise_test_1_to_2, check=True)\n",
        "noise_test_multi_0_to_3 = noise_test_multi_0_to_2.then(noise_test_2_to_3, check=True)\n",
        "noise_test_multi_0_to_4 = noise_test_multi_0_to_3.then(noise_test_3_to_4, check=True)\n",
        "noise_test_multi_0_to_5_terminal = noise_test_multi_0_to_4.then(noise_test_4_to_5_terminal, check=True)"
      ]
    },
    {
      "cell_type": "code",
      "execution_count": 40,
      "metadata": {
        "colab": {
          "height": 320,
          "base_uri": "https://localhost:8080/"
        },
        "id": "6M_LGw-kUj1P",
        "outputId": "e1cc27ab-9303-4e5c-8927-3aeb993e8359"
      },
      "outputs": [
        {
          "output_type": "display_data",
          "data": {
            "text/plain": [
              "<Figure size 360x360 with 1 Axes>"
            ],
            "image/png": "[encoded data removed]"
          },
          "metadata": {
            "needs_background": "light"
          }
        }
      ],
      "source": [
        "rng = jax.random.PRNGKey(1)\n",
        "\n",
        "x0 = unstringify(\"abcdeABCDE\", 64)\n",
        "cur_sequence = x0\n",
        "sequences = [cur_sequence]\n",
        "alignments = []\n",
        "for distn in [noise_test_0_to_1,\n",
        "              noise_test_1_to_2,\n",
        "              noise_test_2_to_3,\n",
        "              noise_test_3_to_4,\n",
        "              noise_test_4_to_5_terminal]:\n",
        "  rng, key = jax.random.split(rng)\n",
        "  cur_sequence, alignment = forward_process.sample_noise_step(\n",
        "    sequence=cur_sequence,\n",
        "    distn=distn,\n",
        "    rng=key)\n",
        "  sequences.append(cur_sequence)\n",
        "  alignments.append(alignment)\n",
        "\n",
        "show_aligned(sequences, alignments)"
      ]
    },
    {
      "cell_type": "markdown",
      "metadata": {
        "id": "SgviWZsGbBl2"
      },
      "source": [
        "We can directly compute the distribution of final step lengths without sampling."
      ]
    },
    {
      "cell_type": "code",
      "execution_count": 41,
      "metadata": {
        "colab": {
          "height": 282,
          "base_uri": "https://localhost:8080/"
        },
        "id": "sRMuk2QOa_1j",
        "outputId": "e7466a21-0371-4011-e06c-ffd53c81667c"
      },
      "outputs": [
        {
          "output_type": "execute_result",
          "data": {
            "text/plain": [
              "[<matplotlib.lines.Line2D at 0x7f077c4d24c0>]"
            ]
          },
          "metadata": {},
          "execution_count": 41
        },
        {
          "output_type": "display_data",
          "data": {
            "text/plain": [
              "<Figure size 432x288 with 1 Axes>"
            ],
            "image/png": "[encoded data removed]"
          },
          "metadata": {
            "needs_background": "light"
          }
        }
      ],
      "source": [
        "terminal_length_log_probs = forward_process.terminal_sentinel_distribution(x0, noise_test_multi_0_to_5_terminal)\n",
        "terminal_length_probs = np.exp(terminal_length_log_probs)\n",
        "plt.plot(np.arange(terminal_length_log_probs.shape[0]), terminal_length_probs, \"x-\")"
      ]
    },
    {
      "cell_type": "markdown",
      "metadata": {
        "id": "lfzbSaf6fAGI"
      },
      "source": [
        "Note that this distribution depends on the number of tokens in the original input, which will be different for different dataset samples. We train our models to predict a version of this distribution averaged across many dataset samples. To use it for generation, we sample a number of sentinels for time T according to our learned copy of this distribution, then run our model to try to infer the token values that existed at time T-1."
      ]
    }
  ],
  "metadata": {
    "colab": {
      "collapsed_sections": [
        "JndnmDMp66FL",
        "l3kf8cLzTxEi"
      ],
      "provenance": []
    },
    "kernelspec": {
      "display_name": "Python 3",
      "name": "python3"
    },
    "language_info": {
      "name": "python"
    }
  },
  "nbformat": 4,
  "nbformat_minor": 0
}
