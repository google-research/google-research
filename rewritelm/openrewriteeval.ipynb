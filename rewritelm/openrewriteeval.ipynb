{
  "cells": [
    {
      "cell_type": "markdown",
      "metadata": {
        "id": "IwpKAPGha9C5"
      },
      "source": [
        "# Licensed under the Apache License, Version 2.0 (the \"License\");\n",
        "# you may not use this file except in compliance with the License.\n",
        "# You may obtain a copy of the License at\n",
        "#\n",
        "# https://www.apache.org/licenses/LICENSE-2.0\n",
        "#\n",
        "# Unless required by applicable law or agreed to in writing, software\n",
        "# distributed under the License is distributed on an \"AS IS\" BASIS,\n",
        "# WITHOUT WARRANTIES OR CONDITIONS OF ANY KIND, either express or implied.\n",
        "# See the License for the specific language governing permissions and\n",
        "# limitations under the License."
      ]
    },
    {
      "cell_type": "markdown",
      "metadata": {
        "id": "DgCSfZt98PQJ"
      },
      "source": [
        "# Data Statistics for OpenRewriteEval"
      ]
    },
    {
      "cell_type": "code",
      "execution_count": null,
      "metadata": {
        "id": "-34pByVB8Dl5"
      },
      "outputs": [],
      "source": [
        "import zipfile\n",
        "import pandas as pd\n",
        "import editdistance\n",
        "import numpy as np"
      ]
    },
    {
      "cell_type": "code",
      "execution_count": null,
      "metadata": {
        "id": "Zfign04XPUys"
      },
      "outputs": [],
      "source": [
        "from google.colab import drive\n",
        "drive.mount('/content/drive/')"
      ]
    },
    {
      "cell_type": "code",
      "execution_count": null,
      "metadata": {
        "id": "z7C2ayHGPVlq"
      },
      "outputs": [],
      "source": [
        "openrewriteeval_zippath = \"/content/drive/My Drive/openrewriteeval_aaai24.zip\" # @param {type:\"string\"}\n",
        "with zipfile.ZipFile(openrewriteeval_zippath, 'r') as zip_ref:\n",
        "    zip_ref.extractall('tmp')\n",
        "\n",
        "df = pd.read_csv('tmp/openrewriteeval_aaai24.csv')"
      ]
    },
    {
      "cell_type": "code",
      "execution_count": null,
      "metadata": {
        "id": "chsf74FDPYg3"
      },
      "outputs": [],
      "source": [
        "def calculate(row):\n",
        "  comment, source, target = row[\"comment\"], row[\"source\"], row[\"target\"]\n",
        "  editdist = editdistance.distance(source.split(\" \"), target.split(\" \"))\n",
        "  metrics = {\n",
        "      \"editdistance\": editdist,\n",
        "      \"editdistance_over_source\": editdist/len(source.split(\" \")),\n",
        "      \"editdistance_over_target\": editdist/len(target.split(\" \")),\n",
        "      \"editdistance_ratio\": editdist/(len(source.split(\" \")) + len(target.split(\" \"))),\n",
        "      \"word_len_comment\": len(comment.split(\" \")),\n",
        "      \"word_len_source\": len(source.split(\" \")),\n",
        "      \"word_len_target\": len(target.split(\" \")),\n",
        "      \"len_ratio\": len(target)/len(source),\n",
        "  }\n",
        "  return pd.Series(metrics)"
      ]
    },
    {
      "cell_type": "code",
      "execution_count": null,
      "metadata": {
        "id": "9HhT6gknPcVh"
      },
      "outputs": [],
      "source": [
        "new_fields_df = df.apply(calculate, axis=1)\n",
        "result_df = pd.concat([df, new_fields_df], axis=1)"
      ]
    },
    {
      "cell_type": "code",
      "execution_count": null,
      "metadata": {
        "id": "YqIr33e3PiJK"
      },
      "outputs": [],
      "source": [
        "fields = [\"word_len_comment\", \"word_len_source\", \"word_len_target\", \"len_ratio\", \"editdistance\", \"editdistance_over_source\"]\n",
        "result_df_by_task = result_df.groupby(\"task\")[fields].mean()\n",
        "result_df_by_task"
      ]
    }
  ],
  "metadata": {
    "colab": {
      "private_outputs": true,
      "provenance": []
    }
  },
  "nbformat": 4,
  "nbformat_minor": 0
}
