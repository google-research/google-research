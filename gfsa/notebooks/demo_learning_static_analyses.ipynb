{
  "nbformat": 4,
  "nbformat_minor": 0,
  "metadata": {
    "colab": {
      "name": "demo_learning_static_analyses.ipynb",
      "provenance": [],
      "collapsed_sections": [
        "JndnmDMp66FL"
      ]
    },
    "kernelspec": {
      "name": "python3",
      "display_name": "Python 3"
    },
    "accelerator": "TPU"
  },
  "cells": [
    {
      "cell_type": "markdown",
      "metadata": {
        "id": "JndnmDMp66FL"
      },
      "source": [
        "##### Copyright 2020 Google LLC.\n",
        "\n",
        "Licensed under the Apache License, Version 2.0 (the \"License\");"
      ]
    },
    {
      "cell_type": "code",
      "metadata": {
        "id": "hMqWDc_m6rUC"
      },
      "source": [
        "# Licensed under the Apache License, Version 2.0 (the \"License\");\n",
        "# you may not use this file except in compliance with the License.\n",
        "# You may obtain a copy of the License at\n",
        "#\n",
        "# https://www.apache.org/licenses/LICENSE-2.0\n",
        "#\n",
        "# Unless required by applicable law or agreed to in writing, software\n",
        "# distributed under the License is distributed on an \"AS IS\" BASIS,\n",
        "# WITHOUT WARRANTIES OR CONDITIONS OF ANY KIND, either express or implied.\n",
        "# See the License for the specific language governing permissions and\n",
        "# limitations under the License."
      ],
      "execution_count": null,
      "outputs": []
    },
    {
      "cell_type": "markdown",
      "metadata": {
        "id": "YpCT3cA2P2ON"
      },
      "source": [
        "# Interactive demo: Learning static analyses with the GFSA layer\n",
        "\n",
        "This notebook is designed to walk you through training the GFSA layer to perform simple static analyses on Python code, similar to the static analysis experiments in the paper.\n",
        "\n"
      ]
    },
    {
      "cell_type": "markdown",
      "metadata": {
        "id": "UNnd2YesSAFr"
      },
      "source": [
        "[![Open In Colab](https://colab.research.google.com/assets/colab-badge.svg)](https://colab.research.google.com/github/google-research/google-research/blob/master/gfsa/notebooks/demo_learning_static_analyses.ipynb)"
      ]
    },
    {
      "cell_type": "markdown",
      "metadata": {
        "id": "Tr2Z0N-qSNz6"
      },
      "source": [
        "## Setting up the environment"
      ]
    },
    {
      "cell_type": "markdown",
      "metadata": {
        "id": "obGYeV4EUb61"
      },
      "source": [
        "These instructions are designed for running this demo using Google Colab; if you are using a different environment, the setup instructions may differ!\n",
        "\n",
        "If you want to follow along, the first step is to connect the Colab runtime to a TPU. You can use the \"Runtime > Change runtime type\" option in the toolbar above.\n",
        "\n",
        "Next, install necessary dependencies:"
      ]
    },
    {
      "cell_type": "code",
      "metadata": {
        "colab": {
          "base_uri": "https://localhost:8080/"
        },
        "id": "_j6tXnzFn-s6",
        "outputId": "e8f42689-adca-4e5b-8ec4-5798022c5920"
      },
      "source": [
        "# Download the GFSA codebase\n",
        "!git clone https://github.com/google-research/google-research.git --depth=1"
      ],
      "execution_count": null,
      "outputs": [
        {
          "output_type": "stream",
          "text": [
            "Cloning into 'google-research'...\n",
            "remote: Enumerating objects: 10043, done.\u001b[K\n",
            "remote: Counting objects: 100% (10043/10043), done.\u001b[K\n",
            "remote: Compressing objects: 100% (8038/8038), done.\u001b[K\n",
            "remote: Total 10043 (delta 1443), reused 7963 (delta 1209), pack-reused 0\u001b[K\n",
            "Receiving objects: 100% (10043/10043), 109.57 MiB | 21.79 MiB/s, done.\n",
            "Resolving deltas: 100% (1443/1443), done.\n",
            "Checking out files: 100% (10525/10525), done.\n"
          ],
          "name": "stdout"
        }
      ]
    },
    {
      "cell_type": "code",
      "metadata": {
        "id": "NsacX7KEsp0D"
      },
      "source": [
        "import os\n",
        "os.chdir(\"google-research\")"
      ],
      "execution_count": null,
      "outputs": []
    },
    {
      "cell_type": "code",
      "metadata": {
        "colab": {
          "base_uri": "https://localhost:8080/"
        },
        "id": "AFH12ED4-5fU",
        "outputId": "8d9c3e56-2f9c-4181-c03b-6db20a1ca33c"
      },
      "source": [
        "# Install Python packages\n",
        "!pip install flax labmaze optax tensor2tensor"
      ],
      "execution_count": null,
      "outputs": [
        {
          "output_type": "stream",
          "text": [
            "Collecting flax\n",
            "\u001b[?25l  Downloading https://files.pythonhosted.org/packages/2e/ef/1a0c6a869396e4b20a83375fe06d725b5c1711746578ee8dd6969472af41/flax-0.2.2-py3-none-any.whl (148kB)\n",
            "\u001b[K     |\u2588\u2588\u2588\u2588\u2588\u2588\u2588\u2588\u2588\u2588\u2588\u2588\u2588\u2588\u2588\u2588\u2588\u2588\u2588\u2588\u2588\u2588\u2588\u2588\u2588\u2588\u2588\u2588\u2588\u2588\u2588\u2588| 153kB 5.1MB/s \n",
            "\u001b[?25hCollecting labmaze\n",
            "\u001b[?25l  Downloading https://files.pythonhosted.org/packages/0f/69/9f3b4790affd5353d22608003a555fd9325cc19fe5a3141b563297b4986f/labmaze-1.0.3-cp36-cp36m-manylinux1_x86_64.whl (4.9MB)\n",
            "\u001b[K     |\u2588\u2588\u2588\u2588\u2588\u2588\u2588\u2588\u2588\u2588\u2588\u2588\u2588\u2588\u2588\u2588\u2588\u2588\u2588\u2588\u2588\u2588\u2588\u2588\u2588\u2588\u2588\u2588\u2588\u2588\u2588\u2588| 4.9MB 18.0MB/s \n",
            "\u001b[?25hCollecting optax\n",
            "\u001b[?25l  Downloading https://files.pythonhosted.org/packages/1d/94/0a81a6c0aeb1f22840f097dc023cdd803e36d86a0ac8724ad829a51f92a4/optax-0.0.2-py3-none-any.whl (54kB)\n",
            "\u001b[K     |\u2588\u2588\u2588\u2588\u2588\u2588\u2588\u2588\u2588\u2588\u2588\u2588\u2588\u2588\u2588\u2588\u2588\u2588\u2588\u2588\u2588\u2588\u2588\u2588\u2588\u2588\u2588\u2588\u2588\u2588\u2588\u2588| 61kB 7.4MB/s \n",
            "\u001b[?25hCollecting tensor2tensor\n",
            "\u001b[?25l  Downloading https://files.pythonhosted.org/packages/d6/7c/9e87d30cefad5cbc390bb7f626efb3ded9b19416b8160f1a1278da81b218/tensor2tensor-1.15.7-py2.py3-none-any.whl (1.4MB)\n",
            "\u001b[K     |\u2588\u2588\u2588\u2588\u2588\u2588\u2588\u2588\u2588\u2588\u2588\u2588\u2588\u2588\u2588\u2588\u2588\u2588\u2588\u2588\u2588\u2588\u2588\u2588\u2588\u2588\u2588\u2588\u2588\u2588\u2588\u2588| 1.5MB 39.6MB/s \n",
            "\u001b[?25hRequirement already satisfied: jax>=0.1.59 in /usr/local/lib/python3.6/dist-packages (from flax) (0.2.6)\n",
            "Requirement already satisfied: numpy>=1.12 in /usr/local/lib/python3.6/dist-packages (from flax) (1.18.5)\n",
            "Requirement already satisfied: matplotlib in /usr/local/lib/python3.6/dist-packages (from flax) (3.2.2)\n",
            "Requirement already satisfied: dataclasses; python_version < \"3.7\" in /usr/local/lib/python3.6/dist-packages (from flax) (0.8)\n",
            "Requirement already satisfied: msgpack in /usr/local/lib/python3.6/dist-packages (from flax) (1.0.0)\n",
            "Requirement already satisfied: absl-py in /usr/local/lib/python3.6/dist-packages (from labmaze) (0.10.0)\n",
            "Requirement already satisfied: six>=1.4.1 in /usr/local/lib/python3.6/dist-packages (from labmaze) (1.15.0)\n",
            "Collecting chex>=0.0.3\n",
            "\u001b[?25l  Downloading https://files.pythonhosted.org/packages/24/ef/9522eee302d4e3d6504d53d38e7180ca97404c19e638caeacb91cea9b20b/chex-0.0.3-py3-none-any.whl (48kB)\n",
            "\u001b[K     |\u2588\u2588\u2588\u2588\u2588\u2588\u2588\u2588\u2588\u2588\u2588\u2588\u2588\u2588\u2588\u2588\u2588\u2588\u2588\u2588\u2588\u2588\u2588\u2588\u2588\u2588\u2588\u2588\u2588\u2588\u2588\u2588| 51kB 5.6MB/s \n",
            "\u001b[?25hRequirement already satisfied: jaxlib>=0.1.37 in /usr/local/lib/python3.6/dist-packages (from optax) (0.1.57+cuda101)\n",
            "Requirement already satisfied: requests in /usr/local/lib/python3.6/dist-packages (from tensor2tensor) (2.23.0)\n",
            "Requirement already satisfied: tqdm in /usr/local/lib/python3.6/dist-packages (from tensor2tensor) (4.41.1)\n",
            "Collecting tf-slim\n",
            "\u001b[?25l  Downloading https://files.pythonhosted.org/packages/02/97/b0f4a64df018ca018cc035d44f2ef08f91e2e8aa67271f6f19633a015ff7/tf_slim-1.1.0-py2.py3-none-any.whl (352kB)\n",
            "\u001b[K     |\u2588\u2588\u2588\u2588\u2588\u2588\u2588\u2588\u2588\u2588\u2588\u2588\u2588\u2588\u2588\u2588\u2588\u2588\u2588\u2588\u2588\u2588\u2588\u2588\u2588\u2588\u2588\u2588\u2588\u2588\u2588\u2588| 358kB 47.8MB/s \n",
            "\u001b[?25hRequirement already satisfied: gin-config in /usr/local/lib/python3.6/dist-packages (from tensor2tensor) (0.3.0)\n",
            "Collecting bz2file\n",
            "  Downloading https://files.pythonhosted.org/packages/61/39/122222b5e85cd41c391b68a99ee296584b2a2d1d233e7ee32b4532384f2d/bz2file-0.98.tar.gz\n",
            "Requirement already satisfied: tensorflow-addons in /usr/local/lib/python3.6/dist-packages (from tensor2tensor) (0.8.3)\n",
            "Requirement already satisfied: google-api-python-client in /usr/local/lib/python3.6/dist-packages (from tensor2tensor) (1.7.12)\n",
            "Collecting tensorflow-probability==0.7.0\n",
            "\u001b[?25l  Downloading https://files.pythonhosted.org/packages/3e/3a/c10b6c22320531c774402ac7186d1b673374e2a9d12502cbc8d811e4601c/tensorflow_probability-0.7.0-py2.py3-none-any.whl (981kB)\n",
            "\u001b[K     |\u2588\u2588\u2588\u2588\u2588\u2588\u2588\u2588\u2588\u2588\u2588\u2588\u2588\u2588\u2588\u2588\u2588\u2588\u2588\u2588\u2588\u2588\u2588\u2588\u2588\u2588\u2588\u2588\u2588\u2588\u2588\u2588| 983kB 32.2MB/s \n",
            "\u001b[?25hRequirement already satisfied: opencv-python in /usr/local/lib/python3.6/dist-packages (from tensor2tensor) (4.1.2.30)\n",
            "Requirement already satisfied: tensorflow-datasets in /usr/local/lib/python3.6/dist-packages (from tensor2tensor) (4.0.1)\n",
            "Requirement already satisfied: future in /usr/local/lib/python3.6/dist-packages (from tensor2tensor) (0.16.0)\n",
            "Collecting mesh-tensorflow\n",
            "\u001b[?25l  Downloading https://files.pythonhosted.org/packages/16/8b/553deb763ce8d00afb17debab7cb14a87b209cd4c6f0e8ecfc8d884cb12a/mesh_tensorflow-0.1.17-py3-none-any.whl (342kB)\n",
            "\u001b[K     |\u2588\u2588\u2588\u2588\u2588\u2588\u2588\u2588\u2588\u2588\u2588\u2588\u2588\u2588\u2588\u2588\u2588\u2588\u2588\u2588\u2588\u2588\u2588\u2588\u2588\u2588\u2588\u2588\u2588\u2588\u2588\u2588| 348kB 37.9MB/s \n",
            "\u001b[?25hRequirement already satisfied: oauth2client in /usr/local/lib/python3.6/dist-packages (from tensor2tensor) (4.1.3)\n",
            "Requirement already satisfied: flask in /usr/local/lib/python3.6/dist-packages (from tensor2tensor) (1.1.2)\n",
            "Requirement already satisfied: sympy in /usr/local/lib/python3.6/dist-packages (from tensor2tensor) (1.1.1)\n",
            "Collecting pypng\n",
            "\u001b[?25l  Downloading https://files.pythonhosted.org/packages/bc/fb/f719f1ac965e2101aa6ea6f54ef8b40f8fbb033f6ad07c017663467f5147/pypng-0.0.20.tar.gz (649kB)\n",
            "\u001b[K     |\u2588\u2588\u2588\u2588\u2588\u2588\u2588\u2588\u2588\u2588\u2588\u2588\u2588\u2588\u2588\u2588\u2588\u2588\u2588\u2588\u2588\u2588\u2588\u2588\u2588\u2588\u2588\u2588\u2588\u2588\u2588\u2588| 655kB 45.3MB/s \n",
            "\u001b[?25hRequirement already satisfied: scipy in /usr/local/lib/python3.6/dist-packages (from tensor2tensor) (1.4.1)\n",
            "Requirement already satisfied: Pillow in /usr/local/lib/python3.6/dist-packages (from tensor2tensor) (7.0.0)\n",
            "Collecting gunicorn\n",
            "\u001b[?25l  Downloading https://files.pythonhosted.org/packages/69/ca/926f7cd3a2014b16870086b2d0fdc84a9e49473c68a8dff8b57f7c156f43/gunicorn-20.0.4-py2.py3-none-any.whl (77kB)\n",
            "\u001b[K     |\u2588\u2588\u2588\u2588\u2588\u2588\u2588\u2588\u2588\u2588\u2588\u2588\u2588\u2588\u2588\u2588\u2588\u2588\u2588\u2588\u2588\u2588\u2588\u2588\u2588\u2588\u2588\u2588\u2588\u2588\u2588\u2588| 81kB 8.7MB/s \n",
            "\u001b[?25hRequirement already satisfied: h5py in /usr/local/lib/python3.6/dist-packages (from tensor2tensor) (2.10.0)\n",
            "Collecting kfac\n",
            "\u001b[?25l  Downloading https://files.pythonhosted.org/packages/1c/36/06fe2c757044bb51906fef231ac48cc5bf9a277fc9a8c7e1108d7e9e8cfd/kfac-0.2.3-py2.py3-none-any.whl (191kB)\n",
            "\u001b[K     |\u2588\u2588\u2588\u2588\u2588\u2588\u2588\u2588\u2588\u2588\u2588\u2588\u2588\u2588\u2588\u2588\u2588\u2588\u2588\u2588\u2588\u2588\u2588\u2588\u2588\u2588\u2588\u2588\u2588\u2588\u2588\u2588| 194kB 41.5MB/s \n",
            "\u001b[?25hRequirement already satisfied: gym in /usr/local/lib/python3.6/dist-packages (from tensor2tensor) (0.17.3)\n",
            "Requirement already satisfied: dopamine-rl in /usr/local/lib/python3.6/dist-packages (from tensor2tensor) (1.0.5)\n",
            "Collecting tensorflow-gan\n",
            "\u001b[?25l  Downloading https://files.pythonhosted.org/packages/0c/2e/62922111d7d50e1900e3030764743ea7735540ce103b3ab30fd5cd2d8a2b/tensorflow_gan-2.0.0-py2.py3-none-any.whl (365kB)\n",
            "\u001b[K     |\u2588\u2588\u2588\u2588\u2588\u2588\u2588\u2588\u2588\u2588\u2588\u2588\u2588\u2588\u2588\u2588\u2588\u2588\u2588\u2588\u2588\u2588\u2588\u2588\u2588\u2588\u2588\u2588\u2588\u2588\u2588\u2588| 368kB 32.8MB/s \n",
            "\u001b[?25hCollecting gevent\n",
            "\u001b[?25l  Downloading https://files.pythonhosted.org/packages/3f/92/b80b922f08f222faca53c8d278e2e612192bc74b0e1f0db2f80a6ee46982/gevent-20.9.0-cp36-cp36m-manylinux2010_x86_64.whl (5.3MB)\n",
            "\u001b[K     |\u2588\u2588\u2588\u2588\u2588\u2588\u2588\u2588\u2588\u2588\u2588\u2588\u2588\u2588\u2588\u2588\u2588\u2588\u2588\u2588\u2588\u2588\u2588\u2588\u2588\u2588\u2588\u2588\u2588\u2588\u2588\u2588| 5.3MB 46.7MB/s \n",
            "\u001b[?25hRequirement already satisfied: opt-einsum in /usr/local/lib/python3.6/dist-packages (from jax>=0.1.59->flax) (3.3.0)\n",
            "Requirement already satisfied: python-dateutil>=2.1 in /usr/local/lib/python3.6/dist-packages (from matplotlib->flax) (2.8.1)\n",
            "Requirement already satisfied: pyparsing!=2.0.4,!=2.1.2,!=2.1.6,>=2.0.1 in /usr/local/lib/python3.6/dist-packages (from matplotlib->flax) (2.4.7)\n",
            "Requirement already satisfied: kiwisolver>=1.0.1 in /usr/local/lib/python3.6/dist-packages (from matplotlib->flax) (1.3.1)\n",
            "Requirement already satisfied: cycler>=0.10 in /usr/local/lib/python3.6/dist-packages (from matplotlib->flax) (0.10.0)\n",
            "Requirement already satisfied: dm-tree>=0.1.5 in /usr/local/lib/python3.6/dist-packages (from chex>=0.0.3->optax) (0.1.5)\n",
            "Requirement already satisfied: toolz>=0.9.0 in /usr/local/lib/python3.6/dist-packages (from chex>=0.0.3->optax) (0.11.1)\n",
            "Requirement already satisfied: flatbuffers in /usr/local/lib/python3.6/dist-packages (from jaxlib>=0.1.37->optax) (1.12)\n",
            "Requirement already satisfied: idna<3,>=2.5 in /usr/local/lib/python3.6/dist-packages (from requests->tensor2tensor) (2.10)\n",
            "Requirement already satisfied: urllib3!=1.25.0,!=1.25.1,<1.26,>=1.21.1 in /usr/local/lib/python3.6/dist-packages (from requests->tensor2tensor) (1.24.3)\n",
            "Requirement already satisfied: certifi>=2017.4.17 in /usr/local/lib/python3.6/dist-packages (from requests->tensor2tensor) (2020.11.8)\n",
            "Requirement already satisfied: chardet<4,>=3.0.2 in /usr/local/lib/python3.6/dist-packages (from requests->tensor2tensor) (3.0.4)\n",
            "Requirement already satisfied: typeguard in /usr/local/lib/python3.6/dist-packages (from tensorflow-addons->tensor2tensor) (2.7.1)\n",
            "Requirement already satisfied: httplib2<1dev,>=0.17.0 in /usr/local/lib/python3.6/dist-packages (from google-api-python-client->tensor2tensor) (0.17.4)\n",
            "Requirement already satisfied: google-auth-httplib2>=0.0.3 in /usr/local/lib/python3.6/dist-packages (from google-api-python-client->tensor2tensor) (0.0.4)\n",
            "Requirement already satisfied: google-auth>=1.4.1 in /usr/local/lib/python3.6/dist-packages (from google-api-python-client->tensor2tensor) (1.17.2)\n",
            "Requirement already satisfied: uritemplate<4dev,>=3.0.0 in /usr/local/lib/python3.6/dist-packages (from google-api-python-client->tensor2tensor) (3.0.1)\n",
            "Requirement already satisfied: decorator in /usr/local/lib/python3.6/dist-packages (from tensorflow-probability==0.7.0->tensor2tensor) (4.4.2)\n",
            "Requirement already satisfied: cloudpickle>=0.6.1 in /usr/local/lib/python3.6/dist-packages (from tensorflow-probability==0.7.0->tensor2tensor) (1.3.0)\n",
            "Requirement already satisfied: attrs>=18.1.0 in /usr/local/lib/python3.6/dist-packages (from tensorflow-datasets->tensor2tensor) (20.3.0)\n",
            "Requirement already satisfied: tensorflow-metadata in /usr/local/lib/python3.6/dist-packages (from tensorflow-datasets->tensor2tensor) (0.25.0)\n",
            "Requirement already satisfied: termcolor in /usr/local/lib/python3.6/dist-packages (from tensorflow-datasets->tensor2tensor) (1.1.0)\n",
            "Requirement already satisfied: protobuf>=3.6.1 in /usr/local/lib/python3.6/dist-packages (from tensorflow-datasets->tensor2tensor) (3.12.4)\n",
            "Requirement already satisfied: promise in /usr/local/lib/python3.6/dist-packages (from tensorflow-datasets->tensor2tensor) (2.3)\n",
            "Requirement already satisfied: dill in /usr/local/lib/python3.6/dist-packages (from tensorflow-datasets->tensor2tensor) (0.3.3)\n",
            "Requirement already satisfied: importlib-resources; python_version < \"3.9\" in /usr/local/lib/python3.6/dist-packages (from tensorflow-datasets->tensor2tensor) (3.3.0)\n",
            "Requirement already satisfied: pyasn1>=0.1.7 in /usr/local/lib/python3.6/dist-packages (from oauth2client->tensor2tensor) (0.4.8)\n",
            "Requirement already satisfied: rsa>=3.1.4 in /usr/local/lib/python3.6/dist-packages (from oauth2client->tensor2tensor) (4.6)\n",
            "Requirement already satisfied: pyasn1-modules>=0.0.5 in /usr/local/lib/python3.6/dist-packages (from oauth2client->tensor2tensor) (0.2.8)\n",
            "Requirement already satisfied: Jinja2>=2.10.1 in /usr/local/lib/python3.6/dist-packages (from flask->tensor2tensor) (2.11.2)\n",
            "Requirement already satisfied: click>=5.1 in /usr/local/lib/python3.6/dist-packages (from flask->tensor2tensor) (7.1.2)\n",
            "Requirement already satisfied: Werkzeug>=0.15 in /usr/local/lib/python3.6/dist-packages (from flask->tensor2tensor) (1.0.1)\n",
            "Requirement already satisfied: itsdangerous>=0.24 in /usr/local/lib/python3.6/dist-packages (from flask->tensor2tensor) (1.1.0)\n",
            "Requirement already satisfied: mpmath>=0.19 in /usr/local/lib/python3.6/dist-packages (from sympy->tensor2tensor) (1.1.0)\n",
            "Requirement already satisfied: setuptools>=3.0 in /usr/local/lib/python3.6/dist-packages (from gunicorn->tensor2tensor) (50.3.2)\n",
            "Requirement already satisfied: pyglet<=1.5.0,>=1.4.0 in /usr/local/lib/python3.6/dist-packages (from gym->tensor2tensor) (1.5.0)\n",
            "Requirement already satisfied: tensorflow-hub>=0.2 in /usr/local/lib/python3.6/dist-packages (from tensorflow-gan->tensor2tensor) (0.10.0)\n",
            "Collecting greenlet>=0.4.17; platform_python_implementation == \"CPython\"\n",
            "\u001b[?25l  Downloading https://files.pythonhosted.org/packages/80/d0/532e160c777b42f6f393f9de8c88abb8af6c892037c55e4d3a8a211324dd/greenlet-0.4.17-cp36-cp36m-manylinux1_x86_64.whl (44kB)\n",
            "\u001b[K     |\u2588\u2588\u2588\u2588\u2588\u2588\u2588\u2588\u2588\u2588\u2588\u2588\u2588\u2588\u2588\u2588\u2588\u2588\u2588\u2588\u2588\u2588\u2588\u2588\u2588\u2588\u2588\u2588\u2588\u2588\u2588\u2588| 51kB 7.0MB/s \n",
            "\u001b[?25hCollecting zope.interface\n",
            "\u001b[?25l  Downloading https://files.pythonhosted.org/packages/82/b0/da8afd9b3bd50c7665ecdac062f182982af1173c9081f9af7261091c5588/zope.interface-5.2.0-cp36-cp36m-manylinux2010_x86_64.whl (236kB)\n",
            "\u001b[K     |\u2588\u2588\u2588\u2588\u2588\u2588\u2588\u2588\u2588\u2588\u2588\u2588\u2588\u2588\u2588\u2588\u2588\u2588\u2588\u2588\u2588\u2588\u2588\u2588\u2588\u2588\u2588\u2588\u2588\u2588\u2588\u2588| 245kB 43.8MB/s \n",
            "\u001b[?25hCollecting zope.event\n",
            "  Downloading https://files.pythonhosted.org/packages/9e/85/b45408c64f3b888976f1d5b37eed8d746b8d5729a66a49ec846fda27d371/zope.event-4.5.0-py2.py3-none-any.whl\n",
            "Requirement already satisfied: cachetools<5.0,>=2.0.0 in /usr/local/lib/python3.6/dist-packages (from google-auth>=1.4.1->google-api-python-client->tensor2tensor) (4.1.1)\n",
            "Requirement already satisfied: googleapis-common-protos<2,>=1.52.0 in /usr/local/lib/python3.6/dist-packages (from tensorflow-metadata->tensorflow-datasets->tensor2tensor) (1.52.0)\n",
            "Requirement already satisfied: zipp>=0.4; python_version < \"3.8\" in /usr/local/lib/python3.6/dist-packages (from importlib-resources; python_version < \"3.9\"->tensorflow-datasets->tensor2tensor) (3.4.0)\n",
            "Requirement already satisfied: MarkupSafe>=0.23 in /usr/local/lib/python3.6/dist-packages (from Jinja2>=2.10.1->flask->tensor2tensor) (1.1.1)\n",
            "Building wheels for collected packages: bz2file, pypng\n",
            "  Building wheel for bz2file (setup.py) ... \u001b[?25l\u001b[?25hdone\n",
            "  Created wheel for bz2file: filename=bz2file-0.98-cp36-none-any.whl size=6884 sha256=45ffa796f114e5edbf92475ab42982efa3b9b026801025bd0f9217ef533918e8\n",
            "  Stored in directory: /root/.cache/pip/wheels/81/75/d6/e1317bf09bf1af5a30befc2a007869fa6e1f516b8f7c591cb9\n",
            "  Building wheel for pypng (setup.py) ... \u001b[?25l\u001b[?25hdone\n",
            "  Created wheel for pypng: filename=pypng-0.0.20-cp36-none-any.whl size=67162 sha256=8cbc8c8dec3b8620bdbba3a9d660d482ae0c233ef3892a9f18b1e40d4f231711\n",
            "  Stored in directory: /root/.cache/pip/wheels/41/6b/ef/0493b536b6d4722c2ae9486691b1d49b922b9877922beeabb3\n",
            "Successfully built bz2file pypng\n",
            "\u001b[31mERROR: kfac 0.2.3 has requirement tensorflow-probability==0.8, but you'll have tensorflow-probability 0.7.0 which is incompatible.\u001b[0m\n",
            "Installing collected packages: flax, labmaze, chex, optax, tf-slim, bz2file, tensorflow-probability, mesh-tensorflow, pypng, gunicorn, kfac, tensorflow-gan, greenlet, zope.interface, zope.event, gevent, tensor2tensor\n",
            "  Found existing installation: tensorflow-probability 0.11.0\n",
            "    Uninstalling tensorflow-probability-0.11.0:\n",
            "      Successfully uninstalled tensorflow-probability-0.11.0\n",
            "Successfully installed bz2file-0.98 chex-0.0.3 flax-0.2.2 gevent-20.9.0 greenlet-0.4.17 gunicorn-20.0.4 kfac-0.2.3 labmaze-1.0.3 mesh-tensorflow-0.1.17 optax-0.0.2 pypng-0.0.20 tensor2tensor-1.15.7 tensorflow-gan-2.0.0 tensorflow-probability-0.7.0 tf-slim-1.1.0 zope.event-4.5.0 zope.interface-5.2.0\n"
          ],
          "name": "stdout"
        }
      ]
    },
    {
      "cell_type": "markdown",
      "metadata": {
        "id": "1Tg58CmXVn7n"
      },
      "source": [
        "Make sure JAX can see the TPU:"
      ]
    },
    {
      "cell_type": "code",
      "metadata": {
        "colab": {
          "base_uri": "https://localhost:8080/"
        },
        "id": "FArRxsRXT1LK",
        "outputId": "4c1cd77b-ef31-424b-b72c-b46d07e5cc39"
      },
      "source": [
        "# See https://github.com/google/jax/blob/master/cloud_tpu_colabs/JAX_demo.ipynb\n",
        "import requests\n",
        "import os\n",
        "\n",
        "if 'COLAB_TPU_ADDR' not in os.environ:\n",
        "  raise RuntimeError(\"Please connect to a TPU runtime first!\")\n",
        "\n",
        "if 'TPU_DRIVER_MODE' not in globals():\n",
        "  url = 'http://' + os.environ['COLAB_TPU_ADDR'].split(':')[0] + ':8475/requestversion/tpu_driver_nightly'\n",
        "  resp = requests.post(url)\n",
        "  TPU_DRIVER_MODE = 1\n",
        "\n",
        "# Use TPU Driver as JAX's backend.\n",
        "from jax import config\n",
        "config.FLAGS.jax_xla_backend = \"tpu_driver\"\n",
        "config.FLAGS.jax_backend_target = \"grpc://\" + os.environ['COLAB_TPU_ADDR']\n",
        "print(config.FLAGS.jax_backend_target)"
      ],
      "execution_count": null,
      "outputs": [
        {
          "output_type": "stream",
          "text": [
            "grpc://10.48.40.138:8470\n"
          ],
          "name": "stdout"
        }
      ]
    },
    {
      "cell_type": "code",
      "metadata": {
        "id": "yBXGGg-9VxYT",
        "colab": {
          "base_uri": "https://localhost:8080/"
        },
        "outputId": "d4afab41-c31e-405f-bb74-d715bd01bf88"
      },
      "source": [
        "import jax\n",
        "jax.devices()"
      ],
      "execution_count": null,
      "outputs": [
        {
          "output_type": "execute_result",
          "data": {
            "text/plain": [
              "[TpuDevice(id=0, host_id=0, coords=(0,0,0), core_on_chip=0),\n",
              " TpuDevice(id=1, host_id=0, coords=(0,0,0), core_on_chip=1),\n",
              " TpuDevice(id=2, host_id=0, coords=(1,0,0), core_on_chip=0),\n",
              " TpuDevice(id=3, host_id=0, coords=(1,0,0), core_on_chip=1),\n",
              " TpuDevice(id=4, host_id=0, coords=(0,1,0), core_on_chip=0),\n",
              " TpuDevice(id=5, host_id=0, coords=(0,1,0), core_on_chip=1),\n",
              " TpuDevice(id=6, host_id=0, coords=(1,1,0), core_on_chip=0),\n",
              " TpuDevice(id=7, host_id=0, coords=(1,1,0), core_on_chip=1)]"
            ]
          },
          "metadata": {
            "tags": []
          },
          "execution_count": 6
        }
      ]
    },
    {
      "cell_type": "markdown",
      "metadata": {
        "id": "vW6Hw6pZrbFU"
      },
      "source": [
        "You should see 8 TPU devices connected above!"
      ]
    },
    {
      "cell_type": "markdown",
      "metadata": {
        "id": "QWHbsCIrmclj"
      },
      "source": [
        "## Imports and configuration"
      ]
    },
    {
      "cell_type": "markdown",
      "metadata": {
        "id": "s05zBrEFrg0x"
      },
      "source": [
        "Let's import and set up some things we will need later:"
      ]
    },
    {
      "cell_type": "code",
      "metadata": {
        "id": "za59VfQMUalu"
      },
      "source": [
        "import functools\n",
        "import itertools\n",
        "import sys\n",
        "import datetime\n",
        "\n",
        "from absl import logging\n",
        "from absl import flags\n",
        "\n",
        "import astunparse\n",
        "import dataclasses\n",
        "import flax\n",
        "import gast\n",
        "import matplotlib.pyplot as plt\n",
        "import matplotlib as mpl\n",
        "import numpy as np\n",
        "import jax.numpy as jnp"
      ],
      "execution_count": null,
      "outputs": []
    },
    {
      "cell_type": "code",
      "metadata": {
        "id": "vk6QW3EdlkD5"
      },
      "source": [
        "np.set_printoptions(linewidth=150)\n",
        "logging.use_python_logging()\n",
        "logging.set_verbosity(\"info\")\n",
        "logging.set_stderrthreshold(\"info\")"
      ],
      "execution_count": null,
      "outputs": []
    },
    {
      "cell_type": "code",
      "metadata": {
        "id": "Njx8L6qPr8xS"
      },
      "source": [
        "from gfsa import automaton_builder\n",
        "from gfsa import generic_ast_graphs\n",
        "from gfsa import graph_types\n",
        "from gfsa import jax_util\n",
        "from gfsa import py_ast_graphs\n",
        "from gfsa import schema_util\n",
        "\n",
        "from gfsa.datasets import data_loading\n",
        "from gfsa.datasets import graph_bundle\n",
        "from gfsa.datasets import graph_edge_util\n",
        "from gfsa.datasets.random_python import tasks\n",
        "from gfsa.datasets.random_python import python_numbers_control_flow\n",
        "\n",
        "from gfsa.model import automaton_layer\n",
        "from gfsa.model import edge_supervision_models\n",
        "from gfsa.model import model_util\n",
        "\n",
        "from gfsa.training import train_edge_supervision_lib\n",
        "from gfsa.training import train_util\n",
        "from gfsa.training import simple_runner\n",
        "from gfsa.training import learning_rate_schedules\n",
        "\n",
        "from gfsa import visualization\n",
        "import gfsa.visualization.ndarrays\n",
        "from gfsa.visualization.pprint import pprint\n",
        "from gfsa.visualization.pytrees import summarize_tree"
      ],
      "execution_count": null,
      "outputs": []
    },
    {
      "cell_type": "markdown",
      "metadata": {
        "id": "qxShw-nZnmYc"
      },
      "source": [
        "## Generating random Python functions"
      ]
    },
    {
      "cell_type": "markdown",
      "metadata": {
        "id": "qqefozNSorb7"
      },
      "source": [
        "In this notebook, we will be focusing on graph representations of random Python programs, similar to those used in the static analysis experiments in the paper. We can start by generating some random Python programs!\n",
        "\n",
        "The GFSA codebase includes functions for generating random Python functions of configurable size. Python functions are represented as `gast.AST` objects, which can be converted back to source code using `astunparse.unparse`:"
      ]
    },
    {
      "cell_type": "code",
      "metadata": {
        "id": "IwTH9qGLg9xE",
        "colab": {
          "base_uri": "https://localhost:8080/"
        },
        "outputId": "ca70a4d8-dfc8-4f84-ba0e-66c088d6f63b"
      },
      "source": [
        "the_ast = tasks.make_ast(25, np.random.RandomState(6))\n",
        "print(astunparse.unparse(gast.gast_to_ast(the_ast)))"
      ],
      "execution_count": null,
      "outputs": [
        {
          "output_type": "stream",
          "text": [
            "\n",
            "\n",
            "def random_function(a, b):\n",
            "    a = b\n",
            "    if (True and (a > foo_2(b, b))):\n",
            "        b = b\n",
            "    else:\n",
            "        v2 = a\n",
            "\n"
          ],
          "name": "stdout"
        }
      ]
    },
    {
      "cell_type": "code",
      "metadata": {
        "id": "w2LSSvWznloX",
        "colab": {
          "base_uri": "https://localhost:8080/"
        },
        "outputId": "bd65b09e-50d0-4f24-b95a-a54e37a7c50d"
      },
      "source": [
        "pprint(the_ast)"
      ],
      "execution_count": null,
      "outputs": [
        {
          "output_type": "stream",
          "text": [
            "Module(\n",
            "    body=[FunctionDef(\n",
            "              name='random_function',\n",
            "              args=arguments(\n",
            "                       args=[Name(id='a', ctx=Param(), annotation=None, type_comment=None),\n",
            "                             Name(id='b', ctx=Param(), annotation=None, type_comment=None)],\n",
            "                       posonlyargs=[],\n",
            "                       vararg=None,\n",
            "                       kwonlyargs=[],\n",
            "                       kw_defaults=[],\n",
            "                       kwarg=None,\n",
            "                       defaults=[]),\n",
            "              body=[Assign(\n",
            "                        targets=[Name(id='a', ctx=Store(), annotation=None, type_comment=None)],\n",
            "                        value=Name(id='b', ctx=Load(), annotation=None, type_comment=None)),\n",
            "                    If(\n",
            "                        test=BoolOp(\n",
            "                                 op=And(),\n",
            "                                 values=[Constant(value=True, kind=None),\n",
            "                                         Compare(\n",
            "                                             left=Name(id='a', ctx=Load(), annotation=None, type_comment=None),\n",
            "                                             ops=[Gt()],\n",
            "                                             comparators=[Call(\n",
            "                                                              func=Name(\n",
            "                                                                       id='foo_2',\n",
            "                                                                       ctx=Load(),\n",
            "                                                                       annotation=None,\n",
            "                                                                       type_comment=None),\n",
            "                                                              args=[Name(\n",
            "                                                                        id='b',\n",
            "                                                                        ctx=Load(),\n",
            "                                                                        annotation=None,\n",
            "                                                                        type_comment=None),\n",
            "                                                                    Name(\n",
            "                                                                        id='b',\n",
            "                                                                        ctx=Load(),\n",
            "                                                                        annotation=None,\n",
            "                                                                        type_comment=None)],\n",
            "                                                              keywords=[])])]),\n",
            "                        body=[Assign(\n",
            "                                  targets=[Name(id='b', ctx=Store(), annotation=None, type_comment=None)],\n",
            "                                  value=Name(id='b', ctx=Load(), annotation=None, type_comment=None))],\n",
            "                        orelse=[Assign(\n",
            "                                    targets=[Name(id='v2', ctx=Store(), annotation=None, type_comment=None)],\n",
            "                                    value=Name(id='a', ctx=Load(), annotation=None, type_comment=None))])],\n",
            "              decorator_list=[],\n",
            "              returns=None,\n",
            "              type_comment=None)],\n",
            "    type_ignores=[])\n"
          ],
          "name": "stdout"
        }
      ]
    },
    {
      "cell_type": "markdown",
      "metadata": {
        "id": "GgTuFuiOh8hB"
      },
      "source": [
        "The first argument to `make_ast` is the number of AST nodes to generate, and the second is the (optional) random seed to use. For instance, here's a larger function:"
      ]
    },
    {
      "cell_type": "code",
      "metadata": {
        "id": "5kNtvaMNiMHX",
        "colab": {
          "base_uri": "https://localhost:8080/"
        },
        "outputId": "e6b91c54-b5c4-4b2a-d0c6-65527bf15bbb"
      },
      "source": [
        "the_ast_larger = tasks.make_ast(150, np.random.RandomState(1234))\n",
        "print(astunparse.unparse(gast.gast_to_ast(the_ast_larger)))"
      ],
      "execution_count": null,
      "outputs": [
        {
          "output_type": "stream",
          "text": [
            "\n",
            "\n",
            "def random_function(a, b):\n",
            "    if True:\n",
            "        a = a\n",
            "        if (b < foo_1(bar_4(b, a, foo_4(b, b, b, a), a))):\n",
            "            b = bar_4(foo_2(10, a), (b - b), b, bar_2(b, a))\n",
            "            v2 = 14\n",
            "        b = bar_4(b, ((b / 50) * (a / b)), a, ((a * 46) / bar_1(b)))\n",
            "        a = b\n",
            "    v2 = bar_4((b / foo_1(b)), a, (a + a), a)\n",
            "    b = foo_2(bar_2(bar_2(94, v2), a), foo_2(bar_1(v2), foo_2(v2, a)))\n",
            "    for v3 in range(int(b)):\n",
            "        v4 = (b / a)\n",
            "        while True:\n",
            "            v2 = foo_2(v2, b)\n",
            "    a = b\n",
            "    b = (b * 93)\n",
            "    v3 = v2\n",
            "    print(bar_1(10))\n",
            "\n"
          ],
          "name": "stdout"
        }
      ]
    },
    {
      "cell_type": "markdown",
      "metadata": {
        "id": "PWygFqPnogoi"
      },
      "source": [
        "## Interpreting Python functions as MDPs\n",
        "\n"
      ]
    },
    {
      "cell_type": "markdown",
      "metadata": {
        "id": "kPcGfSEit-IG"
      },
      "source": [
        "In order to run a GFSA layer on our functions, we need to convert them into graphs, and then impose an MDP structure on those graphs.\n",
        "\n",
        "This process is performed over two steps:\n",
        "\n",
        "- First, convert the Python AST into a generic representation of abstract syntax trees.\n",
        "- Next, use an \"AST specification\" to transform the generic AST into an MDP. This describes what fields each AST node has, and how many of each there are. This information is used to determine what the states, actions, and transitions in the MDP should be. For instance, since a return node may or may not have a value, the MDP has an action for going to the value of a return node, and an observation that indicates that the value was missing. Similarly, since a function call may have many arguments, the MDP has states that track which argument the agent is visiting, actions that move to previous or next arguments, and an observation for reaching the end of the list.\n",
        "\n",
        "<br><br>\n",
        "\n",
        "--- \n",
        "\n",
        "\ud83d\udcac&nbsp; *Note:* If you want to apply the GFSA layer to a different type of AST, you need to:\n",
        "\n",
        "- write a function to convert from that AST to the generic AST representation shown below\n",
        "- define an AST specification for it (either by hand, or by using `ast_spec_inference.py`)\n",
        "\n",
        "If you want to apply the GFSA layer to a graph that isn't an AST, you need to describe the MDP in more detail. See the notebook [\"Using the GFSA layer with new tasks\"][new-tasks-colab], which describes how to do this!\n",
        "\n",
        "[new-tasks-colab]: https://colab.research.google.com/github/google-research/google-research/blob/master/gfsa/notebooks/guide_for_new_tasks.ipynb\n",
        "\n",
        "---"
      ]
    },
    {
      "cell_type": "markdown",
      "metadata": {
        "id": "A8mcjpRaYyC9"
      },
      "source": [
        "After the first step, we have the same tree structure as before, but instead of various instances of `gast.AST` classes, we now have `GenericASTNode` objects tagged with numeric IDs and string types (which makes it easier to manipulate in a uniform way):"
      ]
    },
    {
      "cell_type": "code",
      "metadata": {
        "id": "7LcG1Ha8oiw7",
        "colab": {
          "base_uri": "https://localhost:8080/"
        },
        "outputId": "d8c65917-75b0-4fc3-997c-85acf8eee66d"
      },
      "source": [
        "generic_ast = py_ast_graphs.py_ast_to_generic(the_ast)\n",
        "pprint(generic_ast)"
      ],
      "execution_count": null,
      "outputs": [
        {
          "output_type": "stream",
          "text": [
            "GenericASTNode(\n",
            "    node_id=140157879314192,\n",
            "    node_type='Module',\n",
            "    fields={'body': [GenericASTNode(\n",
            "                         node_id=140157879313632,\n",
            "                         node_type='FunctionDef',\n",
            "                         fields={'args': [GenericASTNode(\n",
            "                                              node_id=140157879316432,\n",
            "                                              node_type='arguments',\n",
            "                                              fields={'args': [GenericASTNode(\n",
            "                                                                   node_id=140157879315816,\n",
            "                                                                   node_type='Name',\n",
            "                                                                   fields={'ctx': [GenericASTNode(\n",
            "                                                                                       node_id=140157879316152,\n",
            "                                                                                       node_type='Param',\n",
            "                                                                                       fields={})]}),\n",
            "                                                               GenericASTNode(\n",
            "                                                                   node_id=140157879314360,\n",
            "                                                                   node_type='Name',\n",
            "                                                                   fields={'ctx': [GenericASTNode(\n",
            "                                                                                       node_id=140157879315928,\n",
            "                                                                                       node_type='Param',\n",
            "                                                                                       fields={})]})]})],\n",
            "                                 'body': [GenericASTNode(\n",
            "                                              node_id=140157879314472,\n",
            "                                              node_type='Assign',\n",
            "                                              fields={'targets': [GenericASTNode(\n",
            "                                                                      node_id=140157879315648,\n",
            "                                                                      node_type='Name',\n",
            "                                                                      fields={'ctx': [GenericASTNode(\n",
            "                                                                                          node_id=140157879314640,\n",
            "                                                                                          node_type='Store',\n",
            "                                                                                          fields={})]})],\n",
            "                                                      'value': [GenericASTNode(\n",
            "                                                                    node_id=140157879315592,\n",
            "                                                                    node_type='Name',\n",
            "                                                                    fields={'ctx': [GenericASTNode(\n",
            "                                                                                        node_id=140157879315704,\n",
            "                                                                                        node_type='Load',\n",
            "                                                                                        fields={})]})]}),\n",
            "                                          GenericASTNode(\n",
            "                                              node_id=140157879316040,\n",
            "                                              node_type='If',\n",
            "                                              fields={'test': [GenericASTNode(\n",
            "                                                                   node_id=140157879315480,\n",
            "                                                                   node_type='BoolOp',\n",
            "                                                                   fields={'op': [GenericASTNode(\n",
            "                                                                                      node_id=140157879315424,\n",
            "                                                                                      node_type='And',\n",
            "                                                                                      fields={})],\n",
            "                                                                           'values': [GenericASTNode(\n",
            "                                                                                          node_id=140157879315312,\n",
            "                                                                                          node_type='Constant',\n",
            "                                                                                          fields={}),\n",
            "                                                                                      GenericASTNode(\n",
            "                                                                                          node_id=140157879315256,\n",
            "                                                                                          node_type='Compare',\n",
            "                                                                                          fields={'left': [GenericASTNode(\n",
            "                                                                                                               node_id=140157879314920,\n",
            "                                                                                                               node_type='Name',\n",
            "                                                                                                               fields={'ctx': [GenericASTNode(\n",
            "                                                                                                                                   node_id=140157879315032,\n",
            "                                                                                                                                   node_type='Load',\n",
            "                                                                                                                                   fields={})]})],\n",
            "                                                                                                  'ops': [GenericASTNode(\n",
            "                                                                                                              node_id=140157879314808,\n",
            "                                                                                                              node_type='Gt',\n",
            "                                                                                                              fields={})],\n",
            "                                                                                                  'comparators': [GenericASTNode(\n",
            "                                                                                                                      node_id=140157879314752,\n",
            "                                                                                                                      node_type='Call',\n",
            "                                                                                                                      fields={'func': [GenericASTNode(\n",
            "                                                                                                                                           node_id=140157879314528,\n",
            "                                                                                                                                           node_type='Name',\n",
            "                                                                                                                                           fields={'ctx': [GenericASTNode(\n",
            "                                                                                                                                                               node_id=140157879314696,\n",
            "                                                                                                                                                               node_type='Load',\n",
            "                                                                                                                                                               fields={})]})],\n",
            "                                                                                                                              'args': [GenericASTNode(\n",
            "                                                                                                                                           node_id=140157879316096,\n",
            "                                                                                                                                           node_type='Name',\n",
            "                                                                                                                                           fields={'ctx': [GenericASTNode(\n",
            "                                                                                                                                                               node_id=140157879314976,\n",
            "                                                                                                                                                               node_type='Load',\n",
            "                                                                                                                                                               fields={})]}),\n",
            "                                                                                                                                       GenericASTNode(\n",
            "                                                                                                                                           node_id=140157879357960,\n",
            "                                                                                                                                           node_type='Name',\n",
            "                                                                                                                                           fields={'ctx': [GenericASTNode(\n",
            "                                                                                                                                                               node_id=140157879357904,\n",
            "                                                                                                                                                               node_type='Load',\n",
            "                                                                                                                                                               fields={})]})]})]})]})],\n",
            "                                                      'body': [GenericASTNode(\n",
            "                                                                   node_id=140157879315144,\n",
            "                                                                   node_type='Assign',\n",
            "                                                                   fields={'targets': [GenericASTNode(\n",
            "                                                                                           node_id=140157879357792,\n",
            "                                                                                           node_type='Name',\n",
            "                                                                                           fields={'ctx': [GenericASTNode(\n",
            "                                                                                                               node_id=140157879357848,\n",
            "                                                                                                               node_type='Store',\n",
            "                                                                                                               fields={})]})],\n",
            "                                                                           'value': [GenericASTNode(\n",
            "                                                                                         node_id=140157879357736,\n",
            "                                                                                         node_type='Name',\n",
            "                                                                                         fields={'ctx': [GenericASTNode(\n",
            "                                                                                                             node_id=140157879314864,\n",
            "                                                                                                             node_type='Load',\n",
            "                                                                                                             fields={})]})]})],\n",
            "                                                      'orelse': [GenericASTNode(\n",
            "                                                                     node_id=140157879315200,\n",
            "                                                                     node_type='Assign',\n",
            "                                                                     fields={'targets': [GenericASTNode(\n",
            "                                                                                             node_id=140157879357512,\n",
            "                                                                                             node_type='Name',\n",
            "                                                                                             fields={'ctx': [GenericASTNode(\n",
            "                                                                                                                 node_id=140157879357568,\n",
            "                                                                                                                 node_type='Store',\n",
            "                                                                                                                 fields={})]})],\n",
            "                                                                             'value': [GenericASTNode(\n",
            "                                                                                           node_id=140157879358128,\n",
            "                                                                                           node_type='Name',\n",
            "                                                                                           fields={'ctx': [GenericASTNode(\n",
            "                                                                                                               node_id=140157879357624,\n",
            "                                                                                                               node_type='Load',\n",
            "                                                                                                               fields={})]})]})]})]})]})\n"
          ],
          "name": "stdout"
        }
      ]
    },
    {
      "cell_type": "markdown",
      "metadata": {
        "id": "1tDh58MlZA5o"
      },
      "source": [
        "The second step produces a \"flat\" representation of the tree as a graph-based MDP. Each item in the returned dictionary has an autogenerated key (based on the path through the AST from the root node to each AST node), and a `GraphNode` value that specifies the type of the node and the set of possible MDP transitions.\n",
        "\n",
        "<br>\n",
        "\n",
        "---\n",
        "\n",
        "*Note on terminology:* In the GFSA codebase, we represent MDPs as a special type of directed graph, and use some terms interchangeably. In particular:\n",
        "\n",
        "- Every node in the graph corresponds to a possible location of the agent in the environment.\n",
        "- An *out-edge* connects each graph node to the other graph nodes that the agent could move TO when at this location. This determines the action space for the agent; the agent chooses an out-edge type, and then moves to (one of) the destination nodes for that out-edge type.\n",
        "- An *in-edge* connects each graph node to the other graph nodes that the agent could move FROM when arriving at this location. This determines the observation space for the agent; when arriving at a node, it will observe the in-edge type that was used to enter the node.\n",
        "- Each edge in the graph is associated with both an out-edge type and an in-edge type, which specifies how the agent chooses to cross this edge and the observation it receives when it does so. These will often be different. As an example, for a graph representing an AST where B is the left child of A,\n",
        "the edge from A to B might have outgoing type \"left child\" and incoming type\n",
        "\"parent\"; then an agent can choose to move to the left child, and upon doing so observes that it has arrived at that node from its parent.\n",
        "- An *input-tagged node* is a pair of (node id, in-edge type). This specifies both the location of an agent and the observation that agent receives at that location. When solving for the absorbing distribution, the set of input-tagged nodes determines the size of the transition matrix.\n",
        "\n",
        "See `graph_types.py` for more information about the notation used.\n",
        "\n",
        "---"
      ]
    },
    {
      "cell_type": "code",
      "metadata": {
        "id": "bLYuwaW0RkUu",
        "colab": {
          "base_uri": "https://localhost:8080/"
        },
        "outputId": "ed91b619-1007-4c2b-a762-05cdd907bf8d"
      },
      "source": [
        "mdp_graph, id_conversion_map = generic_ast_graphs.ast_to_graph(generic_ast, ast_spec=py_ast_graphs.PY_AST_SPECS)\n",
        "pprint(mdp_graph)"
      ],
      "execution_count": null,
      "outputs": [
        {
          "output_type": "stream",
          "text": [
            "{'root__Module': GraphNode(\n",
            "                     node_type='Module',\n",
            "                     out_edges={'body_out_all': [InputTaggedNode(\n",
            "                                                     node_id='root_body_0__Module_body-seq-helper',\n",
            "                                                     in_edge='parent_in')],\n",
            "                                'body_out_first': [InputTaggedNode(\n",
            "                                                       node_id='root_body_0__Module_body-seq-helper',\n",
            "                                                       in_edge='parent_in')],\n",
            "                                'body_out_last': [InputTaggedNode(\n",
            "                                                      node_id='root_body_0__Module_body-seq-helper',\n",
            "                                                      in_edge='parent_in')]}),\n",
            " 'root_body_0__Module_body-seq-helper':\n",
            "   GraphNode(\n",
            "       node_type='Module_body-seq-helper',\n",
            "       out_edges={'parent_out': [InputTaggedNode(node_id='root__Module', in_edge='body_in')],\n",
            "                  'item_out': [InputTaggedNode(node_id='root_body_0_item__FunctionDef', in_edge='parent_in')],\n",
            "                  'prev_out': [InputTaggedNode(node_id='root_body_0__Module_body-seq-helper', in_edge='prev_missing')],\n",
            "                  'next_out': [InputTaggedNode(node_id='root_body_0__Module_body-seq-helper', in_edge='next_missing')]}),\n",
            " 'root_body_0_item__FunctionDef':\n",
            "   GraphNode(\n",
            "       node_type='FunctionDef',\n",
            "       out_edges={'parent_out': [InputTaggedNode(node_id='root_body_0__Module_body-seq-helper', in_edge='item_in')],\n",
            "                  'args_out': [InputTaggedNode(node_id='root_body_0_item_args__arguments', in_edge='parent_in')],\n",
            "                  'returns_out': [InputTaggedNode(node_id='root_body_0_item__FunctionDef', in_edge='returns_missing')],\n",
            "                  'body_out_all': [InputTaggedNode(\n",
            "                                       node_id='root_body_0_item_body_0__FunctionDef_body-seq-helper',\n",
            "                                       in_edge='parent_in'),\n",
            "                                   InputTaggedNode(\n",
            "                                       node_id='root_body_0_item_body_1__FunctionDef_body-seq-helper',\n",
            "                                       in_edge='parent_in')],\n",
            "                  'body_out_first': [InputTaggedNode(\n",
            "                                         node_id='root_body_0_item_body_0__FunctionDef_body-seq-helper',\n",
            "                                         in_edge='parent_in')],\n",
            "                  'body_out_last': [InputTaggedNode(\n",
            "                                        node_id='root_body_0_item_body_1__FunctionDef_body-seq-helper',\n",
            "                                        in_edge='parent_in')]}),\n",
            " 'root_body_0_item_args__arguments':\n",
            "   GraphNode(\n",
            "       node_type='arguments',\n",
            "       out_edges={'parent_out': [InputTaggedNode(node_id='root_body_0_item__FunctionDef', in_edge='args_in')],\n",
            "                  'args_out_all': [InputTaggedNode(\n",
            "                                       node_id='root_body_0_item_args_args_0__arguments_args-seq-helper',\n",
            "                                       in_edge='parent_in'),\n",
            "                                   InputTaggedNode(\n",
            "                                       node_id='root_body_0_item_args_args_1__arguments_args-seq-helper',\n",
            "                                       in_edge='parent_in')],\n",
            "                  'args_out_first': [InputTaggedNode(\n",
            "                                         node_id='root_body_0_item_args_args_0__arguments_args-seq-helper',\n",
            "                                         in_edge='parent_in')],\n",
            "                  'args_out_last': [InputTaggedNode(\n",
            "                                        node_id='root_body_0_item_args_args_1__arguments_args-seq-helper',\n",
            "                                        in_edge='parent_in')]}),\n",
            " 'root_body_0_item_args_args_0__arguments_args-seq-helper':\n",
            "   GraphNode(\n",
            "       node_type='arguments_args-seq-helper',\n",
            "       out_edges={'parent_out': [InputTaggedNode(node_id='root_body_0_item_args__arguments', in_edge='args_in')],\n",
            "                  'item_out': [InputTaggedNode(node_id='root_body_0_item_args_args_0_item__Name', in_edge='parent_in')],\n",
            "                  'next_out': [InputTaggedNode(\n",
            "                                   node_id='root_body_0_item_args_args_1__arguments_args-seq-helper',\n",
            "                                   in_edge='prev_in')],\n",
            "                  'prev_out': [InputTaggedNode(\n",
            "                                   node_id='root_body_0_item_args_args_0__arguments_args-seq-helper',\n",
            "                                   in_edge='prev_missing')]}),\n",
            " 'root_body_0_item_args_args_0_item__Name':\n",
            "   GraphNode(\n",
            "       node_type='Name',\n",
            "       out_edges={'parent_out': [InputTaggedNode(\n",
            "                                     node_id='root_body_0_item_args_args_0__arguments_args-seq-helper',\n",
            "                                     in_edge='item_in')]}),\n",
            " 'root_body_0_item_args_args_1__arguments_args-seq-helper':\n",
            "   GraphNode(\n",
            "       node_type='arguments_args-seq-helper',\n",
            "       out_edges={'parent_out': [InputTaggedNode(node_id='root_body_0_item_args__arguments', in_edge='args_in')],\n",
            "                  'item_out': [InputTaggedNode(node_id='root_body_0_item_args_args_1_item__Name', in_edge='parent_in')],\n",
            "                  'prev_out': [InputTaggedNode(\n",
            "                                   node_id='root_body_0_item_args_args_0__arguments_args-seq-helper',\n",
            "                                   in_edge='next_in')],\n",
            "                  'next_out': [InputTaggedNode(\n",
            "                                   node_id='root_body_0_item_args_args_1__arguments_args-seq-helper',\n",
            "                                   in_edge='next_missing')]}),\n",
            " 'root_body_0_item_args_args_1_item__Name':\n",
            "   GraphNode(\n",
            "       node_type='Name',\n",
            "       out_edges={'parent_out': [InputTaggedNode(\n",
            "                                     node_id='root_body_0_item_args_args_1__arguments_args-seq-helper',\n",
            "                                     in_edge='item_in')]}),\n",
            " 'root_body_0_item_body_0__FunctionDef_body-seq-helper':\n",
            "   GraphNode(\n",
            "       node_type='FunctionDef_body-seq-helper',\n",
            "       out_edges={'parent_out': [InputTaggedNode(node_id='root_body_0_item__FunctionDef', in_edge='body_in')],\n",
            "                  'item_out': [InputTaggedNode(node_id='root_body_0_item_body_0_item__Assign', in_edge='parent_in')],\n",
            "                  'next_out': [InputTaggedNode(\n",
            "                                   node_id='root_body_0_item_body_1__FunctionDef_body-seq-helper',\n",
            "                                   in_edge='prev_in')],\n",
            "                  'prev_out': [InputTaggedNode(\n",
            "                                   node_id='root_body_0_item_body_0__FunctionDef_body-seq-helper',\n",
            "                                   in_edge='prev_missing')]}),\n",
            " 'root_body_0_item_body_0_item__Assign':\n",
            "   GraphNode(\n",
            "       node_type='Assign',\n",
            "       out_edges={'parent_out': [InputTaggedNode(\n",
            "                                     node_id='root_body_0_item_body_0__FunctionDef_body-seq-helper',\n",
            "                                     in_edge='item_in')],\n",
            "                  'targets_out': [InputTaggedNode(node_id='root_body_0_item_body_0_item_targets__Name', in_edge='parent_in')],\n",
            "                  'value_out': [InputTaggedNode(node_id='root_body_0_item_body_0_item_value__Name', in_edge='parent_in')]}),\n",
            " 'root_body_0_item_body_0_item_targets__Name':\n",
            "   GraphNode(\n",
            "       node_type='Name',\n",
            "       out_edges={'parent_out': [InputTaggedNode(node_id='root_body_0_item_body_0_item__Assign', in_edge='targets_in')]}),\n",
            " 'root_body_0_item_body_0_item_value__Name':\n",
            "   GraphNode(\n",
            "       node_type='Name',\n",
            "       out_edges={'parent_out': [InputTaggedNode(node_id='root_body_0_item_body_0_item__Assign', in_edge='value_in')]}),\n",
            " 'root_body_0_item_body_1__FunctionDef_body-seq-helper':\n",
            "   GraphNode(\n",
            "       node_type='FunctionDef_body-seq-helper',\n",
            "       out_edges={'parent_out': [InputTaggedNode(node_id='root_body_0_item__FunctionDef', in_edge='body_in')],\n",
            "                  'item_out': [InputTaggedNode(node_id='root_body_0_item_body_1_item__If', in_edge='parent_in')],\n",
            "                  'prev_out': [InputTaggedNode(\n",
            "                                   node_id='root_body_0_item_body_0__FunctionDef_body-seq-helper',\n",
            "                                   in_edge='next_in')],\n",
            "                  'next_out': [InputTaggedNode(\n",
            "                                   node_id='root_body_0_item_body_1__FunctionDef_body-seq-helper',\n",
            "                                   in_edge='next_missing')]}),\n",
            " 'root_body_0_item_body_1_item__If':\n",
            "   GraphNode(\n",
            "       node_type='If',\n",
            "       out_edges={'parent_out': [InputTaggedNode(\n",
            "                                     node_id='root_body_0_item_body_1__FunctionDef_body-seq-helper',\n",
            "                                     in_edge='item_in')],\n",
            "                  'test_out': [InputTaggedNode(node_id='root_body_0_item_body_1_item_test__BoolOp', in_edge='parent_in')],\n",
            "                  'body_out_all': [InputTaggedNode(\n",
            "                                       node_id='root_body_0_item_body_1_item_body_0__If_body-seq-helper',\n",
            "                                       in_edge='parent_in')],\n",
            "                  'body_out_first': [InputTaggedNode(\n",
            "                                         node_id='root_body_0_item_body_1_item_body_0__If_body-seq-helper',\n",
            "                                         in_edge='parent_in')],\n",
            "                  'body_out_last': [InputTaggedNode(\n",
            "                                        node_id='root_body_0_item_body_1_item_body_0__If_body-seq-helper',\n",
            "                                        in_edge='parent_in')],\n",
            "                  'orelse_out_all': [InputTaggedNode(\n",
            "                                         node_id='root_body_0_item_body_1_item_orelse_0__If_orelse-seq-helper',\n",
            "                                         in_edge='parent_in')],\n",
            "                  'orelse_out_first': [InputTaggedNode(\n",
            "                                           node_id='root_body_0_item_body_1_item_orelse_0__If_orelse-seq-helper',\n",
            "                                           in_edge='parent_in')],\n",
            "                  'orelse_out_last': [InputTaggedNode(\n",
            "                                          node_id='root_body_0_item_body_1_item_orelse_0__If_orelse-seq-helper',\n",
            "                                          in_edge='parent_in')]}),\n",
            " 'root_body_0_item_body_1_item_test__BoolOp':\n",
            "   GraphNode(\n",
            "       node_type='BoolOp',\n",
            "       out_edges={'parent_out': [InputTaggedNode(node_id='root_body_0_item_body_1_item__If', in_edge='test_in')],\n",
            "                  'op_out': [InputTaggedNode(node_id='root_body_0_item_body_1_item_test_op__And', in_edge='parent_in')],\n",
            "                  'values_out_all': [InputTaggedNode(\n",
            "                                         node_id='root_body_0_item_body_1_item_test_values_0__BoolOp_values-seq-helper',\n",
            "                                         in_edge='parent_in'),\n",
            "                                     InputTaggedNode(\n",
            "                                         node_id='root_body_0_item_body_1_item_test_values_1__BoolOp_values-seq-helper',\n",
            "                                         in_edge='parent_in')],\n",
            "                  'values_out_first': [InputTaggedNode(\n",
            "                                           node_id='root_body_0_item_body_1_item_test_values_0__BoolOp_values-seq-helper',\n",
            "                                           in_edge='parent_in')],\n",
            "                  'values_out_last': [InputTaggedNode(\n",
            "                                          node_id='root_body_0_item_body_1_item_test_values_1__BoolOp_values-seq-helper',\n",
            "                                          in_edge='parent_in')]}),\n",
            " 'root_body_0_item_body_1_item_test_op__And':\n",
            "   GraphNode(\n",
            "       node_type='And',\n",
            "       out_edges={'parent_out': [InputTaggedNode(node_id='root_body_0_item_body_1_item_test__BoolOp', in_edge='op_in')]}),\n",
            " 'root_body_0_item_body_1_item_test_values_0__BoolOp_values-seq-helper':\n",
            "   GraphNode(\n",
            "       node_type='BoolOp_values-seq-helper',\n",
            "       out_edges={'parent_out': [InputTaggedNode(node_id='root_body_0_item_body_1_item_test__BoolOp', in_edge='values_in')],\n",
            "                  'item_out': [InputTaggedNode(\n",
            "                                   node_id='root_body_0_item_body_1_item_test_values_0_item__Constant',\n",
            "                                   in_edge='parent_in')],\n",
            "                  'next_out': [InputTaggedNode(\n",
            "                                   node_id='root_body_0_item_body_1_item_test_values_1__BoolOp_values-seq-helper',\n",
            "                                   in_edge='prev_in')],\n",
            "                  'prev_out': [InputTaggedNode(\n",
            "                                   node_id='root_body_0_item_body_1_item_test_values_0__BoolOp_values-seq-helper',\n",
            "                                   in_edge='prev_missing')]}),\n",
            " 'root_body_0_item_body_1_item_test_values_0_item__Constant':\n",
            "   GraphNode(\n",
            "       node_type='Constant',\n",
            "       out_edges={'parent_out': [InputTaggedNode(\n",
            "                                     node_id='root_body_0_item_body_1_item_test_values_0__BoolOp_values-seq-helper',\n",
            "                                     in_edge='item_in')]}),\n",
            " 'root_body_0_item_body_1_item_test_values_1__BoolOp_values-seq-helper':\n",
            "   GraphNode(\n",
            "       node_type='BoolOp_values-seq-helper',\n",
            "       out_edges={'parent_out': [InputTaggedNode(node_id='root_body_0_item_body_1_item_test__BoolOp', in_edge='values_in')],\n",
            "                  'item_out': [InputTaggedNode(\n",
            "                                   node_id='root_body_0_item_body_1_item_test_values_1_item__Compare',\n",
            "                                   in_edge='parent_in')],\n",
            "                  'prev_out': [InputTaggedNode(\n",
            "                                   node_id='root_body_0_item_body_1_item_test_values_0__BoolOp_values-seq-helper',\n",
            "                                   in_edge='next_in')],\n",
            "                  'next_out': [InputTaggedNode(\n",
            "                                   node_id='root_body_0_item_body_1_item_test_values_1__BoolOp_values-seq-helper',\n",
            "                                   in_edge='next_missing')]}),\n",
            " 'root_body_0_item_body_1_item_test_values_1_item__Compare':\n",
            "   GraphNode(\n",
            "       node_type='Compare',\n",
            "       out_edges={'parent_out': [InputTaggedNode(\n",
            "                                     node_id='root_body_0_item_body_1_item_test_values_1__BoolOp_values-seq-helper',\n",
            "                                     in_edge='item_in')],\n",
            "                  'left_out': [InputTaggedNode(\n",
            "                                   node_id='root_body_0_item_body_1_item_test_values_1_item_left__Name',\n",
            "                                   in_edge='parent_in')],\n",
            "                  'ops_out': [InputTaggedNode(\n",
            "                                  node_id='root_body_0_item_body_1_item_test_values_1_item_ops__Gt',\n",
            "                                  in_edge='parent_in')],\n",
            "                  'comparators_out': [InputTaggedNode(\n",
            "                                          node_id='root_body_0_item_body_1_item_test_values_1_item_comparators__Call',\n",
            "                                          in_edge='parent_in')]}),\n",
            " 'root_body_0_item_body_1_item_test_values_1_item_left__Name':\n",
            "   GraphNode(\n",
            "       node_type='Name',\n",
            "       out_edges={'parent_out': [InputTaggedNode(\n",
            "                                     node_id='root_body_0_item_body_1_item_test_values_1_item__Compare',\n",
            "                                     in_edge='left_in')]}),\n",
            " 'root_body_0_item_body_1_item_test_values_1_item_ops__Gt':\n",
            "   GraphNode(\n",
            "       node_type='Gt',\n",
            "       out_edges={'parent_out': [InputTaggedNode(\n",
            "                                     node_id='root_body_0_item_body_1_item_test_values_1_item__Compare',\n",
            "                                     in_edge='ops_in')]}),\n",
            " 'root_body_0_item_body_1_item_test_values_1_item_comparators__Call':\n",
            "   GraphNode(\n",
            "       node_type='Call',\n",
            "       out_edges={'parent_out': [InputTaggedNode(\n",
            "                                     node_id='root_body_0_item_body_1_item_test_values_1_item__Compare',\n",
            "                                     in_edge='comparators_in')],\n",
            "                  'func_out': [InputTaggedNode(\n",
            "                                   node_id='root_body_0_item_body_1_item_test_values_1_item_comparators_func__Name',\n",
            "                                   in_edge='parent_in')],\n",
            "                  'args_out_all': [InputTaggedNode(\n",
            "                                       node_id='root_body_0_item_body_1_item_test_values_1_item_comparators_args_0__Call_args-seq-helper',\n",
            "                                       in_edge='parent_in'),\n",
            "                                   InputTaggedNode(\n",
            "                                       node_id='root_body_0_item_body_1_item_test_values_1_item_comparators_args_1__Call_args-seq-helper',\n",
            "                                       in_edge='parent_in')],\n",
            "                  'args_out_first': [InputTaggedNode(\n",
            "                                         node_id='root_body_0_item_body_1_item_test_values_1_item_comparators_args_0__Call_args-seq-helper',\n",
            "                                         in_edge='parent_in')],\n",
            "                  'args_out_last': [InputTaggedNode(\n",
            "                                        node_id='root_body_0_item_body_1_item_test_values_1_item_comparators_args_1__Call_args-seq-helper',\n",
            "                                        in_edge='parent_in')]}),\n",
            " 'root_body_0_item_body_1_item_test_values_1_item_comparators_func__Name':\n",
            "   GraphNode(\n",
            "       node_type='Name',\n",
            "       out_edges={'parent_out': [InputTaggedNode(\n",
            "                                     node_id='root_body_0_item_body_1_item_test_values_1_item_comparators__Call',\n",
            "                                     in_edge='func_in')]}),\n",
            " 'root_body_0_item_body_1_item_test_values_1_item_comparators_args_0__Call_args-seq-helper':\n",
            "   GraphNode(\n",
            "       node_type='Call_args-seq-helper',\n",
            "       out_edges={'parent_out': [InputTaggedNode(\n",
            "                                     node_id='root_body_0_item_body_1_item_test_values_1_item_comparators__Call',\n",
            "                                     in_edge='args_in')],\n",
            "                  'item_out': [InputTaggedNode(\n",
            "                                   node_id='root_body_0_item_body_1_item_test_values_1_item_comparators_args_0_item__Name',\n",
            "                                   in_edge='parent_in')],\n",
            "                  'next_out': [InputTaggedNode(\n",
            "                                   node_id='root_body_0_item_body_1_item_test_values_1_item_comparators_args_1__Call_args-seq-helper',\n",
            "                                   in_edge='prev_in')],\n",
            "                  'prev_out': [InputTaggedNode(\n",
            "                                   node_id='root_body_0_item_body_1_item_test_values_1_item_comparators_args_0__Call_args-seq-helper',\n",
            "                                   in_edge='prev_missing')]}),\n",
            " 'root_body_0_item_body_1_item_test_values_1_item_comparators_args_0_item__Name':\n",
            "   GraphNode(\n",
            "       node_type='Name',\n",
            "       out_edges={'parent_out': [InputTaggedNode(\n",
            "                                     node_id='root_body_0_item_body_1_item_test_values_1_item_comparators_args_0__Call_args-seq-helper',\n",
            "                                     in_edge='item_in')]}),\n",
            " 'root_body_0_item_body_1_item_test_values_1_item_comparators_args_1__Call_args-seq-helper':\n",
            "   GraphNode(\n",
            "       node_type='Call_args-seq-helper',\n",
            "       out_edges={'parent_out': [InputTaggedNode(\n",
            "                                     node_id='root_body_0_item_body_1_item_test_values_1_item_comparators__Call',\n",
            "                                     in_edge='args_in')],\n",
            "                  'item_out': [InputTaggedNode(\n",
            "                                   node_id='root_body_0_item_body_1_item_test_values_1_item_comparators_args_1_item__Name',\n",
            "                                   in_edge='parent_in')],\n",
            "                  'prev_out': [InputTaggedNode(\n",
            "                                   node_id='root_body_0_item_body_1_item_test_values_1_item_comparators_args_0__Call_args-seq-helper',\n",
            "                                   in_edge='next_in')],\n",
            "                  'next_out': [InputTaggedNode(\n",
            "                                   node_id='root_body_0_item_body_1_item_test_values_1_item_comparators_args_1__Call_args-seq-helper',\n",
            "                                   in_edge='next_missing')]}),\n",
            " 'root_body_0_item_body_1_item_test_values_1_item_comparators_args_1_item__Name':\n",
            "   GraphNode(\n",
            "       node_type='Name',\n",
            "       out_edges={'parent_out': [InputTaggedNode(\n",
            "                                     node_id='root_body_0_item_body_1_item_test_values_1_item_comparators_args_1__Call_args-seq-helper',\n",
            "                                     in_edge='item_in')]}),\n",
            " 'root_body_0_item_body_1_item_body_0__If_body-seq-helper':\n",
            "   GraphNode(\n",
            "       node_type='If_body-seq-helper',\n",
            "       out_edges={'parent_out': [InputTaggedNode(node_id='root_body_0_item_body_1_item__If', in_edge='body_in')],\n",
            "                  'item_out': [InputTaggedNode(\n",
            "                                   node_id='root_body_0_item_body_1_item_body_0_item__Assign',\n",
            "                                   in_edge='parent_in')],\n",
            "                  'prev_out': [InputTaggedNode(\n",
            "                                   node_id='root_body_0_item_body_1_item_body_0__If_body-seq-helper',\n",
            "                                   in_edge='prev_missing')],\n",
            "                  'next_out': [InputTaggedNode(\n",
            "                                   node_id='root_body_0_item_body_1_item_body_0__If_body-seq-helper',\n",
            "                                   in_edge='next_missing')]}),\n",
            " 'root_body_0_item_body_1_item_body_0_item__Assign':\n",
            "   GraphNode(\n",
            "       node_type='Assign',\n",
            "       out_edges={'parent_out': [InputTaggedNode(\n",
            "                                     node_id='root_body_0_item_body_1_item_body_0__If_body-seq-helper',\n",
            "                                     in_edge='item_in')],\n",
            "                  'targets_out': [InputTaggedNode(\n",
            "                                      node_id='root_body_0_item_body_1_item_body_0_item_targets__Name',\n",
            "                                      in_edge='parent_in')],\n",
            "                  'value_out': [InputTaggedNode(\n",
            "                                    node_id='root_body_0_item_body_1_item_body_0_item_value__Name',\n",
            "                                    in_edge='parent_in')]}),\n",
            " 'root_body_0_item_body_1_item_body_0_item_targets__Name':\n",
            "   GraphNode(\n",
            "       node_type='Name',\n",
            "       out_edges={'parent_out': [InputTaggedNode(\n",
            "                                     node_id='root_body_0_item_body_1_item_body_0_item__Assign',\n",
            "                                     in_edge='targets_in')]}),\n",
            " 'root_body_0_item_body_1_item_body_0_item_value__Name':\n",
            "   GraphNode(\n",
            "       node_type='Name',\n",
            "       out_edges={'parent_out': [InputTaggedNode(\n",
            "                                     node_id='root_body_0_item_body_1_item_body_0_item__Assign',\n",
            "                                     in_edge='value_in')]}),\n",
            " 'root_body_0_item_body_1_item_orelse_0__If_orelse-seq-helper':\n",
            "   GraphNode(\n",
            "       node_type='If_orelse-seq-helper',\n",
            "       out_edges={'parent_out': [InputTaggedNode(node_id='root_body_0_item_body_1_item__If', in_edge='orelse_in')],\n",
            "                  'item_out': [InputTaggedNode(\n",
            "                                   node_id='root_body_0_item_body_1_item_orelse_0_item__Assign',\n",
            "                                   in_edge='parent_in')],\n",
            "                  'prev_out': [InputTaggedNode(\n",
            "                                   node_id='root_body_0_item_body_1_item_orelse_0__If_orelse-seq-helper',\n",
            "                                   in_edge='prev_missing')],\n",
            "                  'next_out': [InputTaggedNode(\n",
            "                                   node_id='root_body_0_item_body_1_item_orelse_0__If_orelse-seq-helper',\n",
            "                                   in_edge='next_missing')]}),\n",
            " 'root_body_0_item_body_1_item_orelse_0_item__Assign':\n",
            "   GraphNode(\n",
            "       node_type='Assign',\n",
            "       out_edges={'parent_out': [InputTaggedNode(\n",
            "                                     node_id='root_body_0_item_body_1_item_orelse_0__If_orelse-seq-helper',\n",
            "                                     in_edge='item_in')],\n",
            "                  'targets_out': [InputTaggedNode(\n",
            "                                      node_id='root_body_0_item_body_1_item_orelse_0_item_targets__Name',\n",
            "                                      in_edge='parent_in')],\n",
            "                  'value_out': [InputTaggedNode(\n",
            "                                    node_id='root_body_0_item_body_1_item_orelse_0_item_value__Name',\n",
            "                                    in_edge='parent_in')]}),\n",
            " 'root_body_0_item_body_1_item_orelse_0_item_targets__Name':\n",
            "   GraphNode(\n",
            "       node_type='Name',\n",
            "       out_edges={'parent_out': [InputTaggedNode(\n",
            "                                     node_id='root_body_0_item_body_1_item_orelse_0_item__Assign',\n",
            "                                     in_edge='targets_in')]}),\n",
            " 'root_body_0_item_body_1_item_orelse_0_item_value__Name':\n",
            "   GraphNode(\n",
            "       node_type='Name',\n",
            "       out_edges={'parent_out': [InputTaggedNode(\n",
            "                                     node_id='root_body_0_item_body_1_item_orelse_0_item__Assign',\n",
            "                                     in_edge='value_in')]})}\n"
          ],
          "name": "stdout"
        }
      ]
    },
    {
      "cell_type": "markdown",
      "metadata": {
        "id": "nkkIh-RTS75h"
      },
      "source": [
        "This graph is associated with a `GraphSchema` object that declares the set of all actions and observations for graphs in this MDP family. (As discussed above, the `in_edges` field specifies the set of observations, and the `out_edges` field specifies the set of possible actions.)"
      ]
    },
    {
      "cell_type": "code",
      "metadata": {
        "id": "sPBY0OF_VsaT",
        "colab": {
          "base_uri": "https://localhost:8080/"
        },
        "outputId": "40c6d18d-2474-42df-bf6e-ca2dd144b6c6"
      },
      "source": [
        "py_ast_graphs.SCHEMA"
      ],
      "execution_count": null,
      "outputs": [
        {
          "output_type": "execute_result",
          "data": {
            "text/plain": [
              "{'Add': NodeSchema(in_edges=['parent_in'], out_edges=['parent_out']),\n",
              " 'And': NodeSchema(in_edges=['parent_in'], out_edges=['parent_out']),\n",
              " 'Assign': NodeSchema(in_edges=['parent_in', 'targets_in', 'value_in'], out_edges=['parent_out', 'targets_out', 'value_out']),\n",
              " 'BinOp': NodeSchema(in_edges=['parent_in', 'left_in', 'op_in', 'right_in'], out_edges=['parent_out', 'left_out', 'op_out', 'right_out']),\n",
              " 'BoolOp': NodeSchema(in_edges=['parent_in', 'op_in', 'values_in'], out_edges=['parent_out', 'op_out', 'values_out_all', 'values_out_first', 'values_out_last']),\n",
              " 'BoolOp_values-seq-helper': NodeSchema(in_edges=['parent_in', 'item_in', 'next_in', 'next_missing', 'prev_in', 'prev_missing'], out_edges=['parent_out', 'item_out', 'next_out', 'prev_out']),\n",
              " 'Break': NodeSchema(in_edges=['parent_in'], out_edges=['parent_out']),\n",
              " 'Call': NodeSchema(in_edges=['parent_in', 'func_in', 'args_in', 'args_missing'], out_edges=['parent_out', 'func_out', 'args_out_all', 'args_out_first', 'args_out_last']),\n",
              " 'Call_args-seq-helper': NodeSchema(in_edges=['parent_in', 'item_in', 'next_in', 'next_missing', 'prev_in', 'prev_missing'], out_edges=['parent_out', 'item_out', 'next_out', 'prev_out']),\n",
              " 'Compare': NodeSchema(in_edges=['parent_in', 'left_in', 'ops_in', 'comparators_in'], out_edges=['parent_out', 'left_out', 'ops_out', 'comparators_out']),\n",
              " 'Constant': NodeSchema(in_edges=['parent_in'], out_edges=['parent_out']),\n",
              " 'Continue': NodeSchema(in_edges=['parent_in'], out_edges=['parent_out']),\n",
              " 'Div': NodeSchema(in_edges=['parent_in'], out_edges=['parent_out']),\n",
              " 'Eq': NodeSchema(in_edges=['parent_in'], out_edges=['parent_out']),\n",
              " 'Expr': NodeSchema(in_edges=['parent_in', 'value_in'], out_edges=['parent_out', 'value_out']),\n",
              " 'For': NodeSchema(in_edges=['parent_in', 'target_in', 'iter_in', 'body_in'], out_edges=['parent_out', 'target_out', 'iter_out', 'body_out_all', 'body_out_first', 'body_out_last']),\n",
              " 'For_body-seq-helper': NodeSchema(in_edges=['parent_in', 'item_in', 'next_in', 'next_missing', 'prev_in', 'prev_missing'], out_edges=['parent_out', 'item_out', 'next_out', 'prev_out']),\n",
              " 'FunctionDef': NodeSchema(in_edges=['parent_in', 'args_in', 'returns_in', 'returns_missing', 'body_in'], out_edges=['parent_out', 'args_out', 'returns_out', 'body_out_all', 'body_out_first', 'body_out_last']),\n",
              " 'FunctionDef_body-seq-helper': NodeSchema(in_edges=['parent_in', 'item_in', 'next_in', 'next_missing', 'prev_in', 'prev_missing'], out_edges=['parent_out', 'item_out', 'next_out', 'prev_out']),\n",
              " 'Gt': NodeSchema(in_edges=['parent_in'], out_edges=['parent_out']),\n",
              " 'GtE': NodeSchema(in_edges=['parent_in'], out_edges=['parent_out']),\n",
              " 'If': NodeSchema(in_edges=['parent_in', 'test_in', 'body_in', 'orelse_in', 'orelse_missing'], out_edges=['parent_out', 'test_out', 'body_out_all', 'body_out_first', 'body_out_last', 'orelse_out_all', 'orelse_out_first', 'orelse_out_last']),\n",
              " 'If_body-seq-helper': NodeSchema(in_edges=['parent_in', 'item_in', 'next_in', 'next_missing', 'prev_in', 'prev_missing'], out_edges=['parent_out', 'item_out', 'next_out', 'prev_out']),\n",
              " 'If_orelse-seq-helper': NodeSchema(in_edges=['parent_in', 'item_in', 'next_in', 'next_missing', 'prev_in', 'prev_missing'], out_edges=['parent_out', 'item_out', 'next_out', 'prev_out']),\n",
              " 'Lt': NodeSchema(in_edges=['parent_in'], out_edges=['parent_out']),\n",
              " 'LtE': NodeSchema(in_edges=['parent_in'], out_edges=['parent_out']),\n",
              " 'Module': NodeSchema(in_edges=['body_in'], out_edges=['body_out_all', 'body_out_first', 'body_out_last']),\n",
              " 'Module_body-seq-helper': NodeSchema(in_edges=['parent_in', 'item_in', 'next_in', 'next_missing', 'prev_in', 'prev_missing'], out_edges=['parent_out', 'item_out', 'next_out', 'prev_out']),\n",
              " 'Mult': NodeSchema(in_edges=['parent_in'], out_edges=['parent_out']),\n",
              " 'Name': NodeSchema(in_edges=['parent_in'], out_edges=['parent_out']),\n",
              " 'NotEq': NodeSchema(in_edges=['parent_in'], out_edges=['parent_out']),\n",
              " 'Or': NodeSchema(in_edges=['parent_in'], out_edges=['parent_out']),\n",
              " 'Pass': NodeSchema(in_edges=['parent_in'], out_edges=['parent_out']),\n",
              " 'Return': NodeSchema(in_edges=['parent_in', 'value_in', 'value_missing'], out_edges=['parent_out', 'value_out']),\n",
              " 'Sub': NodeSchema(in_edges=['parent_in'], out_edges=['parent_out']),\n",
              " 'While': NodeSchema(in_edges=['parent_in', 'test_in', 'body_in'], out_edges=['parent_out', 'test_out', 'body_out_all', 'body_out_first', 'body_out_last']),\n",
              " 'While_body-seq-helper': NodeSchema(in_edges=['parent_in', 'item_in', 'next_in', 'next_missing', 'prev_in', 'prev_missing'], out_edges=['parent_out', 'item_out', 'next_out', 'prev_out']),\n",
              " 'arguments': NodeSchema(in_edges=['parent_in', 'args_in', 'args_missing'], out_edges=['parent_out', 'args_out_all', 'args_out_first', 'args_out_last']),\n",
              " 'arguments_args-seq-helper': NodeSchema(in_edges=['parent_in', 'item_in', 'next_in', 'next_missing', 'prev_in', 'prev_missing'], out_edges=['parent_out', 'item_out', 'next_out', 'prev_out'])}"
            ]
          },
          "metadata": {
            "tags": []
          },
          "execution_count": 15
        }
      ]
    },
    {
      "cell_type": "markdown",
      "metadata": {
        "id": "5W6vNmK_WHy3"
      },
      "source": [
        "And we can confirm that our MDP graph conforms to this schema:"
      ]
    },
    {
      "cell_type": "code",
      "metadata": {
        "id": "LXSJifdkWPkr",
        "colab": {
          "base_uri": "https://localhost:8080/"
        },
        "outputId": "529854f4-c3a6-41a1-e4fa-504d0f2e4f3b"
      },
      "source": [
        "schema_util.assert_conforms_to_schema(mdp_graph, py_ast_graphs.SCHEMA)\n",
        "print(\"assertion passed!\")"
      ],
      "execution_count": null,
      "outputs": [
        {
          "output_type": "stream",
          "text": [
            "assertion passed!\n"
          ],
          "name": "stdout"
        }
      ]
    },
    {
      "cell_type": "markdown",
      "metadata": {
        "id": "u0we8ymiXWB2"
      },
      "source": [
        "This means that we can parameterize a GFSA layer based on `py_ast_graphs.SCHEMA`, and then pass `mdp_graph` as an input to it."
      ]
    },
    {
      "cell_type": "markdown",
      "metadata": {
        "id": "exldzBx-ooTs"
      },
      "source": [
        "## Computing ground-truth static analyses"
      ]
    },
    {
      "cell_type": "markdown",
      "metadata": {
        "id": "5QwyqWR2s_5a"
      },
      "source": [
        "Suppose we wish to train a GFSA layer to perform static analyses of Python code. The next step is to build the ground-truth data for those analyses.\n",
        "\n",
        "The implementation of the static analyses used in the paper is not yet open source, so for now let's consider a simpler form of static analysis: finding the target of `return`, `break`, and `continue` statements. More specifically:\n",
        "\n",
        "- For each `return` statement, we add an edge from the `Return` AST node to the `FunctionDef` AST node defining the function. If there is a return value, we also add an edge from the return value to the `FunctionDef` AST node.\n",
        "- For each `break` or `continue` statement, we add an edge from the `Break`/`Continue` AST node to the innermost `For`/`While` node that it is contained inside. This is the loop whose execution will be broken out of or continued with, respectively.\n",
        "\n",
        "(This can be seen as a simplified type of control flow analysis, where we only consider return, break, and continue statements.)\n",
        "\n",
        "First, let's sample a program:"
      ]
    },
    {
      "cell_type": "code",
      "metadata": {
        "id": "GFQxTLGkZyXZ",
        "colab": {
          "base_uri": "https://localhost:8080/"
        },
        "outputId": "abb29704-c374-4513-bc63-05f4b9618a9f"
      },
      "source": [
        "# Use a distribution with more frequent return/break/continue statements\n",
        "the_ast = tasks.make_ast(64, np.random.RandomState(3), python_numbers_control_flow.CFG_DISTRIBUTION)\n",
        "print(astunparse.unparse(gast.gast_to_ast(the_ast)))"
      ],
      "execution_count": null,
      "outputs": [
        {
          "output_type": "stream",
          "text": [
            "\n",
            "\n",
            "def random_function(a, b):\n",
            "    print(a)\n",
            "    v2 = 44\n",
            "    for v3 in range(int(37)):\n",
            "        print(a)\n",
            "        if (a == v3):\n",
            "            print(a)\n",
            "        elif (77 > v3):\n",
            "            return\n",
            "        elif True:\n",
            "            pass\n",
            "        return\n",
            "    if (((b + 81) + 11) <= 32):\n",
            "        for v3 in range(int(a)):\n",
            "            break\n",
            "    v3 = 92\n",
            "\n"
          ],
          "name": "stdout"
        }
      ]
    },
    {
      "cell_type": "markdown",
      "metadata": {
        "id": "HcHccC_1dbap"
      },
      "source": [
        "Now we convert it to an MDP graph:"
      ]
    },
    {
      "cell_type": "code",
      "metadata": {
        "id": "ypeUGgEEaID7"
      },
      "source": [
        "generic_ast = py_ast_graphs.py_ast_to_generic(the_ast)\n",
        "mdp_graph, id_conversion_map = generic_ast_graphs.ast_to_graph(generic_ast, ast_spec=py_ast_graphs.PY_AST_SPECS)"
      ],
      "execution_count": null,
      "outputs": []
    },
    {
      "cell_type": "markdown",
      "metadata": {
        "id": "5R94VQzede43"
      },
      "source": [
        "And finally, we compute the target edges for this simple task. Each edge is represented as a tuple `(source_id, dest_id, type)`.\n",
        "\n",
        "- Two edges connect each of the two `return` statements (denoted `root_body_0_item_body_2_item_body_1_item_orelse_0_item_body_0_item__Return` and `root_body_0_item_body_2_item_body_2_item__Return` based on their locations in the AST) to the function definition node (`root_body_0_item__FunctionDef`).\n",
        "- One edge connects the break statement (`root_body_0_item_body_3_item_body_0_item_body_0_item__Break`) to the for loop containing it (`root_body_0_item_body_3_item_body_0_item__For`).\n",
        "- All of these edges have type \"EXTRA_JUMPS_OUT_OF\", which is just a string that we use to distinguish these edges from other types of edge."
      ]
    },
    {
      "cell_type": "code",
      "metadata": {
        "id": "GjZBkaCEoqlb",
        "colab": {
          "base_uri": "https://localhost:8080/"
        },
        "outputId": "102a2776-785a-4eaf-ec85-6f979d7a09e3"
      },
      "source": [
        "target_edges = graph_edge_util.compute_jumps_out_edges(the_ast, id_conversion_map)\n",
        "target_edges"
      ],
      "execution_count": null,
      "outputs": [
        {
          "output_type": "execute_result",
          "data": {
            "text/plain": [
              "[('root_body_0_item_body_2_item_body_1_item_orelse_0_item_body_0_item__Return',\n",
              "  'root_body_0_item__FunctionDef',\n",
              "  'EXTRA_JUMPS_OUT_OF'),\n",
              " ('root_body_0_item_body_2_item_body_2_item__Return',\n",
              "  'root_body_0_item__FunctionDef',\n",
              "  'EXTRA_JUMPS_OUT_OF'),\n",
              " ('root_body_0_item_body_3_item_body_0_item_body_0_item__Break',\n",
              "  'root_body_0_item_body_3_item_body_0_item__For',\n",
              "  'EXTRA_JUMPS_OUT_OF')]"
            ]
          },
          "metadata": {
            "tags": []
          },
          "execution_count": 19
        }
      ]
    },
    {
      "cell_type": "markdown",
      "metadata": {
        "id": "fwNaDXfraX-h"
      },
      "source": [
        "These edges will be used as the targets for our layer."
      ]
    },
    {
      "cell_type": "markdown",
      "metadata": {
        "id": "5Vu4sgNybX_X"
      },
      "source": [
        "## Other edges"
      ]
    },
    {
      "cell_type": "markdown",
      "metadata": {
        "id": "532fJlXua9LD"
      },
      "source": [
        "We can also compute other edges from our AST, which are useful when running a baseline graph neural network on the same targets, or to provide additional observations to the GFSA layer. We won't technically need these for this particular toy problem, so feel free to skip this section, but here they are for completeness:"
      ]
    },
    {
      "cell_type": "code",
      "metadata": {
        "id": "DIOmFoSda2cJ",
        "colab": {
          "base_uri": "https://localhost:8080/"
        },
        "outputId": "36a0bbd3-9dca-48df-f718-b30369014e48"
      },
      "source": [
        "other_edges = []\n",
        "\n",
        "# Add edges based on the transitions in the MDP (which are in turn based on\n",
        "# the parent-child relationships in the AST).\n",
        "# These edges will have types like `SCHEMA_body_out_last` (which means that it\n",
        "# is derived from the MDP schema, and connects nodes that are reachable using\n",
        "# the `body_out_last` action. In this case, this is the same as connecting each\n",
        "# control flow AST node to the last statement in the contained block.)\n",
        "other_edges.extend(graph_edge_util.compute_schema_edges(mdp_graph))\n",
        "\n",
        "# Add edges between uses of the same identifier. These edges will have type\n",
        "# \"EXTRA_SAME_IDENTIFIER\".\n",
        "other_edges.extend(\n",
        "    graph_edge_util.compute_same_identifier_edges(the_ast, id_conversion_map))\n",
        "\n",
        "# For the experiments in the paper, we would also include edges based on more\n",
        "# sophisticated static analyses, but the code for computing those is not yet\n",
        "# open-source.\n",
        "\n",
        "other_edges"
      ],
      "execution_count": null,
      "outputs": [
        {
          "output_type": "execute_result",
          "data": {
            "text/plain": [
              "[('root__Module',\n",
              "  'root_body_0__Module_body-seq-helper',\n",
              "  'SCHEMA_body_out_all'),\n",
              " ('root__Module',\n",
              "  'root_body_0__Module_body-seq-helper',\n",
              "  'SCHEMA_body_out_first'),\n",
              " ('root__Module',\n",
              "  'root_body_0__Module_body-seq-helper',\n",
              "  'SCHEMA_body_out_last'),\n",
              " ('root_body_0__Module_body-seq-helper', 'root__Module', 'SCHEMA_parent_out'),\n",
              " ('root_body_0__Module_body-seq-helper',\n",
              "  'root_body_0_item__FunctionDef',\n",
              "  'SCHEMA_item_out'),\n",
              " ('root_body_0_item__FunctionDef',\n",
              "  'root_body_0__Module_body-seq-helper',\n",
              "  'SCHEMA_parent_out'),\n",
              " ('root_body_0_item__FunctionDef',\n",
              "  'root_body_0_item_args__arguments',\n",
              "  'SCHEMA_args_out'),\n",
              " ('root_body_0_item__FunctionDef',\n",
              "  'root_body_0_item_body_0__FunctionDef_body-seq-helper',\n",
              "  'SCHEMA_body_out_all'),\n",
              " ('root_body_0_item__FunctionDef',\n",
              "  'root_body_0_item_body_1__FunctionDef_body-seq-helper',\n",
              "  'SCHEMA_body_out_all'),\n",
              " ('root_body_0_item__FunctionDef',\n",
              "  'root_body_0_item_body_2__FunctionDef_body-seq-helper',\n",
              "  'SCHEMA_body_out_all'),\n",
              " ('root_body_0_item__FunctionDef',\n",
              "  'root_body_0_item_body_3__FunctionDef_body-seq-helper',\n",
              "  'SCHEMA_body_out_all'),\n",
              " ('root_body_0_item__FunctionDef',\n",
              "  'root_body_0_item_body_4__FunctionDef_body-seq-helper',\n",
              "  'SCHEMA_body_out_all'),\n",
              " ('root_body_0_item__FunctionDef',\n",
              "  'root_body_0_item_body_0__FunctionDef_body-seq-helper',\n",
              "  'SCHEMA_body_out_first'),\n",
              " ('root_body_0_item__FunctionDef',\n",
              "  'root_body_0_item_body_4__FunctionDef_body-seq-helper',\n",
              "  'SCHEMA_body_out_last'),\n",
              " ('root_body_0_item_args__arguments',\n",
              "  'root_body_0_item__FunctionDef',\n",
              "  'SCHEMA_parent_out'),\n",
              " ('root_body_0_item_args__arguments',\n",
              "  'root_body_0_item_args_args_0__arguments_args-seq-helper',\n",
              "  'SCHEMA_args_out_all'),\n",
              " ('root_body_0_item_args__arguments',\n",
              "  'root_body_0_item_args_args_1__arguments_args-seq-helper',\n",
              "  'SCHEMA_args_out_all'),\n",
              " ('root_body_0_item_args__arguments',\n",
              "  'root_body_0_item_args_args_0__arguments_args-seq-helper',\n",
              "  'SCHEMA_args_out_first'),\n",
              " ('root_body_0_item_args__arguments',\n",
              "  'root_body_0_item_args_args_1__arguments_args-seq-helper',\n",
              "  'SCHEMA_args_out_last'),\n",
              " ('root_body_0_item_args_args_0__arguments_args-seq-helper',\n",
              "  'root_body_0_item_args__arguments',\n",
              "  'SCHEMA_parent_out'),\n",
              " ('root_body_0_item_args_args_0__arguments_args-seq-helper',\n",
              "  'root_body_0_item_args_args_0_item__Name',\n",
              "  'SCHEMA_item_out'),\n",
              " ('root_body_0_item_args_args_0__arguments_args-seq-helper',\n",
              "  'root_body_0_item_args_args_1__arguments_args-seq-helper',\n",
              "  'SCHEMA_next_out'),\n",
              " ('root_body_0_item_args_args_0_item__Name',\n",
              "  'root_body_0_item_args_args_0__arguments_args-seq-helper',\n",
              "  'SCHEMA_parent_out'),\n",
              " ('root_body_0_item_args_args_1__arguments_args-seq-helper',\n",
              "  'root_body_0_item_args__arguments',\n",
              "  'SCHEMA_parent_out'),\n",
              " ('root_body_0_item_args_args_1__arguments_args-seq-helper',\n",
              "  'root_body_0_item_args_args_1_item__Name',\n",
              "  'SCHEMA_item_out'),\n",
              " ('root_body_0_item_args_args_1__arguments_args-seq-helper',\n",
              "  'root_body_0_item_args_args_0__arguments_args-seq-helper',\n",
              "  'SCHEMA_prev_out'),\n",
              " ('root_body_0_item_args_args_1_item__Name',\n",
              "  'root_body_0_item_args_args_1__arguments_args-seq-helper',\n",
              "  'SCHEMA_parent_out'),\n",
              " ('root_body_0_item_body_0__FunctionDef_body-seq-helper',\n",
              "  'root_body_0_item__FunctionDef',\n",
              "  'SCHEMA_parent_out'),\n",
              " ('root_body_0_item_body_0__FunctionDef_body-seq-helper',\n",
              "  'root_body_0_item_body_0_item__Expr',\n",
              "  'SCHEMA_item_out'),\n",
              " ('root_body_0_item_body_0__FunctionDef_body-seq-helper',\n",
              "  'root_body_0_item_body_1__FunctionDef_body-seq-helper',\n",
              "  'SCHEMA_next_out'),\n",
              " ('root_body_0_item_body_0_item__Expr',\n",
              "  'root_body_0_item_body_0__FunctionDef_body-seq-helper',\n",
              "  'SCHEMA_parent_out'),\n",
              " ('root_body_0_item_body_0_item__Expr',\n",
              "  'root_body_0_item_body_0_item_value__Call',\n",
              "  'SCHEMA_value_out'),\n",
              " ('root_body_0_item_body_0_item_value__Call',\n",
              "  'root_body_0_item_body_0_item__Expr',\n",
              "  'SCHEMA_parent_out'),\n",
              " ('root_body_0_item_body_0_item_value__Call',\n",
              "  'root_body_0_item_body_0_item_value_func__Name',\n",
              "  'SCHEMA_func_out'),\n",
              " ('root_body_0_item_body_0_item_value__Call',\n",
              "  'root_body_0_item_body_0_item_value_args_0__Call_args-seq-helper',\n",
              "  'SCHEMA_args_out_all'),\n",
              " ('root_body_0_item_body_0_item_value__Call',\n",
              "  'root_body_0_item_body_0_item_value_args_0__Call_args-seq-helper',\n",
              "  'SCHEMA_args_out_first'),\n",
              " ('root_body_0_item_body_0_item_value__Call',\n",
              "  'root_body_0_item_body_0_item_value_args_0__Call_args-seq-helper',\n",
              "  'SCHEMA_args_out_last'),\n",
              " ('root_body_0_item_body_0_item_value_func__Name',\n",
              "  'root_body_0_item_body_0_item_value__Call',\n",
              "  'SCHEMA_parent_out'),\n",
              " ('root_body_0_item_body_0_item_value_args_0__Call_args-seq-helper',\n",
              "  'root_body_0_item_body_0_item_value__Call',\n",
              "  'SCHEMA_parent_out'),\n",
              " ('root_body_0_item_body_0_item_value_args_0__Call_args-seq-helper',\n",
              "  'root_body_0_item_body_0_item_value_args_0_item__Name',\n",
              "  'SCHEMA_item_out'),\n",
              " ('root_body_0_item_body_0_item_value_args_0_item__Name',\n",
              "  'root_body_0_item_body_0_item_value_args_0__Call_args-seq-helper',\n",
              "  'SCHEMA_parent_out'),\n",
              " ('root_body_0_item_body_1__FunctionDef_body-seq-helper',\n",
              "  'root_body_0_item__FunctionDef',\n",
              "  'SCHEMA_parent_out'),\n",
              " ('root_body_0_item_body_1__FunctionDef_body-seq-helper',\n",
              "  'root_body_0_item_body_1_item__Assign',\n",
              "  'SCHEMA_item_out'),\n",
              " ('root_body_0_item_body_1__FunctionDef_body-seq-helper',\n",
              "  'root_body_0_item_body_0__FunctionDef_body-seq-helper',\n",
              "  'SCHEMA_prev_out'),\n",
              " ('root_body_0_item_body_1__FunctionDef_body-seq-helper',\n",
              "  'root_body_0_item_body_2__FunctionDef_body-seq-helper',\n",
              "  'SCHEMA_next_out'),\n",
              " ('root_body_0_item_body_1_item__Assign',\n",
              "  'root_body_0_item_body_1__FunctionDef_body-seq-helper',\n",
              "  'SCHEMA_parent_out'),\n",
              " ('root_body_0_item_body_1_item__Assign',\n",
              "  'root_body_0_item_body_1_item_targets__Name',\n",
              "  'SCHEMA_targets_out'),\n",
              " ('root_body_0_item_body_1_item__Assign',\n",
              "  'root_body_0_item_body_1_item_value__Constant',\n",
              "  'SCHEMA_value_out'),\n",
              " ('root_body_0_item_body_1_item_targets__Name',\n",
              "  'root_body_0_item_body_1_item__Assign',\n",
              "  'SCHEMA_parent_out'),\n",
              " ('root_body_0_item_body_1_item_value__Constant',\n",
              "  'root_body_0_item_body_1_item__Assign',\n",
              "  'SCHEMA_parent_out'),\n",
              " ('root_body_0_item_body_2__FunctionDef_body-seq-helper',\n",
              "  'root_body_0_item__FunctionDef',\n",
              "  'SCHEMA_parent_out'),\n",
              " ('root_body_0_item_body_2__FunctionDef_body-seq-helper',\n",
              "  'root_body_0_item_body_2_item__For',\n",
              "  'SCHEMA_item_out'),\n",
              " ('root_body_0_item_body_2__FunctionDef_body-seq-helper',\n",
              "  'root_body_0_item_body_1__FunctionDef_body-seq-helper',\n",
              "  'SCHEMA_prev_out'),\n",
              " ('root_body_0_item_body_2__FunctionDef_body-seq-helper',\n",
              "  'root_body_0_item_body_3__FunctionDef_body-seq-helper',\n",
              "  'SCHEMA_next_out'),\n",
              " ('root_body_0_item_body_2_item__For',\n",
              "  'root_body_0_item_body_2__FunctionDef_body-seq-helper',\n",
              "  'SCHEMA_parent_out'),\n",
              " ('root_body_0_item_body_2_item__For',\n",
              "  'root_body_0_item_body_2_item_target__Name',\n",
              "  'SCHEMA_target_out'),\n",
              " ('root_body_0_item_body_2_item__For',\n",
              "  'root_body_0_item_body_2_item_iter__Call',\n",
              "  'SCHEMA_iter_out'),\n",
              " ('root_body_0_item_body_2_item__For',\n",
              "  'root_body_0_item_body_2_item_body_0__For_body-seq-helper',\n",
              "  'SCHEMA_body_out_all'),\n",
              " ('root_body_0_item_body_2_item__For',\n",
              "  'root_body_0_item_body_2_item_body_1__For_body-seq-helper',\n",
              "  'SCHEMA_body_out_all'),\n",
              " ('root_body_0_item_body_2_item__For',\n",
              "  'root_body_0_item_body_2_item_body_2__For_body-seq-helper',\n",
              "  'SCHEMA_body_out_all'),\n",
              " ('root_body_0_item_body_2_item__For',\n",
              "  'root_body_0_item_body_2_item_body_0__For_body-seq-helper',\n",
              "  'SCHEMA_body_out_first'),\n",
              " ('root_body_0_item_body_2_item__For',\n",
              "  'root_body_0_item_body_2_item_body_2__For_body-seq-helper',\n",
              "  'SCHEMA_body_out_last'),\n",
              " ('root_body_0_item_body_2_item_target__Name',\n",
              "  'root_body_0_item_body_2_item__For',\n",
              "  'SCHEMA_parent_out'),\n",
              " ('root_body_0_item_body_2_item_iter__Call',\n",
              "  'root_body_0_item_body_2_item__For',\n",
              "  'SCHEMA_parent_out'),\n",
              " ('root_body_0_item_body_2_item_iter__Call',\n",
              "  'root_body_0_item_body_2_item_iter_func__Name',\n",
              "  'SCHEMA_func_out'),\n",
              " ('root_body_0_item_body_2_item_iter__Call',\n",
              "  'root_body_0_item_body_2_item_iter_args_0__Call_args-seq-helper',\n",
              "  'SCHEMA_args_out_all'),\n",
              " ('root_body_0_item_body_2_item_iter__Call',\n",
              "  'root_body_0_item_body_2_item_iter_args_0__Call_args-seq-helper',\n",
              "  'SCHEMA_args_out_first'),\n",
              " ('root_body_0_item_body_2_item_iter__Call',\n",
              "  'root_body_0_item_body_2_item_iter_args_0__Call_args-seq-helper',\n",
              "  'SCHEMA_args_out_last'),\n",
              " ('root_body_0_item_body_2_item_iter_func__Name',\n",
              "  'root_body_0_item_body_2_item_iter__Call',\n",
              "  'SCHEMA_parent_out'),\n",
              " ('root_body_0_item_body_2_item_iter_args_0__Call_args-seq-helper',\n",
              "  'root_body_0_item_body_2_item_iter__Call',\n",
              "  'SCHEMA_parent_out'),\n",
              " ('root_body_0_item_body_2_item_iter_args_0__Call_args-seq-helper',\n",
              "  'root_body_0_item_body_2_item_iter_args_0_item__Call',\n",
              "  'SCHEMA_item_out'),\n",
              " ('root_body_0_item_body_2_item_iter_args_0_item__Call',\n",
              "  'root_body_0_item_body_2_item_iter_args_0__Call_args-seq-helper',\n",
              "  'SCHEMA_parent_out'),\n",
              " ('root_body_0_item_body_2_item_iter_args_0_item__Call',\n",
              "  'root_body_0_item_body_2_item_iter_args_0_item_func__Name',\n",
              "  'SCHEMA_func_out'),\n",
              " ('root_body_0_item_body_2_item_iter_args_0_item__Call',\n",
              "  'root_body_0_item_body_2_item_iter_args_0_item_args_0__Call_args-seq-helper',\n",
              "  'SCHEMA_args_out_all'),\n",
              " ('root_body_0_item_body_2_item_iter_args_0_item__Call',\n",
              "  'root_body_0_item_body_2_item_iter_args_0_item_args_0__Call_args-seq-helper',\n",
              "  'SCHEMA_args_out_first'),\n",
              " ('root_body_0_item_body_2_item_iter_args_0_item__Call',\n",
              "  'root_body_0_item_body_2_item_iter_args_0_item_args_0__Call_args-seq-helper',\n",
              "  'SCHEMA_args_out_last'),\n",
              " ('root_body_0_item_body_2_item_iter_args_0_item_func__Name',\n",
              "  'root_body_0_item_body_2_item_iter_args_0_item__Call',\n",
              "  'SCHEMA_parent_out'),\n",
              " ('root_body_0_item_body_2_item_iter_args_0_item_args_0__Call_args-seq-helper',\n",
              "  'root_body_0_item_body_2_item_iter_args_0_item__Call',\n",
              "  'SCHEMA_parent_out'),\n",
              " ('root_body_0_item_body_2_item_iter_args_0_item_args_0__Call_args-seq-helper',\n",
              "  'root_body_0_item_body_2_item_iter_args_0_item_args_0_item__Constant',\n",
              "  'SCHEMA_item_out'),\n",
              " ('root_body_0_item_body_2_item_iter_args_0_item_args_0_item__Constant',\n",
              "  'root_body_0_item_body_2_item_iter_args_0_item_args_0__Call_args-seq-helper',\n",
              "  'SCHEMA_parent_out'),\n",
              " ('root_body_0_item_body_2_item_body_0__For_body-seq-helper',\n",
              "  'root_body_0_item_body_2_item__For',\n",
              "  'SCHEMA_parent_out'),\n",
              " ('root_body_0_item_body_2_item_body_0__For_body-seq-helper',\n",
              "  'root_body_0_item_body_2_item_body_0_item__Expr',\n",
              "  'SCHEMA_item_out'),\n",
              " ('root_body_0_item_body_2_item_body_0__For_body-seq-helper',\n",
              "  'root_body_0_item_body_2_item_body_1__For_body-seq-helper',\n",
              "  'SCHEMA_next_out'),\n",
              " ('root_body_0_item_body_2_item_body_0_item__Expr',\n",
              "  'root_body_0_item_body_2_item_body_0__For_body-seq-helper',\n",
              "  'SCHEMA_parent_out'),\n",
              " ('root_body_0_item_body_2_item_body_0_item__Expr',\n",
              "  'root_body_0_item_body_2_item_body_0_item_value__Call',\n",
              "  'SCHEMA_value_out'),\n",
              " ('root_body_0_item_body_2_item_body_0_item_value__Call',\n",
              "  'root_body_0_item_body_2_item_body_0_item__Expr',\n",
              "  'SCHEMA_parent_out'),\n",
              " ('root_body_0_item_body_2_item_body_0_item_value__Call',\n",
              "  'root_body_0_item_body_2_item_body_0_item_value_func__Name',\n",
              "  'SCHEMA_func_out'),\n",
              " ('root_body_0_item_body_2_item_body_0_item_value__Call',\n",
              "  'root_body_0_item_body_2_item_body_0_item_value_args_0__Call_args-seq-helper',\n",
              "  'SCHEMA_args_out_all'),\n",
              " ('root_body_0_item_body_2_item_body_0_item_value__Call',\n",
              "  'root_body_0_item_body_2_item_body_0_item_value_args_0__Call_args-seq-helper',\n",
              "  'SCHEMA_args_out_first'),\n",
              " ('root_body_0_item_body_2_item_body_0_item_value__Call',\n",
              "  'root_body_0_item_body_2_item_body_0_item_value_args_0__Call_args-seq-helper',\n",
              "  'SCHEMA_args_out_last'),\n",
              " ('root_body_0_item_body_2_item_body_0_item_value_func__Name',\n",
              "  'root_body_0_item_body_2_item_body_0_item_value__Call',\n",
              "  'SCHEMA_parent_out'),\n",
              " ('root_body_0_item_body_2_item_body_0_item_value_args_0__Call_args-seq-helper',\n",
              "  'root_body_0_item_body_2_item_body_0_item_value__Call',\n",
              "  'SCHEMA_parent_out'),\n",
              " ('root_body_0_item_body_2_item_body_0_item_value_args_0__Call_args-seq-helper',\n",
              "  'root_body_0_item_body_2_item_body_0_item_value_args_0_item__Name',\n",
              "  'SCHEMA_item_out'),\n",
              " ('root_body_0_item_body_2_item_body_0_item_value_args_0_item__Name',\n",
              "  'root_body_0_item_body_2_item_body_0_item_value_args_0__Call_args-seq-helper',\n",
              "  'SCHEMA_parent_out'),\n",
              " ('root_body_0_item_body_2_item_body_1__For_body-seq-helper',\n",
              "  'root_body_0_item_body_2_item__For',\n",
              "  'SCHEMA_parent_out'),\n",
              " ('root_body_0_item_body_2_item_body_1__For_body-seq-helper',\n",
              "  'root_body_0_item_body_2_item_body_1_item__If',\n",
              "  'SCHEMA_item_out'),\n",
              " ('root_body_0_item_body_2_item_body_1__For_body-seq-helper',\n",
              "  'root_body_0_item_body_2_item_body_0__For_body-seq-helper',\n",
              "  'SCHEMA_prev_out'),\n",
              " ('root_body_0_item_body_2_item_body_1__For_body-seq-helper',\n",
              "  'root_body_0_item_body_2_item_body_2__For_body-seq-helper',\n",
              "  'SCHEMA_next_out'),\n",
              " ('root_body_0_item_body_2_item_body_1_item__If',\n",
              "  'root_body_0_item_body_2_item_body_1__For_body-seq-helper',\n",
              "  'SCHEMA_parent_out'),\n",
              " ('root_body_0_item_body_2_item_body_1_item__If',\n",
              "  'root_body_0_item_body_2_item_body_1_item_test__Compare',\n",
              "  'SCHEMA_test_out'),\n",
              " ('root_body_0_item_body_2_item_body_1_item__If',\n",
              "  'root_body_0_item_body_2_item_body_1_item_body_0__If_body-seq-helper',\n",
              "  'SCHEMA_body_out_all'),\n",
              " ('root_body_0_item_body_2_item_body_1_item__If',\n",
              "  'root_body_0_item_body_2_item_body_1_item_body_0__If_body-seq-helper',\n",
              "  'SCHEMA_body_out_first'),\n",
              " ('root_body_0_item_body_2_item_body_1_item__If',\n",
              "  'root_body_0_item_body_2_item_body_1_item_body_0__If_body-seq-helper',\n",
              "  'SCHEMA_body_out_last'),\n",
              " ('root_body_0_item_body_2_item_body_1_item__If',\n",
              "  'root_body_0_item_body_2_item_body_1_item_orelse_0__If_orelse-seq-helper',\n",
              "  'SCHEMA_orelse_out_all'),\n",
              " ('root_body_0_item_body_2_item_body_1_item__If',\n",
              "  'root_body_0_item_body_2_item_body_1_item_orelse_0__If_orelse-seq-helper',\n",
              "  'SCHEMA_orelse_out_first'),\n",
              " ('root_body_0_item_body_2_item_body_1_item__If',\n",
              "  'root_body_0_item_body_2_item_body_1_item_orelse_0__If_orelse-seq-helper',\n",
              "  'SCHEMA_orelse_out_last'),\n",
              " ('root_body_0_item_body_2_item_body_1_item_test__Compare',\n",
              "  'root_body_0_item_body_2_item_body_1_item__If',\n",
              "  'SCHEMA_parent_out'),\n",
              " ('root_body_0_item_body_2_item_body_1_item_test__Compare',\n",
              "  'root_body_0_item_body_2_item_body_1_item_test_left__Name',\n",
              "  'SCHEMA_left_out'),\n",
              " ('root_body_0_item_body_2_item_body_1_item_test__Compare',\n",
              "  'root_body_0_item_body_2_item_body_1_item_test_ops__Eq',\n",
              "  'SCHEMA_ops_out'),\n",
              " ('root_body_0_item_body_2_item_body_1_item_test__Compare',\n",
              "  'root_body_0_item_body_2_item_body_1_item_test_comparators__Name',\n",
              "  'SCHEMA_comparators_out'),\n",
              " ('root_body_0_item_body_2_item_body_1_item_test_left__Name',\n",
              "  'root_body_0_item_body_2_item_body_1_item_test__Compare',\n",
              "  'SCHEMA_parent_out'),\n",
              " ('root_body_0_item_body_2_item_body_1_item_test_ops__Eq',\n",
              "  'root_body_0_item_body_2_item_body_1_item_test__Compare',\n",
              "  'SCHEMA_parent_out'),\n",
              " ('root_body_0_item_body_2_item_body_1_item_test_comparators__Name',\n",
              "  'root_body_0_item_body_2_item_body_1_item_test__Compare',\n",
              "  'SCHEMA_parent_out'),\n",
              " ('root_body_0_item_body_2_item_body_1_item_body_0__If_body-seq-helper',\n",
              "  'root_body_0_item_body_2_item_body_1_item__If',\n",
              "  'SCHEMA_parent_out'),\n",
              " ('root_body_0_item_body_2_item_body_1_item_body_0__If_body-seq-helper',\n",
              "  'root_body_0_item_body_2_item_body_1_item_body_0_item__Expr',\n",
              "  'SCHEMA_item_out'),\n",
              " ('root_body_0_item_body_2_item_body_1_item_body_0_item__Expr',\n",
              "  'root_body_0_item_body_2_item_body_1_item_body_0__If_body-seq-helper',\n",
              "  'SCHEMA_parent_out'),\n",
              " ('root_body_0_item_body_2_item_body_1_item_body_0_item__Expr',\n",
              "  'root_body_0_item_body_2_item_body_1_item_body_0_item_value__Call',\n",
              "  'SCHEMA_value_out'),\n",
              " ('root_body_0_item_body_2_item_body_1_item_body_0_item_value__Call',\n",
              "  'root_body_0_item_body_2_item_body_1_item_body_0_item__Expr',\n",
              "  'SCHEMA_parent_out'),\n",
              " ('root_body_0_item_body_2_item_body_1_item_body_0_item_value__Call',\n",
              "  'root_body_0_item_body_2_item_body_1_item_body_0_item_value_func__Name',\n",
              "  'SCHEMA_func_out'),\n",
              " ('root_body_0_item_body_2_item_body_1_item_body_0_item_value__Call',\n",
              "  'root_body_0_item_body_2_item_body_1_item_body_0_item_value_args_0__Call_args-seq-helper',\n",
              "  'SCHEMA_args_out_all'),\n",
              " ('root_body_0_item_body_2_item_body_1_item_body_0_item_value__Call',\n",
              "  'root_body_0_item_body_2_item_body_1_item_body_0_item_value_args_0__Call_args-seq-helper',\n",
              "  'SCHEMA_args_out_first'),\n",
              " ('root_body_0_item_body_2_item_body_1_item_body_0_item_value__Call',\n",
              "  'root_body_0_item_body_2_item_body_1_item_body_0_item_value_args_0__Call_args-seq-helper',\n",
              "  'SCHEMA_args_out_last'),\n",
              " ('root_body_0_item_body_2_item_body_1_item_body_0_item_value_func__Name',\n",
              "  'root_body_0_item_body_2_item_body_1_item_body_0_item_value__Call',\n",
              "  'SCHEMA_parent_out'),\n",
              " ('root_body_0_item_body_2_item_body_1_item_body_0_item_value_args_0__Call_args-seq-helper',\n",
              "  'root_body_0_item_body_2_item_body_1_item_body_0_item_value__Call',\n",
              "  'SCHEMA_parent_out'),\n",
              " ('root_body_0_item_body_2_item_body_1_item_body_0_item_value_args_0__Call_args-seq-helper',\n",
              "  'root_body_0_item_body_2_item_body_1_item_body_0_item_value_args_0_item__Name',\n",
              "  'SCHEMA_item_out'),\n",
              " ('root_body_0_item_body_2_item_body_1_item_body_0_item_value_args_0_item__Name',\n",
              "  'root_body_0_item_body_2_item_body_1_item_body_0_item_value_args_0__Call_args-seq-helper',\n",
              "  'SCHEMA_parent_out'),\n",
              " ('root_body_0_item_body_2_item_body_1_item_orelse_0__If_orelse-seq-helper',\n",
              "  'root_body_0_item_body_2_item_body_1_item__If',\n",
              "  'SCHEMA_parent_out'),\n",
              " ('root_body_0_item_body_2_item_body_1_item_orelse_0__If_orelse-seq-helper',\n",
              "  'root_body_0_item_body_2_item_body_1_item_orelse_0_item__If',\n",
              "  'SCHEMA_item_out'),\n",
              " ('root_body_0_item_body_2_item_body_1_item_orelse_0_item__If',\n",
              "  'root_body_0_item_body_2_item_body_1_item_orelse_0__If_orelse-seq-helper',\n",
              "  'SCHEMA_parent_out'),\n",
              " ('root_body_0_item_body_2_item_body_1_item_orelse_0_item__If',\n",
              "  'root_body_0_item_body_2_item_body_1_item_orelse_0_item_test__Compare',\n",
              "  'SCHEMA_test_out'),\n",
              " ('root_body_0_item_body_2_item_body_1_item_orelse_0_item__If',\n",
              "  'root_body_0_item_body_2_item_body_1_item_orelse_0_item_body_0__If_body-seq-helper',\n",
              "  'SCHEMA_body_out_all'),\n",
              " ('root_body_0_item_body_2_item_body_1_item_orelse_0_item__If',\n",
              "  'root_body_0_item_body_2_item_body_1_item_orelse_0_item_body_0__If_body-seq-helper',\n",
              "  'SCHEMA_body_out_first'),\n",
              " ('root_body_0_item_body_2_item_body_1_item_orelse_0_item__If',\n",
              "  'root_body_0_item_body_2_item_body_1_item_orelse_0_item_body_0__If_body-seq-helper',\n",
              "  'SCHEMA_body_out_last'),\n",
              " ('root_body_0_item_body_2_item_body_1_item_orelse_0_item__If',\n",
              "  'root_body_0_item_body_2_item_body_1_item_orelse_0_item_orelse_0__If_orelse-seq-helper',\n",
              "  'SCHEMA_orelse_out_all'),\n",
              " ('root_body_0_item_body_2_item_body_1_item_orelse_0_item__If',\n",
              "  'root_body_0_item_body_2_item_body_1_item_orelse_0_item_orelse_0__If_orelse-seq-helper',\n",
              "  'SCHEMA_orelse_out_first'),\n",
              " ('root_body_0_item_body_2_item_body_1_item_orelse_0_item__If',\n",
              "  'root_body_0_item_body_2_item_body_1_item_orelse_0_item_orelse_0__If_orelse-seq-helper',\n",
              "  'SCHEMA_orelse_out_last'),\n",
              " ('root_body_0_item_body_2_item_body_1_item_orelse_0_item_test__Compare',\n",
              "  'root_body_0_item_body_2_item_body_1_item_orelse_0_item__If',\n",
              "  'SCHEMA_parent_out'),\n",
              " ('root_body_0_item_body_2_item_body_1_item_orelse_0_item_test__Compare',\n",
              "  'root_body_0_item_body_2_item_body_1_item_orelse_0_item_test_left__Constant',\n",
              "  'SCHEMA_left_out'),\n",
              " ('root_body_0_item_body_2_item_body_1_item_orelse_0_item_test__Compare',\n",
              "  'root_body_0_item_body_2_item_body_1_item_orelse_0_item_test_ops__Gt',\n",
              "  'SCHEMA_ops_out'),\n",
              " ('root_body_0_item_body_2_item_body_1_item_orelse_0_item_test__Compare',\n",
              "  'root_body_0_item_body_2_item_body_1_item_orelse_0_item_test_comparators__Name',\n",
              "  'SCHEMA_comparators_out'),\n",
              " ('root_body_0_item_body_2_item_body_1_item_orelse_0_item_test_left__Constant',\n",
              "  'root_body_0_item_body_2_item_body_1_item_orelse_0_item_test__Compare',\n",
              "  'SCHEMA_parent_out'),\n",
              " ('root_body_0_item_body_2_item_body_1_item_orelse_0_item_test_ops__Gt',\n",
              "  'root_body_0_item_body_2_item_body_1_item_orelse_0_item_test__Compare',\n",
              "  'SCHEMA_parent_out'),\n",
              " ('root_body_0_item_body_2_item_body_1_item_orelse_0_item_test_comparators__Name',\n",
              "  'root_body_0_item_body_2_item_body_1_item_orelse_0_item_test__Compare',\n",
              "  'SCHEMA_parent_out'),\n",
              " ('root_body_0_item_body_2_item_body_1_item_orelse_0_item_body_0__If_body-seq-helper',\n",
              "  'root_body_0_item_body_2_item_body_1_item_orelse_0_item__If',\n",
              "  'SCHEMA_parent_out'),\n",
              " ('root_body_0_item_body_2_item_body_1_item_orelse_0_item_body_0__If_body-seq-helper',\n",
              "  'root_body_0_item_body_2_item_body_1_item_orelse_0_item_body_0_item__Return',\n",
              "  'SCHEMA_item_out'),\n",
              " ('root_body_0_item_body_2_item_body_1_item_orelse_0_item_body_0_item__Return',\n",
              "  'root_body_0_item_body_2_item_body_1_item_orelse_0_item_body_0__If_body-seq-helper',\n",
              "  'SCHEMA_parent_out'),\n",
              " ('root_body_0_item_body_2_item_body_1_item_orelse_0_item_orelse_0__If_orelse-seq-helper',\n",
              "  'root_body_0_item_body_2_item_body_1_item_orelse_0_item__If',\n",
              "  'SCHEMA_parent_out'),\n",
              " ('root_body_0_item_body_2_item_body_1_item_orelse_0_item_orelse_0__If_orelse-seq-helper',\n",
              "  'root_body_0_item_body_2_item_body_1_item_orelse_0_item_orelse_0_item__If',\n",
              "  'SCHEMA_item_out'),\n",
              " ('root_body_0_item_body_2_item_body_1_item_orelse_0_item_orelse_0_item__If',\n",
              "  'root_body_0_item_body_2_item_body_1_item_orelse_0_item_orelse_0__If_orelse-seq-helper',\n",
              "  'SCHEMA_parent_out'),\n",
              " ('root_body_0_item_body_2_item_body_1_item_orelse_0_item_orelse_0_item__If',\n",
              "  'root_body_0_item_body_2_item_body_1_item_orelse_0_item_orelse_0_item_test__Constant',\n",
              "  'SCHEMA_test_out'),\n",
              " ('root_body_0_item_body_2_item_body_1_item_orelse_0_item_orelse_0_item__If',\n",
              "  'root_body_0_item_body_2_item_body_1_item_orelse_0_item_orelse_0_item_body_0__If_body-seq-helper',\n",
              "  'SCHEMA_body_out_all'),\n",
              " ('root_body_0_item_body_2_item_body_1_item_orelse_0_item_orelse_0_item__If',\n",
              "  'root_body_0_item_body_2_item_body_1_item_orelse_0_item_orelse_0_item_body_0__If_body-seq-helper',\n",
              "  'SCHEMA_body_out_first'),\n",
              " ('root_body_0_item_body_2_item_body_1_item_orelse_0_item_orelse_0_item__If',\n",
              "  'root_body_0_item_body_2_item_body_1_item_orelse_0_item_orelse_0_item_body_0__If_body-seq-helper',\n",
              "  'SCHEMA_body_out_last'),\n",
              " ('root_body_0_item_body_2_item_body_1_item_orelse_0_item_orelse_0_item_test__Constant',\n",
              "  'root_body_0_item_body_2_item_body_1_item_orelse_0_item_orelse_0_item__If',\n",
              "  'SCHEMA_parent_out'),\n",
              " ('root_body_0_item_body_2_item_body_1_item_orelse_0_item_orelse_0_item_body_0__If_body-seq-helper',\n",
              "  'root_body_0_item_body_2_item_body_1_item_orelse_0_item_orelse_0_item__If',\n",
              "  'SCHEMA_parent_out'),\n",
              " ('root_body_0_item_body_2_item_body_1_item_orelse_0_item_orelse_0_item_body_0__If_body-seq-helper',\n",
              "  'root_body_0_item_body_2_item_body_1_item_orelse_0_item_orelse_0_item_body_0_item__Pass',\n",
              "  'SCHEMA_item_out'),\n",
              " ('root_body_0_item_body_2_item_body_1_item_orelse_0_item_orelse_0_item_body_0_item__Pass',\n",
              "  'root_body_0_item_body_2_item_body_1_item_orelse_0_item_orelse_0_item_body_0__If_body-seq-helper',\n",
              "  'SCHEMA_parent_out'),\n",
              " ('root_body_0_item_body_2_item_body_2__For_body-seq-helper',\n",
              "  'root_body_0_item_body_2_item__For',\n",
              "  'SCHEMA_parent_out'),\n",
              " ('root_body_0_item_body_2_item_body_2__For_body-seq-helper',\n",
              "  'root_body_0_item_body_2_item_body_2_item__Return',\n",
              "  'SCHEMA_item_out'),\n",
              " ('root_body_0_item_body_2_item_body_2__For_body-seq-helper',\n",
              "  'root_body_0_item_body_2_item_body_1__For_body-seq-helper',\n",
              "  'SCHEMA_prev_out'),\n",
              " ('root_body_0_item_body_2_item_body_2_item__Return',\n",
              "  'root_body_0_item_body_2_item_body_2__For_body-seq-helper',\n",
              "  'SCHEMA_parent_out'),\n",
              " ('root_body_0_item_body_3__FunctionDef_body-seq-helper',\n",
              "  'root_body_0_item__FunctionDef',\n",
              "  'SCHEMA_parent_out'),\n",
              " ('root_body_0_item_body_3__FunctionDef_body-seq-helper',\n",
              "  'root_body_0_item_body_3_item__If',\n",
              "  'SCHEMA_item_out'),\n",
              " ('root_body_0_item_body_3__FunctionDef_body-seq-helper',\n",
              "  'root_body_0_item_body_2__FunctionDef_body-seq-helper',\n",
              "  'SCHEMA_prev_out'),\n",
              " ('root_body_0_item_body_3__FunctionDef_body-seq-helper',\n",
              "  'root_body_0_item_body_4__FunctionDef_body-seq-helper',\n",
              "  'SCHEMA_next_out'),\n",
              " ('root_body_0_item_body_3_item__If',\n",
              "  'root_body_0_item_body_3__FunctionDef_body-seq-helper',\n",
              "  'SCHEMA_parent_out'),\n",
              " ('root_body_0_item_body_3_item__If',\n",
              "  'root_body_0_item_body_3_item_test__Compare',\n",
              "  'SCHEMA_test_out'),\n",
              " ('root_body_0_item_body_3_item__If',\n",
              "  'root_body_0_item_body_3_item_body_0__If_body-seq-helper',\n",
              "  'SCHEMA_body_out_all'),\n",
              " ('root_body_0_item_body_3_item__If',\n",
              "  'root_body_0_item_body_3_item_body_0__If_body-seq-helper',\n",
              "  'SCHEMA_body_out_first'),\n",
              " ('root_body_0_item_body_3_item__If',\n",
              "  'root_body_0_item_body_3_item_body_0__If_body-seq-helper',\n",
              "  'SCHEMA_body_out_last'),\n",
              " ('root_body_0_item_body_3_item_test__Compare',\n",
              "  'root_body_0_item_body_3_item__If',\n",
              "  'SCHEMA_parent_out'),\n",
              " ('root_body_0_item_body_3_item_test__Compare',\n",
              "  'root_body_0_item_body_3_item_test_left__BinOp',\n",
              "  'SCHEMA_left_out'),\n",
              " ('root_body_0_item_body_3_item_test__Compare',\n",
              "  'root_body_0_item_body_3_item_test_ops__LtE',\n",
              "  'SCHEMA_ops_out'),\n",
              " ('root_body_0_item_body_3_item_test__Compare',\n",
              "  'root_body_0_item_body_3_item_test_comparators__Constant',\n",
              "  'SCHEMA_comparators_out'),\n",
              " ('root_body_0_item_body_3_item_test_left__BinOp',\n",
              "  'root_body_0_item_body_3_item_test__Compare',\n",
              "  'SCHEMA_parent_out'),\n",
              " ('root_body_0_item_body_3_item_test_left__BinOp',\n",
              "  'root_body_0_item_body_3_item_test_left_left__BinOp',\n",
              "  'SCHEMA_left_out'),\n",
              " ('root_body_0_item_body_3_item_test_left__BinOp',\n",
              "  'root_body_0_item_body_3_item_test_left_op__Add',\n",
              "  'SCHEMA_op_out'),\n",
              " ('root_body_0_item_body_3_item_test_left__BinOp',\n",
              "  'root_body_0_item_body_3_item_test_left_right__Constant',\n",
              "  'SCHEMA_right_out'),\n",
              " ('root_body_0_item_body_3_item_test_left_left__BinOp',\n",
              "  'root_body_0_item_body_3_item_test_left__BinOp',\n",
              "  'SCHEMA_parent_out'),\n",
              " ('root_body_0_item_body_3_item_test_left_left__BinOp',\n",
              "  'root_body_0_item_body_3_item_test_left_left_left__Name',\n",
              "  'SCHEMA_left_out'),\n",
              " ('root_body_0_item_body_3_item_test_left_left__BinOp',\n",
              "  'root_body_0_item_body_3_item_test_left_left_op__Add',\n",
              "  'SCHEMA_op_out'),\n",
              " ('root_body_0_item_body_3_item_test_left_left__BinOp',\n",
              "  'root_body_0_item_body_3_item_test_left_left_right__Constant',\n",
              "  'SCHEMA_right_out'),\n",
              " ('root_body_0_item_body_3_item_test_left_left_left__Name',\n",
              "  'root_body_0_item_body_3_item_test_left_left__BinOp',\n",
              "  'SCHEMA_parent_out'),\n",
              " ('root_body_0_item_body_3_item_test_left_left_op__Add',\n",
              "  'root_body_0_item_body_3_item_test_left_left__BinOp',\n",
              "  'SCHEMA_parent_out'),\n",
              " ('root_body_0_item_body_3_item_test_left_left_right__Constant',\n",
              "  'root_body_0_item_body_3_item_test_left_left__BinOp',\n",
              "  'SCHEMA_parent_out'),\n",
              " ('root_body_0_item_body_3_item_test_left_op__Add',\n",
              "  'root_body_0_item_body_3_item_test_left__BinOp',\n",
              "  'SCHEMA_parent_out'),\n",
              " ('root_body_0_item_body_3_item_test_left_right__Constant',\n",
              "  'root_body_0_item_body_3_item_test_left__BinOp',\n",
              "  'SCHEMA_parent_out'),\n",
              " ('root_body_0_item_body_3_item_test_ops__LtE',\n",
              "  'root_body_0_item_body_3_item_test__Compare',\n",
              "  'SCHEMA_parent_out'),\n",
              " ('root_body_0_item_body_3_item_test_comparators__Constant',\n",
              "  'root_body_0_item_body_3_item_test__Compare',\n",
              "  'SCHEMA_parent_out'),\n",
              " ('root_body_0_item_body_3_item_body_0__If_body-seq-helper',\n",
              "  'root_body_0_item_body_3_item__If',\n",
              "  'SCHEMA_parent_out'),\n",
              " ('root_body_0_item_body_3_item_body_0__If_body-seq-helper',\n",
              "  'root_body_0_item_body_3_item_body_0_item__For',\n",
              "  'SCHEMA_item_out'),\n",
              " ('root_body_0_item_body_3_item_body_0_item__For',\n",
              "  'root_body_0_item_body_3_item_body_0__If_body-seq-helper',\n",
              "  'SCHEMA_parent_out'),\n",
              " ('root_body_0_item_body_3_item_body_0_item__For',\n",
              "  'root_body_0_item_body_3_item_body_0_item_target__Name',\n",
              "  'SCHEMA_target_out'),\n",
              " ('root_body_0_item_body_3_item_body_0_item__For',\n",
              "  'root_body_0_item_body_3_item_body_0_item_iter__Call',\n",
              "  'SCHEMA_iter_out'),\n",
              " ('root_body_0_item_body_3_item_body_0_item__For',\n",
              "  'root_body_0_item_body_3_item_body_0_item_body_0__For_body-seq-helper',\n",
              "  'SCHEMA_body_out_all'),\n",
              " ('root_body_0_item_body_3_item_body_0_item__For',\n",
              "  'root_body_0_item_body_3_item_body_0_item_body_0__For_body-seq-helper',\n",
              "  'SCHEMA_body_out_first'),\n",
              " ('root_body_0_item_body_3_item_body_0_item__For',\n",
              "  'root_body_0_item_body_3_item_body_0_item_body_0__For_body-seq-helper',\n",
              "  'SCHEMA_body_out_last'),\n",
              " ('root_body_0_item_body_3_item_body_0_item_target__Name',\n",
              "  'root_body_0_item_body_3_item_body_0_item__For',\n",
              "  'SCHEMA_parent_out'),\n",
              " ('root_body_0_item_body_3_item_body_0_item_iter__Call',\n",
              "  'root_body_0_item_body_3_item_body_0_item__For',\n",
              "  'SCHEMA_parent_out'),\n",
              " ('root_body_0_item_body_3_item_body_0_item_iter__Call',\n",
              "  'root_body_0_item_body_3_item_body_0_item_iter_func__Name',\n",
              "  'SCHEMA_func_out'),\n",
              " ('root_body_0_item_body_3_item_body_0_item_iter__Call',\n",
              "  'root_body_0_item_body_3_item_body_0_item_iter_args_0__Call_args-seq-helper',\n",
              "  'SCHEMA_args_out_all'),\n",
              " ('root_body_0_item_body_3_item_body_0_item_iter__Call',\n",
              "  'root_body_0_item_body_3_item_body_0_item_iter_args_0__Call_args-seq-helper',\n",
              "  'SCHEMA_args_out_first'),\n",
              " ('root_body_0_item_body_3_item_body_0_item_iter__Call',\n",
              "  'root_body_0_item_body_3_item_body_0_item_iter_args_0__Call_args-seq-helper',\n",
              "  'SCHEMA_args_out_last'),\n",
              " ('root_body_0_item_body_3_item_body_0_item_iter_func__Name',\n",
              "  'root_body_0_item_body_3_item_body_0_item_iter__Call',\n",
              "  'SCHEMA_parent_out'),\n",
              " ('root_body_0_item_body_3_item_body_0_item_iter_args_0__Call_args-seq-helper',\n",
              "  'root_body_0_item_body_3_item_body_0_item_iter__Call',\n",
              "  'SCHEMA_parent_out'),\n",
              " ('root_body_0_item_body_3_item_body_0_item_iter_args_0__Call_args-seq-helper',\n",
              "  'root_body_0_item_body_3_item_body_0_item_iter_args_0_item__Call',\n",
              "  'SCHEMA_item_out'),\n",
              " ('root_body_0_item_body_3_item_body_0_item_iter_args_0_item__Call',\n",
              "  'root_body_0_item_body_3_item_body_0_item_iter_args_0__Call_args-seq-helper',\n",
              "  'SCHEMA_parent_out'),\n",
              " ('root_body_0_item_body_3_item_body_0_item_iter_args_0_item__Call',\n",
              "  'root_body_0_item_body_3_item_body_0_item_iter_args_0_item_func__Name',\n",
              "  'SCHEMA_func_out'),\n",
              " ('root_body_0_item_body_3_item_body_0_item_iter_args_0_item__Call',\n",
              "  'root_body_0_item_body_3_item_body_0_item_iter_args_0_item_args_0__Call_args-seq-helper',\n",
              "  'SCHEMA_args_out_all'),\n",
              " ('root_body_0_item_body_3_item_body_0_item_iter_args_0_item__Call',\n",
              "  'root_body_0_item_body_3_item_body_0_item_iter_args_0_item_args_0__Call_args-seq-helper',\n",
              "  'SCHEMA_args_out_first'),\n",
              " ('root_body_0_item_body_3_item_body_0_item_iter_args_0_item__Call',\n",
              "  'root_body_0_item_body_3_item_body_0_item_iter_args_0_item_args_0__Call_args-seq-helper',\n",
              "  'SCHEMA_args_out_last'),\n",
              " ('root_body_0_item_body_3_item_body_0_item_iter_args_0_item_func__Name',\n",
              "  'root_body_0_item_body_3_item_body_0_item_iter_args_0_item__Call',\n",
              "  'SCHEMA_parent_out'),\n",
              " ('root_body_0_item_body_3_item_body_0_item_iter_args_0_item_args_0__Call_args-seq-helper',\n",
              "  'root_body_0_item_body_3_item_body_0_item_iter_args_0_item__Call',\n",
              "  'SCHEMA_parent_out'),\n",
              " ('root_body_0_item_body_3_item_body_0_item_iter_args_0_item_args_0__Call_args-seq-helper',\n",
              "  'root_body_0_item_body_3_item_body_0_item_iter_args_0_item_args_0_item__Name',\n",
              "  'SCHEMA_item_out'),\n",
              " ('root_body_0_item_body_3_item_body_0_item_iter_args_0_item_args_0_item__Name',\n",
              "  'root_body_0_item_body_3_item_body_0_item_iter_args_0_item_args_0__Call_args-seq-helper',\n",
              "  'SCHEMA_parent_out'),\n",
              " ('root_body_0_item_body_3_item_body_0_item_body_0__For_body-seq-helper',\n",
              "  'root_body_0_item_body_3_item_body_0_item__For',\n",
              "  'SCHEMA_parent_out'),\n",
              " ('root_body_0_item_body_3_item_body_0_item_body_0__For_body-seq-helper',\n",
              "  'root_body_0_item_body_3_item_body_0_item_body_0_item__Break',\n",
              "  'SCHEMA_item_out'),\n",
              " ('root_body_0_item_body_3_item_body_0_item_body_0_item__Break',\n",
              "  'root_body_0_item_body_3_item_body_0_item_body_0__For_body-seq-helper',\n",
              "  'SCHEMA_parent_out'),\n",
              " ('root_body_0_item_body_4__FunctionDef_body-seq-helper',\n",
              "  'root_body_0_item__FunctionDef',\n",
              "  'SCHEMA_parent_out'),\n",
              " ('root_body_0_item_body_4__FunctionDef_body-seq-helper',\n",
              "  'root_body_0_item_body_4_item__Assign',\n",
              "  'SCHEMA_item_out'),\n",
              " ('root_body_0_item_body_4__FunctionDef_body-seq-helper',\n",
              "  'root_body_0_item_body_3__FunctionDef_body-seq-helper',\n",
              "  'SCHEMA_prev_out'),\n",
              " ('root_body_0_item_body_4_item__Assign',\n",
              "  'root_body_0_item_body_4__FunctionDef_body-seq-helper',\n",
              "  'SCHEMA_parent_out'),\n",
              " ('root_body_0_item_body_4_item__Assign',\n",
              "  'root_body_0_item_body_4_item_targets__Name',\n",
              "  'SCHEMA_targets_out'),\n",
              " ('root_body_0_item_body_4_item__Assign',\n",
              "  'root_body_0_item_body_4_item_value__Constant',\n",
              "  'SCHEMA_value_out'),\n",
              " ('root_body_0_item_body_4_item_targets__Name',\n",
              "  'root_body_0_item_body_4_item__Assign',\n",
              "  'SCHEMA_parent_out'),\n",
              " ('root_body_0_item_body_4_item_value__Constant',\n",
              "  'root_body_0_item_body_4_item__Assign',\n",
              "  'SCHEMA_parent_out'),\n",
              " ('root_body_0_item_args_args_0_item__Name',\n",
              "  'root_body_0_item_args_args_0_item__Name',\n",
              "  'EXTRA_SAME_IDENTIFIER'),\n",
              " ('root_body_0_item_args_args_1_item__Name',\n",
              "  'root_body_0_item_args_args_1_item__Name',\n",
              "  'EXTRA_SAME_IDENTIFIER'),\n",
              " ('root_body_0_item_body_1_item_targets__Name',\n",
              "  'root_body_0_item_body_1_item_targets__Name',\n",
              "  'EXTRA_SAME_IDENTIFIER'),\n",
              " ('root_body_0_item_body_2_item_target__Name',\n",
              "  'root_body_0_item_body_2_item_target__Name',\n",
              "  'EXTRA_SAME_IDENTIFIER'),\n",
              " ('root_body_0_item_body_4_item_targets__Name',\n",
              "  'root_body_0_item_body_2_item_target__Name',\n",
              "  'EXTRA_SAME_IDENTIFIER'),\n",
              " ('root_body_0_item_body_2_item_target__Name',\n",
              "  'root_body_0_item_body_4_item_targets__Name',\n",
              "  'EXTRA_SAME_IDENTIFIER'),\n",
              " ('root_body_0_item_body_4_item_targets__Name',\n",
              "  'root_body_0_item_body_4_item_targets__Name',\n",
              "  'EXTRA_SAME_IDENTIFIER'),\n",
              " ('root_body_0_item_body_0_item_value_func__Name',\n",
              "  'root_body_0_item_body_0_item_value_func__Name',\n",
              "  'EXTRA_SAME_IDENTIFIER'),\n",
              " ('root_body_0_item_body_0_item_value_args_0_item__Name',\n",
              "  'root_body_0_item_args_args_0_item__Name',\n",
              "  'EXTRA_SAME_IDENTIFIER'),\n",
              " ('root_body_0_item_args_args_0_item__Name',\n",
              "  'root_body_0_item_body_0_item_value_args_0_item__Name',\n",
              "  'EXTRA_SAME_IDENTIFIER'),\n",
              " ('root_body_0_item_body_0_item_value_args_0_item__Name',\n",
              "  'root_body_0_item_body_0_item_value_args_0_item__Name',\n",
              "  'EXTRA_SAME_IDENTIFIER'),\n",
              " ('root_body_0_item_body_2_item_iter_func__Name',\n",
              "  'root_body_0_item_body_2_item_iter_func__Name',\n",
              "  'EXTRA_SAME_IDENTIFIER'),\n",
              " ('root_body_0_item_body_3_item_body_0_item_target__Name',\n",
              "  'root_body_0_item_body_2_item_target__Name',\n",
              "  'EXTRA_SAME_IDENTIFIER'),\n",
              " ('root_body_0_item_body_2_item_target__Name',\n",
              "  'root_body_0_item_body_3_item_body_0_item_target__Name',\n",
              "  'EXTRA_SAME_IDENTIFIER'),\n",
              " ('root_body_0_item_body_3_item_body_0_item_target__Name',\n",
              "  'root_body_0_item_body_4_item_targets__Name',\n",
              "  'EXTRA_SAME_IDENTIFIER'),\n",
              " ('root_body_0_item_body_4_item_targets__Name',\n",
              "  'root_body_0_item_body_3_item_body_0_item_target__Name',\n",
              "  'EXTRA_SAME_IDENTIFIER'),\n",
              " ('root_body_0_item_body_3_item_body_0_item_target__Name',\n",
              "  'root_body_0_item_body_3_item_body_0_item_target__Name',\n",
              "  'EXTRA_SAME_IDENTIFIER'),\n",
              " ('root_body_0_item_body_2_item_iter_args_0_item_func__Name',\n",
              "  'root_body_0_item_body_2_item_iter_args_0_item_func__Name',\n",
              "  'EXTRA_SAME_IDENTIFIER'),\n",
              " ('root_body_0_item_body_2_item_body_0_item_value_func__Name',\n",
              "  'root_body_0_item_body_0_item_value_func__Name',\n",
              "  'EXTRA_SAME_IDENTIFIER'),\n",
              " ('root_body_0_item_body_0_item_value_func__Name',\n",
              "  'root_body_0_item_body_2_item_body_0_item_value_func__Name',\n",
              "  'EXTRA_SAME_IDENTIFIER'),\n",
              " ('root_body_0_item_body_2_item_body_0_item_value_func__Name',\n",
              "  'root_body_0_item_body_2_item_body_0_item_value_func__Name',\n",
              "  'EXTRA_SAME_IDENTIFIER'),\n",
              " ('root_body_0_item_body_2_item_body_0_item_value_args_0_item__Name',\n",
              "  'root_body_0_item_args_args_0_item__Name',\n",
              "  'EXTRA_SAME_IDENTIFIER'),\n",
              " ('root_body_0_item_args_args_0_item__Name',\n",
              "  'root_body_0_item_body_2_item_body_0_item_value_args_0_item__Name',\n",
              "  'EXTRA_SAME_IDENTIFIER'),\n",
              " ('root_body_0_item_body_2_item_body_0_item_value_args_0_item__Name',\n",
              "  'root_body_0_item_body_0_item_value_args_0_item__Name',\n",
              "  'EXTRA_SAME_IDENTIFIER'),\n",
              " ('root_body_0_item_body_0_item_value_args_0_item__Name',\n",
              "  'root_body_0_item_body_2_item_body_0_item_value_args_0_item__Name',\n",
              "  'EXTRA_SAME_IDENTIFIER'),\n",
              " ('root_body_0_item_body_2_item_body_0_item_value_args_0_item__Name',\n",
              "  'root_body_0_item_body_2_item_body_0_item_value_args_0_item__Name',\n",
              "  'EXTRA_SAME_IDENTIFIER'),\n",
              " ('root_body_0_item_body_2_item_body_1_item_test_left__Name',\n",
              "  'root_body_0_item_args_args_0_item__Name',\n",
              "  'EXTRA_SAME_IDENTIFIER'),\n",
              " ('root_body_0_item_args_args_0_item__Name',\n",
              "  'root_body_0_item_body_2_item_body_1_item_test_left__Name',\n",
              "  'EXTRA_SAME_IDENTIFIER'),\n",
              " ('root_body_0_item_body_2_item_body_1_item_test_left__Name',\n",
              "  'root_body_0_item_body_0_item_value_args_0_item__Name',\n",
              "  'EXTRA_SAME_IDENTIFIER'),\n",
              " ('root_body_0_item_body_0_item_value_args_0_item__Name',\n",
              "  'root_body_0_item_body_2_item_body_1_item_test_left__Name',\n",
              "  'EXTRA_SAME_IDENTIFIER'),\n",
              " ('root_body_0_item_body_2_item_body_1_item_test_left__Name',\n",
              "  'root_body_0_item_body_2_item_body_0_item_value_args_0_item__Name',\n",
              "  'EXTRA_SAME_IDENTIFIER'),\n",
              " ('root_body_0_item_body_2_item_body_0_item_value_args_0_item__Name',\n",
              "  'root_body_0_item_body_2_item_body_1_item_test_left__Name',\n",
              "  'EXTRA_SAME_IDENTIFIER'),\n",
              " ('root_body_0_item_body_2_item_body_1_item_test_left__Name',\n",
              "  'root_body_0_item_body_2_item_body_1_item_test_left__Name',\n",
              "  'EXTRA_SAME_IDENTIFIER'),\n",
              " ('root_body_0_item_body_2_item_body_1_item_test_comparators__Name',\n",
              "  'root_body_0_item_body_2_item_target__Name',\n",
              "  'EXTRA_SAME_IDENTIFIER'),\n",
              " ('root_body_0_item_body_2_item_target__Name',\n",
              "  'root_body_0_item_body_2_item_body_1_item_test_comparators__Name',\n",
              "  'EXTRA_SAME_IDENTIFIER'),\n",
              " ('root_body_0_item_body_2_item_body_1_item_test_comparators__Name',\n",
              "  'root_body_0_item_body_4_item_targets__Name',\n",
              "  'EXTRA_SAME_IDENTIFIER'),\n",
              " ('root_body_0_item_body_4_item_targets__Name',\n",
              "  'root_body_0_item_body_2_item_body_1_item_test_comparators__Name',\n",
              "  'EXTRA_SAME_IDENTIFIER'),\n",
              " ('root_body_0_item_body_2_item_body_1_item_test_comparators__Name',\n",
              "  'root_body_0_item_body_3_item_body_0_item_target__Name',\n",
              "  'EXTRA_SAME_IDENTIFIER'),\n",
              " ('root_body_0_item_body_3_item_body_0_item_target__Name',\n",
              "  'root_body_0_item_body_2_item_body_1_item_test_comparators__Name',\n",
              "  'EXTRA_SAME_IDENTIFIER'),\n",
              " ('root_body_0_item_body_2_item_body_1_item_test_comparators__Name',\n",
              "  'root_body_0_item_body_2_item_body_1_item_test_comparators__Name',\n",
              "  'EXTRA_SAME_IDENTIFIER'),\n",
              " ('root_body_0_item_body_3_item_body_0_item_iter_func__Name',\n",
              "  'root_body_0_item_body_2_item_iter_func__Name',\n",
              "  'EXTRA_SAME_IDENTIFIER'),\n",
              " ('root_body_0_item_body_2_item_iter_func__Name',\n",
              "  'root_body_0_item_body_3_item_body_0_item_iter_func__Name',\n",
              "  'EXTRA_SAME_IDENTIFIER'),\n",
              " ('root_body_0_item_body_3_item_body_0_item_iter_func__Name',\n",
              "  'root_body_0_item_body_3_item_body_0_item_iter_func__Name',\n",
              "  'EXTRA_SAME_IDENTIFIER'),\n",
              " ('root_body_0_item_body_2_item_body_1_item_body_0_item_value_func__Name',\n",
              "  'root_body_0_item_body_0_item_value_func__Name',\n",
              "  'EXTRA_SAME_IDENTIFIER'),\n",
              " ('root_body_0_item_body_0_item_value_func__Name',\n",
              "  'root_body_0_item_body_2_item_body_1_item_body_0_item_value_func__Name',\n",
              "  'EXTRA_SAME_IDENTIFIER'),\n",
              " ('root_body_0_item_body_2_item_body_1_item_body_0_item_value_func__Name',\n",
              "  'root_body_0_item_body_2_item_body_0_item_value_func__Name',\n",
              "  'EXTRA_SAME_IDENTIFIER'),\n",
              " ('root_body_0_item_body_2_item_body_0_item_value_func__Name',\n",
              "  'root_body_0_item_body_2_item_body_1_item_body_0_item_value_func__Name',\n",
              "  'EXTRA_SAME_IDENTIFIER'),\n",
              " ('root_body_0_item_body_2_item_body_1_item_body_0_item_value_func__Name',\n",
              "  'root_body_0_item_body_2_item_body_1_item_body_0_item_value_func__Name',\n",
              "  'EXTRA_SAME_IDENTIFIER'),\n",
              " ('root_body_0_item_body_2_item_body_1_item_body_0_item_value_args_0_item__Name',\n",
              "  'root_body_0_item_args_args_0_item__Name',\n",
              "  'EXTRA_SAME_IDENTIFIER'),\n",
              " ('root_body_0_item_args_args_0_item__Name',\n",
              "  'root_body_0_item_body_2_item_body_1_item_body_0_item_value_args_0_item__Name',\n",
              "  'EXTRA_SAME_IDENTIFIER'),\n",
              " ('root_body_0_item_body_2_item_body_1_item_body_0_item_value_args_0_item__Name',\n",
              "  'root_body_0_item_body_0_item_value_args_0_item__Name',\n",
              "  'EXTRA_SAME_IDENTIFIER'),\n",
              " ('root_body_0_item_body_0_item_value_args_0_item__Name',\n",
              "  'root_body_0_item_body_2_item_body_1_item_body_0_item_value_args_0_item__Name',\n",
              "  'EXTRA_SAME_IDENTIFIER'),\n",
              " ('root_body_0_item_body_2_item_body_1_item_body_0_item_value_args_0_item__Name',\n",
              "  'root_body_0_item_body_2_item_body_0_item_value_args_0_item__Name',\n",
              "  'EXTRA_SAME_IDENTIFIER'),\n",
              " ('root_body_0_item_body_2_item_body_0_item_value_args_0_item__Name',\n",
              "  'root_body_0_item_body_2_item_body_1_item_body_0_item_value_args_0_item__Name',\n",
              "  'EXTRA_SAME_IDENTIFIER'),\n",
              " ('root_body_0_item_body_2_item_body_1_item_body_0_item_value_args_0_item__Name',\n",
              "  'root_body_0_item_body_2_item_body_1_item_test_left__Name',\n",
              "  'EXTRA_SAME_IDENTIFIER'),\n",
              " ('root_body_0_item_body_2_item_body_1_item_test_left__Name',\n",
              "  'root_body_0_item_body_2_item_body_1_item_body_0_item_value_args_0_item__Name',\n",
              "  'EXTRA_SAME_IDENTIFIER'),\n",
              " ('root_body_0_item_body_2_item_body_1_item_body_0_item_value_args_0_item__Name',\n",
              "  'root_body_0_item_body_2_item_body_1_item_body_0_item_value_args_0_item__Name',\n",
              "  'EXTRA_SAME_IDENTIFIER'),\n",
              " ('root_body_0_item_body_2_item_body_1_item_orelse_0_item_test_comparators__Name',\n",
              "  'root_body_0_item_body_2_item_target__Name',\n",
              "  'EXTRA_SAME_IDENTIFIER'),\n",
              " ('root_body_0_item_body_2_item_target__Name',\n",
              "  'root_body_0_item_body_2_item_body_1_item_orelse_0_item_test_comparators__Name',\n",
              "  'EXTRA_SAME_IDENTIFIER'),\n",
              " ('root_body_0_item_body_2_item_body_1_item_orelse_0_item_test_comparators__Name',\n",
              "  'root_body_0_item_body_4_item_targets__Name',\n",
              "  'EXTRA_SAME_IDENTIFIER'),\n",
              " ('root_body_0_item_body_4_item_targets__Name',\n",
              "  'root_body_0_item_body_2_item_body_1_item_orelse_0_item_test_comparators__Name',\n",
              "  'EXTRA_SAME_IDENTIFIER'),\n",
              " ('root_body_0_item_body_2_item_body_1_item_orelse_0_item_test_comparators__Name',\n",
              "  'root_body_0_item_body_3_item_body_0_item_target__Name',\n",
              "  'EXTRA_SAME_IDENTIFIER'),\n",
              " ('root_body_0_item_body_3_item_body_0_item_target__Name',\n",
              "  'root_body_0_item_body_2_item_body_1_item_orelse_0_item_test_comparators__Name',\n",
              "  'EXTRA_SAME_IDENTIFIER'),\n",
              " ('root_body_0_item_body_2_item_body_1_item_orelse_0_item_test_comparators__Name',\n",
              "  'root_body_0_item_body_2_item_body_1_item_test_comparators__Name',\n",
              "  'EXTRA_SAME_IDENTIFIER'),\n",
              " ('root_body_0_item_body_2_item_body_1_item_test_comparators__Name',\n",
              "  'root_body_0_item_body_2_item_body_1_item_orelse_0_item_test_comparators__Name',\n",
              "  'EXTRA_SAME_IDENTIFIER'),\n",
              " ('root_body_0_item_body_2_item_body_1_item_orelse_0_item_test_comparators__Name',\n",
              "  'root_body_0_item_body_2_item_body_1_item_orelse_0_item_test_comparators__Name',\n",
              "  'EXTRA_SAME_IDENTIFIER'),\n",
              " ('root_body_0_item_body_3_item_test_left_left_left__Name',\n",
              "  'root_body_0_item_args_args_1_item__Name',\n",
              "  'EXTRA_SAME_IDENTIFIER'),\n",
              " ('root_body_0_item_args_args_1_item__Name',\n",
              "  'root_body_0_item_body_3_item_test_left_left_left__Name',\n",
              "  'EXTRA_SAME_IDENTIFIER'),\n",
              " ('root_body_0_item_body_3_item_test_left_left_left__Name',\n",
              "  'root_body_0_item_body_3_item_test_left_left_left__Name',\n",
              "  'EXTRA_SAME_IDENTIFIER'),\n",
              " ('root_body_0_item_body_3_item_body_0_item_iter_args_0_item_func__Name',\n",
              "  'root_body_0_item_body_2_item_iter_args_0_item_func__Name',\n",
              "  'EXTRA_SAME_IDENTIFIER'),\n",
              " ('root_body_0_item_body_2_item_iter_args_0_item_func__Name',\n",
              "  'root_body_0_item_body_3_item_body_0_item_iter_args_0_item_func__Name',\n",
              "  'EXTRA_SAME_IDENTIFIER'),\n",
              " ('root_body_0_item_body_3_item_body_0_item_iter_args_0_item_func__Name',\n",
              "  'root_body_0_item_body_3_item_body_0_item_iter_args_0_item_func__Name',\n",
              "  'EXTRA_SAME_IDENTIFIER'),\n",
              " ('root_body_0_item_body_3_item_body_0_item_iter_args_0_item_args_0_item__Name',\n",
              "  'root_body_0_item_args_args_0_item__Name',\n",
              "  'EXTRA_SAME_IDENTIFIER'),\n",
              " ('root_body_0_item_args_args_0_item__Name',\n",
              "  'root_body_0_item_body_3_item_body_0_item_iter_args_0_item_args_0_item__Name',\n",
              "  'EXTRA_SAME_IDENTIFIER'),\n",
              " ('root_body_0_item_body_3_item_body_0_item_iter_args_0_item_args_0_item__Name',\n",
              "  'root_body_0_item_body_0_item_value_args_0_item__Name',\n",
              "  'EXTRA_SAME_IDENTIFIER'),\n",
              " ('root_body_0_item_body_0_item_value_args_0_item__Name',\n",
              "  'root_body_0_item_body_3_item_body_0_item_iter_args_0_item_args_0_item__Name',\n",
              "  'EXTRA_SAME_IDENTIFIER'),\n",
              " ('root_body_0_item_body_3_item_body_0_item_iter_args_0_item_args_0_item__Name',\n",
              "  'root_body_0_item_body_2_item_body_0_item_value_args_0_item__Name',\n",
              "  'EXTRA_SAME_IDENTIFIER'),\n",
              " ('root_body_0_item_body_2_item_body_0_item_value_args_0_item__Name',\n",
              "  'root_body_0_item_body_3_item_body_0_item_iter_args_0_item_args_0_item__Name',\n",
              "  'EXTRA_SAME_IDENTIFIER'),\n",
              " ('root_body_0_item_body_3_item_body_0_item_iter_args_0_item_args_0_item__Name',\n",
              "  'root_body_0_item_body_2_item_body_1_item_test_left__Name',\n",
              "  'EXTRA_SAME_IDENTIFIER'),\n",
              " ('root_body_0_item_body_2_item_body_1_item_test_left__Name',\n",
              "  'root_body_0_item_body_3_item_body_0_item_iter_args_0_item_args_0_item__Name',\n",
              "  'EXTRA_SAME_IDENTIFIER'),\n",
              " ('root_body_0_item_body_3_item_body_0_item_iter_args_0_item_args_0_item__Name',\n",
              "  'root_body_0_item_body_2_item_body_1_item_body_0_item_value_args_0_item__Name',\n",
              "  'EXTRA_SAME_IDENTIFIER'),\n",
              " ('root_body_0_item_body_2_item_body_1_item_body_0_item_value_args_0_item__Name',\n",
              "  'root_body_0_item_body_3_item_body_0_item_iter_args_0_item_args_0_item__Name',\n",
              "  'EXTRA_SAME_IDENTIFIER'),\n",
              " ('root_body_0_item_body_3_item_body_0_item_iter_args_0_item_args_0_item__Name',\n",
              "  'root_body_0_item_body_3_item_body_0_item_iter_args_0_item_args_0_item__Name',\n",
              "  'EXTRA_SAME_IDENTIFIER')]"
            ]
          },
          "metadata": {
            "tags": []
          },
          "execution_count": 20
        }
      ]
    },
    {
      "cell_type": "code",
      "metadata": {
        "id": "2skDttb0cHZb"
      },
      "source": [
        "all_edges = target_edges + other_edges"
      ],
      "execution_count": null,
      "outputs": []
    },
    {
      "cell_type": "markdown",
      "metadata": {
        "id": "JRvkDejquH-2"
      },
      "source": [
        "## Converting our examples to NDArrays"
      ]
    },
    {
      "cell_type": "markdown",
      "metadata": {
        "id": "LvJtmz52uPI4"
      },
      "source": [
        "The next step is to encode the examples in terms of JAX arrays that we can run our model on.\n",
        "\n",
        "Each example is encoded as a `GraphBundle`, which contains:\n",
        "\n",
        "- `automaton_graph`: a sparse representation of the environment dynamics of the corresponding graph MDP. Conceptually, it contains a list of transitions, each of which is associated with a source node, a source observation, an action, a destination node, a destination observation, and a probability of moving to that destination with that observation when taking that action. It is stored in a particular arrangement to make computation efficient; see the docstring for `EncodedGraph` in `automaton_builder.py` for more details.\n",
        "- `graph_metadata`: information about the size of the graph.\n",
        "- `node_types`: a list of integer node type indices.\n",
        "- `edges`: a sparse representation of the labeled adjacency matrix for the graph.\n",
        "\n",
        "The `automaton_graph` is used to run the GFSA layer, and the `node_types` and `edges` are used to compute the loss and also to run normal graph-neural-network layers."
      ]
    },
    {
      "cell_type": "code",
      "metadata": {
        "id": "fVRl8y6buOt_"
      },
      "source": [
        "EDGE_TYPES = sorted({\n",
        "    graph_edge_util.JUMPS_OUT_OF_EDGE_TYPE,\n",
        "    graph_edge_util.SAME_IDENTIFIER_EDGE_TYPE,\n",
        "    *graph_edge_util.schema_edge_types(py_ast_graphs.SCHEMA),\n",
        "})"
      ],
      "execution_count": null,
      "outputs": []
    },
    {
      "cell_type": "code",
      "metadata": {
        "id": "GVzO-EdQtGoJ"
      },
      "source": [
        "# Encode our edges into a coordinate matrix.\n",
        "encoded_edges = graph_edge_util.encode_edges(all_edges, EDGE_TYPES)\n",
        "# Encode the MDP as a sparse transition matrix.\n",
        "builder = automaton_builder.AutomatonBuilder(py_ast_graphs.SCHEMA)\n",
        "converted_example = graph_bundle.convert_graph_with_edges(mdp_graph, encoded_edges, builder)"
      ],
      "execution_count": null,
      "outputs": []
    },
    {
      "cell_type": "code",
      "metadata": {
        "id": "46zkAgoewvRG",
        "colab": {
          "base_uri": "https://localhost:8080/"
        },
        "outputId": "c682a375-e459-46b9-fb9e-77709b36f98d"
      },
      "source": [
        "# Use `summarize_tree` to replace large arrays with string summaries.\n",
        "pprint(summarize_tree(converted_example))"
      ],
      "execution_count": null,
      "outputs": [
        {
          "output_type": "stream",
          "text": [
            "GraphBundle(\n",
            "    automaton_graph=EncodedGraph(\n",
            "                        initial_to_in_tagged=SparseCoordOperator(\n",
            "                                                 input_indices='int32(271, 1) [3, 552] nz:1.0',\n",
            "                                                 output_indices='int32(271, 2) [0, 223] nz:0.99',\n",
            "                                                 values='float32(271,) 0.97 \u00b10.13 [0.2, 1.0]'),\n",
            "                        initial_to_special='int32(89,) [1, 153] nz:1.0',\n",
            "                        in_tagged_to_in_tagged=SparseCoordOperator(\n",
            "                                                   input_indices='int32(896, 1) [0, 548] nz:1.0',\n",
            "                                                   output_indices='int32(896, 2) [0, 223] nz:1.0',\n",
            "                                                   values='float32(896,) 0.97 \u00b10.14 [0.2, 1.0]'),\n",
            "                        in_tagged_to_special='int32(224,) [0, 152] nz:1.0',\n",
            "                        in_tagged_node_indices='int32(224,) [0, 88] nz:1.0'),\n",
            "    graph_metadata=EncodedGraphMetadata(num_nodes=89, num_input_tagged_nodes=224),\n",
            "    node_types='int32(89,) [0, 38] nz:0.99',\n",
            "    edges=SparseCoordOperator(\n",
            "              input_indices='int32(312, 1) [0, 27] nz:0.99',\n",
            "              output_indices='int32(312, 2) [0, 88] nz:0.99',\n",
            "              values='int32(312,) [1, 1] nz:1.0'))\n"
          ],
          "name": "stdout"
        }
      ]
    },
    {
      "cell_type": "markdown",
      "metadata": {
        "id": "ZNxbI8-cxsh8"
      },
      "source": [
        "This representation of the MDP graph can be fed into our JAX implementation of the GFSA layer.\n",
        "\n",
        "If desired, it can also be padded to a larger size (for instance, to allow batching graphs with different numbers of nodes). The `graph_metadata` field keeps track of the original size, so this doesn't lose any information."
      ]
    },
    {
      "cell_type": "code",
      "metadata": {
        "id": "n9mQnBrXyG5X",
        "colab": {
          "base_uri": "https://localhost:8080/"
        },
        "outputId": "35c890df-c6d2-4b0b-f7fe-41e29582f92a"
      },
      "source": [
        "padded_example = graph_bundle.pad_example(\n",
        "    converted_example,\n",
        "    config=graph_bundle.PaddingConfig(\n",
        "        static_max_metadata=automaton_builder.EncodedGraphMetadata(\n",
        "            num_nodes=256, num_input_tagged_nodes=512),\n",
        "        max_initial_transitions=1024,\n",
        "        max_in_tagged_transitions=2048,\n",
        "        max_edges=2048))\n",
        "pprint(summarize_tree(padded_example))"
      ],
      "execution_count": null,
      "outputs": [
        {
          "output_type": "stream",
          "text": [
            "GraphBundle(\n",
            "    automaton_graph=EncodedGraph(\n",
            "                        initial_to_in_tagged=SparseCoordOperator(\n",
            "                                                 input_indices='int32(1024, 1) [0, 552] nz:0.26',\n",
            "                                                 output_indices='int32(1024, 2) [0, 223] nz:0.26',\n",
            "                                                 values='float32(1024,) 0.26 \u00b10.44 [0.0, 1.0] nz:0.26'),\n",
            "                        initial_to_special='int32(256,) [0, 153] nz:0.35',\n",
            "                        in_tagged_to_in_tagged=SparseCoordOperator(\n",
            "                                                   input_indices='int32(2048, 1) [0, 548] nz:0.44',\n",
            "                                                   output_indices='int32(2048, 2) [0, 223] nz:0.44',\n",
            "                                                   values='float32(2048,) 0.42 \u00b10.49 [0.0, 1.0] nz:0.44'),\n",
            "                        in_tagged_to_special='int32(512,) [0, 152] nz:0.44',\n",
            "                        in_tagged_node_indices='int32(512,) [0, 88] nz:0.44'),\n",
            "    graph_metadata=EncodedGraphMetadata(num_nodes=89, num_input_tagged_nodes=224),\n",
            "    node_types='int32(256,) [0, 38] nz:0.34',\n",
            "    edges=SparseCoordOperator(\n",
            "              input_indices='int32(2048, 1) [0, 27] nz:0.15',\n",
            "              output_indices='int32(2048, 2) [0, 88] nz:0.15',\n",
            "              values='int32(2048,) [0, 1] nz:0.15'))\n"
          ],
          "name": "stdout"
        }
      ]
    },
    {
      "cell_type": "markdown",
      "metadata": {
        "id": "mi683R9wuin4"
      },
      "source": [
        "## Building a model in Colab\n"
      ]
    },
    {
      "cell_type": "markdown",
      "metadata": {
        "id": "XhUvywFXu0-U"
      },
      "source": [
        "Now that we have data that can be passed to a model, we can work on the model itself.\n",
        "\n",
        "The core solver for the automaton Markov chain's absorbing distribution is implemented in [automaton_builder.py](https://github.com/google-research/google-research/blob/master/gfsa/automaton_builder.py). To make it easier to use, it has been wrapped in the `flax.deprecated.nn` API (note: it is not yet available for the new Linen API, but should be straightforward to adapt if needed).\n",
        "\n",
        "Let's build a simple model that just runs a single GFSA layer with a few specific hyperparameters.\n",
        "\n"
      ]
    },
    {
      "cell_type": "markdown",
      "metadata": {
        "id": "hLoHKL7BiFCu"
      },
      "source": [
        "---\n",
        "\n",
        "*Note on variants:* Variants are an optional input to the GFSA layer, which allows dynamically changing the observations received by the agent depending on its start node and its current node. The `variant_weights` input chooses between a fixed number of extra observations that the agent can receive, and the automaton can then act in a different way conditioned on this information. (In appendix C.2 of the paper, $\\Gamma$ denotes the set of all variants, and each $\\gamma \\in \\Gamma$ is a specific variant index.)\n",
        "\n",
        "For this simple task, we do not really need to use any variants. However, the experiments in the paper use variants to tell the agent whether two identifier nodes have the same name (for the static analysis experiments) or to pass information from a graph neural network to the GFSA layer (for the variable misuse experiments).\n",
        "\n",
        "If you would like to see how enabling variants affect the policy parameters, you can set `USE_VARIANTS = True` below.\n",
        "\n",
        "---"
      ]
    },
    {
      "cell_type": "code",
      "metadata": {
        "id": "zFrorD6NlKcy"
      },
      "source": [
        "USE_VARIANTS = False"
      ],
      "execution_count": null,
      "outputs": []
    },
    {
      "cell_type": "code",
      "metadata": {
        "id": "3Zoc8d51OLNu"
      },
      "source": [
        "padding_config = graph_bundle.PaddingConfig(\n",
        "    static_max_metadata=automaton_builder.EncodedGraphMetadata(\n",
        "        num_nodes=256, num_input_tagged_nodes=512),\n",
        "    max_initial_transitions=1024,\n",
        "    max_in_tagged_transitions=2048,\n",
        "    max_edges=2048)"
      ],
      "execution_count": null,
      "outputs": []
    },
    {
      "cell_type": "code",
      "metadata": {
        "id": "E7tmHndIOB06"
      },
      "source": [
        "@flax.deprecated.nn.module\n",
        "def simple_model(example: graph_bundle.GraphBundle):\n",
        "  if USE_VARIANTS:\n",
        "    # Compute the probability of receiving each variant observation. In this case, \n",
        "    # these are one-hot vectors that specify whether the start node and the\n",
        "    # current node are both identifiers with the same name.\n",
        "    variant_weights = edge_supervision_models.variants_from_edges(\n",
        "        example,\n",
        "        graph_metadata=padding_config.static_max_metadata,\n",
        "        variant_edge_type_indices=[EDGE_TYPES.index(\"EXTRA_SAME_IDENTIFIER\")],\n",
        "        num_edge_types=len(EDGE_TYPES))\n",
        "    \n",
        "    # Weights are indexed by (start node, current node, variant index).\n",
        "    # `variants_from_edges` sets variants based on whether or not an edge exists\n",
        "    # between the two nodes (and what type that edge has).\n",
        "    assert variant_weights.shape == (\n",
        "        padding_config.static_max_metadata.num_nodes,\n",
        "        padding_config.static_max_metadata.num_nodes,\n",
        "        2)\n",
        "  else:\n",
        "    # Don't use variants. In this case, the agent only observes the current\n",
        "    # node type and the in-edge type used to enter the node.\n",
        "    variant_weights = None\n",
        "\n",
        "  # Pass all of the information into our GFSA layer.\n",
        "  # The flax.deprecated.nn API encapsulates the parameters inside the\n",
        "  # automaton_layer.FiniteStateGraphAutomaton call, so they aren't passed as\n",
        "  # arguments. Instead, they will be initialized when the model is instantiated\n",
        "  # below.\n",
        "  absorbing_probs = automaton_layer.FiniteStateGraphAutomaton(\n",
        "      encoded_graph=example.automaton_graph,\n",
        "      variant_weights=variant_weights,\n",
        "      static_metadata=padding_config.static_max_metadata,\n",
        "      dynamic_metadata=example.graph_metadata,\n",
        "      # The builder, defind above, determines how the MDP is interpreted.\n",
        "      builder=builder,\n",
        "      # Increasing this produces multiple edges by running multiple layers in\n",
        "      # parallel.\n",
        "      num_out_edges=1,\n",
        "      # Whether to share parameters across parallel layers, if num_out_edges > 1\n",
        "      share_states_across_edges=True,\n",
        "      # Controls how many states the automaton has, not counting the initial state.\n",
        "      num_intermediate_states = 1,\n",
        "      # Configures how parameters are initialized.\n",
        "      legacy_initialize=False,\n",
        "      # Turns off the adjustment parameters described in Section 3.3\n",
        "      logit_scaling=\"none\",\n",
        "      # Controls \\epsilon_{bt-stop} described in Appendix C.2\n",
        "      backtrack_fails_prob=0.001,\n",
        "  ).squeeze(axis=0)\n",
        "\n",
        "  # Convert from probability space to logit space to make it easier to define\n",
        "  # the loss function; gracefully handles numerical stability issues by clipping\n",
        "  # gradients.\n",
        "  logits = model_util.safe_logit(absorbing_probs)\n",
        "  return logits\n"
      ],
      "execution_count": null,
      "outputs": []
    },
    {
      "cell_type": "markdown",
      "metadata": {
        "id": "hDZ4MiG8RbvL"
      },
      "source": [
        "Note that we could also have configure the `FiniteStateGraphAutomaton` layer with `gin`, which is how the standalone training scripts work."
      ]
    },
    {
      "cell_type": "markdown",
      "metadata": {
        "id": "tf_Ce-GnSphn"
      },
      "source": [
        "Now we can initialize the model parameters:"
      ]
    },
    {
      "cell_type": "code",
      "metadata": {
        "id": "UXXwzS7aNuan",
        "colab": {
          "base_uri": "https://localhost:8080/"
        },
        "outputId": "0bbe63ee-035e-4d36-e336-bbb43681b89d"
      },
      "source": [
        "_, initial_params = simple_model.init(jax.random.PRNGKey(4321), padded_example)\n",
        "\n",
        "# Visualize the parameters of the model; Flax implicitly passes these into the\n",
        "# layer object when the model is run.\n",
        "pprint(summarize_tree(initial_params))"
      ],
      "execution_count": null,
      "outputs": [
        {
          "output_type": "stream",
          "text": [
            "{'FiniteStateGraphAutomaton_0':\n",
            "   {'edge_logits_entropy': {},\n",
            "    'log_routing_params_shared':\n",
            "      RoutingParams(\n",
            "          move='float32(1, 553, 2, 2) -2.4 \u00b10.94 [-5.8, -0.14]',\n",
            "          special='float32(1, 154, 2, 3) -4.3 \u00b10.77 [-6.6, -2.5]')}}\n"
          ],
          "name": "stdout"
        }
      ]
    },
    {
      "cell_type": "markdown",
      "metadata": {
        "id": "4dkqz9mxvLAQ"
      },
      "source": [
        "In particular, the tabular policy for the FSA-based agent is stored in a dataclass of type `RoutingParams`. We can visualize the entries of it below.\n",
        "\n",
        "Each row represents a different POMDP observation that the agent might receive, based on its current location and the last action it took. Within each row, the small dark 3x2 rectangles are the probabilities of taking special actions (add-edge-and-stop, backtrack, stop) in each of the two FSM states, and the large variable-sized rectangles are the probabilities of moving to some adjacent node with each possible next state. The \"checkerboard\" patterns reflect the initialization bias, which encourages the automaton to stay\n",
        "in the same state more often.\n",
        "\n",
        "(If you enabled variants, the two columns within each box represent the two \"variant\" observations. Since we set the variants using `EXTRA_SAME_IDENTIFIER`, the right column is used when the start node and current node are both variables with the same identifier, and the left column is used in every other case.)"
      ]
    },
    {
      "cell_type": "code",
      "metadata": {
        "colab": {
          "base_uri": "https://localhost:8080/",
          "height": 729
        },
        "id": "YiCbNQuDVmwy",
        "outputId": "7830f277-333a-43b9-80bd-008e6ff044ec"
      },
      "source": [
        "initial_log_routing_params = initial_params[\"FiniteStateGraphAutomaton_0\"][\"log_routing_params_shared\"]\n",
        "visualization.ndarrays.show_routing_params(\n",
        "    builder,\n",
        "    builder.routing_softmax(initial_log_routing_params),\n",
        "    rparams_are_logits=False,\n",
        "    row_split_ct=4,\n",
        "    figsize=(20, 10),\n",
        "    vmax=.5, # to enhance detail\n",
        "    colorbar=False)"
      ],
      "execution_count": null,
      "outputs": [
        {
          "output_type": "display_data",
          "data": {
            "image/png": "[encoded data removed]",
            "text/plain": [
              "<Figure size 1440x720 with 4 Axes>"
            ]
          },
          "metadata": {
            "tags": [],
            "needs_background": "light"
          }
        }
      ]
    },
    {
      "cell_type": "markdown",
      "metadata": {
        "id": "RA-esT0g9HfN"
      },
      "source": [
        "## Training the model"
      ]
    },
    {
      "cell_type": "markdown",
      "metadata": {
        "id": "xsESxzLUbLVu"
      },
      "source": [
        "To show how the model can be trained, this section includes a simplified training loop that runs in Colab. (See the \"Advanced usage\" for a more efficient way to train a model for practical use.)\n",
        "\n",
        "We can start by generating a dataset of programs:"
      ]
    },
    {
      "cell_type": "code",
      "metadata": {
        "id": "u3UmhJvJdf6p",
        "colab": {
          "base_uri": "https://localhost:8080/"
        },
        "outputId": "95cac200-5331-4c1a-d714-1a78aea60fbf"
      },
      "source": [
        "rng = np.random.RandomState(42)\n",
        "examples = []\n",
        "while len(examples) < 500:\n",
        "  the_ast = tasks.make_ast(150, rng, python_numbers_control_flow.CFG_DISTRIBUTION)\n",
        "  generic_ast = py_ast_graphs.py_ast_to_generic(the_ast)\n",
        "  mdp_graph, id_conversion_map = generic_ast_graphs.ast_to_graph(generic_ast, ast_spec=py_ast_graphs.PY_AST_SPECS)\n",
        "  all_edges = (\n",
        "      graph_edge_util.compute_jumps_out_edges(the_ast, id_conversion_map)\n",
        "      + graph_edge_util.compute_same_identifier_edges(the_ast, id_conversion_map)\n",
        "  )\n",
        "  encoded_edges = graph_edge_util.encode_edges(all_edges, EDGE_TYPES)\n",
        "  converted_example = graph_bundle.convert_graph_with_edges(mdp_graph, encoded_edges, builder)\n",
        "  try:\n",
        "    padded_example = graph_bundle.pad_example(\n",
        "      converted_example,\n",
        "      config=padding_config)\n",
        "    examples.append((the_ast, padded_example))\n",
        "  except ValueError:\n",
        "    pass\n",
        "  if len(examples) % 100 == 0:\n",
        "    print(len(examples))\n",
        "    sys.stdout.flush()"
      ],
      "execution_count": null,
      "outputs": [
        {
          "output_type": "stream",
          "text": [
            "100\n",
            "200\n",
            "300\n",
            "400\n",
            "500\n"
          ],
          "name": "stdout"
        }
      ]
    },
    {
      "cell_type": "markdown",
      "metadata": {
        "id": "fy695FHfsURN"
      },
      "source": [
        "Now we set up our loss function and data iterator:"
      ]
    },
    {
      "cell_type": "code",
      "metadata": {
        "id": "orxdnhmIfgx0"
      },
      "source": [
        "def loss_fn(model, example, unused_metadata):\n",
        "  \"\"\"Compute cross-entropy loss between model output logits and target edges.\"\"\"\n",
        "  del unused_metadata\n",
        "  unused_rng = jax.random.PRNGKey(0)  # For compatibility with stochastic baselines\n",
        "  loss, metrics_dict = train_edge_supervision_lib.loss_fn(\n",
        "      *train_edge_supervision_lib.extract_outputs_and_targets(\n",
        "          model=model,\n",
        "          padded_example_and_rng=(example, unused_rng),\n",
        "          target_edge_index=EDGE_TYPES.index(\"EXTRA_JUMPS_OUT_OF\"),\n",
        "          num_edge_types=len(EDGE_TYPES)))\n",
        "  return  loss, metrics_dict"
      ],
      "execution_count": null,
      "outputs": []
    },
    {
      "cell_type": "code",
      "metadata": {
        "id": "ydbrtxcPleyJ"
      },
      "source": [
        "def data_iterator():\n",
        "  rng = np.random.RandomState(1234)\n",
        "  for epoch in itertools.count():\n",
        "    shuffled_examples = list(enumerate(examples))\n",
        "    rng.shuffle(shuffled_examples)\n",
        "    for example_id, (_, padded_example) in shuffled_examples:\n",
        "      yield train_util.ExampleWithMetadata(\n",
        "          example=padded_example, epoch=epoch, example_id=example_id)\n",
        "\n",
        "def batch_iterator():\n",
        "  it = data_iterator()\n",
        "  ldc = jax.local_device_count()\n",
        "  it = data_loading.batch(it, (ldc, 32 // ldc))\n",
        "  return it"
      ],
      "execution_count": null,
      "outputs": []
    },
    {
      "cell_type": "code",
      "metadata": {
        "id": "DUz1kLhNo1Tm",
        "colab": {
          "base_uri": "https://localhost:8080/"
        },
        "outputId": "da417146-212e-40ca-9ceb-33fd470cac7e"
      },
      "source": [
        "pprint(summarize_tree(next(batch_iterator())))"
      ],
      "execution_count": null,
      "outputs": [
        {
          "output_type": "stream",
          "text": [
            "ExampleWithMetadata(\n",
            "    epoch='int64(8, 4) [0, 0] nz:0.0',\n",
            "    example_id='int64(8, 4) [7, 479] nz:1.0',\n",
            "    example=GraphBundle(\n",
            "                automaton_graph=EncodedGraph(\n",
            "                                    initial_to_in_tagged=SparseCoordOperator(\n",
            "                                                             input_indices='int32(8, 4, 1024, 1) [0, 552] nz:0.51',\n",
            "                                                             output_indices='int32(8, 4, 1024, 2) [0, 497] nz:0.5',\n",
            "                                                             values='float32(8, 4, 1024) 0.49 \u00b10.49 [0.0, 1.0] nz:0.51'),\n",
            "                                    initial_to_special='int32(8, 4, 256) [0, 153] nz:0.75',\n",
            "                                    in_tagged_to_in_tagged=SparseCoordOperator(\n",
            "                                                               input_indices='int32(8, 4, 2048, 1) [0, 548] nz:0.81',\n",
            "                                                               output_indices='int32(8, 4, 2048, 2) [0, 497] nz:0.81',\n",
            "                                                               values='float32(8, 4, 2048) 0.78 \u00b10.4 [0.0, 1.0] nz:0.81'),\n",
            "                                    in_tagged_to_special='int32(8, 4, 512) [0, 152] nz:0.88',\n",
            "                                    in_tagged_node_indices='int32(8, 4, 512) [0, 202] nz:0.88'),\n",
            "                graph_metadata=EncodedGraphMetadata(\n",
            "                                   num_nodes='int64(8, 4) [181, 203] nz:1.0',\n",
            "                                   num_input_tagged_nodes='int64(8, 4) [407, 498] nz:1.0'),\n",
            "                node_types='int32(8, 4, 256) [0, 38] nz:0.74',\n",
            "                edges=SparseCoordOperator(\n",
            "                          input_indices='int32(8, 4, 2048, 1) [0, 1] nz:0.16',\n",
            "                          output_indices='int32(8, 4, 2048, 2) [0, 202] nz:0.16',\n",
            "                          values='int32(8, 4, 2048) [0, 1] nz:0.16')),\n",
            "    mask='bool(8, 4) T:1.0',\n",
            "    static_metadata=None)\n"
          ],
          "name": "stdout"
        }
      ]
    },
    {
      "cell_type": "markdown",
      "metadata": {
        "id": "WiilnoFBsZ3e"
      },
      "source": [
        "Now we can construct an optimizer:"
      ]
    },
    {
      "cell_type": "code",
      "metadata": {
        "id": "2yVwG6Y8sKJl"
      },
      "source": [
        "initial_optimizer = flax.optim.Adam().create(flax.deprecated.nn.Model(simple_model, initial_params))"
      ],
      "execution_count": null,
      "outputs": []
    },
    {
      "cell_type": "markdown",
      "metadata": {
        "id": "gIyise0__6WP"
      },
      "source": [
        "And do a bit of training:"
      ]
    },
    {
      "cell_type": "code",
      "metadata": {
        "id": "lDjFfyijF5q1"
      },
      "source": [
        "run_name = datetime.datetime.now().strftime('%y_%m_%d__%H_%M_%S')"
      ],
      "execution_count": null,
      "outputs": []
    },
    {
      "cell_type": "code",
      "metadata": {
        "id": "0D7kVc6D_8Tw",
        "colab": {
          "base_uri": "https://localhost:8080/"
        },
        "outputId": "0bf87d30-176d-44d7-dc8d-696ddb153a54"
      },
      "source": [
        "# Takes about 10 to 15 minutes on a TPU.\n",
        "# If you prefer, you can skip this step and load precomputed weights in the next cell.\n",
        "trained_optimizer = simple_runner.training_loop(\n",
        "    optimizer=initial_optimizer,\n",
        "    train_iterator=batch_iterator(),\n",
        "    loss_fn=loss_fn,\n",
        "    validation_fn=None,\n",
        "    max_iterations=3_000,\n",
        "    learning_rate_schedule=learning_rate_schedules.ConstantLearningRateSchedule(0.01),\n",
        "    artifacts_dir=f\"/tmp/artifacts_{run_name}\",\n",
        "    steps_per_save=200,\n",
        ")"
      ],
      "execution_count": null,
      "outputs": [
        {
          "output_type": "stream",
          "text": [
            "INFO:absl:Setting up training loop.\n",
            "INFO:absl:Peeking at dataset format...\n",
            "INFO:absl:Starting main training loop.\n",
            "INFO:absl:200: loss: 19.377723693847656 avg_per_non_target: 0.00021761865355074406 avg_per_target: 2.2486281394958496 batch_clf_thresh_at_0.1/f1: 0.40355727076530457 batch_clf_thresh_at_0.1/precision: 0.29276591539382935 batch_clf_thresh_at_0.1/recall: 0.6156994104385376 effective_p_model_given_nontarget: 0.00021898560225963593 effective_p_model_given_target: 0.11125928163528442 elapsed_hours: 0.009833792514271206 epoch: 12 gradient_global_norm: 1.7030329704284668 learning_rate: 0.01 positive_per_negative: 0.0001304901234107092 step: 200 worst: 2.693657875061035\n",
            "INFO:absl:Saving a checkpoint at 200\n",
            "INFO:absl:400: loss: 5.795314788818359 avg_per_non_target: 7.953135354910046e-05 avg_per_target: 0.5528256893157959 batch_clf_thresh_at_0.1/f1: 0.7735148668289185 batch_clf_thresh_at_0.1/precision: 0.65949946641922 batch_clf_thresh_at_0.1/recall: 1.0 effective_p_model_given_nontarget: 8.090212941169739e-05 effective_p_model_given_target: 0.587834358215332 elapsed_hours: 0.019207057820426095 epoch: 25 gradient_global_norm: 0.7654008269309998 learning_rate: 0.01 positive_per_negative: 0.00012342461559455842 seconds_per_step: 0.16871878027915954 step: 400 worst: 0.7844127416610718\n",
            "INFO:absl:Saving a checkpoint at 400\n",
            "INFO:absl:600: loss: 1.3853754997253418 avg_per_non_target: 2.3435932234860957e-05 avg_per_target: 0.11455842852592468 batch_clf_thresh_at_0.1/f1: 0.9865643978118896 batch_clf_thresh_at_0.1/precision: 0.9755208492279053 batch_clf_thresh_at_0.1/recall: 1.0 effective_p_model_given_nontarget: 2.4924054741859436e-05 effective_p_model_given_target: 0.892683744430542 elapsed_hours: 0.028151852223608227 epoch: 38 gradient_global_norm: 0.27504831552505493 learning_rate: 0.01 positive_per_negative: 0.00012362848792690784 seconds_per_step: 0.16100628972053527 step: 600 worst: 0.17014822363853455\n",
            "INFO:absl:Saving a checkpoint at 600\n",
            "INFO:absl:800: loss: 0.6699908971786499 avg_per_non_target: 1.2433583833626471e-05 avg_per_target: 0.04683126509189606 batch_clf_thresh_at_0.1/f1: 1.0 batch_clf_thresh_at_0.1/precision: 1.0 batch_clf_thresh_at_0.1/recall: 1.0 effective_p_model_given_nontarget: 1.3738870620727539e-05 effective_p_model_given_target: 0.9543433785438538 elapsed_hours: 0.037277566923035514 epoch: 51 gradient_global_norm: 0.13815997540950775 learning_rate: 0.01 positive_per_negative: 0.00012166185479145497 seconds_per_step: 0.16426286339759827 step: 800 worst: 0.06643061339855194\n",
            "INFO:absl:Saving a checkpoint at 800\n",
            "INFO:absl:1000: loss: 0.4604664444923401 avg_per_non_target: 7.983658179000486e-06 avg_per_target: 0.027946151793003082 batch_clf_thresh_at_0.1/f1: 1.0 batch_clf_thresh_at_0.1/precision: 1.0 batch_clf_thresh_at_0.1/recall: 1.0 effective_p_model_given_nontarget: 9.484589099884033e-06 effective_p_model_given_target: 0.972494900226593 elapsed_hours: 0.04654399693012237 epoch: 63 gradient_global_norm: 0.09773273020982742 learning_rate: 0.01 positive_per_negative: 0.0001405532384524122 seconds_per_step: 0.1667957365512848 step: 1000 worst: 0.04434922710061073\n",
            "INFO:absl:Saving a checkpoint at 1000\n",
            "INFO:absl:1200: loss: 0.29468247294425964 avg_per_non_target: 5.69584744880558e-06 avg_per_target: 0.018984615802764893 batch_clf_thresh_at_0.1/f1: 1.0 batch_clf_thresh_at_0.1/precision: 1.0 batch_clf_thresh_at_0.1/recall: 1.0 effective_p_model_given_nontarget: 7.295981049537659e-06 effective_p_model_given_target: 0.981222927570343 elapsed_hours: 0.05560751822259691 epoch: 76 gradient_global_norm: 0.06535814702510834 learning_rate: 0.01 positive_per_negative: 0.000107972628029529 seconds_per_step: 0.16314337015151978 step: 1200 worst: 0.027228930965065956\n",
            "INFO:absl:Saving a checkpoint at 1200\n",
            "INFO:absl:1400: loss: 0.2343970537185669 avg_per_non_target: 4.313907538744388e-06 avg_per_target: 0.012400067411363125 batch_clf_thresh_at_0.1/f1: 1.0 batch_clf_thresh_at_0.1/precision: 1.0 batch_clf_thresh_at_0.1/recall: 1.0 effective_p_model_given_nontarget: 5.969777703285217e-06 effective_p_model_given_target: 0.9876830577850342 elapsed_hours: 0.06473897424009112 epoch: 89 gradient_global_norm: 0.052110783755779266 learning_rate: 0.01 positive_per_negative: 0.0001521498488727957 seconds_per_step: 0.16436620354652404 step: 1400 worst: 0.01986014097929001\n",
            "INFO:absl:Saving a checkpoint at 1400\n",
            "INFO:absl:1600: loss: 0.17968504130840302 avg_per_non_target: 3.3588257792871445e-06 avg_per_target: 0.010300396010279655 batch_clf_thresh_at_0.1/f1: 1.0 batch_clf_thresh_at_0.1/precision: 1.0 batch_clf_thresh_at_0.1/recall: 1.0 effective_p_model_given_nontarget: 5.058944225311279e-06 effective_p_model_given_target: 0.9897605180740356 elapsed_hours: 0.07402368505795796 epoch: 102 gradient_global_norm: 0.04094467684626579 learning_rate: 0.01 positive_per_negative: 0.00013812952965963632 seconds_per_step: 0.16712479114532472 step: 1600 worst: 0.016302866861224174\n",
            "INFO:absl:Saving a checkpoint at 1600\n",
            "INFO:absl:1800: loss: 0.12899067997932434 avg_per_non_target: 2.4813391519273864e-06 avg_per_target: 0.007430391386151314 batch_clf_thresh_at_0.1/f1: 1.0 batch_clf_thresh_at_0.1/precision: 1.0 batch_clf_thresh_at_0.1/recall: 1.0 effective_p_model_given_nontarget: 4.213303327560425e-06 effective_p_model_given_target: 0.9926003217697144 elapsed_hours: 0.08313697311613295 epoch: 115 gradient_global_norm: 0.02997024543583393 learning_rate: 0.01 positive_per_negative: 0.00012066987983416766 seconds_per_step: 0.1640391767024994 step: 1800 worst: 0.011770209297537804\n",
            "INFO:absl:Saving a checkpoint at 1800\n",
            "INFO:absl:2000: loss: 0.10818523168563843 avg_per_non_target: 2.0723803118016804e-06 avg_per_target: 0.00690688518807292 batch_clf_thresh_at_0.1/f1: 1.0 batch_clf_thresh_at_0.1/precision: 1.0 batch_clf_thresh_at_0.1/recall: 1.0 effective_p_model_given_nontarget: 3.822147846221924e-06 effective_p_model_given_target: 0.9931188821792603 elapsed_hours: 0.09223447653982375 epoch: 127 gradient_global_norm: 0.025862064212560654 learning_rate: 0.01 positive_per_negative: 0.00012165141379227862 seconds_per_step: 0.16375505328178405 step: 2000 worst: 0.010692710056900978\n",
            "INFO:absl:Saving a checkpoint at 2000\n",
            "INFO:absl:2200: loss: 0.09486329555511475 avg_per_non_target: 1.6884167735042865e-06 avg_per_target: 0.00620083836838603 batch_clf_thresh_at_0.1/f1: 1.0 batch_clf_thresh_at_0.1/precision: 1.0 batch_clf_thresh_at_0.1/recall: 1.0 effective_p_model_given_nontarget: 3.4496188163757324e-06 effective_p_model_given_target: 0.9938190579414368 elapsed_hours: 0.1012620895438724 epoch: 140 gradient_global_norm: 0.021290918812155724 learning_rate: 0.01 positive_per_negative: 0.0001338127622148022 seconds_per_step: 0.16249702692031862 step: 2200 worst: 0.00906508881598711\n",
            "INFO:absl:Saving a checkpoint at 2200\n",
            "INFO:absl:2400: loss: 0.08048178255558014 avg_per_non_target: 1.4781015806875075e-06 avg_per_target: 0.005473007448017597 batch_clf_thresh_at_0.1/f1: 1.0 batch_clf_thresh_at_0.1/precision: 1.0 batch_clf_thresh_at_0.1/recall: 1.0 effective_p_model_given_nontarget: 3.259629011154175e-06 effective_p_model_given_target: 0.9945425987243652 elapsed_hours: 0.11027509609858195 epoch: 153 gradient_global_norm: 0.018114732578396797 learning_rate: 0.01 positive_per_negative: 0.00012266272096894681 seconds_per_step: 0.16223411321640013 step: 2400 worst: 0.00795502308756113\n",
            "INFO:absl:Saving a checkpoint at 2400\n",
            "INFO:absl:2600: loss: 0.05905803292989731 avg_per_non_target: 1.228057612934208e-06 avg_per_target: 0.003271682420745492 batch_clf_thresh_at_0.1/f1: 1.0 batch_clf_thresh_at_0.1/precision: 1.0 batch_clf_thresh_at_0.1/recall: 1.0 effective_p_model_given_nontarget: 3.032386302947998e-06 effective_p_model_given_target: 0.9967347383499146 elapsed_hours: 0.11931268877453274 epoch: 166 gradient_global_norm: 0.014629610814154148 learning_rate: 0.01 positive_per_negative: 0.0001021219213725999 seconds_per_step: 0.16267666697502137 step: 2600 worst: 0.005318102426826954\n",
            "INFO:absl:Saving a checkpoint at 2600\n",
            "INFO:absl:2800: loss: 0.04910304397344589 avg_per_non_target: 1.0667299648048356e-06 avg_per_target: 0.0021193567663431168 batch_clf_thresh_at_0.1/f1: 1.0 batch_clf_thresh_at_0.1/precision: 1.0 batch_clf_thresh_at_0.1/recall: 1.0 effective_p_model_given_nontarget: 2.868473529815674e-06 effective_p_model_given_target: 0.9978830814361572 elapsed_hours: 0.12838497817516326 epoch: 179 gradient_global_norm: 0.012885957024991512 learning_rate: 0.01 positive_per_negative: 0.00011229085794184357 seconds_per_step: 0.16330119609832763 step: 2800 worst: 0.0038279499858617783\n",
            "INFO:absl:Saving a checkpoint at 2800\n",
            "INFO:absl:3000: loss: 0.049854353070259094 avg_per_non_target: 9.077161848836113e-07 avg_per_target: 0.003057182300835848 batch_clf_thresh_at_0.1/f1: 1.0 batch_clf_thresh_at_0.1/precision: 1.0 batch_clf_thresh_at_0.1/recall: 1.0 effective_p_model_given_nontarget: 2.723187208175659e-06 effective_p_model_given_target: 0.9969476461410522 elapsed_hours: 0.13739732556872897 epoch: 191 gradient_global_norm: 0.011399208568036556 learning_rate: 0.01 positive_per_negative: 0.00013453495921567082 seconds_per_step: 0.16222224950790406 step: 3000 worst: 0.004913375712931156\n",
            "INFO:absl:Saving a checkpoint at 3000\n",
            "INFO:absl:Training loop finished after 3000 steps.\n",
            "INFO:absl:Saving a checkpoint at 3000\n"
          ],
          "name": "stderr"
        }
      ]
    },
    {
      "cell_type": "code",
      "metadata": {
        "id": "8B8s3xTQuhPE"
      },
      "source": [
        "# Set this to:\n",
        "# - \"last\" to load final trained weights\n",
        "# - \"precomputed\" to load precomputed weights (if you skipped the previous cell)\n",
        "# - a multiple of 200 to load a checkpoint from partway through training.\n",
        "load_what = \"last\"\n",
        "\n",
        "if load_what == \"last\":\n",
        "  trained_model = flax.jax_utils.unreplicate(trained_optimizer).target\n",
        "elif load_what == \"precomputed\":\n",
        "  checkpoint_optimizer, _ = simple_runner.load_from_checkpoint(initial_optimizer, \"./gfsa/notebooks/demo_checkpoint.msgpack\")\n",
        "  trained_model = checkpoint_optimizer.target\n",
        "else:\n",
        "  checkpoint_optimizer, _ = simple_runner.load_from_checkpoint(initial_optimizer, f\"/tmp/artifacts_{run_name}/checkpoints/current_at_{load_what}.msgpack\")\n",
        "  trained_model = checkpoint_optimizer.target"
      ],
      "execution_count": null,
      "outputs": []
    },
    {
      "cell_type": "markdown",
      "metadata": {
        "id": "J6_AirIa9Juv"
      },
      "source": [
        "## Investigating the resulting policy"
      ]
    },
    {
      "cell_type": "markdown",
      "metadata": {
        "id": "tOxlTAE14fqq"
      },
      "source": [
        "We can visualize the model weights, and see that the model has learned a policy for solving this simplified static analysis task.\n",
        "\n",
        "Note that the leftmost pixel is only turned on for a small subset of rows, in particular `FunctionDef: body_in`, `For: parent_in`/`body_in`, and `While: body_in`. This is because the leftmost pixel corresponds to the \"add edge and stop\" action, and the only possible destinations for edges in this task are function definitions, for loops, and while loops.\n",
        "\n",
        "(If you enabled variants: Recall that the `EXTRA_SAME_IDENTIFIER` edge only connects identifiers, so the parameters in the second column are only used when the agent is at a `Name` node. As a consequence, only the rows for `Name` nodes have changed after training.)"
      ]
    },
    {
      "cell_type": "code",
      "metadata": {
        "colab": {
          "base_uri": "https://localhost:8080/",
          "height": 729
        },
        "id": "SgWnnpd94rBM",
        "outputId": "5657c9e0-495b-48f6-bc90-c2aa0062718a"
      },
      "source": [
        "trained_log_routing_params = trained_model.params[\"FiniteStateGraphAutomaton_0\"][\"log_routing_params_shared\"]\n",
        "visualization.ndarrays.show_routing_params(\n",
        "    builder,\n",
        "    builder.routing_softmax(trained_log_routing_params),\n",
        "    rparams_are_logits=False,\n",
        "    row_split_ct=4,\n",
        "    figsize=(20, 10),\n",
        "    colorbar=False)"
      ],
      "execution_count": null,
      "outputs": [
        {
          "output_type": "display_data",
          "data": {
            "image/png": "[encoded data removed]",
            "text/plain": [
              "<Figure size 1440x720 with 4 Axes>"
            ]
          },
          "metadata": {
            "tags": [],
            "needs_background": "light"
          }
        }
      ]
    },
    {
      "cell_type": "markdown",
      "metadata": {
        "id": "9w7CghFk73Yz"
      },
      "source": [
        "Let's write our own custom Python function to see how it works:\n",
        "\n"
      ]
    },
    {
      "cell_type": "code",
      "metadata": {
        "id": "jbECagHKKfHL"
      },
      "source": [
        "the_ast = gast.parse(\"\"\"\n",
        "def test_function(foo):\n",
        "  for x in foo:\n",
        "    if x:\n",
        "      return True\n",
        "    else:\n",
        "      continue\n",
        "  \n",
        "  while False:\n",
        "    while True:\n",
        "      break\n",
        "    continue\n",
        "  \n",
        "  return\n",
        "\"\"\")\n",
        "\n",
        "generic_ast = py_ast_graphs.py_ast_to_generic(the_ast)\n",
        "mdp_graph, id_conversion_map = generic_ast_graphs.ast_to_graph(generic_ast, ast_spec=py_ast_graphs.PY_AST_SPECS)\n",
        "all_edges = (\n",
        "    graph_edge_util.compute_jumps_out_edges(the_ast, id_conversion_map)\n",
        "    + graph_edge_util.compute_same_identifier_edges(the_ast, id_conversion_map)\n",
        ")\n",
        "encoded_edges = graph_edge_util.encode_edges(all_edges, EDGE_TYPES)\n",
        "converted_example = graph_bundle.convert_graph_with_edges(mdp_graph, encoded_edges, builder)\n",
        "\n",
        "test_example = graph_bundle.pad_example(\n",
        "    converted_example,\n",
        "    config=padding_config)"
      ],
      "execution_count": null,
      "outputs": []
    },
    {
      "cell_type": "code",
      "metadata": {
        "id": "zukEWF9mX3xU"
      },
      "source": [
        "def get_short_name(long_name):\n",
        "  \"\"\"Helper function to get a short name for an AST's MDP graph node.\"\"\"\n",
        "  path, nodetype = long_name.split(\"__\")\n",
        "  path_parts = path.split(\"_\")\n",
        "  levels = []\n",
        "  for part in path_parts:\n",
        "    if all(c in '0123456789' for c in part):\n",
        "      levels[-1] = levels[-1] + \"[\" + part + \"]\"\n",
        "    else:\n",
        "      levels.append(part)\n",
        "  last = levels[-1]\n",
        "  num_rest = len(levels) - 1\n",
        "  return \"|\"*num_rest + last + \": \" + nodetype"
      ],
      "execution_count": null,
      "outputs": []
    },
    {
      "cell_type": "code",
      "metadata": {
        "id": "jvbeA0SRZ9JJ"
      },
      "source": [
        "# Generate short summary names for each node, so we can visualize it easily\n",
        "short_names = [f\"{i:2d} \" + get_short_name(k) for i, k in enumerate(mdp_graph.keys())]\n",
        "maxlen = max(len(n) for n in short_names)\n",
        "padded_names = [n + \" \" * (maxlen - len(n)) for n in short_names]"
      ],
      "execution_count": null,
      "outputs": []
    },
    {
      "cell_type": "markdown",
      "metadata": {
        "id": "qGk-lrQsbpWm"
      },
      "source": [
        "We can run the model on this example:"
      ]
    },
    {
      "cell_type": "code",
      "metadata": {
        "id": "GNAV5Oq-LdGk"
      },
      "source": [
        "model_output = jax.nn.sigmoid(trained_model(test_example))\n",
        "target_output = edge_supervision_models.ground_truth_adjacency(\n",
        "    example=test_example,\n",
        "    graph_metadata=padding_config.static_max_metadata,\n",
        "    target_edge_type=\"EXTRA_JUMPS_OUT_OF\",\n",
        "    all_edge_types=EDGE_TYPES)"
      ],
      "execution_count": null,
      "outputs": []
    },
    {
      "cell_type": "markdown",
      "metadata": {
        "id": "D0u9JEGKSEZj"
      },
      "source": [
        "Visualizing the model on our example, we can see that the model outputs match the ground-truth targets.\n",
        "\n",
        "In this figure, the targets are on the left, and the model output is on the right. The Y axis indicates the location of the source node, and the X axis corresponds to the location of the target node."
      ]
    },
    {
      "cell_type": "code",
      "metadata": {
        "colab": {
          "base_uri": "https://localhost:8080/",
          "height": 867
        },
        "id": "naiB3uzfRhpe",
        "outputId": "e0d0fb27-bc17-48dd-9ad9-e3c862407288"
      },
      "source": [
        "num_nodes = test_example.graph_metadata.num_nodes\n",
        "visualization.ndarrays.ndshow(\n",
        "    jnp.stack([target_output, model_output])[:, :num_nodes, :num_nodes],\n",
        "    \"crc\",\n",
        "    figsize=(20,10),\n",
        "    names={1:padded_names, 2:padded_names},\n",
        "    ticks=True)"
      ],
      "execution_count": null,
      "outputs": [
        {
          "output_type": "execute_result",
          "data": {
            "text/plain": [
              "(<matplotlib.axes._subplots.AxesSubplot at 0x7f79057c3208>,\n",
              " <matplotlib.image.AxesImage at 0x7f7905771e80>)"
            ]
          },
          "metadata": {
            "tags": []
          },
          "execution_count": 44
        },
        {
          "output_type": "display_data",
          "data": {
            "image/png": "[encoded data removed]",
            "text/plain": [
              "<Figure size 1440x720 with 2 Axes>"
            ]
          },
          "metadata": {
            "tags": [],
            "needs_background": "light"
          }
        }
      ]
    },
    {
      "cell_type": "markdown",
      "metadata": {
        "id": "rXcnpiBLSn6O"
      },
      "source": [
        "We can compare this to the output of an untrained model:"
      ]
    },
    {
      "cell_type": "code",
      "metadata": {
        "colab": {
          "base_uri": "https://localhost:8080/",
          "height": 867
        },
        "id": "Bo-DlONTS6Az",
        "outputId": "7e93bfed-8f08-4efb-f373-f81641f02800"
      },
      "source": [
        "untrained_output = jax.nn.sigmoid(initial_optimizer.target(test_example))\n",
        "visualization.ndarrays.ndshow(\n",
        "    jnp.stack([target_output, untrained_output])[:, :num_nodes, :num_nodes],\n",
        "    \"crc\",\n",
        "    figsize=(20,10),\n",
        "    names={1:padded_names, 2:padded_names},\n",
        "    ticks=True)"
      ],
      "execution_count": null,
      "outputs": [
        {
          "output_type": "execute_result",
          "data": {
            "text/plain": [
              "(<matplotlib.axes._subplots.AxesSubplot at 0x7f790562eb70>,\n",
              " <matplotlib.image.AxesImage at 0x7f7905625a20>)"
            ]
          },
          "metadata": {
            "tags": []
          },
          "execution_count": 45
        },
        {
          "output_type": "display_data",
          "data": {
            "image/png": "[encoded data removed]",
            "text/plain": [
              "<Figure size 1440x720 with 2 Axes>"
            ]
          },
          "metadata": {
            "tags": [],
            "needs_background": "light"
          }
        }
      ]
    },
    {
      "cell_type": "markdown",
      "metadata": {
        "id": "OEfmLS8GS0tm"
      },
      "source": [
        "To get a better sense of *how* the learned policy works, we can simulate each step of the automaton individually, and visualize a heatmap of the location of the automaton at each timestep."
      ]
    },
    {
      "cell_type": "code",
      "metadata": {
        "id": "eyfO1gvHWgQi"
      },
      "source": [
        "def unroll_automaton(routing_param_logits: automaton_builder.RoutingParams, example: graph_bundle.GraphBundle, initial_node_index:int, rollout_steps: int):\n",
        "  # Variants are the same as in model definition\n",
        "  variant_weights = edge_supervision_models.variants_from_edges(\n",
        "      example,\n",
        "      graph_metadata=padding_config.static_max_metadata,\n",
        "      variant_edge_type_indices=[EDGE_TYPES.index(\"EXTRA_SAME_IDENTIFIER\")],\n",
        "      num_edge_types=len(EDGE_TYPES))\n",
        "\n",
        "  # Build the transition matrix for the combination of MDP and policy\n",
        "  transition_matrix = builder.build_transition_matrix(\n",
        "        builder.routing_softmax(routing_param_logits),\n",
        "        example.automaton_graph,\n",
        "        padding_config.static_max_metadata)\n",
        "\n",
        "  initial_state = 0\n",
        "\n",
        "  # Unroll\n",
        "  unrolled = automaton_builder.unroll_chain_steps(\n",
        "      builder=builder,\n",
        "      transition_matrix=transition_matrix,\n",
        "      variant_weights=variant_weights[initial_node_index],\n",
        "      start_machine_state=(jnp.arange(2) == initial_state),\n",
        "      node_index=initial_node_index,\n",
        "      steps=rollout_steps)\n",
        "\n",
        "  # Reformat for easier analysis\n",
        "  aggregated = automaton_builder.aggregate_unrolled_per_node(\n",
        "      unrolled,\n",
        "      node_index=initial_node_index,\n",
        "      initial_state=initial_state,\n",
        "      transition_matrix=transition_matrix,\n",
        "      graph_metadata=padding_config.static_max_metadata)\n",
        "\n",
        "  return aggregated"
      ],
      "execution_count": null,
      "outputs": []
    },
    {
      "cell_type": "code",
      "metadata": {
        "id": "ey4sX3y9gl8B"
      },
      "source": [
        "state_colors_dict = {\n",
        "  \"State A\":            mpl.colors.to_rgb(\"#4e79a7\"),\n",
        "  \"State B\":            mpl.colors.to_rgb(\"#edc948\"),\n",
        "  \"\u2713 Add edge and stop\":  mpl.colors.to_rgb(\"#59a14f\"),\n",
        "  \"\u2190 Backtrack\":          mpl.colors.to_rgb(\"#b07aa1\"),\n",
        "  \"\u2717 Stop\":               mpl.colors.to_rgb(\"#e15759\"),\n",
        "}\n",
        "state_symbols = \"AB\u2713\u2190\u2717\"\n",
        "state_colors = list(state_colors_dict.values())\n",
        "legend_items = [\n",
        "  mpl.patches.Patch(color=c, label=l)\n",
        "  for l,c in state_colors_dict.items()\n",
        "]\n",
        "\n",
        "def show_automaton_steps(steps, ax):\n",
        "  steps = np.array(steps)\n",
        "  ax.imshow(np.einsum(\"sni,ic->nsc\", steps[:, :num_nodes, :], state_colors))\n",
        "  ax.set_yticks(np.arange(num_nodes))\n",
        "  ax.set_yticklabels(labels=padded_names, family=\"monospace\")\n",
        "  ax.set_xlabel(\"Step number\")\n",
        "\n",
        "  for step in range(steps.shape[0]):\n",
        "    for node in range(num_nodes):\n",
        "      for i, sym in enumerate(state_symbols):\n",
        "        d = np.sum(steps[step, node]) + 1e-3\n",
        "        v = steps[step, node, i] / d\n",
        "        if v > 0.05 and d > 0.05:\n",
        "          ax.text(step, node, sym, c=\"black\", alpha=v, verticalalignment=\"center\", horizontalalignment=\"center\")"
      ],
      "execution_count": null,
      "outputs": []
    },
    {
      "cell_type": "markdown",
      "metadata": {
        "id": "JC6u2MIpnAGY"
      },
      "source": [
        "At initialization time, the untrained policy behaves like a random walk and does not do any particular action with high probability (leading to \"blurry\" output colors):"
      ]
    },
    {
      "cell_type": "code",
      "metadata": {
        "colab": {
          "base_uri": "https://localhost:8080/",
          "height": 625
        },
        "id": "4lh8-YGcnM8l",
        "outputId": "e903880b-61a9-4fb3-c4a5-8986e10fefa3"
      },
      "source": [
        "starting_positions = [8, 14, 15, 17, 20, 25, 27, 29]\n",
        "_, ax = plt.subplots(2, 4, figsize=(40, 12))\n",
        "for i in range(8):\n",
        "  r, c = np.unravel_index(i, (2, 4))\n",
        "  starting_position = starting_positions[i]\n",
        "\n",
        "  steps = unroll_automaton(initial_log_routing_params, test_example, initial_node_index=starting_position, rollout_steps=16)\n",
        "  ax[r, c].set_title(f\"Starting from node {starting_position}\")\n",
        "  show_automaton_steps(steps, ax[r, c])\n",
        "\n",
        "  if i == 0:\n",
        "    ax[r, c].legend(handles=legend_items, loc=\"lower right\")"
      ],
      "execution_count": null,
      "outputs": [
        {
          "output_type": "display_data",
          "data": {
            "image/png": "[encoded data removed]",
            "text/plain": [
              "<Figure size 2880x864 with 8 Axes>"
            ]
          },
          "metadata": {
            "tags": [],
            "needs_background": "light"
          }
        }
      ]
    },
    {
      "cell_type": "markdown",
      "metadata": {
        "id": "Mkabaaj-pqVa"
      },
      "source": [
        "After training, the automaton policy has learned to take a single sequence of actions with high probability, solving the task:"
      ]
    },
    {
      "cell_type": "code",
      "metadata": {
        "colab": {
          "base_uri": "https://localhost:8080/",
          "height": 625
        },
        "id": "YkDx98UDkY5c",
        "outputId": "e4c684da-2635-498b-b0ca-8a5ea4c54d86"
      },
      "source": [
        "starting_positions = [8, 14, 15, 17, 20, 25, 27, 29]\n",
        "\n",
        "_, ax = plt.subplots(2, 4, figsize=(40, 12))\n",
        "for i in range(8):\n",
        "  r, c = np.unravel_index(i, (2, 4))\n",
        "  starting_position = starting_positions[i]\n",
        "\n",
        "  steps = unroll_automaton(trained_log_routing_params, test_example, initial_node_index=starting_position, rollout_steps=16)\n",
        "  ax[r, c].set_title(f\"Starting from node {starting_position}\")\n",
        "  show_automaton_steps(steps, ax[r, c])\n",
        "\n",
        "  if i == 0:\n",
        "    ax[r, c].legend(handles=legend_items, loc=\"lower right\")"
      ],
      "execution_count": null,
      "outputs": [
        {
          "output_type": "display_data",
          "data": {
            "image/png": "[encoded data removed]",
            "text/plain": [
              "<Figure size 2880x864 with 8 Axes>"
            ]
          },
          "metadata": {
            "tags": [],
            "needs_background": "light"
          }
        }
      ]
    },
    {
      "cell_type": "markdown",
      "metadata": {
        "id": "o5Xh-AbNm5E-"
      },
      "source": [
        "Some things to notice:\n",
        "\n",
        "- When starting from node 8 or node 20 (not relevant to the task), the automaton moves to the parent node, sees that it is not a return statement, and halts without adding an edge.\n",
        "- When starting from nodes 14, 15, or 29 (return statements or return values), the automaton switches to state B (yellow), walks up the tree until reaching the function definition, and adds an edge there.\n",
        "- When starting from nodes 17, 25, or 27, it stays in state A (blue) and stops at the first while loop or for loop it finds.\n",
        "\n",
        "(Note that different random seeds or hyperparameters may result in slightly different state-changing behaviors for this example.)"
      ]
    },
    {
      "cell_type": "markdown",
      "metadata": {
        "id": "a4ToiGATXOf0"
      },
      "source": [
        "## Manually building the transition matrix and solving for the absorbing states"
      ]
    },
    {
      "cell_type": "markdown",
      "metadata": {
        "id": "sph-p0wtXTOV"
      },
      "source": [
        "The sections above have taken care of running the automaton on the input graph automatically. However, if you want more control, you can run each of the steps individually."
      ]
    },
    {
      "cell_type": "code",
      "metadata": {
        "id": "TgcSfLWOZfpU"
      },
      "source": [
        "# Tiny AST to make visualization easier\n",
        "the_ast = gast.parse(\"\"\"\n",
        "def test_function(foo):\n",
        "  if foo:\n",
        "    return\n",
        "  pass\n",
        "\"\"\")\n",
        "\n",
        "generic_ast = py_ast_graphs.py_ast_to_generic(the_ast)\n",
        "mdp_graph, id_conversion_map = generic_ast_graphs.ast_to_graph(generic_ast, ast_spec=py_ast_graphs.PY_AST_SPECS)"
      ],
      "execution_count": null,
      "outputs": []
    },
    {
      "cell_type": "markdown",
      "metadata": {
        "id": "jIxScctGXqH5"
      },
      "source": [
        "Instead of using `graph_bundle.convert_graph_with_edges`, which builds both the MDP environment and the extra edges at the same time, we can directly build the environment dynamics using the automaton builder object:"
      ]
    },
    {
      "cell_type": "code",
      "metadata": {
        "id": "Xgh0s3TBXp5K",
        "colab": {
          "base_uri": "https://localhost:8080/"
        },
        "outputId": "2b57d7c5-0aaf-4f24-8cd3-03024e71d4a6"
      },
      "source": [
        "encoded_mdp, mdp_metadata = builder.encode_graph(mdp_graph, as_jax=False)\n",
        "\n",
        "pprint(summarize_tree(encoded_mdp))\n",
        "mdp_metadata"
      ],
      "execution_count": null,
      "outputs": [
        {
          "output_type": "stream",
          "text": [
            "EncodedGraph(\n",
            "    initial_to_in_tagged=SparseCoordOperator(\n",
            "                             input_indices='int32(47, 1) [3, 552] nz:1.0',\n",
            "                             output_indices='int32(47, 2) [0, 35] nz:0.96',\n",
            "                             values='float32(47,) 0.98 \u00b10.1 [0.5, 1.0]'),\n",
            "    initial_to_special='int32(13,) [1, 153] nz:1.0',\n",
            "    in_tagged_to_in_tagged=SparseCoordOperator(\n",
            "                               input_indices='int32(158, 1) [0, 548] nz:0.99',\n",
            "                               output_indices='int32(158, 2) [0, 35] nz:0.98',\n",
            "                               values='float32(158,) 0.97 \u00b10.11 [0.5, 1.0]'),\n",
            "    in_tagged_to_special='int32(36,) [0, 152] nz:0.97',\n",
            "    in_tagged_node_indices='int32(36,) [0, 12] nz:0.97')\n"
          ],
          "name": "stdout"
        },
        {
          "output_type": "execute_result",
          "data": {
            "text/plain": [
              "EncodedGraphMetadata(num_nodes=13, num_input_tagged_nodes=36)"
            ]
          },
          "metadata": {
            "tags": []
          },
          "execution_count": 51
        }
      ]
    },
    {
      "cell_type": "markdown",
      "metadata": {
        "id": "BGIXi35aYxPb"
      },
      "source": [
        "Each of the fields in the `EncodedGraph` object describe different parts of the environment dynamics. However, they are stored in a sparse form that is difficult to visualize. In particular, they are encoded as sparse operators that transform a policy into a transition matrix, by indicating which policy actions result in which state changes (see the docstring for `EncodedGraph` in `automaton_builder.py` for more details)."
      ]
    },
    {
      "cell_type": "markdown",
      "metadata": {
        "id": "y1Anv_D3eGOA"
      },
      "source": [
        "This `EncodedGraph` could be fed into the high-level Flax wrapper. But it's also possible to run each of the steps directly in JAX. \n",
        "To obtain a transition matrix, we need to combine our encoded graph with some parameters. Let's use the ones from our trained model:"
      ]
    },
    {
      "cell_type": "code",
      "metadata": {
        "id": "k-kEAAF-YxPb"
      },
      "source": [
        "learned_policy = builder.routing_softmax(trained_log_routing_params)"
      ],
      "execution_count": null,
      "outputs": []
    },
    {
      "cell_type": "code",
      "metadata": {
        "id": "E4Pt318yYxPb",
        "colab": {
          "base_uri": "https://localhost:8080/"
        },
        "outputId": "4c8d6f8e-9011-4a9f-a081-5aa96e607532"
      },
      "source": [
        "transition_matrix = builder.build_transition_matrix(\n",
        "    rparams=learned_policy,\n",
        "    graph=encoded_mdp,\n",
        "    metadata=mdp_metadata)\n",
        "\n",
        "pprint(summarize_tree(transition_matrix))"
      ],
      "execution_count": null,
      "outputs": [
        {
          "output_type": "stream",
          "text": [
            "AutomatonGraphTransitionMatrix(\n",
            "    initial_to_in_tagged='float32(1, 13, 2, 36, 2) 0.012 \u00b10.087 [0.0, 1.0] nz:0.079',\n",
            "    initial_to_special='float32(1, 13, 2, 3) 0.045 \u00b10.15 [7.6e-07, 0.97]',\n",
            "    in_tagged_to_in_tagged='float32(1, 36, 2, 36, 2) 0.011 \u00b10.088 [0.0, 1.0] nz:0.099',\n",
            "    in_tagged_to_special='float32(1, 36, 2, 3) 0.063 \u00b10.23 [1e-06, 0.99]',\n",
            "    in_tagged_node_indices='int32(36,) [0, 12] nz:0.97')\n"
          ],
          "name": "stdout"
        }
      ]
    },
    {
      "cell_type": "markdown",
      "metadata": {
        "id": "gIQYJ6HUYxPb"
      },
      "source": [
        "The result is still broken up into blocks, which will be used to efficiently solve the linear system. First, we have the transitions from each possible `(initial_node, initial_state)` to each possible `(node, observation, hidden_state)` tuple (in other words, the transition matrix for the starting state). The columns here represent the different possible start nodes and start states, and the rows represent the possible `(node, observation, hidden_state)` tuples.\n"
      ]
    },
    {
      "cell_type": "code",
      "metadata": {
        "colab": {
          "base_uri": "https://localhost:8080/",
          "height": 518
        },
        "id": "pj2masM2YxPb",
        "outputId": "27a86eaa-7f15-4773-c7d3-bf83be64fc9b"
      },
      "source": [
        "visualization.ndarrays.ndshow(\n",
        "    # Visualize only the first variant, which is used for almost all of the nodes\n",
        "    transition_matrix.initial_to_in_tagged[0],\n",
        "    \"ccrr\", figsize=(4, 8),\n",
        "    colskips=lambda _: 0, rowskips=lambda _: 0)"
      ],
      "execution_count": null,
      "outputs": [
        {
          "output_type": "execute_result",
          "data": {
            "text/plain": [
              "(<matplotlib.axes._subplots.AxesSubplot at 0x7f7905c99d30>,\n",
              " <matplotlib.image.AxesImage at 0x7f790396fd68>)"
            ]
          },
          "metadata": {
            "tags": []
          },
          "execution_count": 54
        },
        {
          "output_type": "display_data",
          "data": {
            "image/png": "[encoded data removed]",
            "text/plain": [
              "<Figure size 288x576 with 2 Axes>"
            ]
          },
          "metadata": {
            "tags": [],
            "needs_background": "light"
          }
        }
      ]
    },
    {
      "cell_type": "markdown",
      "metadata": {
        "id": "Jl9Jw8LsYxPb"
      },
      "source": [
        "Next, we have immediate transitions from the initial state to a halting state. Here, the columns represent the initial nodes, and each row corresponds to a special action (add edge and stop, backtrack, stop)."
      ]
    },
    {
      "cell_type": "code",
      "metadata": {
        "colab": {
          "base_uri": "https://localhost:8080/",
          "height": 135
        },
        "id": "AyA_fS4SYxPc",
        "outputId": "edb338aa-f3b8-4a81-8452-87c2ff13d4f2"
      },
      "source": [
        "visualization.ndarrays.ndshow(\n",
        "    transition_matrix.initial_to_special[0],\n",
        "    \"ccr\", figsize=(10, 1),\n",
        "    colskips=lambda _: 0, rowskips=lambda _: 0)"
      ],
      "execution_count": null,
      "outputs": [
        {
          "output_type": "execute_result",
          "data": {
            "text/plain": [
              "(<matplotlib.axes._subplots.AxesSubplot at 0x7f790394f9e8>,\n",
              " <matplotlib.image.AxesImage at 0x7f79038ba2b0>)"
            ]
          },
          "metadata": {
            "tags": []
          },
          "execution_count": 55
        },
        {
          "output_type": "display_data",
          "data": {
            "image/png": "[encoded data removed]",
            "text/plain": [
              "<Figure size 720x72 with 2 Axes>"
            ]
          },
          "metadata": {
            "tags": [],
            "needs_background": "light"
          }
        }
      ]
    },
    {
      "cell_type": "markdown",
      "metadata": {
        "id": "_0vysyFYYxPc"
      },
      "source": [
        "Next we have the transitions from `(node, observation, hidden_state)` to `(node, observation, hidden_state)`, which make up the majority of the transitions in any given trajectory:"
      ]
    },
    {
      "cell_type": "code",
      "metadata": {
        "colab": {
          "base_uri": "https://localhost:8080/",
          "height": 832
        },
        "id": "5_kjZuOaYxPc",
        "outputId": "3aa48b85-d97e-4ca2-a0be-670db4e8a47e"
      },
      "source": [
        "visualization.ndarrays.ndshow(\n",
        "    transition_matrix.in_tagged_to_in_tagged[0],\n",
        "    \"ccrr\", figsize=(15, 14),\n",
        "    colskips=lambda _: 0, rowskips=lambda _: 0)"
      ],
      "execution_count": null,
      "outputs": [
        {
          "output_type": "execute_result",
          "data": {
            "text/plain": [
              "(<matplotlib.axes._subplots.AxesSubplot at 0x7f790382aa20>,\n",
              " <matplotlib.image.AxesImage at 0x7f7903845e48>)"
            ]
          },
          "metadata": {
            "tags": []
          },
          "execution_count": 56
        },
        {
          "output_type": "display_data",
          "data": {
            "image/png": "[encoded data removed]",
            "text/plain": [
              "<Figure size 1080x1008 with 2 Axes>"
            ]
          },
          "metadata": {
            "tags": [],
            "needs_background": "light"
          }
        }
      ]
    },
    {
      "cell_type": "markdown",
      "metadata": {
        "id": "5fv3PPy1YxPc"
      },
      "source": [
        "Finally, we have transitions from intermediate states to halting states:"
      ]
    },
    {
      "cell_type": "code",
      "metadata": {
        "colab": {
          "base_uri": "https://localhost:8080/",
          "height": 128
        },
        "id": "QWmMAKRYYxPc",
        "outputId": "d1b85dc3-70b1-4cef-cba9-5b97bf1ae47a"
      },
      "source": [
        "visualization.ndarrays.ndshow(\n",
        "    transition_matrix.in_tagged_to_special[0],\n",
        "    \"ccr\", figsize=(20, 1),\n",
        "    colskips=lambda _: 0, rowskips=lambda _: 0)"
      ],
      "execution_count": null,
      "outputs": [
        {
          "output_type": "execute_result",
          "data": {
            "text/plain": [
              "(<matplotlib.axes._subplots.AxesSubplot at 0x7f79037ceba8>,\n",
              " <matplotlib.image.AxesImage at 0x7f7903775eb8>)"
            ]
          },
          "metadata": {
            "tags": []
          },
          "execution_count": 57
        },
        {
          "output_type": "display_data",
          "data": {
            "image/png": "[encoded data removed]",
            "text/plain": [
              "<Figure size 1440x72 with 2 Axes>"
            ]
          },
          "metadata": {
            "tags": [],
            "needs_background": "light"
          }
        }
      ]
    },
    {
      "cell_type": "markdown",
      "metadata": {
        "id": "qGVjqUXqfDkF"
      },
      "source": [
        "*(Try adding a for or while loop to the test function and seeing how the transition matrix changes!)*"
      ]
    },
    {
      "cell_type": "markdown",
      "metadata": {
        "id": "RBRakB0-YxPc"
      },
      "source": [
        "We can solve for the absorbing distribution for this transition matrix using `all_nodes_absorbing_solve`, which does the heavy lifting of constructing and solving a batch of linear systems, and also sets up the implicit differentiation machinery so that gradients can be computed efficiently."
      ]
    },
    {
      "cell_type": "code",
      "metadata": {
        "id": "sI8ycGFgYxPc",
        "colab": {
          "base_uri": "https://localhost:8080/"
        },
        "outputId": "fe8fee2f-d635-4368-f620-52df8ba995c7"
      },
      "source": [
        "num_nodes = mdp_metadata.num_nodes\n",
        "absorbing_distribution = automaton_builder.all_nodes_absorbing_solve(\n",
        "    builder=builder,\n",
        "    transition_matrix=transition_matrix,\n",
        "    variant_weights=jax.nn.one_hot(jnp.zeros([num_nodes, num_nodes]), 2 if USE_VARIANTS else 1),  # should sum to 1 across last axis if using multiple variants\n",
        "    start_machine_states=jax.nn.one_hot(jnp.zeros([num_nodes]), 2),  # should sum to 1 across last axis if using multiple states\n",
        "    steps=100,  # How long to run the solver for; determines the maximum trajectory length\n",
        ")\n",
        "\n",
        "pprint(summarize_tree(absorbing_distribution))"
      ],
      "execution_count": null,
      "outputs": [
        {
          "output_type": "stream",
          "text": [
            "'float32(13, 13) 0.0059 \u00b10.076 [7.3e-16, 1.0]'\n"
          ],
          "name": "stdout"
        }
      ]
    },
    {
      "cell_type": "code",
      "metadata": {
        "colab": {
          "base_uri": "https://localhost:8080/",
          "height": 408
        },
        "id": "6Sti6sOzYxPc",
        "outputId": "26e9c41e-a76e-42a7-ceca-38292dbc82c2"
      },
      "source": [
        "visualization.ndarrays.ndshow(absorbing_distribution, figsize=(8, 6))"
      ],
      "execution_count": null,
      "outputs": [
        {
          "output_type": "execute_result",
          "data": {
            "text/plain": [
              "(<matplotlib.axes._subplots.AxesSubplot at 0x7f790380fa58>,\n",
              " <matplotlib.image.AxesImage at 0x7f79036d97b8>)"
            ]
          },
          "metadata": {
            "tags": []
          },
          "execution_count": 59
        },
        {
          "output_type": "display_data",
          "data": {
            "image/png": "[encoded data removed]",
            "text/plain": [
              "<Figure size 576x432 with 2 Axes>"
            ]
          },
          "metadata": {
            "tags": [],
            "needs_background": "light"
          }
        }
      ]
    },
    {
      "cell_type": "markdown",
      "metadata": {
        "id": "7DPZnyglYxPc"
      },
      "source": [
        "This matrix of absorbing probabilities is then optionally postprocessed with adjustment parameters, and then returned as the output of the GFSA layer. In this case, the layer adds one edge with high confidence.\n",
        "\n",
        "This is a weighted adjacency matrix, so there are also weak connections between other nodes. We can visualize this by changing the colormap:"
      ]
    },
    {
      "cell_type": "code",
      "metadata": {
        "colab": {
          "base_uri": "https://localhost:8080/",
          "height": 412
        },
        "id": "7dDEeC9NzGv7",
        "outputId": "ae487d4b-4d2d-44de-a362-0a984e085ff7"
      },
      "source": [
        "visualization.ndarrays.ndshow(absorbing_distribution, figsize=(8, 6), vmax=0.002)"
      ],
      "execution_count": null,
      "outputs": [
        {
          "output_type": "execute_result",
          "data": {
            "text/plain": [
              "(<matplotlib.axes._subplots.AxesSubplot at 0x7f790365d908>,\n",
              " <matplotlib.image.AxesImage at 0x7f79037ce7f0>)"
            ]
          },
          "metadata": {
            "tags": []
          },
          "execution_count": 60
        },
        {
          "output_type": "display_data",
          "data": {
            "image/png": "[encoded data removed]",
            "text/plain": [
              "<Figure size 576x432 with 2 Axes>"
            ]
          },
          "metadata": {
            "tags": [],
            "needs_background": "light"
          }
        }
      ]
    },
    {
      "cell_type": "markdown",
      "metadata": {
        "id": "Avk9ZZezzOwO"
      },
      "source": [
        "As the model trains, the loss function pushes these extra edge weights closer toward zero."
      ]
    },
    {
      "cell_type": "markdown",
      "metadata": {
        "id": "WLOYe4HE3CWo"
      },
      "source": [
        "## Next steps"
      ]
    },
    {
      "cell_type": "markdown",
      "metadata": {
        "id": "EFtUyQz-3EO6"
      },
      "source": [
        "Thanks for following along through this interactive demo! If you'd like to try applying the GFSA layer for a different task, or want a more in-depth discussion of how to specify the schema for new MDPs, see the notebook [\"Using the GFSA layer with new tasks\"][new-tasks-colab].\n",
        "\n",
        "[new-tasks-colab]: https://colab.research.google.com/github/google-research/google-research/blob/master/gfsa/notebooks/guide_for_new_tasks.ipynb"
      ]
    }
  ]
}
